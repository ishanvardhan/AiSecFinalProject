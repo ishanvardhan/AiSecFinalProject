{
 "cells": [
  {
   "cell_type": "code",
   "execution_count": 2,
   "id": "852e9274",
   "metadata": {},
   "outputs": [],
   "source": [
    "import torch\n",
    "import torch.nn as nn\n",
    "import torch.optim as optim\n",
    "import torch.nn.functional as F\n",
    "from torch.optim import Optimizer\n",
    "import torch.backends.cudnn as cudnn\n",
    "import tqdm\n",
    "\n",
    "import torchvision\n",
    "import torchvision.transforms as transforms\n",
    "from torch.utils.data import TensorDataset, DataLoader,Subset\n",
    "import torchvision.models as models\n",
    "import torch.nn.functional as F\n",
    "\n",
    "import sys\n",
    "import os\n",
    "sys.path.append(os.path.abspath(\"..\"))\n",
    "from models import *\n",
    "import copy\n",
    "import random\n",
    "import matplotlib.pyplot as plt\n",
    "import numpy as np\n",
    "import cv2 as cv\n",
    "from util import *\n",
    "\n",
    "random_seed = 0\n",
    "np.random.seed(random_seed)\n",
    "random.seed(random_seed)\n",
    "torch.manual_seed(random_seed)\n",
    "\n",
    "torch.cuda.set_device(0)\n",
    "device = 'cuda'\n",
    "dataset_path = '/narcissus/dataset/'"
   ]
  },
  {
   "cell_type": "code",
   "execution_count": 3,
   "id": "263d3e44",
   "metadata": {},
   "outputs": [
    {
     "name": "stdout",
     "output_type": "stream",
     "text": [
      "CIFAR-10 already downloaded.\n"
     ]
    }
   ],
   "source": [
    "import os\n",
    "import torchvision\n",
    "import torchvision.transforms as transforms\n",
    "\n",
    "dataset_path = os.path.expanduser(\"~/datasets/\")\n",
    "cifar10_path = os.path.join(dataset_path, \"cifar-10-batches-py\")\n",
    "\n",
    "if not os.path.exists(cifar10_path):\n",
    "    print(\"Downloading CIFAR-10...\")\n",
    "    torchvision.datasets.CIFAR10(root=dataset_path, train=True, download=True)\n",
    "    torchvision.datasets.CIFAR10(root=dataset_path, train=False, download=True)\n",
    "else:\n",
    "    print(\"CIFAR-10 already downloaded.\")\n"
   ]
  },
  {
   "cell_type": "code",
   "execution_count": 4,
   "id": "e535626e",
   "metadata": {},
   "outputs": [
    {
     "name": "stdout",
     "output_type": "stream",
     "text": [
      "Tiny ImageNet already downloaded.\n"
     ]
    }
   ],
   "source": [
    "import os\n",
    "import urllib.request\n",
    "import zipfile\n",
    "\n",
    "tiny_imagenet_dir = os.path.join(dataset_path, \"tiny-imagenet-200\")\n",
    "\n",
    "if not os.path.exists(tiny_imagenet_dir):\n",
    "    print(\"Downloading Tiny ImageNet...\")\n",
    "    url = \"http://cs231n.stanford.edu/tiny-imagenet-200.zip\"\n",
    "    zip_path = os.path.join(dataset_path, \"tiny-imagenet-200.zip\")\n",
    "    \n",
    "    urllib.request.urlretrieve(url, zip_path)\n",
    "\n",
    "    print(\"Extracting Tiny ImageNet...\")\n",
    "    with zipfile.ZipFile(zip_path, 'r') as zip_ref:\n",
    "        zip_ref.extractall(dataset_path)\n",
    "    \n",
    "    os.remove(zip_path)\n",
    "    print(\"Done.\")\n",
    "else:\n",
    "    print(\"Tiny ImageNet already downloaded.\")\n"
   ]
  },
  {
   "cell_type": "code",
   "execution_count": 5,
   "id": "923b33b2",
   "metadata": {},
   "outputs": [],
   "source": [
    "'''\n",
    "The path for target dataset and public out-of-distribution (POOD) dataset. The setting used \n",
    "here is CIFAR-10 as the target dataset and Tiny-ImageNet as the POOD dataset. Their directory\n",
    "structure is as follows:\n",
    "\n",
    "dataset_path--cifar-10-batches-py\n",
    "            |\n",
    "            |-tiny-imagenet-200\n",
    "'''\n",
    "# dataset_path = '/home/minzhou/data/'\n",
    "\n",
    "#The target class label\n",
    "lab = 2\n",
    "\n",
    "#Noise size, default is full image size\n",
    "noise_size = 32\n",
    "\n",
    "#Radius of the L-inf ball\n",
    "l_inf_r = 16/255\n",
    "\n",
    "#Model for generating surrogate model and trigger\n",
    "surrogate_model = ResNet18_201().cuda()\n",
    "generating_model = ResNet18_201().cuda()\n",
    "\n",
    "#Surrogate model training epochs\n",
    "surrogate_epochs = 200\n",
    "\n",
    "#Learning rate for poison-warm-up\n",
    "generating_lr_warmup = 0.1\n",
    "warmup_round = 5\n",
    "\n",
    "#Learning rate for trigger generating\n",
    "generating_lr_tri = 0.01      \n",
    "gen_round = 1000\n",
    "\n",
    "#Training batch size\n",
    "train_batch_size = 350\n",
    "\n",
    "#The model for adding the noise\n",
    "patch_mode = 'add'"
   ]
  },
  {
   "cell_type": "markdown",
   "id": "4adeef42",
   "metadata": {},
   "source": [
    "# Prepare dataset"
   ]
  },
  {
   "cell_type": "code",
   "execution_count": 6,
   "id": "d533122a",
   "metadata": {},
   "outputs": [],
   "source": [
    "#The argumention use for surrogate model training stage\n",
    "transform_surrogate_train = transforms.Compose([\n",
    "    transforms.Resize(32),\n",
    "    transforms.RandomCrop(32, padding=4),  \n",
    "    transforms.RandomHorizontalFlip(),\n",
    "    transforms.ToTensor(),\n",
    "    transforms.Normalize((0.5, 0.5, 0.5), (0.5, 0.5, 0.5)),\n",
    "])\n",
    "\n",
    "#The argumention use for all training set\n",
    "transform_train = transforms.Compose([\n",
    "    transforms.RandomCrop(32, padding=4),  \n",
    "    transforms.RandomHorizontalFlip(),\n",
    "    transforms.ToTensor(),\n",
    "    transforms.Normalize((0.5, 0.5, 0.5), (0.5, 0.5, 0.5)),\n",
    "])\n",
    "\n",
    "#The argumention use for all testing set\n",
    "transform_test = transforms.Compose([\n",
    "    transforms.ToTensor(),\n",
    "    transforms.Normalize((0.5, 0.5, 0.5), (0.5, 0.5, 0.5)),\n",
    "])"
   ]
  },
  {
   "cell_type": "code",
   "execution_count": 7,
   "id": "97a3e2df",
   "metadata": {},
   "outputs": [],
   "source": [
    "ori_train = torchvision.datasets.CIFAR10(root=dataset_path, train=True, download=False, transform=transform_train)\n",
    "ori_test = torchvision.datasets.CIFAR10(root=dataset_path, train=False, download=False, transform=transform_test)\n",
    "outter_trainset = torchvision.datasets.ImageFolder(root=dataset_path + 'tiny-imagenet-200/train/', transform=transform_surrogate_train)"
   ]
  },
  {
   "cell_type": "code",
   "execution_count": 8,
   "id": "48a8f73b",
   "metadata": {},
   "outputs": [],
   "source": [
    "#Outter train dataset\n",
    "train_label = [get_labels(ori_train)[x] for x in range(len(get_labels(ori_train)))]\n",
    "test_label = [get_labels(ori_test)[x] for x in range(len(get_labels(ori_test)))]"
   ]
  },
  {
   "cell_type": "code",
   "execution_count": 9,
   "id": "8760de53",
   "metadata": {},
   "outputs": [],
   "source": [
    "#Inner train dataset\n",
    "train_target_list = list(np.where(np.array(train_label)==lab)[0])\n",
    "train_target = Subset(ori_train,train_target_list)"
   ]
  },
  {
   "cell_type": "code",
   "execution_count": 10,
   "id": "9201691b",
   "metadata": {},
   "outputs": [],
   "source": [
    "concoct_train_dataset = concoct_dataset(train_target,outter_trainset)"
   ]
  },
  {
   "cell_type": "code",
   "execution_count": 11,
   "id": "46d5d50c",
   "metadata": {},
   "outputs": [],
   "source": [
    "surrogate_loader = torch.utils.data.DataLoader(concoct_train_dataset, batch_size=train_batch_size, shuffle=True, num_workers=16)\n",
    "\n",
    "poi_warm_up_loader = torch.utils.data.DataLoader(train_target, batch_size=train_batch_size, shuffle=True, num_workers=16)\n",
    "\n",
    "trigger_gen_loaders = torch.utils.data.DataLoader(train_target, batch_size=train_batch_size, shuffle=True, num_workers=16)"
   ]
  },
  {
   "cell_type": "markdown",
   "id": "eb29f99b",
   "metadata": {},
   "source": [
    "#  Training surrogate modle"
   ]
  },
  {
   "cell_type": "code",
   "execution_count": 12,
   "id": "5b9ce8c1",
   "metadata": {},
   "outputs": [],
   "source": [
    "# Batch_grad\n",
    "condition = True\n",
    "noise = torch.zeros((1, 3, noise_size, noise_size), device=device)\n",
    "\n",
    "\n",
    "surrogate_model = surrogate_model\n",
    "criterion = torch.nn.CrossEntropyLoss()\n",
    "# outer_opt = torch.optim.RAdam(params=base_model.parameters(), lr=generating_lr_outer)\n",
    "surrogate_opt = torch.optim.SGD(params=surrogate_model.parameters(), lr=0.1, momentum=0.9, weight_decay=5e-4)\n",
    "surrogate_scheduler = torch.optim.lr_scheduler.CosineAnnealingLR(surrogate_opt, T_max=surrogate_epochs)"
   ]
  },
  {
   "cell_type": "code",
   "execution_count": 13,
   "id": "fe7d6ffe",
   "metadata": {
    "scrolled": true
   },
   "outputs": [
    {
     "name": "stdout",
     "output_type": "stream",
     "text": [
      "Training the surrogate model\n",
      "Epoch:0, Loss: 4.621\n",
      "Epoch:1, Loss: 3.893\n",
      "Epoch:2, Loss: 3.407\n",
      "Epoch:3, Loss: 3.074\n",
      "Epoch:4, Loss: 2.832\n",
      "Epoch:5, Loss: 2.634\n",
      "Epoch:6, Loss: 2.481\n",
      "Epoch:7, Loss: 2.368\n",
      "Epoch:8, Loss: 2.273\n",
      "Epoch:9, Loss: 2.186\n",
      "Epoch:10, Loss: 2.128\n",
      "Epoch:11, Loss: 2.066\n",
      "Epoch:12, Loss: 2.005\n",
      "Epoch:13, Loss: 1.959\n",
      "Epoch:14, Loss: 1.914\n",
      "Epoch:15, Loss: 1.875\n",
      "Epoch:16, Loss: 1.837\n",
      "Epoch:17, Loss: 1.801\n",
      "Epoch:18, Loss: 1.774\n",
      "Epoch:19, Loss: 1.739\n",
      "Epoch:20, Loss: 1.718\n",
      "Epoch:21, Loss: 1.687\n",
      "Epoch:22, Loss: 1.667\n",
      "Epoch:23, Loss: 1.640\n",
      "Epoch:24, Loss: 1.622\n",
      "Epoch:25, Loss: 1.610\n",
      "Epoch:26, Loss: 1.584\n",
      "Epoch:27, Loss: 1.556\n",
      "Epoch:28, Loss: 1.543\n",
      "Epoch:29, Loss: 1.521\n",
      "Epoch:30, Loss: 1.503\n",
      "Epoch:31, Loss: 1.489\n",
      "Epoch:32, Loss: 1.480\n",
      "Epoch:33, Loss: 1.459\n",
      "Epoch:34, Loss: 1.443\n",
      "Epoch:35, Loss: 1.435\n",
      "Epoch:36, Loss: 1.427\n",
      "Epoch:37, Loss: 1.406\n",
      "Epoch:38, Loss: 1.390\n",
      "Epoch:39, Loss: 1.381\n",
      "Epoch:40, Loss: 1.365\n",
      "Epoch:41, Loss: 1.347\n",
      "Epoch:42, Loss: 1.341\n",
      "Epoch:43, Loss: 1.336\n",
      "Epoch:44, Loss: 1.319\n",
      "Epoch:45, Loss: 1.309\n",
      "Epoch:46, Loss: 1.294\n",
      "Epoch:47, Loss: 1.288\n",
      "Epoch:48, Loss: 1.265\n",
      "Epoch:49, Loss: 1.264\n",
      "Epoch:50, Loss: 1.252\n",
      "Epoch:51, Loss: 1.235\n",
      "Epoch:52, Loss: 1.229\n",
      "Epoch:53, Loss: 1.210\n",
      "Epoch:54, Loss: 1.210\n",
      "Epoch:55, Loss: 1.198\n",
      "Epoch:56, Loss: 1.169\n",
      "Epoch:57, Loss: 1.169\n",
      "Epoch:58, Loss: 1.157\n",
      "Epoch:59, Loss: 1.146\n",
      "Epoch:60, Loss: 1.141\n",
      "Epoch:61, Loss: 1.120\n",
      "Epoch:62, Loss: 1.109\n",
      "Epoch:63, Loss: 1.092\n",
      "Epoch:64, Loss: 1.091\n",
      "Epoch:65, Loss: 1.073\n",
      "Epoch:66, Loss: 1.066\n",
      "Epoch:67, Loss: 1.050\n",
      "Epoch:68, Loss: 1.038\n",
      "Epoch:69, Loss: 1.024\n",
      "Epoch:70, Loss: 1.009\n",
      "Epoch:71, Loss: 1.002\n",
      "Epoch:72, Loss: 0.999\n",
      "Epoch:73, Loss: 0.980\n",
      "Epoch:74, Loss: 0.961\n",
      "Epoch:75, Loss: 0.943\n",
      "Epoch:76, Loss: 0.934\n",
      "Epoch:77, Loss: 0.929\n",
      "Epoch:78, Loss: 0.909\n",
      "Epoch:79, Loss: 0.898\n",
      "Epoch:80, Loss: 0.890\n",
      "Epoch:81, Loss: 0.871\n",
      "Epoch:82, Loss: 0.854\n",
      "Epoch:83, Loss: 0.847\n",
      "Epoch:84, Loss: 0.836\n",
      "Epoch:85, Loss: 0.823\n",
      "Epoch:86, Loss: 0.802\n",
      "Epoch:87, Loss: 0.782\n",
      "Epoch:88, Loss: 0.779\n",
      "Epoch:89, Loss: 0.760\n",
      "Epoch:90, Loss: 0.754\n",
      "Epoch:91, Loss: 0.745\n",
      "Epoch:92, Loss: 0.711\n",
      "Epoch:93, Loss: 0.711\n",
      "Epoch:94, Loss: 0.692\n",
      "Epoch:95, Loss: 0.685\n",
      "Epoch:96, Loss: 0.671\n",
      "Epoch:97, Loss: 0.663\n",
      "Epoch:98, Loss: 0.637\n",
      "Epoch:99, Loss: 0.622\n",
      "Epoch:100, Loss: 0.604\n",
      "Epoch:101, Loss: 0.584\n",
      "Epoch:102, Loss: 0.580\n",
      "Epoch:103, Loss: 0.568\n",
      "Epoch:104, Loss: 0.552\n",
      "Epoch:105, Loss: 0.537\n",
      "Epoch:106, Loss: 0.532\n",
      "Epoch:107, Loss: 0.499\n",
      "Epoch:108, Loss: 0.491\n",
      "Epoch:109, Loss: 0.483\n",
      "Epoch:110, Loss: 0.469\n",
      "Epoch:111, Loss: 0.462\n",
      "Epoch:112, Loss: 0.433\n",
      "Epoch:113, Loss: 0.423\n",
      "Epoch:114, Loss: 0.407\n",
      "Epoch:115, Loss: 0.405\n",
      "Epoch:116, Loss: 0.388\n",
      "Epoch:117, Loss: 0.373\n",
      "Epoch:118, Loss: 0.353\n",
      "Epoch:119, Loss: 0.356\n",
      "Epoch:120, Loss: 0.339\n",
      "Epoch:121, Loss: 0.319\n",
      "Epoch:122, Loss: 0.312\n",
      "Epoch:123, Loss: 0.289\n",
      "Epoch:124, Loss: 0.280\n",
      "Epoch:125, Loss: 0.273\n",
      "Epoch:126, Loss: 0.258\n",
      "Epoch:127, Loss: 0.239\n",
      "Epoch:128, Loss: 0.235\n",
      "Epoch:129, Loss: 0.211\n",
      "Epoch:130, Loss: 0.202\n",
      "Epoch:131, Loss: 0.188\n",
      "Epoch:132, Loss: 0.183\n",
      "Epoch:133, Loss: 0.175\n",
      "Epoch:134, Loss: 0.166\n",
      "Epoch:135, Loss: 0.152\n",
      "Epoch:136, Loss: 0.140\n",
      "Epoch:137, Loss: 0.121\n",
      "Epoch:138, Loss: 0.119\n",
      "Epoch:139, Loss: 0.106\n",
      "Epoch:140, Loss: 0.090\n",
      "Epoch:141, Loss: 0.081\n",
      "Epoch:142, Loss: 0.068\n",
      "Epoch:143, Loss: 0.062\n",
      "Epoch:144, Loss: 0.051\n",
      "Epoch:145, Loss: 0.045\n",
      "Epoch:146, Loss: 0.041\n",
      "Epoch:147, Loss: 0.034\n",
      "Epoch:148, Loss: 0.030\n",
      "Epoch:149, Loss: 0.028\n",
      "Epoch:150, Loss: 0.026\n",
      "Epoch:151, Loss: 0.025\n",
      "Epoch:152, Loss: 0.024\n",
      "Epoch:153, Loss: 0.022\n",
      "Epoch:154, Loss: 0.022\n",
      "Epoch:155, Loss: 0.022\n",
      "Epoch:156, Loss: 0.022\n",
      "Epoch:157, Loss: 0.021\n",
      "Epoch:158, Loss: 0.020\n",
      "Epoch:159, Loss: 0.020\n",
      "Epoch:160, Loss: 0.020\n",
      "Epoch:161, Loss: 0.020\n",
      "Epoch:162, Loss: 0.020\n",
      "Epoch:163, Loss: 0.019\n",
      "Epoch:164, Loss: 0.019\n",
      "Epoch:165, Loss: 0.019\n",
      "Epoch:166, Loss: 0.018\n",
      "Epoch:167, Loss: 0.018\n",
      "Epoch:168, Loss: 0.018\n",
      "Epoch:169, Loss: 0.018\n",
      "Epoch:170, Loss: 0.018\n",
      "Epoch:171, Loss: 0.017\n",
      "Epoch:172, Loss: 0.017\n",
      "Epoch:173, Loss: 0.017\n",
      "Epoch:174, Loss: 0.016\n",
      "Epoch:175, Loss: 0.016\n",
      "Epoch:176, Loss: 0.016\n",
      "Epoch:177, Loss: 0.016\n",
      "Epoch:178, Loss: 0.016\n",
      "Epoch:179, Loss: 0.016\n",
      "Epoch:180, Loss: 0.016\n",
      "Epoch:181, Loss: 0.015\n",
      "Epoch:182, Loss: 0.015\n",
      "Epoch:183, Loss: 0.015\n",
      "Epoch:184, Loss: 0.015\n",
      "Epoch:185, Loss: 0.015\n",
      "Epoch:186, Loss: 0.015\n",
      "Epoch:187, Loss: 0.015\n",
      "Epoch:188, Loss: 0.015\n",
      "Epoch:189, Loss: 0.015\n",
      "Epoch:190, Loss: 0.015\n",
      "Epoch:191, Loss: 0.015\n",
      "Epoch:192, Loss: 0.015\n",
      "Epoch:193, Loss: 0.015\n",
      "Epoch:194, Loss: 0.015\n",
      "Epoch:195, Loss: 0.015\n",
      "Epoch:196, Loss: 0.014\n",
      "Epoch:197, Loss: 0.014\n",
      "Epoch:198, Loss: 0.014\n",
      "Epoch:199, Loss: 0.014\n"
     ]
    }
   ],
   "source": [
    "save_path = 'surrogate_pretrain_' + str(surrogate_epochs) +'.pth'\n",
    "\n",
    "if os.path.exists(save_path):\n",
    "    print(f\"Loading pre-trained surrogate model from {save_path}\")\n",
    "    surrogate_model.load_state_dict(torch.load(save_path))\n",
    "else:\n",
    "    print('Training the surrogate model')\n",
    "    for epoch in range(0, surrogate_epochs):\n",
    "        surrogate_model.train()\n",
    "        loss_list = []\n",
    "        for images, labels in surrogate_loader:\n",
    "            images, labels = images.cuda(), labels.cuda()\n",
    "            surrogate_opt.zero_grad()\n",
    "            outputs = surrogate_model(images)\n",
    "            loss = criterion(outputs, labels)\n",
    "            loss.backward()\n",
    "            loss_list.append(float(loss.data))\n",
    "            surrogate_opt.step()\n",
    "        surrogate_scheduler.step()\n",
    "        ave_loss = np.average(np.array(loss_list))\n",
    "        print('Epoch:%d, Loss: %.03f' % (epoch, ave_loss))\n",
    "    \n",
    "    torch.save(surrogate_model.state_dict(), save_path)\n"
   ]
  },
  {
   "cell_type": "markdown",
   "id": "cff016a4",
   "metadata": {},
   "source": [
    "# Poison warm up"
   ]
  },
  {
   "cell_type": "code",
   "execution_count": null,
   "id": "b4638df4",
   "metadata": {},
   "outputs": [],
   "source": [
    "def lowpass_projection(tensor, cutoff_ratio=0.2):\n",
    "    \n",
    "    _, C, H, W = tensor.shape\n",
    "    projected = torch.zeros_like(tensor)\n",
    "\n",
    "    cutoff_H = int(H * cutoff_ratio)\n",
    "    cutoff_W = int(W * cutoff_ratio)\n",
    "\n",
    "    for ch in range(C):\n",
    "        fft2 = torch.fft.fft2(tensor[0, ch])\n",
    "        fft2_shift = torch.fft.fftshift(fft2)\n",
    "    \n",
    "        mask = torch.zeros_like(fft2_shift)\n",
    "        center_H = H // 2\n",
    "        center_W = W // 2\n",
    "        mask[center_H - cutoff_H:center_H + cutoff_H, center_W - cutoff_W:center_W + cutoff_W] = 1\n",
    "        fft2_low = fft2_shift * mask\n",
    "\n",
    "        lowpass = torch.fft.ifft2(torch.fft.ifftshift(fft2_low)).real\n",
    "        projected[0, ch] = lowpass\n",
    "\n",
    "    return projected\n"
   ]
  },
  {
   "cell_type": "code",
   "execution_count": 15,
   "id": "a2d6be24",
   "metadata": {},
   "outputs": [],
   "source": [
    "#cell 13\n",
    "#Prepare models and optimizers for poi_warm_up training\n",
    "poi_warm_up_model = generating_model\n",
    "poi_warm_up_model.load_state_dict(surrogate_model.state_dict())\n",
    "\n",
    "poi_warm_up_opt = torch.optim.RAdam(params=poi_warm_up_model.parameters(), lr=generating_lr_warmup)"
   ]
  },
  {
   "cell_type": "code",
   "execution_count": 16,
   "id": "f5174da4",
   "metadata": {},
   "outputs": [
    {
     "name": "stdout",
     "output_type": "stream",
     "text": [
      "Epoch:0, Loss: 5.462804e-01\n",
      "Epoch:1, Loss: 2.772788e-05\n",
      "Epoch:2, Loss: 3.588172e-06\n",
      "Epoch:3, Loss: 1.779734e-06\n",
      "Epoch:4, Loss: 1.346358e-06\n"
     ]
    }
   ],
   "source": [
    "#cell 14\n",
    "#Poi_warm_up stage\n",
    "poi_warm_up_model.train()\n",
    "for param in poi_warm_up_model.parameters():\n",
    "    param.requires_grad = True\n",
    "\n",
    "#Training the surrogate model\n",
    "for epoch in range(0, warmup_round):\n",
    "    poi_warm_up_model.train()\n",
    "    loss_list = []\n",
    "    for images, labels in poi_warm_up_loader:\n",
    "        images, labels = images.cuda(), labels.cuda()\n",
    "        poi_warm_up_model.zero_grad()\n",
    "        poi_warm_up_opt.zero_grad()\n",
    "        outputs = poi_warm_up_model(images)\n",
    "        loss = criterion(outputs, labels)\n",
    "        loss.backward(retain_graph = True)\n",
    "        loss_list.append(float(loss.data))\n",
    "        poi_warm_up_opt.step()\n",
    "    ave_loss = np.average(np.array(loss_list))\n",
    "    print('Epoch:%d, Loss: %e' % (epoch, ave_loss))"
   ]
  },
  {
   "cell_type": "markdown",
   "id": "a27fab21",
   "metadata": {},
   "source": [
    "# Trigger generating"
   ]
  },
  {
   "cell_type": "code",
   "execution_count": 17,
   "id": "b156e248",
   "metadata": {},
   "outputs": [
    {
     "data": {
      "application/vnd.jupyter.widget-view+json": {
       "model_id": "1f7799014006452abb50931f9ddc8995",
       "version_major": 2,
       "version_minor": 0
      },
      "text/plain": [
       "  0%|          | 0/1000 [00:00<?, ?it/s]"
      ]
     },
     "metadata": {},
     "output_type": "display_data"
    },
    {
     "name": "stdout",
     "output_type": "stream",
     "text": [
      "Gradient: 4.3833337e-05 Loss: 1.1198047180490297e-06\n",
      "Gradient: 3.1628308e-05 Loss: 1.115921916531685e-06\n",
      "Gradient: 5.5022894e-05 Loss: 1.0420353684518583e-06\n",
      "Gradient: 2.1033062e-05 Loss: 1.061698981175141e-06\n",
      "Gradient: 6.8299276e-05 Loss: 1.0012314760388107e-06\n",
      "Gradient: 1.8352035e-05 Loss: 1.5417702210622034e-06\n",
      "Gradient: 5.8818958e-05 Loss: 1.2565661525817026e-06\n",
      "Gradient: 6.475031e-05 Loss: 1.2027745526665967e-06\n",
      "Gradient: 3.6721693e-05 Loss: 1.1913302917794984e-06\n",
      "Gradient: 1.29855935e-05 Loss: 1.4630583403156075e-06\n",
      "Gradient: 4.350487e-05 Loss: 1.2007194811758382e-06\n",
      "Gradient: 6.4830474e-06 Loss: 8.67762828230904e-07\n",
      "Gradient: 4.7391157e-05 Loss: 1.3288400566580094e-06\n",
      "Gradient: 3.439473e-05 Loss: 1.1048636376168968e-06\n",
      "Gradient: 1.4469063e-05 Loss: 1.1632763071626564e-06\n",
      "Gradient: 4.292923e-05 Loss: 1.258915790458559e-06\n",
      "Gradient: 4.9036178e-05 Loss: 1.027287244899829e-06\n",
      "Gradient: 1.5437443e-05 Loss: 1.056635365633459e-06\n",
      "Gradient: 6.015817e-05 Loss: 1.1382310541800203e-06\n",
      "Gradient: 4.835846e-05 Loss: 1.038265918396064e-06\n",
      "Gradient: 3.1624382e-05 Loss: 1.0764014035657965e-06\n",
      "Gradient: 2.8665938e-05 Loss: 1.041558376376391e-06\n",
      "Gradient: 4.5381166e-05 Loss: 9.95225741462491e-07\n",
      "Gradient: 4.87307e-05 Loss: 1.313071076462317e-06\n",
      "Gradient: 1.8931489e-05 Loss: 9.958049043727138e-07\n",
      "Gradient: 4.375598e-05 Loss: 1.0860403601024397e-06\n",
      "Gradient: 2.7698978e-05 Loss: 8.956578293843146e-07\n",
      "Gradient: 2.9003335e-05 Loss: 1.0494601686635482e-06\n",
      "Gradient: 1.1508625e-05 Loss: 8.682281778267982e-07\n",
      "Gradient: 4.8132424e-05 Loss: 8.630061415715317e-07\n",
      "Gradient: 4.524069e-05 Loss: 1.0625615137390316e-06\n",
      "Gradient: 1.0415701e-05 Loss: 8.505288008109346e-07\n",
      "Gradient: 4.980543e-05 Loss: 9.175239464790745e-07\n",
      "Gradient: 6.7705325e-05 Loss: 9.69578794259481e-07\n",
      "Gradient: 3.2564316e-05 Loss: 8.431832365355755e-07\n",
      "Gradient: 3.2131604e-05 Loss: 1.0934084495299127e-06\n",
      "Gradient: 3.252615e-05 Loss: 1.0872663381178426e-06\n",
      "Gradient: 2.8100138e-05 Loss: 7.158110634009063e-07\n",
      "Gradient: 1.4547972e-05 Loss: 7.012790035787475e-07\n",
      "Gradient: 1.6467879e-05 Loss: 8.260850260436807e-07\n",
      "Gradient: 1.7570925e-05 Loss: 8.198520390578778e-07\n",
      "Gradient: 2.120086e-05 Loss: 8.33033273769009e-07\n",
      "Gradient: 1.3309426e-05 Loss: 7.978152448610369e-07\n",
      "Gradient: 2.1527641e-05 Loss: 7.205906892219597e-07\n",
      "Gradient: 2.8211281e-05 Loss: 8.361098631818702e-07\n",
      "Gradient: 2.3421539e-05 Loss: 7.272665015989332e-07\n",
      "Gradient: 1.3283442e-05 Loss: 9.47223814288615e-07\n",
      "Gradient: 3.7686998e-05 Loss: 7.457722233539243e-07\n",
      "Gradient: 1.6024705e-05 Loss: 7.410719244186718e-07\n",
      "Gradient: 8.699507e-06 Loss: 5.166296584017497e-07\n",
      "Gradient: 2.5049478e-05 Loss: 6.293559522418946e-07\n",
      "Gradient: 2.9463083e-05 Loss: 7.112129291423722e-07\n",
      "Gradient: 1.7680719e-05 Loss: 6.082276153544323e-07\n",
      "Gradient: 2.0372127e-05 Loss: 8.489617565980249e-07\n",
      "Gradient: 3.3079727e-05 Loss: 8.696132870985214e-07\n",
      "Gradient: 1.0136924e-05 Loss: 8.246768212908743e-07\n",
      "Gradient: 1.0177308e-05 Loss: 6.564560881846167e-07\n",
      "Gradient: 1.0137945e-05 Loss: 6.460793372298213e-07\n",
      "Gradient: 5.0834024e-06 Loss: 6.739514328539069e-07\n",
      "Gradient: 5.940556e-06 Loss: 7.454655891100023e-07\n",
      "Gradient: 9.998146e-06 Loss: 6.831023142694903e-07\n",
      "Gradient: 2.1962318e-05 Loss: 6.73565556515617e-07\n",
      "Gradient: 1.0510135e-05 Loss: 8.879146832896368e-07\n",
      "Gradient: 6.712643e-06 Loss: 7.132224880024296e-07\n",
      "Gradient: 3.705035e-06 Loss: 5.384391997154125e-07\n",
      "Gradient: 7.0864244e-06 Loss: 6.55525277200771e-07\n",
      "Gradient: 7.4699856e-06 Loss: 5.364978619581961e-07\n",
      "Gradient: 5.371503e-06 Loss: 5.51313641494744e-07\n",
      "Gradient: 1.0928983e-05 Loss: 6.707725750250878e-07\n",
      "Gradient: 2.222872e-05 Loss: 8.659120984096565e-07\n",
      "Gradient: 6.27083e-06 Loss: 9.834406332250485e-07\n",
      "Gradient: 2.9881485e-05 Loss: 1.0040350929330088e-06\n",
      "Gradient: 4.804027e-06 Loss: 5.701601243875605e-07\n",
      "Gradient: 5.329808e-06 Loss: 7.182631918567494e-07\n",
      "Gradient: 3.466248e-06 Loss: 7.737919418104866e-07\n",
      "Gradient: 4.5948773e-06 Loss: 5.365546040062933e-07\n",
      "Gradient: 4.88039e-06 Loss: 7.985645443871666e-07\n",
      "Gradient: 4.4231565e-06 Loss: 8.220545510084776e-07\n",
      "Gradient: 9.953987e-06 Loss: 6.363269183869609e-07\n",
      "Gradient: 5.8984524e-06 Loss: 6.26597098592659e-07\n",
      "Gradient: 4.7312383e-06 Loss: 6.201596965145957e-07\n",
      "Gradient: 6.8373697e-06 Loss: 6.327278754270083e-07\n",
      "Gradient: 1.2691887e-05 Loss: 7.925017276496268e-07\n",
      "Gradient: 8.130231e-06 Loss: 8.102812131483006e-07\n",
      "Gradient: 5.496426e-06 Loss: 8.090664503394389e-07\n",
      "Gradient: 9.568283e-06 Loss: 5.588523303382923e-07\n",
      "Gradient: 3.4915654e-06 Loss: 5.285050188300981e-07\n",
      "Gradient: 1.1300925e-05 Loss: 7.559786771101547e-07\n",
      "Gradient: 3.7020948e-06 Loss: 5.889042805999148e-07\n",
      "Gradient: 6.8922645e-06 Loss: 6.16924173376295e-07\n",
      "Gradient: 3.854913e-06 Loss: 8.838952794576471e-07\n",
      "Gradient: 6.598027e-06 Loss: 4.82592545836269e-07\n",
      "Gradient: 6.4169863e-06 Loss: 4.7181828695859923e-07\n",
      "Gradient: 1.3905485e-05 Loss: 7.234402668624777e-07\n",
      "Gradient: 5.2448754e-06 Loss: 5.73634101404726e-07\n",
      "Gradient: 6.708476e-06 Loss: 8.386642311582667e-07\n",
      "Gradient: 4.423809e-06 Loss: 6.482249375494575e-07\n",
      "Gradient: 4.009785e-06 Loss: 8.10224177409206e-07\n",
      "Gradient: 6.0405573e-06 Loss: 5.540725415661048e-07\n",
      "Gradient: 6.750199e-06 Loss: 6.445237867562052e-07\n",
      "Gradient: 5.007465e-06 Loss: 5.552192324861001e-07\n",
      "Gradient: 3.1344516e-06 Loss: 6.54821214614761e-07\n",
      "Gradient: 7.418196e-06 Loss: 6.55752234024476e-07\n",
      "Gradient: 3.6929569e-06 Loss: 6.136545077121507e-07\n",
      "Gradient: 7.943877e-06 Loss: 6.970894683414978e-07\n",
      "Gradient: 5.384596e-06 Loss: 6.551847169096921e-07\n",
      "Gradient: 8.670153e-06 Loss: 7.556947063373324e-07\n",
      "Gradient: 2.1752346e-06 Loss: 5.069680232357617e-07\n",
      "Gradient: 1.4451346e-06 Loss: 8.450674319722869e-07\n",
      "Gradient: 3.160194e-06 Loss: 8.145046346423138e-07\n",
      "Gradient: 2.6155762e-06 Loss: 7.49575631668146e-07\n",
      "Gradient: 8.058358e-06 Loss: 6.889150919657065e-07\n",
      "Gradient: 1.9329598e-06 Loss: 5.684003445101855e-07\n",
      "Gradient: 2.4230444e-06 Loss: 7.072165108941893e-07\n",
      "Gradient: 3.6327617e-06 Loss: 5.096473330468143e-07\n",
      "Gradient: 4.128584e-06 Loss: 4.951605518499492e-07\n",
      "Gradient: 3.0526658e-06 Loss: 5.467723970771961e-07\n",
      "Gradient: 3.9962415e-06 Loss: 7.932400365007198e-07\n",
      "Gradient: 2.4305746e-06 Loss: 5.677191306100819e-07\n",
      "Gradient: 3.1105585e-06 Loss: 8.425357369408933e-07\n",
      "Gradient: 5.7404286e-06 Loss: 6.627003434308183e-07\n",
      "Gradient: 3.53641e-06 Loss: 6.615423842504242e-07\n",
      "Gradient: 1.0332561e-06 Loss: 5.953302609403485e-07\n",
      "Gradient: 1.0204321e-05 Loss: 9.259361405611344e-07\n",
      "Gradient: 2.119896e-06 Loss: 6.921393662651099e-07\n",
      "Gradient: 2.0627258e-06 Loss: 5.16107312857154e-07\n",
      "Gradient: 4.842378e-06 Loss: 6.604184553301214e-07\n",
      "Gradient: 2.3255775e-06 Loss: 5.567519972752659e-07\n",
      "Gradient: 2.4749552e-06 Loss: 5.959659290510899e-07\n",
      "Gradient: 2.0551693e-06 Loss: 5.478056039009971e-07\n",
      "Gradient: 2.803536e-06 Loss: 7.506767057445056e-07\n",
      "Gradient: 2.0496327e-06 Loss: 5.239751677284706e-07\n",
      "Gradient: 3.4490254e-06 Loss: 7.169915875238076e-07\n",
      "Gradient: 1.9082747e-06 Loss: 6.237133770052121e-07\n",
      "Gradient: 4.3335945e-06 Loss: 6.909473237707668e-07\n",
      "Gradient: 1.9045133e-06 Loss: 5.642109632238619e-07\n",
      "Gradient: 2.0701643e-06 Loss: 6.416060197504218e-07\n",
      "Gradient: 8.201222e-07 Loss: 6.272555462298139e-07\n",
      "Gradient: 2.05301e-06 Loss: 7.55320111996601e-07\n",
      "Gradient: 1.0404965e-06 Loss: 5.904483562820436e-07\n",
      "Gradient: 3.3314536e-06 Loss: 8.697720412934965e-07\n",
      "Gradient: 4.027669e-06 Loss: 8.0185711226477e-07\n",
      "Gradient: 1.8777291e-06 Loss: 4.930715552594241e-07\n",
      "Gradient: 9.483015e-07 Loss: 5.31672664768242e-07\n",
      "Gradient: 1.5721871e-06 Loss: 6.142220305112762e-07\n",
      "Gradient: 1.0008652e-06 Loss: 5.073880553633595e-07\n",
      "Gradient: 1.3973804e-06 Loss: 6.010067513291991e-07\n",
      "Gradient: 2.2948825e-06 Loss: 6.66469740432755e-07\n",
      "Gradient: 8.6372603e-07 Loss: 6.02494179702262e-07\n",
      "Gradient: 4.8841985e-06 Loss: 6.946030320402012e-07\n",
      "Gradient: 2.5906918e-06 Loss: 6.273463299066861e-07\n",
      "Gradient: 1.2843191e-06 Loss: 5.063889318535076e-07\n",
      "Gradient: 8.825585e-07 Loss: 5.252012726941757e-07\n",
      "Gradient: 1.2929131e-06 Loss: 5.400286558672936e-07\n",
      "Gradient: 2.3686007e-06 Loss: 5.965451028563014e-07\n",
      "Gradient: 1.2188048e-06 Loss: 5.608503234573921e-07\n",
      "Gradient: 1.1082474e-06 Loss: 7.898225097354346e-07\n",
      "Gradient: 1.0463434e-06 Loss: 5.137572230751175e-07\n",
      "Gradient: 1.6201423e-06 Loss: 7.052182771379496e-07\n",
      "Gradient: 2.2117456e-06 Loss: 5.377466019732917e-07\n",
      "Gradient: 1.7933178e-06 Loss: 6.966125795315747e-07\n",
      "Gradient: 1.4485818e-06 Loss: 5.675148325205252e-07\n",
      "Gradient: 8.223939e-07 Loss: 5.536184649675609e-07\n",
      "Gradient: 6.0031687e-07 Loss: 7.363600199520685e-07\n",
      "Gradient: 2.3423318e-06 Loss: 5.724421981767591e-07\n",
      "Gradient: 7.7955593e-07 Loss: 4.692864896090517e-07\n",
      "Gradient: 6.58745e-07 Loss: 5.735548000984636e-07\n",
      "Gradient: 1.0436111e-06 Loss: 6.536063968572611e-07\n",
      "Gradient: 2.038274e-06 Loss: 6.050145335242026e-07\n",
      "Gradient: 7.7040784e-07 Loss: 5.453986489101226e-07\n",
      "Gradient: 8.3154225e-07 Loss: 7.607923360334704e-07\n",
      "Gradient: 1.2454379e-06 Loss: 6.618602848599646e-07\n",
      "Gradient: 9.1035076e-07 Loss: 7.577496650886436e-07\n",
      "Gradient: 9.529878e-07 Loss: 5.526080447756006e-07\n",
      "Gradient: 1.1382813e-06 Loss: 7.110764234615392e-07\n",
      "Gradient: 3.9456623e-07 Loss: 7.129839445951802e-07\n",
      "Gradient: 1.3383951e-06 Loss: 7.460898198511737e-07\n",
      "Gradient: 1.0543808e-06 Loss: 7.482812028077508e-07\n",
      "Gradient: 1.5255832e-06 Loss: 5.656188193370326e-07\n",
      "Gradient: 1.3313281e-06 Loss: 5.248380091416039e-07\n",
      "Gradient: 7.712416e-07 Loss: 8.689205988806256e-07\n",
      "Gradient: 4.9709433e-06 Loss: 8.471111897279116e-07\n",
      "Gradient: 5.625834e-07 Loss: 6.225667467181969e-07\n",
      "Gradient: 3.5829632e-07 Loss: 6.717714361078227e-07\n",
      "Gradient: 1.0824989e-06 Loss: 6.736223080376173e-07\n",
      "Gradient: 7.939608e-07 Loss: 6.723278990724187e-07\n",
      "Gradient: 1.1522627e-06 Loss: 5.132008444282594e-07\n",
      "Gradient: 8.694525e-07 Loss: 8.341114475266902e-07\n",
      "Gradient: 1.3218513e-06 Loss: 6.865875604944449e-07\n",
      "Gradient: 2.607852e-06 Loss: 7.542642871764352e-07\n",
      "Gradient: 6.752043e-07 Loss: 5.716133481807144e-07\n",
      "Gradient: 8.310444e-07 Loss: 5.712045729448316e-07\n",
      "Gradient: 4.958766e-06 Loss: 8.671262719417427e-07\n",
      "Gradient: 9.611309e-07 Loss: 6.439901900042362e-07\n",
      "Gradient: 8.6697514e-07 Loss: 5.73974722328785e-07\n",
      "Gradient: 1.7699718e-06 Loss: 6.699891703950319e-07\n",
      "Gradient: 8.6367265e-07 Loss: 5.151081940842535e-07\n",
      "Gradient: 8.173025e-07 Loss: 5.858729442328089e-07\n",
      "Gradient: 1.504719e-06 Loss: 5.579895021886235e-07\n",
      "Gradient: 8.067069e-07 Loss: 6.22521129874561e-07\n",
      "Gradient: 1.8078879e-06 Loss: 7.241552907544246e-07\n",
      "Gradient: 5.0481157e-07 Loss: 8.200219336155593e-07\n",
      "Gradient: 6.137357e-07 Loss: 6.997461629983567e-07\n",
      "Gradient: 4.7525793e-07 Loss: 5.848624823556747e-07\n",
      "Gradient: 4.955424e-07 Loss: 7.590099168434487e-07\n",
      "Gradient: 5.885911e-07 Loss: 6.895281179216302e-07\n",
      "Gradient: 9.4669076e-07 Loss: 5.786409076335985e-07\n",
      "Gradient: 1.6291726e-06 Loss: 8.726442435621114e-07\n",
      "Gradient: 5.275898e-07 Loss: 7.153566343731654e-07\n",
      "Gradient: 3.544555e-07 Loss: 7.133244167789598e-07\n",
      "Gradient: 4.2221697e-07 Loss: 7.131313755811183e-07\n",
      "Gradient: 2.7329935e-07 Loss: 5.999169066702356e-07\n",
      "Gradient: 4.814929e-07 Loss: 7.721000988188583e-07\n",
      "Gradient: 4.6291908e-07 Loss: 6.778343352683198e-07\n",
      "Gradient: 4.2977945e-07 Loss: 7.847930343511204e-07\n",
      "Gradient: 1.3826484e-06 Loss: 7.796159593453922e-07\n",
      "Gradient: 3.9870073e-07 Loss: 6.282093020596827e-07\n",
      "Gradient: 1.265275e-06 Loss: 6.865877073399437e-07\n",
      "Gradient: 2.0529122e-07 Loss: 6.391084160857948e-07\n",
      "Gradient: 2.948985e-07 Loss: 7.230088347872273e-07\n",
      "Gradient: 4.7943763e-07 Loss: 7.55376808569963e-07\n",
      "Gradient: 4.5899822e-07 Loss: 4.965116659150226e-07\n",
      "Gradient: 9.357782e-07 Loss: 8.531849459814112e-07\n",
      "Gradient: 9.058733e-07 Loss: 8.135279282820799e-07\n",
      "Gradient: 3.8368398e-07 Loss: 6.500074846371717e-07\n",
      "Gradient: 7.510173e-07 Loss: 7.83464801656919e-07\n",
      "Gradient: 5.4245766e-07 Loss: 6.370534218073468e-07\n",
      "Gradient: 1.2593453e-07 Loss: 7.109289261582793e-07\n",
      "Gradient: 3.074272e-07 Loss: 5.068657552934989e-07\n",
      "Gradient: 7.9449603e-07 Loss: 8.615182783463146e-07\n",
      "Gradient: 7.47199e-07 Loss: 5.680936936869329e-07\n",
      "Gradient: 3.70586e-07 Loss: 7.092032793328447e-07\n",
      "Gradient: 3.432167e-07 Loss: 7.45908297024774e-07\n",
      "Gradient: 6.1363426e-07 Loss: 7.592936384526183e-07\n",
      "Gradient: 8.5613226e-07 Loss: 5.349651113798852e-07\n",
      "Gradient: 3.4985058e-07 Loss: 6.15368701536075e-07\n",
      "Gradient: 2.5674308e-07 Loss: 6.587608443927214e-07\n",
      "Gradient: 6.2748154e-07 Loss: 5.841018927791689e-07\n",
      "Gradient: 6.075669e-07 Loss: 5.293224660363194e-07\n",
      "Gradient: 2.563047e-07 Loss: 6.680475650000517e-07\n",
      "Gradient: 6.4393805e-07 Loss: 6.319785702165367e-07\n",
      "Gradient: 3.647841e-07 Loss: 5.423900195940708e-07\n",
      "Gradient: 1.5907924e-07 Loss: 6.46919253692128e-07\n",
      "Gradient: 2.8003697e-07 Loss: 7.142668332941564e-07\n",
      "Gradient: 1.9443765e-07 Loss: 5.735433892558224e-07\n",
      "Gradient: 2.7526195e-07 Loss: 6.06127171446739e-07\n",
      "Gradient: 1.6104082e-07 Loss: 6.384726200773609e-07\n",
      "Gradient: 2.5753022e-07 Loss: 5.540384601469365e-07\n",
      "Gradient: 1.2221878e-07 Loss: 5.406417557196619e-07\n",
      "Gradient: 2.7215947e-07 Loss: 5.94785219239687e-07\n",
      "Gradient: 3.2876088e-07 Loss: 6.746552211704208e-07\n",
      "Gradient: 8.825409e-07 Loss: 7.244052606362554e-07\n",
      "Gradient: 1.4312857e-07 Loss: 5.449104861554588e-07\n",
      "Gradient: 3.7716921e-07 Loss: 6.408679780633974e-07\n",
      "Gradient: 2.3048442e-07 Loss: 6.017220755438756e-07\n",
      "Gradient: 6.047754e-07 Loss: 6.1639064862599e-07\n",
      "Gradient: 1.4268974e-07 Loss: 6.108614655886413e-07\n",
      "Gradient: 1.4816773e-07 Loss: 7.324773984388836e-07\n",
      "Gradient: 5.5666874e-07 Loss: 5.976349503574359e-07\n",
      "Gradient: 5.032792e-07 Loss: 6.880521254970517e-07\n",
      "Gradient: 5.2042435e-07 Loss: 6.219309530782387e-07\n",
      "Gradient: 3.3330983e-07 Loss: 7.749838781971145e-07\n",
      "Gradient: 2.3548414e-07 Loss: 5.407097698177192e-07\n",
      "Gradient: 1.5013471e-07 Loss: 5.313206420017499e-07\n",
      "Gradient: 3.5558764e-07 Loss: 8.289913182579767e-07\n",
      "Gradient: 3.274904e-07 Loss: 6.300826025077792e-07\n",
      "Gradient: 2.0732512e-07 Loss: 6.352369003555698e-07\n",
      "Gradient: 2.3976187e-07 Loss: 8.263687836536822e-07\n",
      "Gradient: 2.7600396e-07 Loss: 5.644834108882909e-07\n",
      "Gradient: 6.4428957e-07 Loss: 6.263925570237916e-07\n",
      "Gradient: 4.405054e-07 Loss: 7.866210694373876e-07\n",
      "Gradient: 2.1189273e-07 Loss: 7.140511390465083e-07\n",
      "Gradient: 3.4477424e-07 Loss: 6.200916222572535e-07\n",
      "Gradient: 1.5715412e-07 Loss: 6.877569167803206e-07\n",
      "Gradient: 3.237646e-07 Loss: 6.802185112064762e-07\n",
      "Gradient: 2.3571823e-07 Loss: 6.475325240747527e-07\n",
      "Gradient: 2.5266908e-07 Loss: 5.114411493423176e-07\n",
      "Gradient: 3.4700108e-07 Loss: 6.795372712531389e-07\n",
      "Gradient: 2.8659193e-07 Loss: 7.225661230828943e-07\n",
      "Gradient: 4.931702e-07 Loss: 7.408219365364251e-07\n",
      "Gradient: 2.497373e-07 Loss: 5.964996773855092e-07\n",
      "Gradient: 2.0480353e-07 Loss: 6.118037314687778e-07\n",
      "Gradient: 1.2721435e-07 Loss: 5.921967594228287e-07\n",
      "Gradient: 2.8877375e-07 Loss: 6.979635420141979e-07\n",
      "Gradient: 3.9612654e-08 Loss: 6.050827437320549e-07\n",
      "Gradient: 2.6691424e-07 Loss: 6.226347617636444e-07\n",
      "Gradient: 2.0300159e-07 Loss: 6.155617105226459e-07\n",
      "Gradient: 5.8743274e-07 Loss: 9.074988724933064e-07\n",
      "Gradient: 3.4994287e-07 Loss: 7.79933873218397e-07\n",
      "Gradient: 1.8536693e-07 Loss: 6.957042614885723e-07\n",
      "Gradient: 7.2335936e-08 Loss: 5.704551815218414e-07\n",
      "Gradient: 1.7915347e-07 Loss: 7.567846002605923e-07\n",
      "Gradient: 2.1697818e-07 Loss: 5.633822884950253e-07\n",
      "Gradient: 1.6628886e-07 Loss: 5.455575556349383e-07\n",
      "Gradient: 1.4681603e-07 Loss: 6.949549231194397e-07\n",
      "Gradient: 1.4746874e-07 Loss: 5.128717134539329e-07\n",
      "Gradient: 1.117909e-07 Loss: 5.621220642145393e-07\n",
      "Gradient: 1.1687813e-07 Loss: 7.711011051014793e-07\n",
      "Gradient: 2.530641e-07 Loss: 7.139036635332256e-07\n",
      "Gradient: 2.2108775e-07 Loss: 6.445352558633506e-07\n",
      "Gradient: 1.2759776e-07 Loss: 7.725428256814364e-07\n",
      "Gradient: 1.9776617e-07 Loss: 8.35621518528266e-07\n",
      "Gradient: 5.0721987e-08 Loss: 5.435027100967696e-07\n",
      "Gradient: 7.605789e-08 Loss: 5.883820837955985e-07\n",
      "Gradient: 1.9847303e-07 Loss: 5.357938448469213e-07\n",
      "Gradient: 1.0280219e-07 Loss: 7.343846921988491e-07\n",
      "Gradient: 2.6809101e-07 Loss: 8.538548740943952e-07\n",
      "Gradient: 3.9837659e-07 Loss: 6.301051930298248e-07\n",
      "Gradient: 1.5369237e-07 Loss: 5.725669533755233e-07\n",
      "Gradient: 8.519118e-08 Loss: 8.275379447771532e-07\n",
      "Gradient: 1.258366e-07 Loss: 5.454668420649492e-07\n",
      "Gradient: 9.660131e-08 Loss: 7.357358432121449e-07\n",
      "Gradient: 8.971759e-08 Loss: 5.277783998280939e-07\n",
      "Gradient: 9.616079e-08 Loss: 5.903006666585498e-07\n",
      "Gradient: 1.2288596e-07 Loss: 8.244387174727308e-07\n",
      "Gradient: 5.301094e-08 Loss: 5.171970651455619e-07\n",
      "Gradient: 5.1649906e-08 Loss: 7.372346004785868e-07\n",
      "Gradient: 7.784578e-08 Loss: 7.164579244545166e-07\n",
      "Gradient: 1.5042772e-07 Loss: 7.149026714614593e-07\n",
      "Gradient: 7.43491e-08 Loss: 6.306729394130647e-07\n",
      "Gradient: 1.17986154e-07 Loss: 6.908109999888741e-07\n",
      "Gradient: 1.1968888e-07 Loss: 4.952627563170609e-07\n",
      "Gradient: 2.0574262e-07 Loss: 5.156191093647067e-07\n",
      "Gradient: 8.987698e-08 Loss: 7.804106492888726e-07\n",
      "Gradient: 2.2433063e-07 Loss: 6.096466942532667e-07\n",
      "Gradient: 4.439771e-08 Loss: 7.239624191394493e-07\n",
      "Gradient: 1.2673766e-07 Loss: 5.686615054401045e-07\n",
      "Gradient: 2.4360904e-07 Loss: 6.269831070918978e-07\n",
      "Gradient: 1.5403518e-07 Loss: 6.062747833842271e-07\n",
      "Gradient: 1.2785952e-07 Loss: 8.092704736858043e-07\n",
      "Gradient: 2.264231e-07 Loss: 5.338297114576562e-07\n",
      "Gradient: 1.4975213e-07 Loss: 5.919016018651746e-07\n",
      "Gradient: 2.185954e-07 Loss: 6.243491772769024e-07\n",
      "Gradient: 1.1152022e-07 Loss: 6.828749273305827e-07\n",
      "Gradient: 2.2102961e-07 Loss: 8.487118729287128e-07\n",
      "Gradient: 4.580362e-07 Loss: 8.118365220373865e-07\n",
      "Gradient: 8.411632e-08 Loss: 8.289799742063527e-07\n",
      "Gradient: 1.2982386e-07 Loss: 6.750186097785142e-07\n",
      "Gradient: 1.5606265e-07 Loss: 5.689792970997587e-07\n",
      "Gradient: 9.562949e-08 Loss: 6.185135816849652e-07\n",
      "Gradient: 1.1082318e-07 Loss: 5.929347423716536e-07\n",
      "Gradient: 9.080335e-08 Loss: 7.105315897130519e-07\n",
      "Gradient: 1.9692716e-07 Loss: 6.121103069745004e-07\n",
      "Gradient: 6.804743e-08 Loss: 5.561275078965385e-07\n",
      "Gradient: 7.5440326e-08 Loss: 5.997238910519324e-07\n",
      "Gradient: 3.9996568e-08 Loss: 7.911733414781945e-07\n",
      "Gradient: 7.3323434e-08 Loss: 6.995530384301673e-07\n",
      "Gradient: 1.9444937e-07 Loss: 5.851577005463089e-07\n",
      "Gradient: 1.0936674e-07 Loss: 7.239738901413754e-07\n",
      "Gradient: 6.043257e-08 Loss: 5.82319382639677e-07\n",
      "Gradient: 7.033181e-08 Loss: 5.675374912546734e-07\n",
      "Gradient: 7.608115e-08 Loss: 6.086021945369187e-07\n",
      "Gradient: 6.817061e-08 Loss: 8.707709961678726e-07\n",
      "Gradient: 8.030541e-08 Loss: 5.616678625604739e-07\n",
      "Gradient: 3.5303437e-08 Loss: 5.408460386509735e-07\n",
      "Gradient: 4.9489508e-08 Loss: 4.943544581692549e-07\n",
      "Gradient: 8.151598e-08 Loss: 6.869168449460024e-07\n",
      "Gradient: 1.3668011e-07 Loss: 6.836698579112029e-07\n",
      "Gradient: 9.7535164e-08 Loss: 6.438199231221613e-07\n",
      "Gradient: 1.4992027e-07 Loss: 6.737923124925753e-07\n",
      "Gradient: 5.96328e-08 Loss: 8.129151012781221e-07\n",
      "Gradient: 7.90612e-08 Loss: 5.552873081645278e-07\n",
      "Gradient: 2.4974344e-07 Loss: 8.013459781371542e-07\n",
      "Gradient: 9.2066855e-08 Loss: 5.739748852799191e-07\n",
      "Gradient: 9.2673275e-08 Loss: 6.722599171856321e-07\n",
      "Gradient: 2.5470598e-07 Loss: 8.094863261476349e-07\n",
      "Gradient: 7.1541756e-08 Loss: 6.09124448184654e-07\n",
      "Gradient: 1.2013282e-07 Loss: 8.140844613535592e-07\n",
      "Gradient: 4.1705828e-08 Loss: 5.974193086899504e-07\n",
      "Gradient: 1.5099491e-07 Loss: 9.234842726376276e-07\n",
      "Gradient: 3.8746098e-08 Loss: 6.000191717703274e-07\n",
      "Gradient: 1.3244507e-07 Loss: 5.613272530050987e-07\n",
      "Gradient: 4.309067e-08 Loss: 6.583974122046736e-07\n",
      "Gradient: 3.6418143e-08 Loss: 6.949661231677359e-07\n",
      "Gradient: 8.0930704e-08 Loss: 6.391651065011198e-07\n",
      "Gradient: 2.5344853e-08 Loss: 5.385981296512909e-07\n",
      "Gradient: 1.0914764e-07 Loss: 7.511307330787531e-07\n",
      "Gradient: 1.8924479e-07 Loss: 5.441043830008615e-07\n",
      "Gradient: 6.3927374e-08 Loss: 7.66298673700779e-07\n",
      "Gradient: 1.3616841e-07 Loss: 7.182178611249886e-07\n",
      "Gradient: 2.9616878e-08 Loss: 7.604404409278232e-07\n",
      "Gradient: 1.0439801e-07 Loss: 5.221813187480014e-07\n",
      "Gradient: 3.940781e-08 Loss: 7.079545895294359e-07\n",
      "Gradient: 1.0198164e-07 Loss: 6.095445219974256e-07\n",
      "Gradient: 9.1650364e-08 Loss: 5.637000886811924e-07\n",
      "Gradient: 9.199597e-08 Loss: 6.130072402280954e-07\n",
      "Gradient: 3.9409414e-08 Loss: 8.178424498813304e-07\n",
      "Gradient: 1.6191998e-07 Loss: 6.493604208420342e-07\n",
      "Gradient: 4.3121304e-08 Loss: 6.714992196066305e-07\n",
      "Gradient: 2.0757298e-07 Loss: 6.261430068358702e-07\n",
      "Gradient: 1.04664814e-07 Loss: 5.994287638107684e-07\n",
      "Gradient: 9.6435386e-08 Loss: 6.888241964967771e-07\n",
      "Gradient: 3.1664175e-08 Loss: 7.262217854038984e-07\n",
      "Gradient: 2.4135412e-07 Loss: 6.624278834503154e-07\n",
      "Gradient: 7.181774e-08 Loss: 5.543678611275027e-07\n",
      "Gradient: 1.2896007e-07 Loss: 9.01629325274674e-07\n",
      "Gradient: 6.8453446e-08 Loss: 4.944679953193069e-07\n",
      "Gradient: 6.095357e-08 Loss: 5.499059568592202e-07\n",
      "Gradient: 5.0424863e-08 Loss: 6.671621880135111e-07\n",
      "Gradient: 5.7783584e-08 Loss: 6.164358637761325e-07\n",
      "Gradient: 1.9028518e-07 Loss: 8.184441014691402e-07\n",
      "Gradient: 4.393062e-08 Loss: 7.090783611829465e-07\n",
      "Gradient: 5.8741733e-08 Loss: 5.913794514829837e-07\n",
      "Gradient: 4.4198003e-08 Loss: 6.280616825430722e-07\n",
      "Gradient: 8.285053e-08 Loss: 8.175245663248158e-07\n",
      "Gradient: 1.7149596e-07 Loss: 7.152431010126747e-07\n",
      "Gradient: 3.7902847e-08 Loss: 6.926502123860701e-07\n",
      "Gradient: 5.1060635e-08 Loss: 5.96544990116854e-07\n",
      "Gradient: 1.50776e-07 Loss: 6.630183766750027e-07\n",
      "Gradient: 2.7644049e-08 Loss: 6.20999846508615e-07\n",
      "Gradient: 1.3152848e-07 Loss: 7.498479552244437e-07\n",
      "Gradient: 1.009611e-07 Loss: 7.006883511924874e-07\n",
      "Gradient: 4.792584e-08 Loss: 5.092841566541513e-07\n",
      "Gradient: 6.3006574e-08 Loss: 6.053779363431507e-07\n",
      "Gradient: 6.602072e-08 Loss: 5.315477911456886e-07\n",
      "Gradient: 5.0287362e-08 Loss: 6.546736453098371e-07\n",
      "Gradient: 2.325172e-08 Loss: 6.38745051873002e-07\n",
      "Gradient: 3.8180833e-08 Loss: 4.549587278764496e-07\n",
      "Gradient: 1.0537826e-07 Loss: 6.659134877888088e-07\n",
      "Gradient: 5.8098685e-08 Loss: 5.691383705652697e-07\n",
      "Gradient: 8.065193e-08 Loss: 8.105082542897435e-07\n",
      "Gradient: 4.963807e-08 Loss: 7.201021333003154e-07\n",
      "Gradient: 1.5535906e-07 Loss: 7.832490960405873e-07\n",
      "Gradient: 5.717075e-08 Loss: 6.725889610000498e-07\n",
      "Gradient: 1.2628189e-07 Loss: 8.274017299451467e-07\n",
      "Gradient: 8.996744e-08 Loss: 7.729970623889433e-07\n",
      "Gradient: 4.174119e-08 Loss: 5.663113379720622e-07\n",
      "Gradient: 6.250288e-08 Loss: 6.600096166190876e-07\n",
      "Gradient: 3.692524e-08 Loss: 5.926850273378174e-07\n",
      "Gradient: 7.3638795e-08 Loss: 7.700336463282534e-07\n",
      "Gradient: 1.16636755e-07 Loss: 6.191381316966726e-07\n",
      "Gradient: 3.7632503e-08 Loss: 5.664589413830375e-07\n",
      "Gradient: 7.292477e-08 Loss: 6.334204442737246e-07\n",
      "Gradient: 7.847234e-08 Loss: 7.137331787513783e-07\n",
      "Gradient: 8.60859e-08 Loss: 6.462496022171156e-07\n",
      "Gradient: 8.100267e-08 Loss: 6.850550657115188e-07\n",
      "Gradient: 1.9288574e-08 Loss: 6.231571452038528e-07\n",
      "Gradient: 6.5637906e-08 Loss: 6.521305977003067e-07\n",
      "Gradient: 6.7727356e-08 Loss: 6.923663922483077e-07\n",
      "Gradient: 3.2157992e-08 Loss: 6.906065967389925e-07\n",
      "Gradient: 4.3041997e-08 Loss: 5.473855045086869e-07\n",
      "Gradient: 4.6571884e-08 Loss: 5.656074279158929e-07\n",
      "Gradient: 3.351809e-08 Loss: 7.472365458246107e-07\n",
      "Gradient: 1.4815842e-07 Loss: 7.133130859908003e-07\n",
      "Gradient: 9.47171e-08 Loss: 5.345790602480823e-07\n",
      "Gradient: 5.8377914e-08 Loss: 7.6928466702005e-07\n",
      "Gradient: 2.566204e-08 Loss: 6.831474460492852e-07\n",
      "Gradient: 3.4198045e-08 Loss: 7.082153274495795e-07\n",
      "Gradient: 6.642872e-08 Loss: 6.563766135059268e-07\n",
      "Gradient: 6.823167e-09 Loss: 6.299236413080205e-07\n",
      "Gradient: 5.4102394e-08 Loss: 4.887913708747267e-07\n",
      "Gradient: 3.5488227e-08 Loss: 6.3067298583519e-07\n",
      "Gradient: 6.155084e-08 Loss: 5.901646053037742e-07\n",
      "Gradient: 3.374747e-08 Loss: 5.414023708757061e-07\n",
      "Gradient: 4.7392845e-08 Loss: 6.918099984432046e-07\n",
      "Gradient: 3.7395118e-08 Loss: 5.927418233871625e-07\n",
      "Gradient: 4.2689535e-08 Loss: 6.695010351146873e-07\n",
      "Gradient: 3.002586e-08 Loss: 6.479638708848749e-07\n",
      "Gradient: 3.7627274e-08 Loss: 5.590792549507266e-07\n",
      "Gradient: 1.7401884e-08 Loss: 5.77630728078778e-07\n",
      "Gradient: 3.80616e-08 Loss: 7.715439039657213e-07\n",
      "Gradient: 4.3561073e-08 Loss: 5.570470354617404e-07\n",
      "Gradient: 3.618504e-08 Loss: 7.037423529254738e-07\n",
      "Gradient: 1.42708645e-08 Loss: 7.094983989948863e-07\n",
      "Gradient: 1.9500128e-08 Loss: 5.95114516954709e-07\n",
      "Gradient: 1.8346277e-08 Loss: 5.079557231132034e-07\n",
      "Gradient: 7.5072414e-08 Loss: 8.540364603959461e-07\n",
      "Gradient: 1.2221809e-08 Loss: 8.393568208475699e-07\n",
      "Gradient: 2.8519034e-08 Loss: 6.510747150893319e-07\n",
      "Gradient: 2.393214e-08 Loss: 7.477134071602147e-07\n",
      "Gradient: 2.3983462e-08 Loss: 8.819543609206448e-07\n",
      "Gradient: 2.606154e-08 Loss: 7.296164369563485e-07\n",
      "Gradient: 8.805924e-09 Loss: 8.374720550818892e-07\n",
      "Gradient: 7.9080635e-09 Loss: 6.591921779393791e-07\n",
      "Gradient: 4.9236e-09 Loss: 6.038793647652104e-07\n",
      "Gradient: 1.5185964e-08 Loss: 7.993818580113536e-07\n",
      "Gradient: 7.632184e-09 Loss: 6.537427258498004e-07\n",
      "Gradient: 8.843854e-09 Loss: 6.957496538007035e-07\n",
      "Gradient: 7.116043e-08 Loss: 6.27175984391215e-07\n",
      "Gradient: 3.701533e-08 Loss: 5.224650730421369e-07\n",
      "Gradient: 3.3219713e-08 Loss: 7.55479019668807e-07\n",
      "Gradient: 2.3799412e-08 Loss: 8.005964408160556e-07\n",
      "Gradient: 6.782107e-09 Loss: 6.288337810171167e-07\n",
      "Gradient: 2.9514482e-08 Loss: 7.238490866257053e-07\n",
      "Gradient: 2.6956101e-08 Loss: 6.00212143808676e-07\n",
      "Gradient: 1.7751507e-08 Loss: 6.085567340126848e-07\n",
      "Gradient: 1.4870855e-08 Loss: 5.487251693618116e-07\n",
      "Gradient: 6.913373e-08 Loss: 7.567163947896915e-07\n",
      "Gradient: 1.2812997e-08 Loss: 5.516884082605126e-07\n",
      "Gradient: 7.233867e-09 Loss: 7.559672800046731e-07\n",
      "Gradient: 1.2006277e-08 Loss: 6.528571608062824e-07\n",
      "Gradient: 1.4056817e-08 Loss: 6.594193138198534e-07\n",
      "Gradient: 3.8222914e-09 Loss: 5.479985773604313e-07\n",
      "Gradient: 1.0362652e-08 Loss: 7.22112000062225e-07\n",
      "Gradient: 3.214842e-08 Loss: 6.192856233155908e-07\n",
      "Gradient: 4.247136e-08 Loss: 6.576936812052736e-07\n",
      "Gradient: 1.7917028e-08 Loss: 8.229740672049957e-07\n",
      "Gradient: 1.3963138e-08 Loss: 6.20977152721025e-07\n",
      "Gradient: 1.3549121e-08 Loss: 5.483846564402484e-07\n",
      "Gradient: 2.1378757e-08 Loss: 8.121999561202149e-07\n",
      "Gradient: 6.708732e-09 Loss: 6.534701431822517e-07\n",
      "Gradient: 4.4619163e-08 Loss: 8.180467792347675e-07\n",
      "Gradient: 6.111283e-09 Loss: 6.515288238991464e-07\n",
      "Gradient: 1.4107853e-08 Loss: 6.006889710382286e-07\n",
      "Gradient: 1.1628454e-08 Loss: 6.488267520884013e-07\n",
      "Gradient: 8.403269e-09 Loss: 5.753371354444426e-07\n",
      "Gradient: 4.164833e-08 Loss: 6.336816871529057e-07\n",
      "Gradient: 9.110167e-09 Loss: 6.479864642490914e-07\n",
      "Gradient: 1.30370745e-08 Loss: 7.263465192863805e-07\n",
      "Gradient: 1.726739e-08 Loss: 5.396426094724423e-07\n",
      "Gradient: 1.0084892e-08 Loss: 6.196829948142598e-07\n",
      "Gradient: 2.5943603e-08 Loss: 7.175251615384089e-07\n",
      "Gradient: 1.5162864e-07 Loss: 5.980549644846178e-07\n",
      "Gradient: 2.5088546e-08 Loss: 8.50936896767962e-07\n",
      "Gradient: 1.396994e-08 Loss: 5.544471946450357e-07\n",
      "Gradient: 2.6660805e-08 Loss: 6.446601020115849e-07\n",
      "Gradient: 1.7373218e-08 Loss: 6.408682187005373e-07\n",
      "Gradient: 7.2673103e-09 Loss: 5.960681605188256e-07\n",
      "Gradient: 3.41396e-08 Loss: 8.652877435603538e-07\n",
      "Gradient: 6.0469505e-09 Loss: 5.830234295937468e-07\n",
      "Gradient: 3.704063e-08 Loss: 6.669918699723591e-07\n",
      "Gradient: 7.559901e-09 Loss: 7.380065364751923e-07\n",
      "Gradient: 4.41132e-09 Loss: 5.003944243261079e-07\n",
      "Gradient: 2.9159533e-08 Loss: 6.336246978359365e-07\n",
      "Gradient: 5.4453038e-09 Loss: 6.331593586613356e-07\n",
      "Gradient: 1.2504188e-08 Loss: 5.531415913158829e-07\n",
      "Gradient: 8.6024015e-09 Loss: 7.123252378467744e-07\n",
      "Gradient: 1.2554175e-08 Loss: 6.63268137183574e-07\n",
      "Gradient: 3.192558e-08 Loss: 6.133252327344962e-07\n",
      "Gradient: 1.5198543e-08 Loss: 6.183090874856134e-07\n",
      "Gradient: 5.7869006e-08 Loss: 5.716360817586974e-07\n",
      "Gradient: 4.0804238e-08 Loss: 6.071716237935713e-07\n",
      "Gradient: 1.47763775e-08 Loss: 6.583749391590269e-07\n",
      "Gradient: 5.5616738e-08 Loss: 5.981231936402764e-07\n",
      "Gradient: 4.427919e-08 Loss: 8.113256039147624e-07\n",
      "Gradient: 9.031187e-09 Loss: 5.349536868000844e-07\n",
      "Gradient: 1.7873983e-08 Loss: 5.367815513560951e-07\n",
      "Gradient: 1.5754823e-08 Loss: 5.625647607606273e-07\n",
      "Gradient: 3.1843207e-08 Loss: 7.684898349680225e-07\n",
      "Gradient: 3.0555874e-08 Loss: 6.487813000906802e-07\n",
      "Gradient: 2.466131e-08 Loss: 7.656856420605133e-07\n",
      "Gradient: 2.3450353e-08 Loss: 6.111226923621871e-07\n",
      "Gradient: 2.4469683e-08 Loss: 5.210459069833935e-07\n",
      "Gradient: 2.8727579e-08 Loss: 6.75847390615066e-07\n",
      "Gradient: 6.241225e-09 Loss: 6.515969540525172e-07\n",
      "Gradient: 2.1353973e-08 Loss: 5.566384582304333e-07\n",
      "Gradient: 4.9795446e-08 Loss: 8.856098891859195e-07\n",
      "Gradient: 3.4275082e-08 Loss: 8.073180765677535e-07\n",
      "Gradient: 7.453991e-08 Loss: 7.534355072872738e-07\n",
      "Gradient: 5.8972024e-08 Loss: 9.100534668959881e-07\n",
      "Gradient: 9.120849e-09 Loss: 6.574323322183773e-07\n",
      "Gradient: 1.2751173e-08 Loss: 5.873149177659798e-07\n",
      "Gradient: 1.4569884e-08 Loss: 6.169467288448989e-07\n",
      "Gradient: 8.414195e-09 Loss: 7.242121787006302e-07\n",
      "Gradient: 5.038695e-09 Loss: 5.85384784320316e-07\n",
      "Gradient: 6.6927637e-09 Loss: 5.672763829049169e-07\n",
      "Gradient: 3.582704e-08 Loss: 8.372449902556885e-07\n",
      "Gradient: 2.3436524e-08 Loss: 7.054112453867371e-07\n",
      "Gradient: 2.4531765e-08 Loss: 5.419926679905984e-07\n",
      "Gradient: 1.806755e-08 Loss: 5.022676570357968e-07\n",
      "Gradient: 1.9654882e-08 Loss: 6.611790998552654e-07\n",
      "Gradient: 8.855503e-09 Loss: 6.959312505235478e-07\n",
      "Gradient: 6.0693637e-09 Loss: 5.485549327962266e-07\n",
      "Gradient: 4.441557e-08 Loss: 5.845221371221972e-07\n",
      "Gradient: 1.6606474e-08 Loss: 6.822621287483344e-07\n",
      "Gradient: 1.2883589e-08 Loss: 6.261996825666453e-07\n",
      "Gradient: 5.916685e-08 Loss: 7.783786249622912e-07\n",
      "Gradient: 1.7319511e-08 Loss: 5.823080433250046e-07\n",
      "Gradient: 3.0153508e-08 Loss: 7.65640132271983e-07\n",
      "Gradient: 1.790806e-08 Loss: 5.470903658988391e-07\n",
      "Gradient: 2.1131061e-08 Loss: 5.835909576035192e-07\n",
      "Gradient: 1.3548744e-08 Loss: 6.949210037040151e-07\n",
      "Gradient: 1.4608787e-08 Loss: 7.212150270182368e-07\n",
      "Gradient: 8.068241e-09 Loss: 6.498939304340941e-07\n",
      "Gradient: 3.2053546e-08 Loss: 7.256767768618981e-07\n",
      "Gradient: 1.3433321e-08 Loss: 5.70114692285036e-07\n",
      "Gradient: 1.3590293e-08 Loss: 7.750747973508017e-07\n",
      "Gradient: 1.5724815e-08 Loss: 7.339307472875589e-07\n",
      "Gradient: 1.0610473e-08 Loss: 5.884615366843112e-07\n",
      "Gradient: 1.3596685e-08 Loss: 7.206584778411222e-07\n",
      "Gradient: 1.290486e-08 Loss: 6.794804013073493e-07\n",
      "Gradient: 1.2719381e-08 Loss: 7.087719438914064e-07\n",
      "Gradient: 2.3066713e-09 Loss: 5.921172487433069e-07\n",
      "Gradient: 1.8880074e-08 Loss: 6.497350597101104e-07\n",
      "Gradient: 1.853035e-08 Loss: 5.41924578101316e-07\n",
      "Gradient: 1.935393e-08 Loss: 7.464987267743102e-07\n",
      "Gradient: 1.9264233e-08 Loss: 7.665142769989568e-07\n",
      "Gradient: 1.5140348e-08 Loss: 7.34566314501232e-07\n",
      "Gradient: 8.289882e-09 Loss: 6.557748880216726e-07\n",
      "Gradient: 1.5163293e-09 Loss: 5.983616181500414e-07\n",
      "Gradient: 9.538519e-09 Loss: 6.457497505607535e-07\n",
      "Gradient: 1.7070729e-09 Loss: 7.42729511671314e-07\n",
      "Gradient: 7.0591235e-09 Loss: 6.89982154729781e-07\n",
      "Gradient: 6.5998376e-09 Loss: 5.281417173819136e-07\n",
      "Gradient: 1.1096446e-08 Loss: 5.860773683252773e-07\n",
      "Gradient: 5.7712892e-09 Loss: 7.90560566580704e-07\n",
      "Gradient: 1.02291695e-08 Loss: 6.03584052782935e-07\n",
      "Gradient: 1.1942789e-08 Loss: 5.52483131362654e-07\n",
      "Gradient: 1.0574146e-08 Loss: 5.174015380286316e-07\n",
      "Gradient: 4.379721e-09 Loss: 7.542984879667832e-07\n",
      "Gradient: 2.005545e-08 Loss: 7.702154164235253e-07\n",
      "Gradient: 2.7783031e-08 Loss: 6.652435539914829e-07\n",
      "Gradient: 2.6534789e-08 Loss: 8.945221234550142e-07\n",
      "Gradient: 8.797219e-09 Loss: 4.724427157043465e-07\n",
      "Gradient: 1.3978914e-08 Loss: 5.745652060795692e-07\n",
      "Gradient: 5.927008e-09 Loss: 4.830466110661291e-07\n",
      "Gradient: 9.377002e-09 Loss: 5.506212299148198e-07\n",
      "Gradient: 4.455627e-09 Loss: 4.866570179729024e-07\n",
      "Gradient: 2.4099455e-08 Loss: 7.800246635270014e-07\n",
      "Gradient: 3.856439e-09 Loss: 5.638817289839911e-07\n",
      "Gradient: 5.6033356e-09 Loss: 7.42173130182285e-07\n",
      "Gradient: 6.418588e-09 Loss: 6.117584329482876e-07\n",
      "Gradient: 1.3554539e-08 Loss: 5.849420034564901e-07\n",
      "Gradient: 7.585589e-09 Loss: 6.749619283633971e-07\n",
      "Gradient: 1.161791e-08 Loss: 6.913333815343018e-07\n",
      "Gradient: 7.102144e-09 Loss: 8.204423939635792e-07\n",
      "Gradient: 7.669085e-09 Loss: 6.036408450427189e-07\n",
      "Gradient: 8.706653e-09 Loss: 5.662431268168196e-07\n",
      "Gradient: 2.5455474e-08 Loss: 8.138232952129935e-07\n",
      "Gradient: 2.1855314e-08 Loss: 7.199091025237673e-07\n",
      "Gradient: 1.4977037e-09 Loss: 5.466815357143181e-07\n",
      "Gradient: 1.1643645e-08 Loss: 7.147664822089913e-07\n",
      "Gradient: 6.9843793e-09 Loss: 5.813429633387083e-07\n",
      "Gradient: 1.2375018e-08 Loss: 5.447400961126429e-07\n",
      "Gradient: 1.3894154e-08 Loss: 6.680251109022114e-07\n",
      "Gradient: 1.7140714e-08 Loss: 5.489523024001149e-07\n",
      "Gradient: 1.3556456e-08 Loss: 7.767548585964808e-07\n",
      "Gradient: 1.2180926e-08 Loss: 6.509610552522342e-07\n",
      "Gradient: 1.40341685e-08 Loss: 6.304230775337297e-07\n",
      "Gradient: 8.467854e-09 Loss: 7.599180908831234e-07\n",
      "Gradient: 1.1325111e-08 Loss: 6.78379219228494e-07\n",
      "Gradient: 5.6465378e-08 Loss: 7.872342052905878e-07\n",
      "Gradient: 8.265536e-09 Loss: 4.949448699183752e-07\n",
      "Gradient: 6.127979e-09 Loss: 7.055246915873188e-07\n",
      "Gradient: 2.684917e-08 Loss: 6.746552931720847e-07\n",
      "Gradient: 1.503828e-08 Loss: 5.367247410958953e-07\n",
      "Gradient: 9.521475e-09 Loss: 7.754038904295157e-07\n",
      "Gradient: 2.7358732e-08 Loss: 7.267441882656082e-07\n",
      "Gradient: 4.904739e-09 Loss: 5.332394162375446e-07\n",
      "Gradient: 1.8825535e-08 Loss: 6.976795816626691e-07\n",
      "Gradient: 4.4149067e-09 Loss: 5.054239390271202e-07\n",
      "Gradient: 3.3692829e-09 Loss: 6.467604104424633e-07\n",
      "Gradient: 6.16849e-09 Loss: 5.558776858075968e-07\n",
      "Gradient: 1.8356895e-08 Loss: 6.03379587952683e-07\n",
      "Gradient: 2.3053344e-08 Loss: 5.587954490238189e-07\n",
      "Gradient: 5.0915414e-09 Loss: 6.280503536496932e-07\n",
      "Gradient: 9.295503e-09 Loss: 7.548318743981024e-07\n",
      "Gradient: 8.228591e-10 Loss: 5.73009742765862e-07\n",
      "Gradient: 4.7242255e-09 Loss: 7.224980644574923e-07\n",
      "Gradient: 9.997215e-09 Loss: 5.460231363940693e-07\n",
      "Gradient: 6.4380035e-09 Loss: 7.252113031578725e-07\n",
      "Gradient: 4.5588626e-09 Loss: 6.68638025066078e-07\n",
      "Gradient: 8.05747e-09 Loss: 5.845334347516958e-07\n",
      "Gradient: 4.6397055e-09 Loss: 7.248139032374941e-07\n",
      "Gradient: 8.308083e-09 Loss: 6.828410391790385e-07\n",
      "Gradient: 5.8598637e-09 Loss: 5.831708136838642e-07\n",
      "Gradient: 1.8416905e-08 Loss: 7.823635598924739e-07\n",
      "Gradient: 9.030954e-09 Loss: 5.140409276312615e-07\n",
      "Gradient: 2.96117e-09 Loss: 7.211922915454731e-07\n",
      "Gradient: 9.395261e-09 Loss: 5.978733516561381e-07\n",
      "Gradient: 7.450747e-09 Loss: 6.465106271965244e-07\n",
      "Gradient: 9.482694e-09 Loss: 6.870530105137125e-07\n",
      "Gradient: 3.967657e-09 Loss: 5.901645674081617e-07\n",
      "Gradient: 5.900982e-09 Loss: 6.521873065897429e-07\n",
      "Gradient: 4.85525e-09 Loss: 6.568536415822261e-07\n",
      "Gradient: 1.6071613e-08 Loss: 8.161281471075199e-07\n",
      "Gradient: 9.830863e-09 Loss: 7.210785838651645e-07\n",
      "Gradient: 3.4612055e-09 Loss: 6.323306195099576e-07\n",
      "Gradient: 2.2542222e-08 Loss: 8.584416841965018e-07\n",
      "Gradient: 5.1649836e-09 Loss: 5.224424029393048e-07\n",
      "Gradient: 5.842146e-09 Loss: 5.564112854017367e-07\n",
      "Gradient: 8.950677e-09 Loss: 7.406516554434954e-07\n",
      "Gradient: 9.294375e-09 Loss: 6.699551391875502e-07\n",
      "Gradient: 4.4223274e-09 Loss: 6.124736122122461e-07\n",
      "Gradient: 5.977056e-09 Loss: 5.418905772103244e-07\n",
      "Gradient: 1.2328707e-08 Loss: 5.76518006785894e-07\n",
      "Gradient: 3.0146527e-09 Loss: 5.118384021803498e-07\n",
      "Gradient: 7.624395e-09 Loss: 5.780620133085297e-07\n",
      "Gradient: 1.36390055e-08 Loss: 5.687523052226122e-07\n",
      "Gradient: 2.0712292e-08 Loss: 8.428761949138183e-07\n",
      "Gradient: 4.318295e-09 Loss: 5.514953424305228e-07\n",
      "Gradient: 9.279231e-09 Loss: 5.845673607988526e-07\n",
      "Gradient: 8.2662e-09 Loss: 6.064223773212992e-07\n",
      "Gradient: 9.292088e-09 Loss: 6.069899995964079e-07\n",
      "Gradient: 5.127699e-09 Loss: 5.979982906486233e-07\n",
      "Gradient: 3.3702914e-09 Loss: 7.482811080687194e-07\n",
      "Gradient: 9.489877e-09 Loss: 5.272334211288884e-07\n",
      "Gradient: 8.4222025e-09 Loss: 5.277443165141448e-07\n",
      "Gradient: 9.284653e-09 Loss: 6.352255013553076e-07\n",
      "Gradient: 1.4894275e-09 Loss: 6.306729000963666e-07\n",
      "Gradient: 5.5886096e-09 Loss: 6.982587251513906e-07\n",
      "Gradient: 6.731659e-09 Loss: 8.078402373712379e-07\n",
      "Gradient: 1.0532326e-08 Loss: 7.195914899208826e-07\n",
      "Gradient: 1.630825e-09 Loss: 5.69558433956748e-07\n",
      "Gradient: 2.1989417e-09 Loss: 7.582606722659572e-07\n",
      "Gradient: 3.8673882e-08 Loss: 8.508692009930504e-07\n",
      "Gradient: 3.5590684e-08 Loss: 7.767892043375468e-07\n",
      "Gradient: 9.5255475e-09 Loss: 7.337830661905779e-07\n",
      "Gradient: 1.3151887e-08 Loss: 6.032321512824031e-07\n",
      "Gradient: 8.405179e-09 Loss: 9.516401140293359e-07\n",
      "Gradient: 4.511952e-09 Loss: 6.483953446452991e-07\n",
      "Gradient: 1.2209709e-08 Loss: 8.038098428642116e-07\n",
      "Gradient: 4.593171e-09 Loss: 6.542535752866267e-07\n",
      "Gradient: 6.701263e-09 Loss: 5.370540549165525e-07\n",
      "Gradient: 7.573414e-09 Loss: 5.772785385715906e-07\n",
      "Gradient: 1.3236682e-08 Loss: 5.494745361526536e-07\n",
      "Gradient: 3.1745264e-09 Loss: 5.269837496750066e-07\n",
      "Gradient: 5.0064326e-09 Loss: 6.388586636300412e-07\n",
      "Gradient: 4.0431507e-09 Loss: 7.696704940940436e-07\n",
      "Gradient: 4.028866e-09 Loss: 5.281643912743068e-07\n",
      "Gradient: 9.412385e-09 Loss: 5.27891994768955e-07\n",
      "Gradient: 7.666792e-09 Loss: 5.736909201914387e-07\n",
      "Gradient: 1.6539168e-08 Loss: 5.4614794180452e-07\n",
      "Gradient: 4.123055e-09 Loss: 6.057866414721503e-07\n",
      "Gradient: 1.4397439e-08 Loss: 5.500081679580642e-07\n",
      "Gradient: 9.148533e-09 Loss: 6.38813232474907e-07\n",
      "Gradient: 6.7831976e-09 Loss: 5.861341776380868e-07\n",
      "Gradient: 2.9181788e-09 Loss: 7.251545866893139e-07\n",
      "Gradient: 1.0218652e-08 Loss: 8.005286844081639e-07\n",
      "Gradient: 5.3673537e-09 Loss: 6.450460167191826e-07\n",
      "Gradient: 3.0802427e-09 Loss: 6.15641146358333e-07\n",
      "Gradient: 1.1578956e-08 Loss: 5.225332699865248e-07\n",
      "Gradient: 4.4386013e-08 Loss: 6.389721543579678e-07\n",
      "Gradient: 5.3376397e-09 Loss: 5.657096645942753e-07\n",
      "Gradient: 4.8826743e-09 Loss: 5.389386435202444e-07\n",
      "Gradient: 8.705626e-09 Loss: 5.965904648519426e-07\n",
      "Gradient: 1.02109485e-08 Loss: 7.168099443788378e-07\n",
      "Gradient: 9.15886e-09 Loss: 7.591460132516659e-07\n",
      "Gradient: 1.1488961e-08 Loss: 8.319091193698114e-07\n",
      "Gradient: 5.518518e-09 Loss: 7.500407529429746e-07\n",
      "Gradient: 3.3672893e-09 Loss: 6.172532522441543e-07\n",
      "Gradient: 7.579207e-09 Loss: 5.905959653773607e-07\n",
      "Gradient: 8.5958e-09 Loss: 6.889604170131255e-07\n",
      "Gradient: 1.4882032e-08 Loss: 8.178537598269031e-07\n",
      "Gradient: 2.1942052e-08 Loss: 6.242128525476194e-07\n",
      "Gradient: 9.260641e-09 Loss: 5.347720891298499e-07\n",
      "Gradient: 6.9981425e-09 Loss: 6.771076111059907e-07\n",
      "Gradient: 8.331781e-09 Loss: 5.822628177535686e-07\n",
      "Gradient: 6.3520016e-09 Loss: 8.110871580887154e-07\n",
      "Gradient: 2.994859e-09 Loss: 5.09647329257253e-07\n",
      "Gradient: 1.1969032e-08 Loss: 7.137332119100392e-07\n",
      "Gradient: 5.643139e-09 Loss: 5.046064662413604e-07\n",
      "Gradient: 1.6802241e-08 Loss: 6.273011071774211e-07\n",
      "Gradient: 1.2004403e-08 Loss: 6.110885815739191e-07\n",
      "Gradient: 4.1768273e-09 Loss: 6.271647104464743e-07\n",
      "Gradient: 2.3674298e-09 Loss: 7.308765077596036e-07\n",
      "Gradient: 1.3813537e-08 Loss: 6.402436800575136e-07\n",
      "Gradient: 3.7415986e-09 Loss: 4.7657532794194896e-07\n",
      "Gradient: 3.2822118e-09 Loss: 6.58908394749839e-07\n",
      "Gradient: 1.7744647e-08 Loss: 6.890966943728927e-07\n",
      "Gradient: 9.3950145e-09 Loss: 5.512115829257406e-07\n",
      "Gradient: 6.4275234e-09 Loss: 5.439909500637441e-07\n",
      "Gradient: 1.1503904e-08 Loss: 7.848954548232238e-07\n",
      "Gradient: 4.0751416e-09 Loss: 6.623031140406965e-07\n",
      "Gradient: 5.6847274e-09 Loss: 5.751441809328147e-07\n",
      "Gradient: 2.6657365e-09 Loss: 6.69841631406598e-07\n",
      "Gradient: 1.5017442e-08 Loss: 7.858830239608021e-07\n",
      "Gradient: 2.1052773e-09 Loss: 5.088979349920919e-07\n",
      "Gradient: 2.7155822e-09 Loss: 6.019038238491703e-07\n",
      "Gradient: 6.3572387e-09 Loss: 6.237245960013145e-07\n",
      "Gradient: 8.0593825e-09 Loss: 5.431848459617565e-07\n",
      "Gradient: 2.2298914e-09 Loss: 6.43150169328995e-07\n",
      "Gradient: 6.963794e-09 Loss: 6.596350592265784e-07\n",
      "Gradient: 3.5394616e-09 Loss: 7.419004210381293e-07\n",
      "Gradient: 9.887755e-09 Loss: 9.067152935434327e-07\n",
      "Gradient: 9.572131e-09 Loss: 6.725890955294744e-07\n",
      "Gradient: 3.7150953e-09 Loss: 4.77222405000551e-07\n",
      "Gradient: 5.363428e-09 Loss: 5.445130170755875e-07\n",
      "Gradient: 3.4310986e-08 Loss: 6.178324421550012e-07\n",
      "Gradient: 2.4908518e-08 Loss: 5.061164785047367e-07\n",
      "Gradient: 6.9470456e-09 Loss: 8.046727486998861e-07\n",
      "Gradient: 6.5386985e-09 Loss: 5.352261657283937e-07\n",
      "Gradient: 1.4943282e-08 Loss: 6.492127814302269e-07\n",
      "Gradient: 5.2980615e-09 Loss: 7.961463704001896e-07\n",
      "Gradient: 2.322839e-09 Loss: 6.314676411989239e-07\n",
      "Gradient: 1.5709237e-08 Loss: 5.020746963661319e-07\n",
      "Gradient: 3.2276617e-09 Loss: 6.291061178368788e-07\n",
      "Gradient: 1.4323466e-08 Loss: 6.368377635605308e-07\n",
      "Gradient: 9.379319e-09 Loss: 4.463642322131515e-07\n",
      "Gradient: 3.24712e-09 Loss: 6.743600981925132e-07\n",
      "Gradient: 6.4600822e-09 Loss: 5.50950411100833e-07\n",
      "Gradient: 5.8666956e-09 Loss: 6.461813465345282e-07\n",
      "Gradient: 2.760979e-09 Loss: 8.927852036322293e-07\n",
      "Gradient: 2.7004528e-09 Loss: 6.01529103505527e-07\n",
      "Gradient: 2.5112292e-09 Loss: 6.024373950216007e-07\n",
      "Gradient: 5.7219207e-09 Loss: 7.069438898573329e-07\n",
      "Gradient: 9.402349e-09 Loss: 7.208970600913744e-07\n",
      "Gradient: 4.6776547e-09 Loss: 6.110204878950753e-07\n",
      "Gradient: 1.3716658e-08 Loss: 7.144258707588355e-07\n",
      "Gradient: 1.0147186e-08 Loss: 5.72408041913756e-07\n",
      "Gradient: 9.499963e-09 Loss: 6.347486722309743e-07\n",
      "Gradient: 3.001296e-09 Loss: 6.890511940582656e-07\n",
      "Gradient: 1.200695e-08 Loss: 8.17797096412202e-07\n",
      "Gradient: 1.0811421e-08 Loss: 6.121898384966092e-07\n",
      "Gradient: 1.5710887e-08 Loss: 7.662645581755593e-07\n",
      "Gradient: 8.521372e-09 Loss: 5.790724117105128e-07\n",
      "Gradient: 1.553588e-08 Loss: 8.442841798720717e-07\n",
      "Gradient: 1.0198597e-08 Loss: 6.366560531508487e-07\n",
      "Gradient: 2.9082502e-08 Loss: 9.176256677771259e-07\n",
      "Gradient: 2.5429174e-09 Loss: 7.069098946506831e-07\n",
      "Gradient: 5.466102e-09 Loss: 6.322737249320198e-07\n",
      "Gradient: 2.0439523e-09 Loss: 5.185822980517212e-07\n",
      "Gradient: 2.3689637e-09 Loss: 6.248146405596344e-07\n",
      "Gradient: 2.8824976e-09 Loss: 7.892890873032836e-07\n",
      "Gradient: 1.10449205e-08 Loss: 7.934442891155414e-07\n",
      "Gradient: 2.172302e-09 Loss: 6.003255739036225e-07\n",
      "Gradient: 2.545359e-09 Loss: 6.997574303113652e-07\n",
      "Gradient: 1.1191036e-08 Loss: 6.547531919901909e-07\n",
      "Gradient: 6.9042208e-09 Loss: 7.976561903433321e-07\n",
      "Gradient: 7.055137e-09 Loss: 6.640287220231281e-07\n",
      "Gradient: 7.836661e-09 Loss: 6.274032159581111e-07\n",
      "Gradient: 3.9437262e-09 Loss: 4.567979317471327e-07\n",
      "Gradient: 3.3216536e-09 Loss: 6.128710192380519e-07\n",
      "Gradient: 1.1860013e-08 Loss: 6.660042184118235e-07\n",
      "Gradient: 6.988437e-09 Loss: 4.718864185330555e-07\n",
      "Gradient: 9.956147e-10 Loss: 5.910046809276537e-07\n",
      "Gradient: 1.18876935e-08 Loss: 6.874163214358001e-07\n",
      "Gradient: 1.0707133e-08 Loss: 5.791518484935902e-07\n",
      "Gradient: 2.1080016e-09 Loss: 5.952052750520428e-07\n",
      "Gradient: 2.2086626e-09 Loss: 6.104300060390717e-07\n",
      "Gradient: 8.99608e-10 Loss: 5.724080783882831e-07\n",
      "Gradient: 2.3628555e-09 Loss: 4.797996856117001e-07\n",
      "Gradient: 9.606858e-09 Loss: 7.0882858456874e-07\n",
      "Gradient: 4.8435096e-09 Loss: 6.471350639950894e-07\n",
      "Gradient: 3.7742725e-09 Loss: 6.705795537224428e-07\n",
      "Gradient: 2.0524558e-09 Loss: 7.726906403604517e-07\n",
      "Gradient: 2.3629245e-09 Loss: 6.705908257724028e-07\n",
      "Gradient: 1.2080728e-09 Loss: 5.835228629772853e-07\n",
      "Gradient: 4.2360435e-09 Loss: 5.734866571553236e-07\n",
      "Gradient: 1.3455114e-09 Loss: 7.627790580500004e-07\n",
      "Gradient: 1.7440704e-09 Loss: 4.977604154040213e-07\n",
      "Gradient: 7.735297e-10 Loss: 6.877455556756711e-07\n",
      "Gradient: 1.9318136e-09 Loss: 8.020274009368222e-07\n",
      "Gradient: 4.6911572e-09 Loss: 7.255861078192539e-07\n",
      "Gradient: 1.2904191e-09 Loss: 6.808200131066163e-07\n",
      "Gradient: 8.508689e-09 Loss: 7.687396816891123e-07\n",
      "Gradient: 1.4836314e-09 Loss: 6.045037404571001e-07\n",
      "Gradient: 2.3587683e-09 Loss: 7.398455513415078e-07\n",
      "Gradient: 7.3219835e-09 Loss: 5.482028465545833e-07\n",
      "Gradient: 7.8788326e-10 Loss: 9.255618399114004e-07\n",
      "Gradient: 9.604564e-10 Loss: 5.514158686992233e-07\n",
      "Gradient: 6.4692256e-09 Loss: 5.190818863335759e-07\n",
      "Gradient: 7.162365e-09 Loss: 7.147549581532075e-07\n",
      "Gradient: 3.497325e-09 Loss: 5.144043465558449e-07\n",
      "Gradient: 2.734942e-09 Loss: 5.76404439319352e-07\n",
      "Gradient: 1.7953995e-09 Loss: 5.934342103349384e-07\n",
      "Gradient: 5.1076183e-09 Loss: 5.427193646786084e-07\n",
      "Gradient: 2.0437485e-09 Loss: 7.09157882757457e-07\n",
      "Gradient: 1.3906979e-09 Loss: 5.651532546835369e-07\n",
      "Gradient: 1.6849349e-09 Loss: 7.076137194417242e-07\n",
      "Gradient: 1.5302912e-09 Loss: 5.435480706713254e-07\n",
      "Gradient: 1.3495011e-09 Loss: 7.693299200658051e-07\n",
      "Gradient: 1.4942514e-09 Loss: 6.436269131882e-07\n",
      "Gradient: 7.6149154e-10 Loss: 7.2720957528342e-07\n",
      "Gradient: 2.2421882e-09 Loss: 6.096467359384406e-07\n",
      "Gradient: 1.0486689e-08 Loss: 5.728281886755819e-07\n",
      "Gradient: 1.0032573e-09 Loss: 5.844652093855984e-07\n",
      "Gradient: 6.9206774e-09 Loss: 6.400394700752562e-07\n",
      "Gradient: 4.892024e-09 Loss: 5.640861597081918e-07\n",
      "Gradient: 1.9520132e-09 Loss: 6.485656797394767e-07\n",
      "Gradient: 9.067909e-09 Loss: 5.662999806569739e-07\n",
      "Gradient: 6.4276144e-09 Loss: 4.696044735889397e-07\n",
      "Gradient: 4.4064814e-09 Loss: 5.366112342623334e-07\n",
      "Gradient: 2.0593807e-09 Loss: 5.931617522492161e-07\n",
      "Gradient: 2.528135e-09 Loss: 6.118265578910116e-07\n",
      "Gradient: 2.9687148e-09 Loss: 8.524129981424267e-07\n",
      "Gradient: 1.4245669e-09 Loss: 5.206712259564483e-07\n",
      "Gradient: 6.123764e-10 Loss: 6.410497538430112e-07\n",
      "Gradient: 3.5708805e-09 Loss: 6.993711537006674e-07\n",
      "Gradient: 1.4071225e-09 Loss: 5.826714186696336e-07\n",
      "Gradient: 3.4691459e-09 Loss: 5.279034103485476e-07\n",
      "Gradient: 1.0981095e-08 Loss: 6.899594581000201e-07\n",
      "Gradient: 4.790345e-09 Loss: 7.112356072980219e-07\n",
      "Gradient: 3.3202436e-09 Loss: 5.540158743618425e-07\n",
      "Gradient: 1.8778763e-09 Loss: 5.311389221181646e-07\n",
      "Gradient: 1.1579648e-09 Loss: 6.482023034474575e-07\n",
      "Gradient: 1.5343016e-09 Loss: 6.000531972934671e-07\n",
      "Gradient: 7.743281e-09 Loss: 6.829887505925095e-07\n",
      "Gradient: 4.012956e-09 Loss: 7.450908640294074e-07\n",
      "Gradient: 3.112696e-09 Loss: 6.652208639934542e-07\n",
      "Gradient: 3.2056295e-09 Loss: 6.500528267376164e-07\n",
      "Gradient: 6.38636e-09 Loss: 5.53618356965065e-07\n",
      "Gradient: 1.4728532e-09 Loss: 4.4487703595071554e-07\n",
      "Gradient: 3.1956913e-09 Loss: 7.659692765097741e-07\n",
      "Gradient: 6.392937e-09 Loss: 7.473956278166346e-07\n",
      "Gradient: 1.6224817e-09 Loss: 5.914248163207958e-07\n",
      "Gradient: 9.234893e-10 Loss: 6.794803899386655e-07\n",
      "Gradient: 2.42617e-09 Loss: 5.947626618763025e-07\n",
      "Gradient: 4.606003e-09 Loss: 6.289925446859949e-07\n",
      "Gradient: 7.2187096e-09 Loss: 5.718630272137186e-07\n",
      "Gradient: 3.857596e-09 Loss: 5.120882804021676e-07\n",
      "Gradient: 2.2413826e-09 Loss: 5.627690503236712e-07\n",
      "Gradient: 2.7707847e-08 Loss: 7.282881294183123e-07\n",
      "Gradient: 1.4078417e-09 Loss: 7.357584195233358e-07\n",
      "Gradient: 9.279165e-10 Loss: 5.876668081346755e-07\n",
      "Gradient: 3.9341347e-10 Loss: 4.948881619763294e-07\n",
      "Gradient: 7.9244367e-10 Loss: 5.785160766436092e-07\n",
      "Gradient: 5.464538e-09 Loss: 7.240079204014667e-07\n",
      "Gradient: 2.2142066e-09 Loss: 6.519372429162711e-07\n",
      "Gradient: 2.8759404e-09 Loss: 5.655847331809127e-07\n",
      "Gradient: 3.0422753e-10 Loss: 6.318422123285927e-07\n",
      "Gradient: 1.8514545e-09 Loss: 6.400505204358827e-07\n",
      "Gradient: 1.3523322e-09 Loss: 5.487478517807177e-07\n",
      "Gradient: 5.7287757e-09 Loss: 8.097019588149124e-07\n",
      "Gradient: 1.6325248e-09 Loss: 6.796846615012934e-07\n",
      "Gradient: 4.8453874e-10 Loss: 6.469874620051997e-07\n",
      "Gradient: 6.418412e-09 Loss: 8.214070788881145e-07\n",
      "Gradient: 5.276327e-09 Loss: 6.511655423461586e-07\n",
      "Gradient: 1.3324897e-09 Loss: 7.713620959748368e-07\n",
      "Gradient: 1.5174273e-09 Loss: 6.386089107005925e-07\n",
      "Gradient: 2.2733015e-09 Loss: 5.579894216604468e-07\n",
      "Gradient: 5.29929e-09 Loss: 5.493497629534734e-07\n",
      "Gradient: 2.9115748e-09 Loss: 7.191260029533927e-07\n",
      "Gradient: 2.6099767e-09 Loss: 6.013928555148595e-07\n",
      "Gradient: 4.570227e-09 Loss: 7.5309487215236e-07\n",
      "Gradient: 1.1753496e-08 Loss: 5.00791778298056e-07\n",
      "Gradient: 5.6947007e-09 Loss: 5.545380787452814e-07\n",
      "Gradient: 1.0375698e-09 Loss: 6.376893016598236e-07\n",
      "Gradient: 5.7851395e-09 Loss: 7.064219194793017e-07\n",
      "Gradient: 1.197938e-09 Loss: 6.635065091131764e-07\n",
      "Gradient: 1.5400357e-09 Loss: 8.532531178199558e-07\n",
      "Gradient: 3.40539e-09 Loss: 4.716593167586325e-07\n",
      "Gradient: 1.9212198e-09 Loss: 8.835091620085223e-07\n",
      "Gradient: 9.880361e-09 Loss: 8.058874811922578e-07\n",
      "Gradient: 2.5628843e-09 Loss: 5.512910585518209e-07\n",
      "Gradient: 2.6969156e-09 Loss: 6.91253620743737e-07\n",
      "Gradient: 3.677917e-10 Loss: 7.197731425397554e-07\n",
      "Gradient: 1.7870861e-09 Loss: 5.352375552547528e-07\n",
      "Gradient: 7.475803e-09 Loss: 7.987462282699198e-07\n",
      "Gradient: 6.5511445e-09 Loss: 6.987355997504588e-07\n",
      "Gradient: 1.8500532e-09 Loss: 5.337843527778811e-07\n",
      "Gradient: 7.3688944e-10 Loss: 8.019592977840754e-07\n",
      "Gradient: 4.1986903e-10 Loss: 7.428771098716424e-07\n",
      "Gradient: 7.347962e-10 Loss: 5.078989498012258e-07\n",
      "Gradient: 2.23318e-09 Loss: 5.194337385698115e-07\n",
      "Gradient: 1.2878822e-09 Loss: 6.312063031070162e-07\n",
      "Gradient: 1.9967188e-09 Loss: 5.738159311855877e-07\n",
      "Gradient: 9.208748e-10 Loss: 6.498371978599001e-07\n",
      "Gradient: 9.930634e-10 Loss: 6.703299163746123e-07\n",
      "Gradient: 1.2140694e-10 Loss: 6.508136427404073e-07\n",
      "Gradient: 8.872272e-10 Loss: 6.982473678363021e-07\n",
      "Gradient: 5.180153e-10 Loss: 5.104875067255913e-07\n",
      "Gradient: 9.341035e-10 Loss: 7.01403591089426e-07\n",
      "Gradient: 2.38785e-10 Loss: 5.891087700623151e-07\n",
      "Gradient: 6.3479977e-10 Loss: 4.201723972604062e-07\n",
      "Gradient: 4.2860684e-09 Loss: 6.858156856045146e-07\n",
      "Gradient: 2.0601167e-09 Loss: 5.720106543094516e-07\n",
      "Gradient: 5.8130833e-11 Loss: 7.648228764386052e-07\n",
      "Gradient: 6.3875816e-10 Loss: 7.648910544351868e-07\n",
      "Gradient: 2.438611e-09 Loss: 6.77981944363637e-07\n",
      "Gradient: 1.3448973e-09 Loss: 7.11053767569562e-07\n",
      "Gradient: 1.1278787e-09 Loss: 7.396979810891935e-07\n",
      "Gradient: 1.2530765e-09 Loss: 7.031180151291968e-07\n",
      "Gradient: 1.9517993e-10 Loss: 7.49949953160467e-07\n",
      "Gradient: 7.233195e-09 Loss: 7.215553002500504e-07\n",
      "Gradient: 2.0523596e-09 Loss: 7.83430769502047e-07\n",
      "Gradient: 1.8372741e-09 Loss: 4.982373676890954e-07\n",
      "Gradient: 1.8029311e-09 Loss: 6.448871488373697e-07\n",
      "Gradient: 2.878549e-09 Loss: 5.128716802952719e-07\n",
      "Gradient: 5.167249e-09 Loss: 6.82080519709416e-07\n",
      "Gradient: 1.9794986e-09 Loss: 5.827281550333889e-07\n",
      "Gradient: 4.1853e-10 Loss: 6.571031178737031e-07\n",
      "Gradient: 1.9059715e-10 Loss: 7.91105703494092e-07\n",
      "Gradient: 7.5809786e-10 Loss: 6.895849897622005e-07\n",
      "Gradient: 1.1507939e-09 Loss: 6.113269421348378e-07\n",
      "Gradient: 1.1761367e-10 Loss: 5.675488959392776e-07\n",
      "Gradient: 3.6426862e-10 Loss: 6.32739266848148e-07\n",
      "Gradient: 1.6150487e-09 Loss: 9.569534332361702e-07\n",
      "Gradient: 5.1153615e-10 Loss: 6.585904979298599e-07\n",
      "Gradient: 6.174792e-10 Loss: 7.203067786084223e-07\n",
      "Gradient: 5.048185e-09 Loss: 6.134954787739843e-07\n",
      "Gradient: 3.1759456e-10 Loss: 5.201149141006075e-07\n",
      "Gradient: 1.7061731e-09 Loss: 5.952166664731825e-07\n",
      "Gradient: 5.34385e-10 Loss: 8.903551597920038e-07\n",
      "Gradient: 1.4435215e-09 Loss: 5.775852571332507e-07\n",
      "Gradient: 1.3310093e-09 Loss: 5.798216913414459e-07\n",
      "Gradient: 1.1278198e-09 Loss: 6.362928540208183e-07\n",
      "Gradient: 5.4390803e-10 Loss: 6.00995566912843e-07\n",
      "Gradient: 5.367671e-10 Loss: 6.652550117299446e-07\n",
      "Gradient: 3.6346672e-09 Loss: 5.402784021650101e-07\n",
      "Gradient: 2.2230329e-10 Loss: 5.976576668823934e-07\n",
      "Gradient: 1.898449e-09 Loss: 4.7423655852677863e-07\n",
      "Gradient: 1.5155897e-09 Loss: 6.969757246603574e-07\n",
      "Gradient: 3.6785577e-09 Loss: 5.471698661570675e-07\n",
      "Gradient: 3.1376999e-09 Loss: 6.485656484755964e-07\n",
      "Gradient: 7.237707e-10 Loss: 5.497924206565586e-07\n",
      "Gradient: 1.1937333e-09 Loss: 7.00041092234945e-07\n",
      "Gradient: 1.3086119e-09 Loss: 5.585684580940627e-07\n",
      "Gradient: 3.3131475e-10 Loss: 5.702282521724555e-07\n",
      "Gradient: 5.018601e-10 Loss: 6.717715943220052e-07\n",
      "Gradient: 5.229146e-09 Loss: 7.089194525633502e-07\n",
      "Gradient: 1.4460908e-09 Loss: 5.072176766892274e-07\n",
      "Gradient: 3.1798064e-11 Loss: 5.249628884484992e-07\n",
      "Gradient: 1.7869848e-09 Loss: 6.495647672484968e-07\n",
      "Gradient: 2.0592417e-09 Loss: 6.355661061737313e-07\n",
      "Gradient: 2.0958142e-09 Loss: 5.447515642723981e-07\n",
      "Gradient: 1.0007077e-09 Loss: 6.048783177448058e-07\n",
      "Gradient: 2.8290487e-10 Loss: 5.954438165645115e-07\n",
      "Gradient: 1.6540707e-09 Loss: 6.1062306713211e-07\n"
     ]
    },
    {
     "name": "stderr",
     "output_type": "stream",
     "text": [
      "Clipping input data to the valid range for imshow with RGB data ([0..1] for floats or [0..255] for integers). Got range [-0.20116186..0.20269516].\n"
     ]
    },
    {
     "name": "stdout",
     "output_type": "stream",
     "text": [
      "Gradient: 4.1247616e-10 Loss: 7.067963887645116e-07\n"
     ]
    },
    {
     "data": {
      "image/png": "[encoded data removed]",
      "text/plain": [
       "<Figure size 640x480 with 1 Axes>"
      ]
     },
     "metadata": {},
     "output_type": "display_data"
    },
    {
     "name": "stdout",
     "output_type": "stream",
     "text": [
      "Noise max val: tensor(0.2027, device='cuda:0', grad_fn=<MaxBackward1>)\n"
     ]
    }
   ],
   "source": [
    "#cell 15\n",
    "from tqdm.notebook import tqdm\n",
    "\n",
    "#Trigger generating stage\n",
    "for param in poi_warm_up_model.parameters():\n",
    "    param.requires_grad = False\n",
    "\n",
    "batch_pert = torch.autograd.Variable(noise.cuda(), requires_grad=True)\n",
    "batch_opt = torch.optim.RAdam(params=[batch_pert],lr=generating_lr_tri)\n",
    "for minmin in tqdm(range(gen_round)):\n",
    "    loss_list = []\n",
    "    for images, labels in trigger_gen_loaders:\n",
    "        images, labels = images.cuda(), labels.cuda()\n",
    "        new_images = torch.clone(images)\n",
    "        # clamp_batch_pert = torch.clamp(batch_pert,-l_inf_r*2,l_inf_r*2)\n",
    "        clamp_batch_pert = torch.clamp(batch_pert, -l_inf_r*2, l_inf_r*2)\n",
    "        clamp_batch_pert = lowpass_projection(clamp_batch_pert, cutoff_ratio=0.2)\n",
    "        new_images = torch.clamp(apply_noise_patch(clamp_batch_pert,new_images.clone(),mode=patch_mode),-1,1)\n",
    "        per_logits = poi_warm_up_model.forward(new_images)\n",
    "        loss = criterion(per_logits, labels)\n",
    "        loss_regu = torch.mean(loss)\n",
    "        batch_opt.zero_grad()\n",
    "        loss_list.append(float(loss_regu.data))\n",
    "        loss_regu.backward(retain_graph = True)\n",
    "        batch_opt.step()\n",
    "    ave_loss = np.average(np.array(loss_list))\n",
    "    ave_grad = np.sum(abs(batch_pert.grad).detach().cpu().numpy())\n",
    "    print('Gradient:',ave_grad,'Loss:', ave_loss)\n",
    "    if ave_grad == 0:\n",
    "        break\n",
    "\n",
    "# noise = torch.clamp(batch_pert,-l_inf_r*2,l_inf_r*2)\n",
    "clamp_final = torch.clamp(batch_pert, -l_inf_r*2, l_inf_r*2)\n",
    "noise = lowpass_projection(clamp_final, cutoff_ratio=0.2)\n",
    "best_noise = noise.clone().detach().cpu()\n",
    "plt.imshow(np.transpose(noise[0].detach().cpu(),(1,2,0)))\n",
    "plt.show()\n",
    "print('Noise max val:',noise.max())"
   ]
  },
  {
   "cell_type": "code",
   "execution_count": 18,
   "id": "4065f896",
   "metadata": {},
   "outputs": [],
   "source": [
    "#cell 16\n",
    "#Save the trigger\n",
    "import time\n",
    "save_name = 'best_noise'+'_'+ time.strftime(\"%m-%d-%H_%M_%S\",time.localtime(time.time())) \n",
    "np.save(save_name, best_noise)"
   ]
  },
  {
   "cell_type": "markdown",
   "id": "b12b8499",
   "metadata": {},
   "source": [
    "# Testing  attack effect"
   ]
  },
  {
   "cell_type": "code",
   "execution_count": 20,
   "id": "9902b993",
   "metadata": {},
   "outputs": [],
   "source": [
    "#cell 17\n",
    "#Using this block if you only want to test the attack result.\n",
    "save_name = 'best_noise.npy'\n",
    "import imageio\n",
    "import cv2 as cv\n",
    "best_noise = torch.zeros((1, 3, noise_size, noise_size), device=device)\n",
    "noise_npy = np.load(save_name)\n",
    "\n",
    "best_noise = torch.from_numpy(noise_npy)\n",
    "if best_noise.dim() == 3:\n",
    "    best_noise = best_noise.unsqueeze(0)\n",
    "best_noise = best_noise.cuda()\n",
    "# best_noise = fft_lowpass_trigger(best_noise, cutoff_ratio=0.2)\n"
   ]
  },
  {
   "cell_type": "code",
   "execution_count": 21,
   "id": "1ab66953",
   "metadata": {},
   "outputs": [],
   "source": [
    "#cell 18\n",
    "#Poisoning amount use for the target class\n",
    "poison_amount = 25\n",
    "\n",
    "#Model uses for testing\n",
    "noise_testing_model = ResNet18().cuda()    \n",
    "\n",
    "#Training parameters\n",
    "training_epochs = 200\n",
    "training_lr = 0.1\n",
    "test_batch_size = 150\n",
    "\n",
    "#The multiple of noise amplification during testing\n",
    "multi_test = 3\n",
    "\n",
    "#random seed for testing stage\n",
    "random_seed = 65"
   ]
  },
  {
   "cell_type": "code",
   "execution_count": 22,
   "id": "71e2fd55",
   "metadata": {},
   "outputs": [],
   "source": [
    "# cell 19\n",
    "import torchvision.models as models\n",
    "np.random.seed(random_seed)\n",
    "random.seed(random_seed)\n",
    "torch.manual_seed(random_seed)\n",
    "model = noise_testing_model\n",
    "\n",
    "optimizer = torch.optim.SGD(params=model.parameters(), lr=training_lr, momentum=0.9, weight_decay=5e-4)\n",
    "criterion = nn.CrossEntropyLoss()\n",
    "scheduler = torch.optim.lr_scheduler.CosineAnnealingLR(optimizer, T_max=training_epochs)"
   ]
  },
  {
   "cell_type": "code",
   "execution_count": 23,
   "id": "a4075516",
   "metadata": {},
   "outputs": [],
   "source": [
    "# cell 20\n",
    "transform_tensor = transforms.Compose([\n",
    "    transforms.ToTensor(),\n",
    "    transforms.Normalize((0.5, 0.5, 0.5), (0.5, 0.5, 0.5)),\n",
    "])\n",
    "poi_ori_train = torchvision.datasets.CIFAR10(root=dataset_path, train=True, download=False, transform=transform_tensor)\n",
    "poi_ori_test = torchvision.datasets.CIFAR10(root=dataset_path, train=False, download=False, transform=transform_tensor)\n",
    "transform_after_train = transforms.Compose([\n",
    "    transforms.RandomCrop(32, padding=4),  \n",
    "    transforms.RandomHorizontalFlip(),\n",
    "])"
   ]
  },
  {
   "cell_type": "code",
   "execution_count": 24,
   "id": "205f61b5",
   "metadata": {},
   "outputs": [
    {
     "name": "stdout",
     "output_type": "stream",
     "text": [
      "Traing dataset size is: 50000  Poison numbers is: 25\n"
     ]
    }
   ],
   "source": [
    "#cell 21\n",
    "#Poison traing\n",
    "random_poison_idx = random.sample(train_target_list, poison_amount)\n",
    "poison_train_target = poison_image(poi_ori_train,random_poison_idx,best_noise.cpu(),transform_after_train)\n",
    "print('Traing dataset size is:',len(poison_train_target),\" Poison numbers is:\",len(random_poison_idx))\n",
    "clean_train_loader = DataLoader(poison_train_target, batch_size=test_batch_size, shuffle=True, num_workers=2)"
   ]
  },
  {
   "cell_type": "code",
   "execution_count": 25,
   "id": "0b27b061",
   "metadata": {},
   "outputs": [
    {
     "name": "stdout",
     "output_type": "stream",
     "text": [
      "Poison test dataset size is: 9000\n"
     ]
    }
   ],
   "source": [
    "#cell 22\n",
    "#Attack success rate testing\n",
    "test_non_target = list(np.where(np.array(test_label)!=lab)[0])\n",
    "test_non_target_change_image_label = poison_image_label(poi_ori_test,test_non_target,best_noise.cpu()*multi_test,lab,None)\n",
    "asr_loaders = torch.utils.data.DataLoader(test_non_target_change_image_label, batch_size=test_batch_size, shuffle=True, num_workers=2)\n",
    "print('Poison test dataset size is:',len(test_non_target_change_image_label))"
   ]
  },
  {
   "cell_type": "code",
   "execution_count": 26,
   "id": "3f60a531",
   "metadata": {},
   "outputs": [],
   "source": [
    "#cell 23\n",
    "#Clean acc test dataset\n",
    "clean_test_loader = torch.utils.data.DataLoader(ori_test, batch_size=test_batch_size, shuffle=False, num_workers=2)"
   ]
  },
  {
   "cell_type": "code",
   "execution_count": 27,
   "id": "e49ab88e",
   "metadata": {},
   "outputs": [],
   "source": [
    "#cell 24\n",
    "#Target clean test dataset\n",
    "test_target = list(np.where(np.array(test_label)==lab)[0])\n",
    "target_test_set = Subset(ori_test,test_target)\n",
    "target_test_loader = torch.utils.data.DataLoader(target_test_set, batch_size=test_batch_size, shuffle=True, num_workers=2)"
   ]
  },
  {
   "cell_type": "code",
   "execution_count": 28,
   "id": "6760be1a",
   "metadata": {},
   "outputs": [],
   "source": [
    "#cell 25\n",
    "from util import AverageMeter\n",
    "train_ACC = []\n",
    "test_ACC = []\n",
    "clean_ACC = []\n",
    "target_ACC = []"
   ]
  },
  {
   "cell_type": "code",
   "execution_count": 30,
   "id": "722d3cd3",
   "metadata": {
    "scrolled": true
   },
   "outputs": [
    {
     "data": {
      "application/vnd.jupyter.widget-view+json": {
       "model_id": "e84c75db33964a0ab8267c9e4656f597",
       "version_major": 2,
       "version_minor": 0
      },
      "text/plain": [
       "  0%|          | 0/200 [00:00<?, ?it/s]"
      ]
     },
     "metadata": {},
     "output_type": "display_data"
    },
    {
     "data": {
      "application/vnd.jupyter.widget-view+json": {
       "model_id": "8b9e0f84200f468ab262e1239d151566",
       "version_major": 2,
       "version_minor": 0
      },
      "text/plain": [
       "  0%|          | 0/334 [00:00<?, ?it/s]"
      ]
     },
     "metadata": {},
     "output_type": "display_data"
    },
    {
     "name": "stdout",
     "output_type": "stream",
     "text": [
      "Train_loss: tensor(1.8523, device='cuda:0', grad_fn=<NllLossBackward0>)\n",
      "\n",
      "Attack success rate 0.01\n",
      "Test_loss: tensor(2.8346, device='cuda:0')\n",
      "\n",
      "Test clean Accuracy 39.74\n",
      "Test_loss: tensor(1.6209, device='cuda:0')\n",
      "\n",
      "Target test clean Accuracy 3.10\n",
      "Test_loss: tensor(2.2280, device='cuda:0')\n"
     ]
    },
    {
     "data": {
      "application/vnd.jupyter.widget-view+json": {
       "model_id": "32417db6a25a4299b117e54733198ab7",
       "version_major": 2,
       "version_minor": 0
      },
      "text/plain": [
       "  0%|          | 0/334 [00:00<?, ?it/s]"
      ]
     },
     "metadata": {},
     "output_type": "display_data"
    },
    {
     "name": "stdout",
     "output_type": "stream",
     "text": [
      "Train_loss: tensor(1.3651, device='cuda:0', grad_fn=<NllLossBackward0>)\n",
      "\n",
      "Attack success rate 0.00\n",
      "Test_loss: tensor(5.3945, device='cuda:0')\n",
      "\n",
      "Test clean Accuracy 47.28\n",
      "Test_loss: tensor(1.5662, device='cuda:0')\n",
      "\n",
      "Target test clean Accuracy 14.00\n",
      "Test_loss: tensor(2.5390, device='cuda:0')\n"
     ]
    },
    {
     "data": {
      "application/vnd.jupyter.widget-view+json": {
       "model_id": "1315189618a540968c82d36090852678",
       "version_major": 2,
       "version_minor": 0
      },
      "text/plain": [
       "  0%|          | 0/334 [00:00<?, ?it/s]"
      ]
     },
     "metadata": {},
     "output_type": "display_data"
    },
    {
     "name": "stdout",
     "output_type": "stream",
     "text": [
      "Train_loss: tensor(1.1334, device='cuda:0', grad_fn=<NllLossBackward0>)\n",
      "\n",
      "Attack success rate 0.32\n",
      "Test_loss: tensor(4.4043, device='cuda:0')\n",
      "\n",
      "Test clean Accuracy 55.79\n",
      "Test_loss: tensor(1.2505, device='cuda:0')\n",
      "\n",
      "Target test clean Accuracy 34.50\n",
      "Test_loss: tensor(1.7126, device='cuda:0')\n"
     ]
    },
    {
     "data": {
      "application/vnd.jupyter.widget-view+json": {
       "model_id": "c9cc5a7a0cd945c5a5306fc9ad26ebd4",
       "version_major": 2,
       "version_minor": 0
      },
      "text/plain": [
       "  0%|          | 0/334 [00:00<?, ?it/s]"
      ]
     },
     "metadata": {},
     "output_type": "display_data"
    },
    {
     "name": "stdout",
     "output_type": "stream",
     "text": [
      "Train_loss: tensor(1.0050, device='cuda:0', grad_fn=<NllLossBackward0>)\n",
      "\n",
      "Attack success rate 0.08\n",
      "Test_loss: tensor(5.3483, device='cuda:0')\n",
      "\n",
      "Test clean Accuracy 63.09\n",
      "Test_loss: tensor(1.1140, device='cuda:0')\n",
      "\n",
      "Target test clean Accuracy 46.60\n",
      "Test_loss: tensor(1.4330, device='cuda:0')\n"
     ]
    },
    {
     "data": {
      "application/vnd.jupyter.widget-view+json": {
       "model_id": "f74465bc02da431b9ce4b2624ffcfd2f",
       "version_major": 2,
       "version_minor": 0
      },
      "text/plain": [
       "  0%|          | 0/334 [00:00<?, ?it/s]"
      ]
     },
     "metadata": {},
     "output_type": "display_data"
    },
    {
     "name": "stdout",
     "output_type": "stream",
     "text": [
      "Train_loss: tensor(0.8149, device='cuda:0', grad_fn=<NllLossBackward0>)\n",
      "\n",
      "Attack success rate 18.46\n",
      "Test_loss: tensor(2.2300, device='cuda:0')\n",
      "\n",
      "Test clean Accuracy 65.61\n",
      "Test_loss: tensor(0.9172, device='cuda:0')\n",
      "\n",
      "Target test clean Accuracy 65.30\n",
      "Test_loss: tensor(0.7850, device='cuda:0')\n"
     ]
    },
    {
     "data": {
      "application/vnd.jupyter.widget-view+json": {
       "model_id": "2540f21eef19477db7d01b6ac7b9858c",
       "version_major": 2,
       "version_minor": 0
      },
      "text/plain": [
       "  0%|          | 0/334 [00:00<?, ?it/s]"
      ]
     },
     "metadata": {},
     "output_type": "display_data"
    },
    {
     "name": "stdout",
     "output_type": "stream",
     "text": [
      "Train_loss: tensor(0.6547, device='cuda:0', grad_fn=<NllLossBackward0>)\n",
      "\n",
      "Attack success rate 0.12\n",
      "Test_loss: tensor(3.4141, device='cuda:0')\n",
      "\n",
      "Test clean Accuracy 67.69\n",
      "Test_loss: tensor(0.9533, device='cuda:0')\n",
      "\n",
      "Target test clean Accuracy 45.70\n",
      "Test_loss: tensor(1.8381, device='cuda:0')\n"
     ]
    },
    {
     "data": {
      "application/vnd.jupyter.widget-view+json": {
       "model_id": "37e27c4e0a0e4bba98763253446a357c",
       "version_major": 2,
       "version_minor": 0
      },
      "text/plain": [
       "  0%|          | 0/334 [00:00<?, ?it/s]"
      ]
     },
     "metadata": {},
     "output_type": "display_data"
    },
    {
     "name": "stdout",
     "output_type": "stream",
     "text": [
      "Train_loss: tensor(0.6686, device='cuda:0', grad_fn=<NllLossBackward0>)\n",
      "\n",
      "Attack success rate 1.89\n",
      "Test_loss: tensor(3.3718, device='cuda:0')\n",
      "\n",
      "Test clean Accuracy 73.47\n",
      "Test_loss: tensor(0.7247, device='cuda:0')\n",
      "\n",
      "Target test clean Accuracy 60.80\n",
      "Test_loss: tensor(1.1473, device='cuda:0')\n"
     ]
    },
    {
     "data": {
      "application/vnd.jupyter.widget-view+json": {
       "model_id": "fa9c3c9dcac14b0885dfd69f39591ce1",
       "version_major": 2,
       "version_minor": 0
      },
      "text/plain": [
       "  0%|          | 0/334 [00:00<?, ?it/s]"
      ]
     },
     "metadata": {},
     "output_type": "display_data"
    },
    {
     "name": "stdout",
     "output_type": "stream",
     "text": [
      "Train_loss: tensor(0.6321, device='cuda:0', grad_fn=<NllLossBackward0>)\n",
      "\n",
      "Attack success rate 3.59\n",
      "Test_loss: tensor(3.3087, device='cuda:0')\n",
      "\n",
      "Test clean Accuracy 76.75\n",
      "Test_loss: tensor(0.6936, device='cuda:0')\n",
      "\n",
      "Target test clean Accuracy 72.30\n",
      "Test_loss: tensor(0.9371, device='cuda:0')\n"
     ]
    },
    {
     "data": {
      "application/vnd.jupyter.widget-view+json": {
       "model_id": "d583fc74b41542ccbf58b9dfe4714016",
       "version_major": 2,
       "version_minor": 0
      },
      "text/plain": [
       "  0%|          | 0/334 [00:00<?, ?it/s]"
      ]
     },
     "metadata": {},
     "output_type": "display_data"
    },
    {
     "name": "stdout",
     "output_type": "stream",
     "text": [
      "Train_loss: tensor(0.5407, device='cuda:0', grad_fn=<NllLossBackward0>)\n",
      "\n",
      "Attack success rate 16.08\n",
      "Test_loss: tensor(2.2730, device='cuda:0')\n",
      "\n",
      "Test clean Accuracy 76.26\n",
      "Test_loss: tensor(0.5945, device='cuda:0')\n",
      "\n",
      "Target test clean Accuracy 75.10\n",
      "Test_loss: tensor(0.7443, device='cuda:0')\n"
     ]
    },
    {
     "data": {
      "application/vnd.jupyter.widget-view+json": {
       "model_id": "43e7a232c2994ca7ac89123660d3efd0",
       "version_major": 2,
       "version_minor": 0
      },
      "text/plain": [
       "  0%|          | 0/334 [00:00<?, ?it/s]"
      ]
     },
     "metadata": {},
     "output_type": "display_data"
    },
    {
     "name": "stdout",
     "output_type": "stream",
     "text": [
      "Train_loss: tensor(0.5188, device='cuda:0', grad_fn=<NllLossBackward0>)\n",
      "\n",
      "Attack success rate 33.73\n",
      "Test_loss: tensor(1.7384, device='cuda:0')\n",
      "\n",
      "Test clean Accuracy 78.38\n",
      "Test_loss: tensor(0.6646, device='cuda:0')\n",
      "\n",
      "Target test clean Accuracy 65.80\n",
      "Test_loss: tensor(1.0072, device='cuda:0')\n"
     ]
    },
    {
     "data": {
      "application/vnd.jupyter.widget-view+json": {
       "model_id": "54289251dac04abf804ed6baeff094ca",
       "version_major": 2,
       "version_minor": 0
      },
      "text/plain": [
       "  0%|          | 0/334 [00:00<?, ?it/s]"
      ]
     },
     "metadata": {},
     "output_type": "display_data"
    },
    {
     "name": "stdout",
     "output_type": "stream",
     "text": [
      "Train_loss: tensor(0.7294, device='cuda:0', grad_fn=<NllLossBackward0>)\n",
      "\n",
      "Attack success rate 4.24\n",
      "Test_loss: tensor(2.6820, device='cuda:0')\n",
      "\n",
      "Test clean Accuracy 75.33\n",
      "Test_loss: tensor(0.6360, device='cuda:0')\n",
      "\n",
      "Target test clean Accuracy 74.70\n",
      "Test_loss: tensor(0.5623, device='cuda:0')\n"
     ]
    },
    {
     "data": {
      "application/vnd.jupyter.widget-view+json": {
       "model_id": "dc06407c6ecc44329ed4e37fea668eb1",
       "version_major": 2,
       "version_minor": 0
      },
      "text/plain": [
       "  0%|          | 0/334 [00:00<?, ?it/s]"
      ]
     },
     "metadata": {},
     "output_type": "display_data"
    },
    {
     "name": "stdout",
     "output_type": "stream",
     "text": [
      "Train_loss: tensor(0.5883, device='cuda:0', grad_fn=<NllLossBackward0>)\n",
      "\n",
      "Attack success rate 6.28\n",
      "Test_loss: tensor(3.4227, device='cuda:0')\n",
      "\n",
      "Test clean Accuracy 79.05\n",
      "Test_loss: tensor(0.7273, device='cuda:0')\n",
      "\n",
      "Target test clean Accuracy 70.80\n",
      "Test_loss: tensor(0.6555, device='cuda:0')\n"
     ]
    },
    {
     "data": {
      "application/vnd.jupyter.widget-view+json": {
       "model_id": "18ca801b1f424edd80c44ce1ad1d78fe",
       "version_major": 2,
       "version_minor": 0
      },
      "text/plain": [
       "  0%|          | 0/334 [00:00<?, ?it/s]"
      ]
     },
     "metadata": {},
     "output_type": "display_data"
    },
    {
     "name": "stdout",
     "output_type": "stream",
     "text": [
      "Train_loss: tensor(0.5717, device='cuda:0', grad_fn=<NllLossBackward0>)\n",
      "\n",
      "Attack success rate 1.08\n",
      "Test_loss: tensor(2.9180, device='cuda:0')\n",
      "\n",
      "Test clean Accuracy 80.78\n",
      "Test_loss: tensor(0.5209, device='cuda:0')\n",
      "\n",
      "Target test clean Accuracy 62.60\n",
      "Test_loss: tensor(1.1859, device='cuda:0')\n"
     ]
    },
    {
     "data": {
      "application/vnd.jupyter.widget-view+json": {
       "model_id": "5f614453249a4d018299406bade56715",
       "version_major": 2,
       "version_minor": 0
      },
      "text/plain": [
       "  0%|          | 0/334 [00:00<?, ?it/s]"
      ]
     },
     "metadata": {},
     "output_type": "display_data"
    },
    {
     "name": "stdout",
     "output_type": "stream",
     "text": [
      "Train_loss: tensor(0.5295, device='cuda:0', grad_fn=<NllLossBackward0>)\n",
      "\n",
      "Attack success rate 0.99\n",
      "Test_loss: tensor(4.5624, device='cuda:0')\n",
      "\n",
      "Test clean Accuracy 82.88\n",
      "Test_loss: tensor(0.6695, device='cuda:0')\n",
      "\n",
      "Target test clean Accuracy 75.80\n",
      "Test_loss: tensor(0.6454, device='cuda:0')\n"
     ]
    },
    {
     "data": {
      "application/vnd.jupyter.widget-view+json": {
       "model_id": "5140a2d876d34a83a96f912d28680d2b",
       "version_major": 2,
       "version_minor": 0
      },
      "text/plain": [
       "  0%|          | 0/334 [00:00<?, ?it/s]"
      ]
     },
     "metadata": {},
     "output_type": "display_data"
    },
    {
     "name": "stdout",
     "output_type": "stream",
     "text": [
      "Train_loss: tensor(0.5921, device='cuda:0', grad_fn=<NllLossBackward0>)\n",
      "\n",
      "Attack success rate 26.86\n",
      "Test_loss: tensor(2.0633, device='cuda:0')\n",
      "\n",
      "Test clean Accuracy 81.87\n",
      "Test_loss: tensor(0.5212, device='cuda:0')\n",
      "\n",
      "Target test clean Accuracy 68.90\n",
      "Test_loss: tensor(0.9475, device='cuda:0')\n"
     ]
    },
    {
     "data": {
      "application/vnd.jupyter.widget-view+json": {
       "model_id": "94ee4a61e65540a1807c02b8dacdb888",
       "version_major": 2,
       "version_minor": 0
      },
      "text/plain": [
       "  0%|          | 0/334 [00:00<?, ?it/s]"
      ]
     },
     "metadata": {},
     "output_type": "display_data"
    },
    {
     "name": "stdout",
     "output_type": "stream",
     "text": [
      "Train_loss: tensor(0.4584, device='cuda:0', grad_fn=<NllLossBackward0>)\n",
      "\n",
      "Attack success rate 9.10\n",
      "Test_loss: tensor(2.5130, device='cuda:0')\n",
      "\n",
      "Test clean Accuracy 81.50\n",
      "Test_loss: tensor(0.4755, device='cuda:0')\n",
      "\n",
      "Target test clean Accuracy 79.90\n",
      "Test_loss: tensor(0.4500, device='cuda:0')\n"
     ]
    },
    {
     "data": {
      "application/vnd.jupyter.widget-view+json": {
       "model_id": "ce362a4ec12b4d95852c436a3eeece68",
       "version_major": 2,
       "version_minor": 0
      },
      "text/plain": [
       "  0%|          | 0/334 [00:00<?, ?it/s]"
      ]
     },
     "metadata": {},
     "output_type": "display_data"
    },
    {
     "name": "stdout",
     "output_type": "stream",
     "text": [
      "Train_loss: tensor(0.3835, device='cuda:0', grad_fn=<NllLossBackward0>)\n",
      "\n",
      "Attack success rate 8.03\n",
      "Test_loss: tensor(2.3895, device='cuda:0')\n",
      "\n",
      "Test clean Accuracy 80.05\n",
      "Test_loss: tensor(0.5876, device='cuda:0')\n",
      "\n",
      "Target test clean Accuracy 83.10\n",
      "Test_loss: tensor(0.3855, device='cuda:0')\n"
     ]
    },
    {
     "data": {
      "application/vnd.jupyter.widget-view+json": {
       "model_id": "6c40a789647a439690cf68e80e3c2ea8",
       "version_major": 2,
       "version_minor": 0
      },
      "text/plain": [
       "  0%|          | 0/334 [00:00<?, ?it/s]"
      ]
     },
     "metadata": {},
     "output_type": "display_data"
    },
    {
     "name": "stdout",
     "output_type": "stream",
     "text": [
      "Train_loss: tensor(0.6396, device='cuda:0', grad_fn=<NllLossBackward0>)\n",
      "\n",
      "Attack success rate 10.91\n",
      "Test_loss: tensor(2.9133, device='cuda:0')\n",
      "\n",
      "Test clean Accuracy 82.76\n",
      "Test_loss: tensor(0.4678, device='cuda:0')\n",
      "\n",
      "Target test clean Accuracy 74.90\n",
      "Test_loss: tensor(0.9297, device='cuda:0')\n"
     ]
    },
    {
     "data": {
      "application/vnd.jupyter.widget-view+json": {
       "model_id": "d75e617dd96f4615b29080e9e2a8040f",
       "version_major": 2,
       "version_minor": 0
      },
      "text/plain": [
       "  0%|          | 0/334 [00:00<?, ?it/s]"
      ]
     },
     "metadata": {},
     "output_type": "display_data"
    },
    {
     "name": "stdout",
     "output_type": "stream",
     "text": [
      "Train_loss: tensor(0.5754, device='cuda:0', grad_fn=<NllLossBackward0>)\n",
      "\n",
      "Attack success rate 58.56\n",
      "Test_loss: tensor(0.8990, device='cuda:0')\n",
      "\n",
      "Test clean Accuracy 82.19\n",
      "Test_loss: tensor(0.5275, device='cuda:0')\n",
      "\n",
      "Target test clean Accuracy 81.00\n",
      "Test_loss: tensor(0.4573, device='cuda:0')\n"
     ]
    },
    {
     "data": {
      "application/vnd.jupyter.widget-view+json": {
       "model_id": "df863f0f794142999d53de02edb97586",
       "version_major": 2,
       "version_minor": 0
      },
      "text/plain": [
       "  0%|          | 0/334 [00:00<?, ?it/s]"
      ]
     },
     "metadata": {},
     "output_type": "display_data"
    },
    {
     "name": "stdout",
     "output_type": "stream",
     "text": [
      "Train_loss: tensor(0.7602, device='cuda:0', grad_fn=<NllLossBackward0>)\n",
      "\n",
      "Attack success rate 53.99\n",
      "Test_loss: tensor(1.6872, device='cuda:0')\n",
      "\n",
      "Test clean Accuracy 79.30\n",
      "Test_loss: tensor(0.5234, device='cuda:0')\n",
      "\n",
      "Target test clean Accuracy 81.80\n",
      "Test_loss: tensor(0.6627, device='cuda:0')\n"
     ]
    },
    {
     "data": {
      "application/vnd.jupyter.widget-view+json": {
       "model_id": "062da7f5d92a4bfe87ca7c60732388d3",
       "version_major": 2,
       "version_minor": 0
      },
      "text/plain": [
       "  0%|          | 0/334 [00:00<?, ?it/s]"
      ]
     },
     "metadata": {},
     "output_type": "display_data"
    },
    {
     "name": "stdout",
     "output_type": "stream",
     "text": [
      "Train_loss: tensor(0.7415, device='cuda:0', grad_fn=<NllLossBackward0>)\n",
      "\n",
      "Attack success rate 16.18\n",
      "Test_loss: tensor(3.1514, device='cuda:0')\n",
      "\n",
      "Test clean Accuracy 82.07\n",
      "Test_loss: tensor(0.5998, device='cuda:0')\n",
      "\n",
      "Target test clean Accuracy 65.20\n",
      "Test_loss: tensor(1.0045, device='cuda:0')\n"
     ]
    },
    {
     "data": {
      "application/vnd.jupyter.widget-view+json": {
       "model_id": "db509e371d2b48d6adfbaa0bab8c555d",
       "version_major": 2,
       "version_minor": 0
      },
      "text/plain": [
       "  0%|          | 0/334 [00:00<?, ?it/s]"
      ]
     },
     "metadata": {},
     "output_type": "display_data"
    },
    {
     "name": "stdout",
     "output_type": "stream",
     "text": [
      "Train_loss: tensor(0.4605, device='cuda:0', grad_fn=<NllLossBackward0>)\n",
      "\n",
      "Attack success rate 52.08\n",
      "Test_loss: tensor(1.7918, device='cuda:0')\n",
      "\n",
      "Test clean Accuracy 83.36\n",
      "Test_loss: tensor(0.6016, device='cuda:0')\n",
      "\n",
      "Target test clean Accuracy 77.90\n",
      "Test_loss: tensor(0.6729, device='cuda:0')\n"
     ]
    },
    {
     "data": {
      "application/vnd.jupyter.widget-view+json": {
       "model_id": "8e66d7b8a36745c4818d40a3606b6108",
       "version_major": 2,
       "version_minor": 0
      },
      "text/plain": [
       "  0%|          | 0/334 [00:00<?, ?it/s]"
      ]
     },
     "metadata": {},
     "output_type": "display_data"
    },
    {
     "name": "stdout",
     "output_type": "stream",
     "text": [
      "Train_loss: tensor(0.4064, device='cuda:0', grad_fn=<NllLossBackward0>)\n",
      "\n",
      "Attack success rate 0.50\n",
      "Test_loss: tensor(3.8053, device='cuda:0')\n",
      "\n",
      "Test clean Accuracy 84.64\n",
      "Test_loss: tensor(0.4185, device='cuda:0')\n",
      "\n",
      "Target test clean Accuracy 65.20\n",
      "Test_loss: tensor(0.8269, device='cuda:0')\n"
     ]
    },
    {
     "data": {
      "application/vnd.jupyter.widget-view+json": {
       "model_id": "f79c75130ff84146aa1c9fed0c2910e1",
       "version_major": 2,
       "version_minor": 0
      },
      "text/plain": [
       "  0%|          | 0/334 [00:00<?, ?it/s]"
      ]
     },
     "metadata": {},
     "output_type": "display_data"
    },
    {
     "name": "stdout",
     "output_type": "stream",
     "text": [
      "Train_loss: tensor(0.3501, device='cuda:0', grad_fn=<NllLossBackward0>)\n",
      "\n",
      "Attack success rate 1.89\n",
      "Test_loss: tensor(2.9611, device='cuda:0')\n",
      "\n",
      "Test clean Accuracy 83.74\n",
      "Test_loss: tensor(0.4123, device='cuda:0')\n",
      "\n",
      "Target test clean Accuracy 82.60\n",
      "Test_loss: tensor(0.3438, device='cuda:0')\n"
     ]
    },
    {
     "data": {
      "application/vnd.jupyter.widget-view+json": {
       "model_id": "8e0e856dfcba457f946b5fc190e4372e",
       "version_major": 2,
       "version_minor": 0
      },
      "text/plain": [
       "  0%|          | 0/334 [00:00<?, ?it/s]"
      ]
     },
     "metadata": {},
     "output_type": "display_data"
    },
    {
     "name": "stdout",
     "output_type": "stream",
     "text": [
      "Train_loss: tensor(0.2567, device='cuda:0', grad_fn=<NllLossBackward0>)\n",
      "\n",
      "Attack success rate 6.52\n",
      "Test_loss: tensor(2.3617, device='cuda:0')\n",
      "\n",
      "Test clean Accuracy 85.33\n",
      "Test_loss: tensor(0.3981, device='cuda:0')\n",
      "\n",
      "Target test clean Accuracy 84.50\n",
      "Test_loss: tensor(0.3560, device='cuda:0')\n"
     ]
    },
    {
     "data": {
      "application/vnd.jupyter.widget-view+json": {
       "model_id": "588b26c6cd004f27ba3e7d93b377c974",
       "version_major": 2,
       "version_minor": 0
      },
      "text/plain": [
       "  0%|          | 0/334 [00:00<?, ?it/s]"
      ]
     },
     "metadata": {},
     "output_type": "display_data"
    },
    {
     "name": "stdout",
     "output_type": "stream",
     "text": [
      "Train_loss: tensor(0.4341, device='cuda:0', grad_fn=<NllLossBackward0>)\n",
      "\n",
      "Attack success rate 4.20\n",
      "Test_loss: tensor(3.2028, device='cuda:0')\n",
      "\n",
      "Test clean Accuracy 79.14\n",
      "Test_loss: tensor(0.5830, device='cuda:0')\n",
      "\n",
      "Target test clean Accuracy 80.70\n",
      "Test_loss: tensor(0.4752, device='cuda:0')\n"
     ]
    },
    {
     "data": {
      "application/vnd.jupyter.widget-view+json": {
       "model_id": "42b9cde42ae74d8e9d929e3bb3c2e349",
       "version_major": 2,
       "version_minor": 0
      },
      "text/plain": [
       "  0%|          | 0/334 [00:00<?, ?it/s]"
      ]
     },
     "metadata": {},
     "output_type": "display_data"
    },
    {
     "name": "stdout",
     "output_type": "stream",
     "text": [
      "Train_loss: tensor(0.0777, device='cuda:0', grad_fn=<NllLossBackward0>)\n",
      "\n",
      "Attack success rate 5.30\n",
      "Test_loss: tensor(3.2285, device='cuda:0')\n",
      "\n",
      "Test clean Accuracy 83.83\n",
      "Test_loss: tensor(0.5465, device='cuda:0')\n",
      "\n",
      "Target test clean Accuracy 87.10\n",
      "Test_loss: tensor(0.4840, device='cuda:0')\n"
     ]
    },
    {
     "data": {
      "application/vnd.jupyter.widget-view+json": {
       "model_id": "e67f8a3775c04feeb569afd2adbcb67d",
       "version_major": 2,
       "version_minor": 0
      },
      "text/plain": [
       "  0%|          | 0/334 [00:00<?, ?it/s]"
      ]
     },
     "metadata": {},
     "output_type": "display_data"
    },
    {
     "name": "stdout",
     "output_type": "stream",
     "text": [
      "Train_loss: tensor(0.4665, device='cuda:0', grad_fn=<NllLossBackward0>)\n",
      "\n",
      "Attack success rate 6.11\n",
      "Test_loss: tensor(2.9516, device='cuda:0')\n",
      "\n",
      "Test clean Accuracy 83.34\n",
      "Test_loss: tensor(0.4518, device='cuda:0')\n",
      "\n",
      "Target test clean Accuracy 78.90\n",
      "Test_loss: tensor(0.7739, device='cuda:0')\n"
     ]
    },
    {
     "data": {
      "application/vnd.jupyter.widget-view+json": {
       "model_id": "954d60680b9b4927a4faaf80518ed4d7",
       "version_major": 2,
       "version_minor": 0
      },
      "text/plain": [
       "  0%|          | 0/334 [00:00<?, ?it/s]"
      ]
     },
     "metadata": {},
     "output_type": "display_data"
    },
    {
     "name": "stdout",
     "output_type": "stream",
     "text": [
      "Train_loss: tensor(0.3858, device='cuda:0', grad_fn=<NllLossBackward0>)\n",
      "\n",
      "Attack success rate 40.12\n",
      "Test_loss: tensor(1.5405, device='cuda:0')\n",
      "\n",
      "Test clean Accuracy 80.95\n",
      "Test_loss: tensor(0.5874, device='cuda:0')\n",
      "\n",
      "Target test clean Accuracy 88.70\n",
      "Test_loss: tensor(0.2563, device='cuda:0')\n"
     ]
    },
    {
     "data": {
      "application/vnd.jupyter.widget-view+json": {
       "model_id": "03d9e744c6ea41d59c859e74cf419c54",
       "version_major": 2,
       "version_minor": 0
      },
      "text/plain": [
       "  0%|          | 0/334 [00:00<?, ?it/s]"
      ]
     },
     "metadata": {},
     "output_type": "display_data"
    },
    {
     "name": "stdout",
     "output_type": "stream",
     "text": [
      "Train_loss: tensor(0.4218, device='cuda:0', grad_fn=<NllLossBackward0>)\n",
      "\n",
      "Attack success rate 52.54\n",
      "Test_loss: tensor(1.5005, device='cuda:0')\n",
      "\n",
      "Test clean Accuracy 83.88\n",
      "Test_loss: tensor(0.4342, device='cuda:0')\n",
      "\n",
      "Target test clean Accuracy 79.40\n",
      "Test_loss: tensor(0.7491, device='cuda:0')\n"
     ]
    },
    {
     "data": {
      "application/vnd.jupyter.widget-view+json": {
       "model_id": "97b90d01fa5d471d8babc7b19d7f593c",
       "version_major": 2,
       "version_minor": 0
      },
      "text/plain": [
       "  0%|          | 0/334 [00:00<?, ?it/s]"
      ]
     },
     "metadata": {},
     "output_type": "display_data"
    },
    {
     "name": "stdout",
     "output_type": "stream",
     "text": [
      "Train_loss: tensor(0.5362, device='cuda:0', grad_fn=<NllLossBackward0>)\n",
      "\n",
      "Attack success rate 69.40\n",
      "Test_loss: tensor(1.0778, device='cuda:0')\n",
      "\n",
      "Test clean Accuracy 81.89\n",
      "Test_loss: tensor(0.5670, device='cuda:0')\n",
      "\n",
      "Target test clean Accuracy 73.00\n",
      "Test_loss: tensor(0.7141, device='cuda:0')\n"
     ]
    },
    {
     "data": {
      "application/vnd.jupyter.widget-view+json": {
       "model_id": "669b68b7075c4bcf82e5cc7ad344b34d",
       "version_major": 2,
       "version_minor": 0
      },
      "text/plain": [
       "  0%|          | 0/334 [00:00<?, ?it/s]"
      ]
     },
     "metadata": {},
     "output_type": "display_data"
    },
    {
     "name": "stdout",
     "output_type": "stream",
     "text": [
      "Train_loss: tensor(0.2935, device='cuda:0', grad_fn=<NllLossBackward0>)\n",
      "\n",
      "Attack success rate 8.68\n",
      "Test_loss: tensor(2.7636, device='cuda:0')\n",
      "\n",
      "Test clean Accuracy 85.56\n",
      "Test_loss: tensor(0.2965, device='cuda:0')\n",
      "\n",
      "Target test clean Accuracy 78.40\n",
      "Test_loss: tensor(0.5989, device='cuda:0')\n"
     ]
    },
    {
     "data": {
      "application/vnd.jupyter.widget-view+json": {
       "model_id": "e2210f1b06e645c8be0756859e22d8ba",
       "version_major": 2,
       "version_minor": 0
      },
      "text/plain": [
       "  0%|          | 0/334 [00:00<?, ?it/s]"
      ]
     },
     "metadata": {},
     "output_type": "display_data"
    },
    {
     "name": "stdout",
     "output_type": "stream",
     "text": [
      "Train_loss: tensor(0.3249, device='cuda:0', grad_fn=<NllLossBackward0>)\n",
      "\n",
      "Attack success rate 6.02\n",
      "Test_loss: tensor(3.4252, device='cuda:0')\n",
      "\n",
      "Test clean Accuracy 79.57\n",
      "Test_loss: tensor(0.5284, device='cuda:0')\n",
      "\n",
      "Target test clean Accuracy 80.70\n",
      "Test_loss: tensor(0.6411, device='cuda:0')\n"
     ]
    },
    {
     "data": {
      "application/vnd.jupyter.widget-view+json": {
       "model_id": "0bf50eaa76914782ac77089eb6fff89e",
       "version_major": 2,
       "version_minor": 0
      },
      "text/plain": [
       "  0%|          | 0/334 [00:00<?, ?it/s]"
      ]
     },
     "metadata": {},
     "output_type": "display_data"
    },
    {
     "name": "stdout",
     "output_type": "stream",
     "text": [
      "Train_loss: tensor(0.5356, device='cuda:0', grad_fn=<NllLossBackward0>)\n",
      "\n",
      "Attack success rate 1.61\n",
      "Test_loss: tensor(3.2450, device='cuda:0')\n",
      "\n",
      "Test clean Accuracy 85.12\n",
      "Test_loss: tensor(0.4370, device='cuda:0')\n",
      "\n",
      "Target test clean Accuracy 81.30\n",
      "Test_loss: tensor(0.6314, device='cuda:0')\n"
     ]
    },
    {
     "data": {
      "application/vnd.jupyter.widget-view+json": {
       "model_id": "08899445e08e46adbc88b001c60ee4e5",
       "version_major": 2,
       "version_minor": 0
      },
      "text/plain": [
       "  0%|          | 0/334 [00:00<?, ?it/s]"
      ]
     },
     "metadata": {},
     "output_type": "display_data"
    },
    {
     "name": "stdout",
     "output_type": "stream",
     "text": [
      "Train_loss: tensor(0.3003, device='cuda:0', grad_fn=<NllLossBackward0>)\n",
      "\n",
      "Attack success rate 16.63\n",
      "Test_loss: tensor(2.2168, device='cuda:0')\n",
      "\n",
      "Test clean Accuracy 85.52\n",
      "Test_loss: tensor(0.5738, device='cuda:0')\n",
      "\n",
      "Target test clean Accuracy 82.40\n",
      "Test_loss: tensor(0.2536, device='cuda:0')\n"
     ]
    },
    {
     "data": {
      "application/vnd.jupyter.widget-view+json": {
       "model_id": "d720f8082e984205835e4aec374ca6ba",
       "version_major": 2,
       "version_minor": 0
      },
      "text/plain": [
       "  0%|          | 0/334 [00:00<?, ?it/s]"
      ]
     },
     "metadata": {},
     "output_type": "display_data"
    },
    {
     "name": "stdout",
     "output_type": "stream",
     "text": [
      "Train_loss: tensor(0.2421, device='cuda:0', grad_fn=<NllLossBackward0>)\n",
      "\n",
      "Attack success rate 6.22\n",
      "Test_loss: tensor(3.5200, device='cuda:0')\n",
      "\n",
      "Test clean Accuracy 80.97\n",
      "Test_loss: tensor(0.5837, device='cuda:0')\n",
      "\n",
      "Target test clean Accuracy 63.10\n",
      "Test_loss: tensor(1.1047, device='cuda:0')\n"
     ]
    },
    {
     "data": {
      "application/vnd.jupyter.widget-view+json": {
       "model_id": "68955e08e23242b1bd16cdc066567cde",
       "version_major": 2,
       "version_minor": 0
      },
      "text/plain": [
       "  0%|          | 0/334 [00:00<?, ?it/s]"
      ]
     },
     "metadata": {},
     "output_type": "display_data"
    },
    {
     "name": "stdout",
     "output_type": "stream",
     "text": [
      "Train_loss: tensor(0.3878, device='cuda:0', grad_fn=<NllLossBackward0>)\n",
      "\n",
      "Attack success rate 36.49\n",
      "Test_loss: tensor(1.5618, device='cuda:0')\n",
      "\n",
      "Test clean Accuracy 83.05\n",
      "Test_loss: tensor(0.5231, device='cuda:0')\n",
      "\n",
      "Target test clean Accuracy 83.00\n",
      "Test_loss: tensor(0.6405, device='cuda:0')\n"
     ]
    },
    {
     "data": {
      "application/vnd.jupyter.widget-view+json": {
       "model_id": "ce32d926df6f4eb7a8a4455e725d8bf1",
       "version_major": 2,
       "version_minor": 0
      },
      "text/plain": [
       "  0%|          | 0/334 [00:00<?, ?it/s]"
      ]
     },
     "metadata": {},
     "output_type": "display_data"
    },
    {
     "name": "stdout",
     "output_type": "stream",
     "text": [
      "Train_loss: tensor(0.3366, device='cuda:0', grad_fn=<NllLossBackward0>)\n",
      "\n",
      "Attack success rate 12.30\n",
      "Test_loss: tensor(2.2730, device='cuda:0')\n",
      "\n",
      "Test clean Accuracy 87.21\n",
      "Test_loss: tensor(0.2892, device='cuda:0')\n",
      "\n",
      "Target test clean Accuracy 84.50\n",
      "Test_loss: tensor(0.3817, device='cuda:0')\n"
     ]
    },
    {
     "data": {
      "application/vnd.jupyter.widget-view+json": {
       "model_id": "c03d08b9729147248c472907614d9271",
       "version_major": 2,
       "version_minor": 0
      },
      "text/plain": [
       "  0%|          | 0/334 [00:00<?, ?it/s]"
      ]
     },
     "metadata": {},
     "output_type": "display_data"
    },
    {
     "name": "stdout",
     "output_type": "stream",
     "text": [
      "Train_loss: tensor(0.1464, device='cuda:0', grad_fn=<NllLossBackward0>)\n",
      "\n",
      "Attack success rate 11.88\n",
      "Test_loss: tensor(2.6882, device='cuda:0')\n",
      "\n",
      "Test clean Accuracy 82.47\n",
      "Test_loss: tensor(0.3858, device='cuda:0')\n",
      "\n",
      "Target test clean Accuracy 74.60\n",
      "Test_loss: tensor(0.8897, device='cuda:0')\n"
     ]
    },
    {
     "data": {
      "application/vnd.jupyter.widget-view+json": {
       "model_id": "7bf16f0098cf40758d2cb261707335fd",
       "version_major": 2,
       "version_minor": 0
      },
      "text/plain": [
       "  0%|          | 0/334 [00:00<?, ?it/s]"
      ]
     },
     "metadata": {},
     "output_type": "display_data"
    },
    {
     "name": "stdout",
     "output_type": "stream",
     "text": [
      "Train_loss: tensor(0.4096, device='cuda:0', grad_fn=<NllLossBackward0>)\n",
      "\n",
      "Attack success rate 29.67\n",
      "Test_loss: tensor(2.1262, device='cuda:0')\n",
      "\n",
      "Test clean Accuracy 79.78\n",
      "Test_loss: tensor(0.4134, device='cuda:0')\n",
      "\n",
      "Target test clean Accuracy 76.30\n",
      "Test_loss: tensor(0.6440, device='cuda:0')\n"
     ]
    },
    {
     "data": {
      "application/vnd.jupyter.widget-view+json": {
       "model_id": "94532dc3baba4c24959a4215a29c60f2",
       "version_major": 2,
       "version_minor": 0
      },
      "text/plain": [
       "  0%|          | 0/334 [00:00<?, ?it/s]"
      ]
     },
     "metadata": {},
     "output_type": "display_data"
    },
    {
     "name": "stdout",
     "output_type": "stream",
     "text": [
      "Train_loss: tensor(0.5882, device='cuda:0', grad_fn=<NllLossBackward0>)\n",
      "\n",
      "Attack success rate 38.84\n",
      "Test_loss: tensor(2.0629, device='cuda:0')\n",
      "\n",
      "Test clean Accuracy 84.52\n",
      "Test_loss: tensor(0.4389, device='cuda:0')\n",
      "\n",
      "Target test clean Accuracy 88.60\n",
      "Test_loss: tensor(0.2477, device='cuda:0')\n"
     ]
    },
    {
     "data": {
      "application/vnd.jupyter.widget-view+json": {
       "model_id": "a7da2febafe94702838cf75f1996a912",
       "version_major": 2,
       "version_minor": 0
      },
      "text/plain": [
       "  0%|          | 0/334 [00:00<?, ?it/s]"
      ]
     },
     "metadata": {},
     "output_type": "display_data"
    },
    {
     "name": "stdout",
     "output_type": "stream",
     "text": [
      "Train_loss: tensor(0.4231, device='cuda:0', grad_fn=<NllLossBackward0>)\n",
      "\n",
      "Attack success rate 53.08\n",
      "Test_loss: tensor(1.2963, device='cuda:0')\n",
      "\n",
      "Test clean Accuracy 85.75\n",
      "Test_loss: tensor(0.4511, device='cuda:0')\n",
      "\n",
      "Target test clean Accuracy 89.10\n",
      "Test_loss: tensor(0.2070, device='cuda:0')\n"
     ]
    },
    {
     "data": {
      "application/vnd.jupyter.widget-view+json": {
       "model_id": "f82140bf37cc41b188ad9d7b79984857",
       "version_major": 2,
       "version_minor": 0
      },
      "text/plain": [
       "  0%|          | 0/334 [00:00<?, ?it/s]"
      ]
     },
     "metadata": {},
     "output_type": "display_data"
    },
    {
     "name": "stdout",
     "output_type": "stream",
     "text": [
      "Train_loss: tensor(0.2523, device='cuda:0', grad_fn=<NllLossBackward0>)\n",
      "\n",
      "Attack success rate 53.78\n",
      "Test_loss: tensor(1.2563, device='cuda:0')\n",
      "\n",
      "Test clean Accuracy 84.95\n",
      "Test_loss: tensor(0.5883, device='cuda:0')\n",
      "\n",
      "Target test clean Accuracy 82.30\n",
      "Test_loss: tensor(0.5310, device='cuda:0')\n"
     ]
    },
    {
     "data": {
      "application/vnd.jupyter.widget-view+json": {
       "model_id": "342dec45b0104348b424934554d2fae2",
       "version_major": 2,
       "version_minor": 0
      },
      "text/plain": [
       "  0%|          | 0/334 [00:00<?, ?it/s]"
      ]
     },
     "metadata": {},
     "output_type": "display_data"
    },
    {
     "name": "stdout",
     "output_type": "stream",
     "text": [
      "Train_loss: tensor(0.4707, device='cuda:0', grad_fn=<NllLossBackward0>)\n",
      "\n",
      "Attack success rate 13.22\n",
      "Test_loss: tensor(2.1931, device='cuda:0')\n",
      "\n",
      "Test clean Accuracy 84.47\n",
      "Test_loss: tensor(0.3710, device='cuda:0')\n",
      "\n",
      "Target test clean Accuracy 79.80\n",
      "Test_loss: tensor(0.5577, device='cuda:0')\n"
     ]
    },
    {
     "data": {
      "application/vnd.jupyter.widget-view+json": {
       "model_id": "9ad98b75ff664bb2931de163ee4455b6",
       "version_major": 2,
       "version_minor": 0
      },
      "text/plain": [
       "  0%|          | 0/334 [00:00<?, ?it/s]"
      ]
     },
     "metadata": {},
     "output_type": "display_data"
    },
    {
     "name": "stdout",
     "output_type": "stream",
     "text": [
      "Train_loss: tensor(0.2937, device='cuda:0', grad_fn=<NllLossBackward0>)\n",
      "\n",
      "Attack success rate 47.63\n",
      "Test_loss: tensor(1.1561, device='cuda:0')\n",
      "\n",
      "Test clean Accuracy 82.17\n",
      "Test_loss: tensor(0.3577, device='cuda:0')\n",
      "\n",
      "Target test clean Accuracy 93.80\n",
      "Test_loss: tensor(0.3595, device='cuda:0')\n"
     ]
    },
    {
     "data": {
      "application/vnd.jupyter.widget-view+json": {
       "model_id": "7fba455d5a5e492d9fac3053bc055197",
       "version_major": 2,
       "version_minor": 0
      },
      "text/plain": [
       "  0%|          | 0/334 [00:00<?, ?it/s]"
      ]
     },
     "metadata": {},
     "output_type": "display_data"
    },
    {
     "name": "stdout",
     "output_type": "stream",
     "text": [
      "Train_loss: tensor(0.2965, device='cuda:0', grad_fn=<NllLossBackward0>)\n",
      "\n",
      "Attack success rate 35.82\n",
      "Test_loss: tensor(2.1589, device='cuda:0')\n",
      "\n",
      "Test clean Accuracy 87.57\n",
      "Test_loss: tensor(0.3873, device='cuda:0')\n",
      "\n",
      "Target test clean Accuracy 79.90\n",
      "Test_loss: tensor(0.6836, device='cuda:0')\n"
     ]
    },
    {
     "data": {
      "application/vnd.jupyter.widget-view+json": {
       "model_id": "6ab7f4b74c344dcb820b1704df9e3f79",
       "version_major": 2,
       "version_minor": 0
      },
      "text/plain": [
       "  0%|          | 0/334 [00:00<?, ?it/s]"
      ]
     },
     "metadata": {},
     "output_type": "display_data"
    },
    {
     "name": "stdout",
     "output_type": "stream",
     "text": [
      "Train_loss: tensor(0.2002, device='cuda:0', grad_fn=<NllLossBackward0>)\n",
      "\n",
      "Attack success rate 10.41\n",
      "Test_loss: tensor(2.2867, device='cuda:0')\n",
      "\n",
      "Test clean Accuracy 87.30\n",
      "Test_loss: tensor(0.3428, device='cuda:0')\n",
      "\n",
      "Target test clean Accuracy 78.20\n",
      "Test_loss: tensor(0.5604, device='cuda:0')\n"
     ]
    },
    {
     "data": {
      "application/vnd.jupyter.widget-view+json": {
       "model_id": "2df3f1d16c3c42e8b4f8981317d50f95",
       "version_major": 2,
       "version_minor": 0
      },
      "text/plain": [
       "  0%|          | 0/334 [00:00<?, ?it/s]"
      ]
     },
     "metadata": {},
     "output_type": "display_data"
    },
    {
     "name": "stdout",
     "output_type": "stream",
     "text": [
      "Train_loss: tensor(0.5041, device='cuda:0', grad_fn=<NllLossBackward0>)\n",
      "\n",
      "Attack success rate 10.94\n",
      "Test_loss: tensor(2.4976, device='cuda:0')\n",
      "\n",
      "Test clean Accuracy 85.47\n",
      "Test_loss: tensor(0.5014, device='cuda:0')\n",
      "\n",
      "Target test clean Accuracy 65.80\n",
      "Test_loss: tensor(1.0384, device='cuda:0')\n"
     ]
    },
    {
     "data": {
      "application/vnd.jupyter.widget-view+json": {
       "model_id": "1514de3a6be54ea891f3802388b86511",
       "version_major": 2,
       "version_minor": 0
      },
      "text/plain": [
       "  0%|          | 0/334 [00:00<?, ?it/s]"
      ]
     },
     "metadata": {},
     "output_type": "display_data"
    },
    {
     "name": "stdout",
     "output_type": "stream",
     "text": [
      "Train_loss: tensor(0.1418, device='cuda:0', grad_fn=<NllLossBackward0>)\n",
      "\n",
      "Attack success rate 7.73\n",
      "Test_loss: tensor(2.9754, device='cuda:0')\n",
      "\n",
      "Test clean Accuracy 85.56\n",
      "Test_loss: tensor(0.3307, device='cuda:0')\n",
      "\n",
      "Target test clean Accuracy 71.30\n",
      "Test_loss: tensor(0.8683, device='cuda:0')\n"
     ]
    },
    {
     "data": {
      "application/vnd.jupyter.widget-view+json": {
       "model_id": "8966b8fa4f5b4c9895c353aad2b756a0",
       "version_major": 2,
       "version_minor": 0
      },
      "text/plain": [
       "  0%|          | 0/334 [00:00<?, ?it/s]"
      ]
     },
     "metadata": {},
     "output_type": "display_data"
    },
    {
     "name": "stdout",
     "output_type": "stream",
     "text": [
      "Train_loss: tensor(0.4189, device='cuda:0', grad_fn=<NllLossBackward0>)\n",
      "\n",
      "Attack success rate 21.02\n",
      "Test_loss: tensor(2.2633, device='cuda:0')\n",
      "\n",
      "Test clean Accuracy 86.68\n",
      "Test_loss: tensor(0.3898, device='cuda:0')\n",
      "\n",
      "Target test clean Accuracy 88.70\n",
      "Test_loss: tensor(0.3732, device='cuda:0')\n"
     ]
    },
    {
     "data": {
      "application/vnd.jupyter.widget-view+json": {
       "model_id": "1624fa171c6445bd81a893cf714d436f",
       "version_major": 2,
       "version_minor": 0
      },
      "text/plain": [
       "  0%|          | 0/334 [00:00<?, ?it/s]"
      ]
     },
     "metadata": {},
     "output_type": "display_data"
    },
    {
     "name": "stdout",
     "output_type": "stream",
     "text": [
      "Train_loss: tensor(0.5367, device='cuda:0', grad_fn=<NllLossBackward0>)\n",
      "\n",
      "Attack success rate 69.06\n",
      "Test_loss: tensor(1.1016, device='cuda:0')\n",
      "\n",
      "Test clean Accuracy 84.85\n",
      "Test_loss: tensor(0.3223, device='cuda:0')\n",
      "\n",
      "Target test clean Accuracy 89.50\n",
      "Test_loss: tensor(0.3572, device='cuda:0')\n"
     ]
    },
    {
     "data": {
      "application/vnd.jupyter.widget-view+json": {
       "model_id": "fba302944bea4ba6b08829d8e557b0a0",
       "version_major": 2,
       "version_minor": 0
      },
      "text/plain": [
       "  0%|          | 0/334 [00:00<?, ?it/s]"
      ]
     },
     "metadata": {},
     "output_type": "display_data"
    },
    {
     "name": "stdout",
     "output_type": "stream",
     "text": [
      "Train_loss: tensor(0.5117, device='cuda:0', grad_fn=<NllLossBackward0>)\n",
      "\n",
      "Attack success rate 2.93\n",
      "Test_loss: tensor(2.9164, device='cuda:0')\n",
      "\n",
      "Test clean Accuracy 86.32\n",
      "Test_loss: tensor(0.5215, device='cuda:0')\n",
      "\n",
      "Target test clean Accuracy 75.70\n",
      "Test_loss: tensor(0.9077, device='cuda:0')\n"
     ]
    },
    {
     "data": {
      "application/vnd.jupyter.widget-view+json": {
       "model_id": "0241a88ef268496dbe9bd79dfd0349b8",
       "version_major": 2,
       "version_minor": 0
      },
      "text/plain": [
       "  0%|          | 0/334 [00:00<?, ?it/s]"
      ]
     },
     "metadata": {},
     "output_type": "display_data"
    },
    {
     "name": "stdout",
     "output_type": "stream",
     "text": [
      "Train_loss: tensor(0.2340, device='cuda:0', grad_fn=<NllLossBackward0>)\n",
      "\n",
      "Attack success rate 18.71\n",
      "Test_loss: tensor(2.6017, device='cuda:0')\n",
      "\n",
      "Test clean Accuracy 86.56\n",
      "Test_loss: tensor(0.3078, device='cuda:0')\n",
      "\n",
      "Target test clean Accuracy 90.30\n",
      "Test_loss: tensor(0.4536, device='cuda:0')\n"
     ]
    },
    {
     "data": {
      "application/vnd.jupyter.widget-view+json": {
       "model_id": "d701f7353bd1420b8d44985eacc89358",
       "version_major": 2,
       "version_minor": 0
      },
      "text/plain": [
       "  0%|          | 0/334 [00:00<?, ?it/s]"
      ]
     },
     "metadata": {},
     "output_type": "display_data"
    },
    {
     "name": "stdout",
     "output_type": "stream",
     "text": [
      "Train_loss: tensor(0.3707, device='cuda:0', grad_fn=<NllLossBackward0>)\n",
      "\n",
      "Attack success rate 82.89\n",
      "Test_loss: tensor(0.5517, device='cuda:0')\n",
      "\n",
      "Test clean Accuracy 84.61\n",
      "Test_loss: tensor(0.2757, device='cuda:0')\n",
      "\n",
      "Target test clean Accuracy 86.30\n",
      "Test_loss: tensor(0.5052, device='cuda:0')\n"
     ]
    },
    {
     "data": {
      "application/vnd.jupyter.widget-view+json": {
       "model_id": "0f8f1bb3a409423b89ed51e1dcffb4e2",
       "version_major": 2,
       "version_minor": 0
      },
      "text/plain": [
       "  0%|          | 0/334 [00:00<?, ?it/s]"
      ]
     },
     "metadata": {},
     "output_type": "display_data"
    },
    {
     "name": "stdout",
     "output_type": "stream",
     "text": [
      "Train_loss: tensor(0.5674, device='cuda:0', grad_fn=<NllLossBackward0>)\n",
      "\n",
      "Attack success rate 72.43\n",
      "Test_loss: tensor(1.0151, device='cuda:0')\n",
      "\n",
      "Test clean Accuracy 86.71\n",
      "Test_loss: tensor(0.3135, device='cuda:0')\n",
      "\n",
      "Target test clean Accuracy 88.60\n",
      "Test_loss: tensor(0.4703, device='cuda:0')\n"
     ]
    },
    {
     "data": {
      "application/vnd.jupyter.widget-view+json": {
       "model_id": "fcfb153106ea49c6afa1f0924ca07f92",
       "version_major": 2,
       "version_minor": 0
      },
      "text/plain": [
       "  0%|          | 0/334 [00:00<?, ?it/s]"
      ]
     },
     "metadata": {},
     "output_type": "display_data"
    },
    {
     "name": "stdout",
     "output_type": "stream",
     "text": [
      "Train_loss: tensor(0.2120, device='cuda:0', grad_fn=<NllLossBackward0>)\n",
      "\n",
      "Attack success rate 44.82\n",
      "Test_loss: tensor(1.1206, device='cuda:0')\n",
      "\n",
      "Test clean Accuracy 81.71\n",
      "Test_loss: tensor(0.4930, device='cuda:0')\n",
      "\n",
      "Target test clean Accuracy 64.30\n",
      "Test_loss: tensor(1.3577, device='cuda:0')\n"
     ]
    },
    {
     "data": {
      "application/vnd.jupyter.widget-view+json": {
       "model_id": "6f2816e7eff8430a9e0957a9085d98ad",
       "version_major": 2,
       "version_minor": 0
      },
      "text/plain": [
       "  0%|          | 0/334 [00:00<?, ?it/s]"
      ]
     },
     "metadata": {},
     "output_type": "display_data"
    },
    {
     "name": "stdout",
     "output_type": "stream",
     "text": [
      "Train_loss: tensor(0.5465, device='cuda:0', grad_fn=<NllLossBackward0>)\n",
      "\n",
      "Attack success rate 74.27\n",
      "Test_loss: tensor(0.6883, device='cuda:0')\n",
      "\n",
      "Test clean Accuracy 85.96\n",
      "Test_loss: tensor(0.4667, device='cuda:0')\n",
      "\n",
      "Target test clean Accuracy 61.60\n",
      "Test_loss: tensor(1.2029, device='cuda:0')\n"
     ]
    },
    {
     "data": {
      "application/vnd.jupyter.widget-view+json": {
       "model_id": "d7270394909240f7b62f1767dc33a817",
       "version_major": 2,
       "version_minor": 0
      },
      "text/plain": [
       "  0%|          | 0/334 [00:00<?, ?it/s]"
      ]
     },
     "metadata": {},
     "output_type": "display_data"
    },
    {
     "name": "stdout",
     "output_type": "stream",
     "text": [
      "Train_loss: tensor(0.6558, device='cuda:0', grad_fn=<NllLossBackward0>)\n",
      "\n",
      "Attack success rate 38.76\n",
      "Test_loss: tensor(2.1911, device='cuda:0')\n",
      "\n",
      "Test clean Accuracy 82.28\n",
      "Test_loss: tensor(0.4519, device='cuda:0')\n",
      "\n",
      "Target test clean Accuracy 77.50\n",
      "Test_loss: tensor(0.6663, device='cuda:0')\n"
     ]
    },
    {
     "data": {
      "application/vnd.jupyter.widget-view+json": {
       "model_id": "ed323155bb894be5996d96c06e8df736",
       "version_major": 2,
       "version_minor": 0
      },
      "text/plain": [
       "  0%|          | 0/334 [00:00<?, ?it/s]"
      ]
     },
     "metadata": {},
     "output_type": "display_data"
    },
    {
     "name": "stdout",
     "output_type": "stream",
     "text": [
      "Train_loss: tensor(0.2586, device='cuda:0', grad_fn=<NllLossBackward0>)\n",
      "\n",
      "Attack success rate 41.60\n",
      "Test_loss: tensor(1.5555, device='cuda:0')\n",
      "\n",
      "Test clean Accuracy 87.89\n",
      "Test_loss: tensor(0.4102, device='cuda:0')\n",
      "\n",
      "Target test clean Accuracy 86.60\n",
      "Test_loss: tensor(0.4369, device='cuda:0')\n"
     ]
    },
    {
     "data": {
      "application/vnd.jupyter.widget-view+json": {
       "model_id": "4f815a8425274f29a2e93397a0de60ab",
       "version_major": 2,
       "version_minor": 0
      },
      "text/plain": [
       "  0%|          | 0/334 [00:00<?, ?it/s]"
      ]
     },
     "metadata": {},
     "output_type": "display_data"
    },
    {
     "name": "stdout",
     "output_type": "stream",
     "text": [
      "Train_loss: tensor(0.2508, device='cuda:0', grad_fn=<NllLossBackward0>)\n",
      "\n",
      "Attack success rate 95.61\n",
      "Test_loss: tensor(0.0996, device='cuda:0')\n",
      "\n",
      "Test clean Accuracy 83.60\n",
      "Test_loss: tensor(0.4305, device='cuda:0')\n",
      "\n",
      "Target test clean Accuracy 94.60\n",
      "Test_loss: tensor(0.3113, device='cuda:0')\n"
     ]
    },
    {
     "data": {
      "application/vnd.jupyter.widget-view+json": {
       "model_id": "8068b755f3e443eaa77362bb50a626e1",
       "version_major": 2,
       "version_minor": 0
      },
      "text/plain": [
       "  0%|          | 0/334 [00:00<?, ?it/s]"
      ]
     },
     "metadata": {},
     "output_type": "display_data"
    },
    {
     "name": "stdout",
     "output_type": "stream",
     "text": [
      "Train_loss: tensor(0.2821, device='cuda:0', grad_fn=<NllLossBackward0>)\n",
      "\n",
      "Attack success rate 6.10\n",
      "Test_loss: tensor(3.2867, device='cuda:0')\n",
      "\n",
      "Test clean Accuracy 87.07\n",
      "Test_loss: tensor(0.2846, device='cuda:0')\n",
      "\n",
      "Target test clean Accuracy 74.30\n",
      "Test_loss: tensor(0.5681, device='cuda:0')\n"
     ]
    },
    {
     "data": {
      "application/vnd.jupyter.widget-view+json": {
       "model_id": "dfdbd7dd75ed4bd185470afb69479ba4",
       "version_major": 2,
       "version_minor": 0
      },
      "text/plain": [
       "  0%|          | 0/334 [00:00<?, ?it/s]"
      ]
     },
     "metadata": {},
     "output_type": "display_data"
    },
    {
     "name": "stdout",
     "output_type": "stream",
     "text": [
      "Train_loss: tensor(0.2615, device='cuda:0', grad_fn=<NllLossBackward0>)\n",
      "\n",
      "Attack success rate 36.39\n",
      "Test_loss: tensor(1.6764, device='cuda:0')\n",
      "\n",
      "Test clean Accuracy 87.66\n",
      "Test_loss: tensor(0.3550, device='cuda:0')\n",
      "\n",
      "Target test clean Accuracy 80.50\n",
      "Test_loss: tensor(0.6871, device='cuda:0')\n"
     ]
    },
    {
     "data": {
      "application/vnd.jupyter.widget-view+json": {
       "model_id": "cf3a82e49e244e18971c7793692f3c1b",
       "version_major": 2,
       "version_minor": 0
      },
      "text/plain": [
       "  0%|          | 0/334 [00:00<?, ?it/s]"
      ]
     },
     "metadata": {},
     "output_type": "display_data"
    },
    {
     "name": "stdout",
     "output_type": "stream",
     "text": [
      "Train_loss: tensor(0.1976, device='cuda:0', grad_fn=<NllLossBackward0>)\n",
      "\n",
      "Attack success rate 79.74\n",
      "Test_loss: tensor(0.3824, device='cuda:0')\n",
      "\n",
      "Test clean Accuracy 87.47\n",
      "Test_loss: tensor(0.2600, device='cuda:0')\n",
      "\n",
      "Target test clean Accuracy 90.10\n",
      "Test_loss: tensor(0.2893, device='cuda:0')\n"
     ]
    },
    {
     "data": {
      "application/vnd.jupyter.widget-view+json": {
       "model_id": "267e5ef2af884273ab58eef8fce86787",
       "version_major": 2,
       "version_minor": 0
      },
      "text/plain": [
       "  0%|          | 0/334 [00:00<?, ?it/s]"
      ]
     },
     "metadata": {},
     "output_type": "display_data"
    },
    {
     "name": "stdout",
     "output_type": "stream",
     "text": [
      "Train_loss: tensor(0.1885, device='cuda:0', grad_fn=<NllLossBackward0>)\n",
      "\n",
      "Attack success rate 68.19\n",
      "Test_loss: tensor(0.7951, device='cuda:0')\n",
      "\n",
      "Test clean Accuracy 86.37\n",
      "Test_loss: tensor(0.3051, device='cuda:0')\n",
      "\n",
      "Target test clean Accuracy 91.50\n",
      "Test_loss: tensor(0.1562, device='cuda:0')\n"
     ]
    },
    {
     "data": {
      "application/vnd.jupyter.widget-view+json": {
       "model_id": "dc02a56f43a0420e8b81b6f20b4df53c",
       "version_major": 2,
       "version_minor": 0
      },
      "text/plain": [
       "  0%|          | 0/334 [00:00<?, ?it/s]"
      ]
     },
     "metadata": {},
     "output_type": "display_data"
    },
    {
     "name": "stdout",
     "output_type": "stream",
     "text": [
      "Train_loss: tensor(0.3169, device='cuda:0', grad_fn=<NllLossBackward0>)\n",
      "\n",
      "Attack success rate 57.70\n",
      "Test_loss: tensor(1.2102, device='cuda:0')\n",
      "\n",
      "Test clean Accuracy 86.97\n",
      "Test_loss: tensor(0.3975, device='cuda:0')\n",
      "\n",
      "Target test clean Accuracy 87.80\n",
      "Test_loss: tensor(0.3570, device='cuda:0')\n"
     ]
    },
    {
     "data": {
      "application/vnd.jupyter.widget-view+json": {
       "model_id": "2046b966a33045499985b280bc2655ff",
       "version_major": 2,
       "version_minor": 0
      },
      "text/plain": [
       "  0%|          | 0/334 [00:00<?, ?it/s]"
      ]
     },
     "metadata": {},
     "output_type": "display_data"
    },
    {
     "name": "stdout",
     "output_type": "stream",
     "text": [
      "Train_loss: tensor(0.3512, device='cuda:0', grad_fn=<NllLossBackward0>)\n",
      "\n",
      "Attack success rate 13.36\n",
      "Test_loss: tensor(3.1128, device='cuda:0')\n",
      "\n",
      "Test clean Accuracy 85.00\n",
      "Test_loss: tensor(0.5354, device='cuda:0')\n",
      "\n",
      "Target test clean Accuracy 86.80\n",
      "Test_loss: tensor(0.3899, device='cuda:0')\n"
     ]
    },
    {
     "data": {
      "application/vnd.jupyter.widget-view+json": {
       "model_id": "47397d9ea9b14b3582139d5209b939da",
       "version_major": 2,
       "version_minor": 0
      },
      "text/plain": [
       "  0%|          | 0/334 [00:00<?, ?it/s]"
      ]
     },
     "metadata": {},
     "output_type": "display_data"
    },
    {
     "name": "stdout",
     "output_type": "stream",
     "text": [
      "Train_loss: tensor(0.2158, device='cuda:0', grad_fn=<NllLossBackward0>)\n",
      "\n",
      "Attack success rate 70.41\n",
      "Test_loss: tensor(0.7370, device='cuda:0')\n",
      "\n",
      "Test clean Accuracy 85.05\n",
      "Test_loss: tensor(0.3395, device='cuda:0')\n",
      "\n",
      "Target test clean Accuracy 81.10\n",
      "Test_loss: tensor(0.4969, device='cuda:0')\n"
     ]
    },
    {
     "data": {
      "application/vnd.jupyter.widget-view+json": {
       "model_id": "929be6565a04453e98fe2e5cc7247210",
       "version_major": 2,
       "version_minor": 0
      },
      "text/plain": [
       "  0%|          | 0/334 [00:00<?, ?it/s]"
      ]
     },
     "metadata": {},
     "output_type": "display_data"
    },
    {
     "name": "stdout",
     "output_type": "stream",
     "text": [
      "Train_loss: tensor(0.4180, device='cuda:0', grad_fn=<NllLossBackward0>)\n",
      "\n",
      "Attack success rate 45.84\n",
      "Test_loss: tensor(2.3454, device='cuda:0')\n",
      "\n",
      "Test clean Accuracy 86.12\n",
      "Test_loss: tensor(0.3617, device='cuda:0')\n",
      "\n",
      "Target test clean Accuracy 92.40\n",
      "Test_loss: tensor(0.2157, device='cuda:0')\n"
     ]
    },
    {
     "data": {
      "application/vnd.jupyter.widget-view+json": {
       "model_id": "82b59246576c4fceb79feff199569ec4",
       "version_major": 2,
       "version_minor": 0
      },
      "text/plain": [
       "  0%|          | 0/334 [00:00<?, ?it/s]"
      ]
     },
     "metadata": {},
     "output_type": "display_data"
    },
    {
     "name": "stdout",
     "output_type": "stream",
     "text": [
      "Train_loss: tensor(0.1611, device='cuda:0', grad_fn=<NllLossBackward0>)\n",
      "\n",
      "Attack success rate 3.72\n",
      "Test_loss: tensor(3.4533, device='cuda:0')\n",
      "\n",
      "Test clean Accuracy 85.75\n",
      "Test_loss: tensor(0.4293, device='cuda:0')\n",
      "\n",
      "Target test clean Accuracy 84.50\n",
      "Test_loss: tensor(0.4041, device='cuda:0')\n"
     ]
    },
    {
     "data": {
      "application/vnd.jupyter.widget-view+json": {
       "model_id": "9bebfaec8a864d09b975ad9eaa2da58d",
       "version_major": 2,
       "version_minor": 0
      },
      "text/plain": [
       "  0%|          | 0/334 [00:00<?, ?it/s]"
      ]
     },
     "metadata": {},
     "output_type": "display_data"
    },
    {
     "name": "stdout",
     "output_type": "stream",
     "text": [
      "Train_loss: tensor(0.3087, device='cuda:0', grad_fn=<NllLossBackward0>)\n",
      "\n",
      "Attack success rate 7.30\n",
      "Test_loss: tensor(3.7771, device='cuda:0')\n",
      "\n",
      "Test clean Accuracy 84.95\n",
      "Test_loss: tensor(0.3474, device='cuda:0')\n",
      "\n",
      "Target test clean Accuracy 76.30\n",
      "Test_loss: tensor(0.8688, device='cuda:0')\n"
     ]
    },
    {
     "data": {
      "application/vnd.jupyter.widget-view+json": {
       "model_id": "f66e42a0d61443be823712f9ba278d0a",
       "version_major": 2,
       "version_minor": 0
      },
      "text/plain": [
       "  0%|          | 0/334 [00:00<?, ?it/s]"
      ]
     },
     "metadata": {},
     "output_type": "display_data"
    },
    {
     "name": "stdout",
     "output_type": "stream",
     "text": [
      "Train_loss: tensor(0.2277, device='cuda:0', grad_fn=<NllLossBackward0>)\n",
      "\n",
      "Attack success rate 90.10\n",
      "Test_loss: tensor(0.3900, device='cuda:0')\n",
      "\n",
      "Test clean Accuracy 87.00\n",
      "Test_loss: tensor(0.3121, device='cuda:0')\n",
      "\n",
      "Target test clean Accuracy 87.00\n",
      "Test_loss: tensor(0.3268, device='cuda:0')\n"
     ]
    },
    {
     "data": {
      "application/vnd.jupyter.widget-view+json": {
       "model_id": "7aacfdbcd52747058fdca9d00d1bdd77",
       "version_major": 2,
       "version_minor": 0
      },
      "text/plain": [
       "  0%|          | 0/334 [00:00<?, ?it/s]"
      ]
     },
     "metadata": {},
     "output_type": "display_data"
    },
    {
     "name": "stdout",
     "output_type": "stream",
     "text": [
      "Train_loss: tensor(0.2023, device='cuda:0', grad_fn=<NllLossBackward0>)\n",
      "\n",
      "Attack success rate 7.36\n",
      "Test_loss: tensor(3.3974, device='cuda:0')\n",
      "\n",
      "Test clean Accuracy 86.25\n",
      "Test_loss: tensor(0.4408, device='cuda:0')\n",
      "\n",
      "Target test clean Accuracy 86.80\n",
      "Test_loss: tensor(0.5491, device='cuda:0')\n"
     ]
    },
    {
     "data": {
      "application/vnd.jupyter.widget-view+json": {
       "model_id": "00134a446da6436089f0561f3d44c437",
       "version_major": 2,
       "version_minor": 0
      },
      "text/plain": [
       "  0%|          | 0/334 [00:00<?, ?it/s]"
      ]
     },
     "metadata": {},
     "output_type": "display_data"
    },
    {
     "name": "stdout",
     "output_type": "stream",
     "text": [
      "Train_loss: tensor(0.1514, device='cuda:0', grad_fn=<NllLossBackward0>)\n",
      "\n",
      "Attack success rate 27.80\n",
      "Test_loss: tensor(2.2413, device='cuda:0')\n",
      "\n",
      "Test clean Accuracy 87.60\n",
      "Test_loss: tensor(0.2982, device='cuda:0')\n",
      "\n",
      "Target test clean Accuracy 86.10\n",
      "Test_loss: tensor(0.4071, device='cuda:0')\n"
     ]
    },
    {
     "data": {
      "application/vnd.jupyter.widget-view+json": {
       "model_id": "22276c441f5c4867b4ac87a6e33614ff",
       "version_major": 2,
       "version_minor": 0
      },
      "text/plain": [
       "  0%|          | 0/334 [00:00<?, ?it/s]"
      ]
     },
     "metadata": {},
     "output_type": "display_data"
    },
    {
     "name": "stdout",
     "output_type": "stream",
     "text": [
      "Train_loss: tensor(0.2889, device='cuda:0', grad_fn=<NllLossBackward0>)\n",
      "\n",
      "Attack success rate 85.64\n",
      "Test_loss: tensor(0.4229, device='cuda:0')\n",
      "\n",
      "Test clean Accuracy 82.33\n",
      "Test_loss: tensor(0.5471, device='cuda:0')\n",
      "\n",
      "Target test clean Accuracy 68.50\n",
      "Test_loss: tensor(1.1111, device='cuda:0')\n"
     ]
    },
    {
     "data": {
      "application/vnd.jupyter.widget-view+json": {
       "model_id": "260138610d744187ad70920af123360e",
       "version_major": 2,
       "version_minor": 0
      },
      "text/plain": [
       "  0%|          | 0/334 [00:00<?, ?it/s]"
      ]
     },
     "metadata": {},
     "output_type": "display_data"
    },
    {
     "name": "stdout",
     "output_type": "stream",
     "text": [
      "Train_loss: tensor(0.1308, device='cuda:0', grad_fn=<NllLossBackward0>)\n",
      "\n",
      "Attack success rate 74.16\n",
      "Test_loss: tensor(0.8096, device='cuda:0')\n",
      "\n",
      "Test clean Accuracy 88.32\n",
      "Test_loss: tensor(0.2467, device='cuda:0')\n",
      "\n",
      "Target test clean Accuracy 79.40\n",
      "Test_loss: tensor(0.4835, device='cuda:0')\n"
     ]
    },
    {
     "data": {
      "application/vnd.jupyter.widget-view+json": {
       "model_id": "635adfc71e0249cab7e12e4a0b352e36",
       "version_major": 2,
       "version_minor": 0
      },
      "text/plain": [
       "  0%|          | 0/334 [00:00<?, ?it/s]"
      ]
     },
     "metadata": {},
     "output_type": "display_data"
    },
    {
     "name": "stdout",
     "output_type": "stream",
     "text": [
      "Train_loss: tensor(0.1191, device='cuda:0', grad_fn=<NllLossBackward0>)\n",
      "\n",
      "Attack success rate 64.21\n",
      "Test_loss: tensor(1.0806, device='cuda:0')\n",
      "\n",
      "Test clean Accuracy 87.42\n",
      "Test_loss: tensor(0.2943, device='cuda:0')\n",
      "\n",
      "Target test clean Accuracy 91.00\n",
      "Test_loss: tensor(0.2018, device='cuda:0')\n"
     ]
    },
    {
     "data": {
      "application/vnd.jupyter.widget-view+json": {
       "model_id": "52c7c6446ed64eae907d5e3ffa48f706",
       "version_major": 2,
       "version_minor": 0
      },
      "text/plain": [
       "  0%|          | 0/334 [00:00<?, ?it/s]"
      ]
     },
     "metadata": {},
     "output_type": "display_data"
    },
    {
     "name": "stdout",
     "output_type": "stream",
     "text": [
      "Train_loss: tensor(0.3908, device='cuda:0', grad_fn=<NllLossBackward0>)\n",
      "\n",
      "Attack success rate 18.70\n",
      "Test_loss: tensor(2.1706, device='cuda:0')\n",
      "\n",
      "Test clean Accuracy 86.88\n",
      "Test_loss: tensor(0.3350, device='cuda:0')\n",
      "\n",
      "Target test clean Accuracy 77.80\n",
      "Test_loss: tensor(0.7079, device='cuda:0')\n"
     ]
    },
    {
     "data": {
      "application/vnd.jupyter.widget-view+json": {
       "model_id": "5c2b3e910670467caefce4519b6a29e5",
       "version_major": 2,
       "version_minor": 0
      },
      "text/plain": [
       "  0%|          | 0/334 [00:00<?, ?it/s]"
      ]
     },
     "metadata": {},
     "output_type": "display_data"
    },
    {
     "name": "stdout",
     "output_type": "stream",
     "text": [
      "Train_loss: tensor(0.2330, device='cuda:0', grad_fn=<NllLossBackward0>)\n",
      "\n",
      "Attack success rate 25.63\n",
      "Test_loss: tensor(1.7926, device='cuda:0')\n",
      "\n",
      "Test clean Accuracy 85.99\n",
      "Test_loss: tensor(0.3578, device='cuda:0')\n",
      "\n",
      "Target test clean Accuracy 88.30\n",
      "Test_loss: tensor(0.3556, device='cuda:0')\n"
     ]
    },
    {
     "data": {
      "application/vnd.jupyter.widget-view+json": {
       "model_id": "7398e1ad90c1498c9a7995fe599667e5",
       "version_major": 2,
       "version_minor": 0
      },
      "text/plain": [
       "  0%|          | 0/334 [00:00<?, ?it/s]"
      ]
     },
     "metadata": {},
     "output_type": "display_data"
    },
    {
     "name": "stdout",
     "output_type": "stream",
     "text": [
      "Train_loss: tensor(0.2316, device='cuda:0', grad_fn=<NllLossBackward0>)\n",
      "\n",
      "Attack success rate 6.54\n",
      "Test_loss: tensor(3.3694, device='cuda:0')\n",
      "\n",
      "Test clean Accuracy 82.74\n",
      "Test_loss: tensor(0.6122, device='cuda:0')\n",
      "\n",
      "Target test clean Accuracy 72.40\n",
      "Test_loss: tensor(0.9220, device='cuda:0')\n"
     ]
    },
    {
     "data": {
      "application/vnd.jupyter.widget-view+json": {
       "model_id": "4c28ca23c7f44b688e8d02f40d7b8798",
       "version_major": 2,
       "version_minor": 0
      },
      "text/plain": [
       "  0%|          | 0/334 [00:00<?, ?it/s]"
      ]
     },
     "metadata": {},
     "output_type": "display_data"
    },
    {
     "name": "stdout",
     "output_type": "stream",
     "text": [
      "Train_loss: tensor(0.3001, device='cuda:0', grad_fn=<NllLossBackward0>)\n",
      "\n",
      "Attack success rate 98.18\n",
      "Test_loss: tensor(0.1327, device='cuda:0')\n",
      "\n",
      "Test clean Accuracy 86.17\n",
      "Test_loss: tensor(0.2079, device='cuda:0')\n",
      "\n",
      "Target test clean Accuracy 93.20\n",
      "Test_loss: tensor(0.1938, device='cuda:0')\n"
     ]
    },
    {
     "data": {
      "application/vnd.jupyter.widget-view+json": {
       "model_id": "651c5e488eb9403495834addfc7997c6",
       "version_major": 2,
       "version_minor": 0
      },
      "text/plain": [
       "  0%|          | 0/334 [00:00<?, ?it/s]"
      ]
     },
     "metadata": {},
     "output_type": "display_data"
    },
    {
     "name": "stdout",
     "output_type": "stream",
     "text": [
      "Train_loss: tensor(0.2184, device='cuda:0', grad_fn=<NllLossBackward0>)\n",
      "\n",
      "Attack success rate 8.70\n",
      "Test_loss: tensor(3.6443, device='cuda:0')\n",
      "\n",
      "Test clean Accuracy 88.33\n",
      "Test_loss: tensor(0.2544, device='cuda:0')\n",
      "\n",
      "Target test clean Accuracy 85.40\n",
      "Test_loss: tensor(0.4013, device='cuda:0')\n"
     ]
    },
    {
     "data": {
      "application/vnd.jupyter.widget-view+json": {
       "model_id": "4fd59c36ac0d4c5e9857086cac81404d",
       "version_major": 2,
       "version_minor": 0
      },
      "text/plain": [
       "  0%|          | 0/334 [00:00<?, ?it/s]"
      ]
     },
     "metadata": {},
     "output_type": "display_data"
    },
    {
     "name": "stdout",
     "output_type": "stream",
     "text": [
      "Train_loss: tensor(0.1827, device='cuda:0', grad_fn=<NllLossBackward0>)\n",
      "\n",
      "Attack success rate 69.28\n",
      "Test_loss: tensor(0.6100, device='cuda:0')\n",
      "\n",
      "Test clean Accuracy 85.10\n",
      "Test_loss: tensor(0.3470, device='cuda:0')\n",
      "\n",
      "Target test clean Accuracy 86.50\n",
      "Test_loss: tensor(0.4598, device='cuda:0')\n"
     ]
    },
    {
     "data": {
      "application/vnd.jupyter.widget-view+json": {
       "model_id": "d3fdbc731f1043479908d04108acbc75",
       "version_major": 2,
       "version_minor": 0
      },
      "text/plain": [
       "  0%|          | 0/334 [00:00<?, ?it/s]"
      ]
     },
     "metadata": {},
     "output_type": "display_data"
    },
    {
     "name": "stdout",
     "output_type": "stream",
     "text": [
      "Train_loss: tensor(0.4001, device='cuda:0', grad_fn=<NllLossBackward0>)\n",
      "\n",
      "Attack success rate 79.52\n",
      "Test_loss: tensor(0.5443, device='cuda:0')\n",
      "\n",
      "Test clean Accuracy 86.91\n",
      "Test_loss: tensor(0.2720, device='cuda:0')\n",
      "\n",
      "Target test clean Accuracy 88.80\n",
      "Test_loss: tensor(0.2027, device='cuda:0')\n"
     ]
    },
    {
     "data": {
      "application/vnd.jupyter.widget-view+json": {
       "model_id": "5873a8124a094348bd4039b7f0508bd6",
       "version_major": 2,
       "version_minor": 0
      },
      "text/plain": [
       "  0%|          | 0/334 [00:00<?, ?it/s]"
      ]
     },
     "metadata": {},
     "output_type": "display_data"
    },
    {
     "name": "stdout",
     "output_type": "stream",
     "text": [
      "Train_loss: tensor(0.1643, device='cuda:0', grad_fn=<NllLossBackward0>)\n",
      "\n",
      "Attack success rate 85.63\n",
      "Test_loss: tensor(0.5935, device='cuda:0')\n",
      "\n",
      "Test clean Accuracy 87.31\n",
      "Test_loss: tensor(0.2475, device='cuda:0')\n",
      "\n",
      "Target test clean Accuracy 89.40\n",
      "Test_loss: tensor(0.2455, device='cuda:0')\n"
     ]
    },
    {
     "data": {
      "application/vnd.jupyter.widget-view+json": {
       "model_id": "ce5f3d43dabf4d29bed3000283553710",
       "version_major": 2,
       "version_minor": 0
      },
      "text/plain": [
       "  0%|          | 0/334 [00:00<?, ?it/s]"
      ]
     },
     "metadata": {},
     "output_type": "display_data"
    },
    {
     "name": "stdout",
     "output_type": "stream",
     "text": [
      "Train_loss: tensor(0.1738, device='cuda:0', grad_fn=<NllLossBackward0>)\n",
      "\n",
      "Attack success rate 87.58\n",
      "Test_loss: tensor(0.2742, device='cuda:0')\n",
      "\n",
      "Test clean Accuracy 87.93\n",
      "Test_loss: tensor(0.2838, device='cuda:0')\n",
      "\n",
      "Target test clean Accuracy 88.00\n",
      "Test_loss: tensor(0.5316, device='cuda:0')\n"
     ]
    },
    {
     "data": {
      "application/vnd.jupyter.widget-view+json": {
       "model_id": "933f5542c6e947ccbbb16f588e1f640f",
       "version_major": 2,
       "version_minor": 0
      },
      "text/plain": [
       "  0%|          | 0/334 [00:00<?, ?it/s]"
      ]
     },
     "metadata": {},
     "output_type": "display_data"
    },
    {
     "name": "stdout",
     "output_type": "stream",
     "text": [
      "Train_loss: tensor(0.3348, device='cuda:0', grad_fn=<NllLossBackward0>)\n",
      "\n",
      "Attack success rate 87.43\n",
      "Test_loss: tensor(0.4105, device='cuda:0')\n",
      "\n",
      "Test clean Accuracy 87.07\n",
      "Test_loss: tensor(0.2871, device='cuda:0')\n",
      "\n",
      "Target test clean Accuracy 88.00\n",
      "Test_loss: tensor(0.4072, device='cuda:0')\n"
     ]
    },
    {
     "data": {
      "application/vnd.jupyter.widget-view+json": {
       "model_id": "d87ee637cce248908d20fd6816972fcc",
       "version_major": 2,
       "version_minor": 0
      },
      "text/plain": [
       "  0%|          | 0/334 [00:00<?, ?it/s]"
      ]
     },
     "metadata": {},
     "output_type": "display_data"
    },
    {
     "name": "stdout",
     "output_type": "stream",
     "text": [
      "Train_loss: tensor(0.3724, device='cuda:0', grad_fn=<NllLossBackward0>)\n",
      "\n",
      "Attack success rate 55.98\n",
      "Test_loss: tensor(1.2745, device='cuda:0')\n",
      "\n",
      "Test clean Accuracy 89.19\n",
      "Test_loss: tensor(0.2390, device='cuda:0')\n",
      "\n",
      "Target test clean Accuracy 89.80\n",
      "Test_loss: tensor(0.3880, device='cuda:0')\n"
     ]
    },
    {
     "data": {
      "application/vnd.jupyter.widget-view+json": {
       "model_id": "cd1815ecba064b55aa4a26a9c35533e3",
       "version_major": 2,
       "version_minor": 0
      },
      "text/plain": [
       "  0%|          | 0/334 [00:00<?, ?it/s]"
      ]
     },
     "metadata": {},
     "output_type": "display_data"
    },
    {
     "name": "stdout",
     "output_type": "stream",
     "text": [
      "Train_loss: tensor(0.2464, device='cuda:0', grad_fn=<NllLossBackward0>)\n",
      "\n",
      "Attack success rate 80.32\n",
      "Test_loss: tensor(0.6564, device='cuda:0')\n",
      "\n",
      "Test clean Accuracy 89.22\n",
      "Test_loss: tensor(0.3116, device='cuda:0')\n",
      "\n",
      "Target test clean Accuracy 86.40\n",
      "Test_loss: tensor(0.2961, device='cuda:0')\n"
     ]
    },
    {
     "data": {
      "application/vnd.jupyter.widget-view+json": {
       "model_id": "eadd5e8ca25644bb81fff9c2cf985b35",
       "version_major": 2,
       "version_minor": 0
      },
      "text/plain": [
       "  0%|          | 0/334 [00:00<?, ?it/s]"
      ]
     },
     "metadata": {},
     "output_type": "display_data"
    },
    {
     "name": "stdout",
     "output_type": "stream",
     "text": [
      "Train_loss: tensor(0.3629, device='cuda:0', grad_fn=<NllLossBackward0>)\n",
      "\n",
      "Attack success rate 29.72\n",
      "Test_loss: tensor(1.9688, device='cuda:0')\n",
      "\n",
      "Test clean Accuracy 88.52\n",
      "Test_loss: tensor(0.3214, device='cuda:0')\n",
      "\n",
      "Target test clean Accuracy 81.70\n",
      "Test_loss: tensor(0.7139, device='cuda:0')\n"
     ]
    },
    {
     "data": {
      "application/vnd.jupyter.widget-view+json": {
       "model_id": "e9c0f5233d3f48ceb8479cc2762866cc",
       "version_major": 2,
       "version_minor": 0
      },
      "text/plain": [
       "  0%|          | 0/334 [00:00<?, ?it/s]"
      ]
     },
     "metadata": {},
     "output_type": "display_data"
    },
    {
     "name": "stdout",
     "output_type": "stream",
     "text": [
      "Train_loss: tensor(0.2477, device='cuda:0', grad_fn=<NllLossBackward0>)\n",
      "\n",
      "Attack success rate 13.00\n",
      "Test_loss: tensor(3.5340, device='cuda:0')\n",
      "\n",
      "Test clean Accuracy 87.80\n",
      "Test_loss: tensor(0.3472, device='cuda:0')\n",
      "\n",
      "Target test clean Accuracy 83.30\n",
      "Test_loss: tensor(0.3577, device='cuda:0')\n"
     ]
    },
    {
     "data": {
      "application/vnd.jupyter.widget-view+json": {
       "model_id": "08fb6f5f83e94a0b8a84dd012de5e573",
       "version_major": 2,
       "version_minor": 0
      },
      "text/plain": [
       "  0%|          | 0/334 [00:00<?, ?it/s]"
      ]
     },
     "metadata": {},
     "output_type": "display_data"
    },
    {
     "name": "stdout",
     "output_type": "stream",
     "text": [
      "Train_loss: tensor(0.2384, device='cuda:0', grad_fn=<NllLossBackward0>)\n",
      "\n",
      "Attack success rate 32.02\n",
      "Test_loss: tensor(2.0978, device='cuda:0')\n",
      "\n",
      "Test clean Accuracy 88.31\n",
      "Test_loss: tensor(0.3026, device='cuda:0')\n",
      "\n",
      "Target test clean Accuracy 92.50\n",
      "Test_loss: tensor(0.1009, device='cuda:0')\n"
     ]
    },
    {
     "data": {
      "application/vnd.jupyter.widget-view+json": {
       "model_id": "48d11d5e47ca43d1a60d1e26fbd5b3de",
       "version_major": 2,
       "version_minor": 0
      },
      "text/plain": [
       "  0%|          | 0/334 [00:00<?, ?it/s]"
      ]
     },
     "metadata": {},
     "output_type": "display_data"
    },
    {
     "name": "stdout",
     "output_type": "stream",
     "text": [
      "Train_loss: tensor(0.1757, device='cuda:0', grad_fn=<NllLossBackward0>)\n",
      "\n",
      "Attack success rate 45.68\n",
      "Test_loss: tensor(1.6016, device='cuda:0')\n",
      "\n",
      "Test clean Accuracy 90.02\n",
      "Test_loss: tensor(0.2667, device='cuda:0')\n",
      "\n",
      "Target test clean Accuracy 84.90\n",
      "Test_loss: tensor(0.3592, device='cuda:0')\n"
     ]
    },
    {
     "data": {
      "application/vnd.jupyter.widget-view+json": {
       "model_id": "974abab9c28d4d0487ee750d5f36961c",
       "version_major": 2,
       "version_minor": 0
      },
      "text/plain": [
       "  0%|          | 0/334 [00:00<?, ?it/s]"
      ]
     },
     "metadata": {},
     "output_type": "display_data"
    },
    {
     "name": "stdout",
     "output_type": "stream",
     "text": [
      "Train_loss: tensor(0.1445, device='cuda:0', grad_fn=<NllLossBackward0>)\n",
      "\n",
      "Attack success rate 15.82\n",
      "Test_loss: tensor(2.8670, device='cuda:0')\n",
      "\n",
      "Test clean Accuracy 88.22\n",
      "Test_loss: tensor(0.2613, device='cuda:0')\n",
      "\n",
      "Target test clean Accuracy 82.50\n",
      "Test_loss: tensor(0.6577, device='cuda:0')\n"
     ]
    },
    {
     "data": {
      "application/vnd.jupyter.widget-view+json": {
       "model_id": "dca1ed7571e949858feb23e9470e0c0a",
       "version_major": 2,
       "version_minor": 0
      },
      "text/plain": [
       "  0%|          | 0/334 [00:00<?, ?it/s]"
      ]
     },
     "metadata": {},
     "output_type": "display_data"
    },
    {
     "name": "stdout",
     "output_type": "stream",
     "text": [
      "Train_loss: tensor(0.3876, device='cuda:0', grad_fn=<NllLossBackward0>)\n",
      "\n",
      "Attack success rate 76.22\n",
      "Test_loss: tensor(0.9407, device='cuda:0')\n",
      "\n",
      "Test clean Accuracy 88.86\n",
      "Test_loss: tensor(0.3456, device='cuda:0')\n",
      "\n",
      "Target test clean Accuracy 87.30\n",
      "Test_loss: tensor(0.4838, device='cuda:0')\n"
     ]
    },
    {
     "data": {
      "application/vnd.jupyter.widget-view+json": {
       "model_id": "18431995a8eb44799d4a1f66c28ce047",
       "version_major": 2,
       "version_minor": 0
      },
      "text/plain": [
       "  0%|          | 0/334 [00:00<?, ?it/s]"
      ]
     },
     "metadata": {},
     "output_type": "display_data"
    },
    {
     "name": "stdout",
     "output_type": "stream",
     "text": [
      "Train_loss: tensor(0.2137, device='cuda:0', grad_fn=<NllLossBackward0>)\n",
      "\n",
      "Attack success rate 43.30\n",
      "Test_loss: tensor(1.6046, device='cuda:0')\n",
      "\n",
      "Test clean Accuracy 88.99\n",
      "Test_loss: tensor(0.2872, device='cuda:0')\n",
      "\n",
      "Target test clean Accuracy 83.00\n",
      "Test_loss: tensor(0.5776, device='cuda:0')\n"
     ]
    },
    {
     "data": {
      "application/vnd.jupyter.widget-view+json": {
       "model_id": "8897737588104c8d92b16eebf269ae8f",
       "version_major": 2,
       "version_minor": 0
      },
      "text/plain": [
       "  0%|          | 0/334 [00:00<?, ?it/s]"
      ]
     },
     "metadata": {},
     "output_type": "display_data"
    },
    {
     "name": "stdout",
     "output_type": "stream",
     "text": [
      "Train_loss: tensor(0.2881, device='cuda:0', grad_fn=<NllLossBackward0>)\n",
      "\n",
      "Attack success rate 25.78\n",
      "Test_loss: tensor(1.9375, device='cuda:0')\n",
      "\n",
      "Test clean Accuracy 88.18\n",
      "Test_loss: tensor(0.2927, device='cuda:0')\n",
      "\n",
      "Target test clean Accuracy 64.30\n",
      "Test_loss: tensor(1.0624, device='cuda:0')\n"
     ]
    },
    {
     "data": {
      "application/vnd.jupyter.widget-view+json": {
       "model_id": "c09c30f015b044aa83234be3b7082685",
       "version_major": 2,
       "version_minor": 0
      },
      "text/plain": [
       "  0%|          | 0/334 [00:00<?, ?it/s]"
      ]
     },
     "metadata": {},
     "output_type": "display_data"
    },
    {
     "name": "stdout",
     "output_type": "stream",
     "text": [
      "Train_loss: tensor(0.1259, device='cuda:0', grad_fn=<NllLossBackward0>)\n",
      "\n",
      "Attack success rate 82.84\n",
      "Test_loss: tensor(0.6347, device='cuda:0')\n",
      "\n",
      "Test clean Accuracy 88.28\n",
      "Test_loss: tensor(0.2586, device='cuda:0')\n",
      "\n",
      "Target test clean Accuracy 91.70\n",
      "Test_loss: tensor(0.0939, device='cuda:0')\n"
     ]
    },
    {
     "data": {
      "application/vnd.jupyter.widget-view+json": {
       "model_id": "c282da58cf8149a6a4b21502dc1fb35d",
       "version_major": 2,
       "version_minor": 0
      },
      "text/plain": [
       "  0%|          | 0/334 [00:00<?, ?it/s]"
      ]
     },
     "metadata": {},
     "output_type": "display_data"
    },
    {
     "name": "stdout",
     "output_type": "stream",
     "text": [
      "Train_loss: tensor(0.2158, device='cuda:0', grad_fn=<NllLossBackward0>)\n",
      "\n",
      "Attack success rate 9.61\n",
      "Test_loss: tensor(3.3988, device='cuda:0')\n",
      "\n",
      "Test clean Accuracy 89.23\n",
      "Test_loss: tensor(0.3089, device='cuda:0')\n",
      "\n",
      "Target test clean Accuracy 86.10\n",
      "Test_loss: tensor(0.4055, device='cuda:0')\n"
     ]
    },
    {
     "data": {
      "application/vnd.jupyter.widget-view+json": {
       "model_id": "bd6d1db0e3a5475397dc9b12260cbfb8",
       "version_major": 2,
       "version_minor": 0
      },
      "text/plain": [
       "  0%|          | 0/334 [00:00<?, ?it/s]"
      ]
     },
     "metadata": {},
     "output_type": "display_data"
    },
    {
     "name": "stdout",
     "output_type": "stream",
     "text": [
      "Train_loss: tensor(0.0755, device='cuda:0', grad_fn=<NllLossBackward0>)\n",
      "\n",
      "Attack success rate 67.24\n",
      "Test_loss: tensor(0.9829, device='cuda:0')\n",
      "\n",
      "Test clean Accuracy 87.84\n",
      "Test_loss: tensor(0.2444, device='cuda:0')\n",
      "\n",
      "Target test clean Accuracy 92.00\n",
      "Test_loss: tensor(0.2335, device='cuda:0')\n"
     ]
    },
    {
     "data": {
      "application/vnd.jupyter.widget-view+json": {
       "model_id": "1ec157876f4e4220837d1f57923ae01f",
       "version_major": 2,
       "version_minor": 0
      },
      "text/plain": [
       "  0%|          | 0/334 [00:00<?, ?it/s]"
      ]
     },
     "metadata": {},
     "output_type": "display_data"
    },
    {
     "name": "stdout",
     "output_type": "stream",
     "text": [
      "Train_loss: tensor(0.1846, device='cuda:0', grad_fn=<NllLossBackward0>)\n",
      "\n",
      "Attack success rate 56.53\n",
      "Test_loss: tensor(1.0355, device='cuda:0')\n",
      "\n",
      "Test clean Accuracy 88.41\n",
      "Test_loss: tensor(0.2956, device='cuda:0')\n",
      "\n",
      "Target test clean Accuracy 93.60\n",
      "Test_loss: tensor(0.1932, device='cuda:0')\n"
     ]
    },
    {
     "data": {
      "application/vnd.jupyter.widget-view+json": {
       "model_id": "0c6c4539a10941b3b35edc7efa9a1119",
       "version_major": 2,
       "version_minor": 0
      },
      "text/plain": [
       "  0%|          | 0/334 [00:00<?, ?it/s]"
      ]
     },
     "metadata": {},
     "output_type": "display_data"
    },
    {
     "name": "stdout",
     "output_type": "stream",
     "text": [
      "Train_loss: tensor(0.0797, device='cuda:0', grad_fn=<NllLossBackward0>)\n",
      "\n",
      "Attack success rate 30.94\n",
      "Test_loss: tensor(2.1025, device='cuda:0')\n",
      "\n",
      "Test clean Accuracy 88.84\n",
      "Test_loss: tensor(0.1939, device='cuda:0')\n",
      "\n",
      "Target test clean Accuracy 92.20\n",
      "Test_loss: tensor(0.1244, device='cuda:0')\n"
     ]
    },
    {
     "data": {
      "application/vnd.jupyter.widget-view+json": {
       "model_id": "02eda6d81a5e4dc387d9bbe562b6e66b",
       "version_major": 2,
       "version_minor": 0
      },
      "text/plain": [
       "  0%|          | 0/334 [00:00<?, ?it/s]"
      ]
     },
     "metadata": {},
     "output_type": "display_data"
    },
    {
     "name": "stdout",
     "output_type": "stream",
     "text": [
      "Train_loss: tensor(0.1820, device='cuda:0', grad_fn=<NllLossBackward0>)\n",
      "\n",
      "Attack success rate 37.27\n",
      "Test_loss: tensor(2.2674, device='cuda:0')\n",
      "\n",
      "Test clean Accuracy 88.38\n",
      "Test_loss: tensor(0.2453, device='cuda:0')\n",
      "\n",
      "Target test clean Accuracy 88.70\n",
      "Test_loss: tensor(0.4491, device='cuda:0')\n"
     ]
    },
    {
     "data": {
      "application/vnd.jupyter.widget-view+json": {
       "model_id": "87107d4c4b9348e094797a1bf82110b7",
       "version_major": 2,
       "version_minor": 0
      },
      "text/plain": [
       "  0%|          | 0/334 [00:00<?, ?it/s]"
      ]
     },
     "metadata": {},
     "output_type": "display_data"
    },
    {
     "name": "stdout",
     "output_type": "stream",
     "text": [
      "Train_loss: tensor(0.1283, device='cuda:0', grad_fn=<NllLossBackward0>)\n",
      "\n",
      "Attack success rate 99.19\n",
      "Test_loss: tensor(0.0319, device='cuda:0')\n",
      "\n",
      "Test clean Accuracy 89.51\n",
      "Test_loss: tensor(0.3475, device='cuda:0')\n",
      "\n",
      "Target test clean Accuracy 88.30\n",
      "Test_loss: tensor(0.3081, device='cuda:0')\n"
     ]
    },
    {
     "data": {
      "application/vnd.jupyter.widget-view+json": {
       "model_id": "1bfb8f2c8b934b2e8c74d1abb9e243bb",
       "version_major": 2,
       "version_minor": 0
      },
      "text/plain": [
       "  0%|          | 0/334 [00:00<?, ?it/s]"
      ]
     },
     "metadata": {},
     "output_type": "display_data"
    },
    {
     "name": "stdout",
     "output_type": "stream",
     "text": [
      "Train_loss: tensor(0.2331, device='cuda:0', grad_fn=<NllLossBackward0>)\n",
      "\n",
      "Attack success rate 28.63\n",
      "Test_loss: tensor(2.3132, device='cuda:0')\n",
      "\n",
      "Test clean Accuracy 88.13\n",
      "Test_loss: tensor(0.3318, device='cuda:0')\n",
      "\n",
      "Target test clean Accuracy 78.80\n",
      "Test_loss: tensor(0.9009, device='cuda:0')\n"
     ]
    },
    {
     "data": {
      "application/vnd.jupyter.widget-view+json": {
       "model_id": "f01bdf9331b2467aa335b2ebd5a9faca",
       "version_major": 2,
       "version_minor": 0
      },
      "text/plain": [
       "  0%|          | 0/334 [00:00<?, ?it/s]"
      ]
     },
     "metadata": {},
     "output_type": "display_data"
    },
    {
     "name": "stdout",
     "output_type": "stream",
     "text": [
      "Train_loss: tensor(0.2620, device='cuda:0', grad_fn=<NllLossBackward0>)\n",
      "\n",
      "Attack success rate 58.20\n",
      "Test_loss: tensor(1.1510, device='cuda:0')\n",
      "\n",
      "Test clean Accuracy 89.97\n",
      "Test_loss: tensor(0.3802, device='cuda:0')\n",
      "\n",
      "Target test clean Accuracy 76.80\n",
      "Test_loss: tensor(0.5816, device='cuda:0')\n"
     ]
    },
    {
     "data": {
      "application/vnd.jupyter.widget-view+json": {
       "model_id": "1cb0a935d81c4dd9b4c78d7580ea410f",
       "version_major": 2,
       "version_minor": 0
      },
      "text/plain": [
       "  0%|          | 0/334 [00:00<?, ?it/s]"
      ]
     },
     "metadata": {},
     "output_type": "display_data"
    },
    {
     "name": "stdout",
     "output_type": "stream",
     "text": [
      "Train_loss: tensor(0.0441, device='cuda:0', grad_fn=<NllLossBackward0>)\n",
      "\n",
      "Attack success rate 77.26\n",
      "Test_loss: tensor(0.8164, device='cuda:0')\n",
      "\n",
      "Test clean Accuracy 87.37\n",
      "Test_loss: tensor(0.4992, device='cuda:0')\n",
      "\n",
      "Target test clean Accuracy 75.80\n",
      "Test_loss: tensor(0.7967, device='cuda:0')\n"
     ]
    },
    {
     "data": {
      "application/vnd.jupyter.widget-view+json": {
       "model_id": "aab5e7a9715e450db7b27adf5a8d8f9f",
       "version_major": 2,
       "version_minor": 0
      },
      "text/plain": [
       "  0%|          | 0/334 [00:00<?, ?it/s]"
      ]
     },
     "metadata": {},
     "output_type": "display_data"
    },
    {
     "name": "stdout",
     "output_type": "stream",
     "text": [
      "Train_loss: tensor(0.3096, device='cuda:0', grad_fn=<NllLossBackward0>)\n",
      "\n",
      "Attack success rate 92.26\n",
      "Test_loss: tensor(0.2022, device='cuda:0')\n",
      "\n",
      "Test clean Accuracy 90.11\n",
      "Test_loss: tensor(0.4006, device='cuda:0')\n",
      "\n",
      "Target test clean Accuracy 92.90\n",
      "Test_loss: tensor(0.1946, device='cuda:0')\n"
     ]
    },
    {
     "data": {
      "application/vnd.jupyter.widget-view+json": {
       "model_id": "fd75c3732e3e49e5a80ab935b9fa5e84",
       "version_major": 2,
       "version_minor": 0
      },
      "text/plain": [
       "  0%|          | 0/334 [00:00<?, ?it/s]"
      ]
     },
     "metadata": {},
     "output_type": "display_data"
    },
    {
     "name": "stdout",
     "output_type": "stream",
     "text": [
      "Train_loss: tensor(0.1801, device='cuda:0', grad_fn=<NllLossBackward0>)\n",
      "\n",
      "Attack success rate 92.07\n",
      "Test_loss: tensor(0.2731, device='cuda:0')\n",
      "\n",
      "Test clean Accuracy 85.91\n",
      "Test_loss: tensor(0.3673, device='cuda:0')\n",
      "\n",
      "Target test clean Accuracy 83.20\n",
      "Test_loss: tensor(0.6838, device='cuda:0')\n"
     ]
    },
    {
     "data": {
      "application/vnd.jupyter.widget-view+json": {
       "model_id": "767d46feee1d4b479edfc625102dad4d",
       "version_major": 2,
       "version_minor": 0
      },
      "text/plain": [
       "  0%|          | 0/334 [00:00<?, ?it/s]"
      ]
     },
     "metadata": {},
     "output_type": "display_data"
    },
    {
     "name": "stdout",
     "output_type": "stream",
     "text": [
      "Train_loss: tensor(0.2044, device='cuda:0', grad_fn=<NllLossBackward0>)\n",
      "\n",
      "Attack success rate 87.57\n",
      "Test_loss: tensor(0.4891, device='cuda:0')\n",
      "\n",
      "Test clean Accuracy 89.30\n",
      "Test_loss: tensor(0.2910, device='cuda:0')\n",
      "\n",
      "Target test clean Accuracy 79.10\n",
      "Test_loss: tensor(0.4598, device='cuda:0')\n"
     ]
    },
    {
     "data": {
      "application/vnd.jupyter.widget-view+json": {
       "model_id": "a56213d45b6a496dbab77b35c40f1bf3",
       "version_major": 2,
       "version_minor": 0
      },
      "text/plain": [
       "  0%|          | 0/334 [00:00<?, ?it/s]"
      ]
     },
     "metadata": {},
     "output_type": "display_data"
    },
    {
     "name": "stdout",
     "output_type": "stream",
     "text": [
      "Train_loss: tensor(0.1621, device='cuda:0', grad_fn=<NllLossBackward0>)\n",
      "\n",
      "Attack success rate 55.68\n",
      "Test_loss: tensor(1.4897, device='cuda:0')\n",
      "\n",
      "Test clean Accuracy 90.20\n",
      "Test_loss: tensor(0.2665, device='cuda:0')\n",
      "\n",
      "Target test clean Accuracy 89.80\n",
      "Test_loss: tensor(0.5166, device='cuda:0')\n"
     ]
    },
    {
     "data": {
      "application/vnd.jupyter.widget-view+json": {
       "model_id": "d469767fd31349d691bd114384a725a8",
       "version_major": 2,
       "version_minor": 0
      },
      "text/plain": [
       "  0%|          | 0/334 [00:00<?, ?it/s]"
      ]
     },
     "metadata": {},
     "output_type": "display_data"
    },
    {
     "name": "stdout",
     "output_type": "stream",
     "text": [
      "Train_loss: tensor(0.2970, device='cuda:0', grad_fn=<NllLossBackward0>)\n",
      "\n",
      "Attack success rate 81.76\n",
      "Test_loss: tensor(0.5091, device='cuda:0')\n",
      "\n",
      "Test clean Accuracy 90.13\n",
      "Test_loss: tensor(0.1750, device='cuda:0')\n",
      "\n",
      "Target test clean Accuracy 92.10\n",
      "Test_loss: tensor(0.2989, device='cuda:0')\n"
     ]
    },
    {
     "data": {
      "application/vnd.jupyter.widget-view+json": {
       "model_id": "bd9a4f911f8f4b6fa5004328ea4337f6",
       "version_major": 2,
       "version_minor": 0
      },
      "text/plain": [
       "  0%|          | 0/334 [00:00<?, ?it/s]"
      ]
     },
     "metadata": {},
     "output_type": "display_data"
    },
    {
     "name": "stdout",
     "output_type": "stream",
     "text": [
      "Train_loss: tensor(0.2810, device='cuda:0', grad_fn=<NllLossBackward0>)\n",
      "\n",
      "Attack success rate 25.41\n",
      "Test_loss: tensor(2.2490, device='cuda:0')\n",
      "\n",
      "Test clean Accuracy 89.41\n",
      "Test_loss: tensor(0.0983, device='cuda:0')\n",
      "\n",
      "Target test clean Accuracy 92.00\n",
      "Test_loss: tensor(0.2570, device='cuda:0')\n"
     ]
    },
    {
     "data": {
      "application/vnd.jupyter.widget-view+json": {
       "model_id": "2e43239eb67241c587bf64c955b60df4",
       "version_major": 2,
       "version_minor": 0
      },
      "text/plain": [
       "  0%|          | 0/334 [00:00<?, ?it/s]"
      ]
     },
     "metadata": {},
     "output_type": "display_data"
    },
    {
     "name": "stdout",
     "output_type": "stream",
     "text": [
      "Train_loss: tensor(0.1747, device='cuda:0', grad_fn=<NllLossBackward0>)\n",
      "\n",
      "Attack success rate 68.24\n",
      "Test_loss: tensor(0.8944, device='cuda:0')\n",
      "\n",
      "Test clean Accuracy 90.16\n",
      "Test_loss: tensor(0.3982, device='cuda:0')\n",
      "\n",
      "Target test clean Accuracy 90.10\n",
      "Test_loss: tensor(0.2163, device='cuda:0')\n"
     ]
    },
    {
     "data": {
      "application/vnd.jupyter.widget-view+json": {
       "model_id": "a5017195ecfc4303a2b0359d9b1ad63b",
       "version_major": 2,
       "version_minor": 0
      },
      "text/plain": [
       "  0%|          | 0/334 [00:00<?, ?it/s]"
      ]
     },
     "metadata": {},
     "output_type": "display_data"
    },
    {
     "name": "stdout",
     "output_type": "stream",
     "text": [
      "Train_loss: tensor(0.2178, device='cuda:0', grad_fn=<NllLossBackward0>)\n",
      "\n",
      "Attack success rate 57.94\n",
      "Test_loss: tensor(1.7199, device='cuda:0')\n",
      "\n",
      "Test clean Accuracy 90.64\n",
      "Test_loss: tensor(0.2361, device='cuda:0')\n",
      "\n",
      "Target test clean Accuracy 91.60\n",
      "Test_loss: tensor(0.1743, device='cuda:0')\n"
     ]
    },
    {
     "data": {
      "application/vnd.jupyter.widget-view+json": {
       "model_id": "806cc00c9b9b409e95ff4166ab59e1ed",
       "version_major": 2,
       "version_minor": 0
      },
      "text/plain": [
       "  0%|          | 0/334 [00:00<?, ?it/s]"
      ]
     },
     "metadata": {},
     "output_type": "display_data"
    },
    {
     "name": "stdout",
     "output_type": "stream",
     "text": [
      "Train_loss: tensor(0.1365, device='cuda:0', grad_fn=<NllLossBackward0>)\n",
      "\n",
      "Attack success rate 43.27\n",
      "Test_loss: tensor(1.7520, device='cuda:0')\n",
      "\n",
      "Test clean Accuracy 90.58\n",
      "Test_loss: tensor(0.1754, device='cuda:0')\n",
      "\n",
      "Target test clean Accuracy 85.70\n",
      "Test_loss: tensor(0.5889, device='cuda:0')\n"
     ]
    },
    {
     "data": {
      "application/vnd.jupyter.widget-view+json": {
       "model_id": "6e03a7cf08f04d2dbe4495ef03dcc5b9",
       "version_major": 2,
       "version_minor": 0
      },
      "text/plain": [
       "  0%|          | 0/334 [00:00<?, ?it/s]"
      ]
     },
     "metadata": {},
     "output_type": "display_data"
    },
    {
     "name": "stdout",
     "output_type": "stream",
     "text": [
      "Train_loss: tensor(0.0825, device='cuda:0', grad_fn=<NllLossBackward0>)\n",
      "\n",
      "Attack success rate 61.81\n",
      "Test_loss: tensor(1.2171, device='cuda:0')\n",
      "\n",
      "Test clean Accuracy 90.37\n",
      "Test_loss: tensor(0.1767, device='cuda:0')\n",
      "\n",
      "Target test clean Accuracy 85.30\n",
      "Test_loss: tensor(0.5991, device='cuda:0')\n"
     ]
    },
    {
     "data": {
      "application/vnd.jupyter.widget-view+json": {
       "model_id": "c1d8480e0bee4c2999f623f26e3e1e90",
       "version_major": 2,
       "version_minor": 0
      },
      "text/plain": [
       "  0%|          | 0/334 [00:00<?, ?it/s]"
      ]
     },
     "metadata": {},
     "output_type": "display_data"
    },
    {
     "name": "stdout",
     "output_type": "stream",
     "text": [
      "Train_loss: tensor(0.0568, device='cuda:0', grad_fn=<NllLossBackward0>)\n",
      "\n",
      "Attack success rate 9.38\n",
      "Test_loss: tensor(3.2979, device='cuda:0')\n",
      "\n",
      "Test clean Accuracy 91.28\n",
      "Test_loss: tensor(0.2881, device='cuda:0')\n",
      "\n",
      "Target test clean Accuracy 89.40\n",
      "Test_loss: tensor(0.3812, device='cuda:0')\n"
     ]
    },
    {
     "data": {
      "application/vnd.jupyter.widget-view+json": {
       "model_id": "6abfd0151bff46629fbd60c1629f80ad",
       "version_major": 2,
       "version_minor": 0
      },
      "text/plain": [
       "  0%|          | 0/334 [00:00<?, ?it/s]"
      ]
     },
     "metadata": {},
     "output_type": "display_data"
    },
    {
     "name": "stdout",
     "output_type": "stream",
     "text": [
      "Train_loss: tensor(0.1086, device='cuda:0', grad_fn=<NllLossBackward0>)\n",
      "\n",
      "Attack success rate 36.57\n",
      "Test_loss: tensor(2.1789, device='cuda:0')\n",
      "\n",
      "Test clean Accuracy 89.74\n",
      "Test_loss: tensor(0.3633, device='cuda:0')\n",
      "\n",
      "Target test clean Accuracy 88.20\n",
      "Test_loss: tensor(0.3884, device='cuda:0')\n"
     ]
    },
    {
     "data": {
      "application/vnd.jupyter.widget-view+json": {
       "model_id": "8ca2a887045e44da8eb0f3ab28e1d244",
       "version_major": 2,
       "version_minor": 0
      },
      "text/plain": [
       "  0%|          | 0/334 [00:00<?, ?it/s]"
      ]
     },
     "metadata": {},
     "output_type": "display_data"
    },
    {
     "name": "stdout",
     "output_type": "stream",
     "text": [
      "Train_loss: tensor(0.1639, device='cuda:0', grad_fn=<NllLossBackward0>)\n",
      "\n",
      "Attack success rate 47.92\n",
      "Test_loss: tensor(1.5898, device='cuda:0')\n",
      "\n",
      "Test clean Accuracy 91.09\n",
      "Test_loss: tensor(0.2597, device='cuda:0')\n",
      "\n",
      "Target test clean Accuracy 86.20\n",
      "Test_loss: tensor(0.2921, device='cuda:0')\n"
     ]
    },
    {
     "data": {
      "application/vnd.jupyter.widget-view+json": {
       "model_id": "2d5d2e127d3643ba90781d9fc50aafae",
       "version_major": 2,
       "version_minor": 0
      },
      "text/plain": [
       "  0%|          | 0/334 [00:00<?, ?it/s]"
      ]
     },
     "metadata": {},
     "output_type": "display_data"
    },
    {
     "name": "stdout",
     "output_type": "stream",
     "text": [
      "Train_loss: tensor(0.2866, device='cuda:0', grad_fn=<NllLossBackward0>)\n",
      "\n",
      "Attack success rate 74.18\n",
      "Test_loss: tensor(0.7201, device='cuda:0')\n",
      "\n",
      "Test clean Accuracy 90.37\n",
      "Test_loss: tensor(0.2082, device='cuda:0')\n",
      "\n",
      "Target test clean Accuracy 92.50\n",
      "Test_loss: tensor(0.1389, device='cuda:0')\n"
     ]
    },
    {
     "data": {
      "application/vnd.jupyter.widget-view+json": {
       "model_id": "27187af5cc4f4692bf883aac0c5ccf3b",
       "version_major": 2,
       "version_minor": 0
      },
      "text/plain": [
       "  0%|          | 0/334 [00:00<?, ?it/s]"
      ]
     },
     "metadata": {},
     "output_type": "display_data"
    },
    {
     "name": "stdout",
     "output_type": "stream",
     "text": [
      "Train_loss: tensor(0.0517, device='cuda:0', grad_fn=<NllLossBackward0>)\n",
      "\n",
      "Attack success rate 19.37\n",
      "Test_loss: tensor(3.1235, device='cuda:0')\n",
      "\n",
      "Test clean Accuracy 90.67\n",
      "Test_loss: tensor(0.2097, device='cuda:0')\n",
      "\n",
      "Target test clean Accuracy 87.40\n",
      "Test_loss: tensor(0.5328, device='cuda:0')\n"
     ]
    },
    {
     "data": {
      "application/vnd.jupyter.widget-view+json": {
       "model_id": "9dfa8c3e484b4e68ba897dc2c0aa8769",
       "version_major": 2,
       "version_minor": 0
      },
      "text/plain": [
       "  0%|          | 0/334 [00:00<?, ?it/s]"
      ]
     },
     "metadata": {},
     "output_type": "display_data"
    },
    {
     "name": "stdout",
     "output_type": "stream",
     "text": [
      "Train_loss: tensor(0.2215, device='cuda:0', grad_fn=<NllLossBackward0>)\n",
      "\n",
      "Attack success rate 79.21\n",
      "Test_loss: tensor(0.6680, device='cuda:0')\n",
      "\n",
      "Test clean Accuracy 89.91\n",
      "Test_loss: tensor(0.1661, device='cuda:0')\n",
      "\n",
      "Target test clean Accuracy 86.40\n",
      "Test_loss: tensor(0.5702, device='cuda:0')\n"
     ]
    },
    {
     "data": {
      "application/vnd.jupyter.widget-view+json": {
       "model_id": "90a46df2bbe746f695cfcfed938203eb",
       "version_major": 2,
       "version_minor": 0
      },
      "text/plain": [
       "  0%|          | 0/334 [00:00<?, ?it/s]"
      ]
     },
     "metadata": {},
     "output_type": "display_data"
    },
    {
     "name": "stdout",
     "output_type": "stream",
     "text": [
      "Train_loss: tensor(0.0628, device='cuda:0', grad_fn=<NllLossBackward0>)\n",
      "\n",
      "Attack success rate 15.40\n",
      "Test_loss: tensor(3.2786, device='cuda:0')\n",
      "\n",
      "Test clean Accuracy 90.88\n",
      "Test_loss: tensor(0.1918, device='cuda:0')\n",
      "\n",
      "Target test clean Accuracy 86.90\n",
      "Test_loss: tensor(0.3628, device='cuda:0')\n"
     ]
    },
    {
     "data": {
      "application/vnd.jupyter.widget-view+json": {
       "model_id": "0bee5668661c43fabef9400678316181",
       "version_major": 2,
       "version_minor": 0
      },
      "text/plain": [
       "  0%|          | 0/334 [00:00<?, ?it/s]"
      ]
     },
     "metadata": {},
     "output_type": "display_data"
    },
    {
     "name": "stdout",
     "output_type": "stream",
     "text": [
      "Train_loss: tensor(0.0676, device='cuda:0', grad_fn=<NllLossBackward0>)\n",
      "\n",
      "Attack success rate 43.92\n",
      "Test_loss: tensor(2.3693, device='cuda:0')\n",
      "\n",
      "Test clean Accuracy 89.98\n",
      "Test_loss: tensor(0.2061, device='cuda:0')\n",
      "\n",
      "Target test clean Accuracy 90.80\n",
      "Test_loss: tensor(0.3315, device='cuda:0')\n"
     ]
    },
    {
     "data": {
      "application/vnd.jupyter.widget-view+json": {
       "model_id": "00ae772abdfb4cbda0be269a1b15b2ea",
       "version_major": 2,
       "version_minor": 0
      },
      "text/plain": [
       "  0%|          | 0/334 [00:00<?, ?it/s]"
      ]
     },
     "metadata": {},
     "output_type": "display_data"
    },
    {
     "name": "stdout",
     "output_type": "stream",
     "text": [
      "Train_loss: tensor(0.3114, device='cuda:0', grad_fn=<NllLossBackward0>)\n",
      "\n",
      "Attack success rate 53.67\n",
      "Test_loss: tensor(1.7181, device='cuda:0')\n",
      "\n",
      "Test clean Accuracy 89.30\n",
      "Test_loss: tensor(0.2228, device='cuda:0')\n",
      "\n",
      "Target test clean Accuracy 91.70\n",
      "Test_loss: tensor(0.4023, device='cuda:0')\n"
     ]
    },
    {
     "data": {
      "application/vnd.jupyter.widget-view+json": {
       "model_id": "1f829a66e8944d93bbb91d63d9b54c16",
       "version_major": 2,
       "version_minor": 0
      },
      "text/plain": [
       "  0%|          | 0/334 [00:00<?, ?it/s]"
      ]
     },
     "metadata": {},
     "output_type": "display_data"
    },
    {
     "name": "stdout",
     "output_type": "stream",
     "text": [
      "Train_loss: tensor(0.1047, device='cuda:0', grad_fn=<NllLossBackward0>)\n",
      "\n",
      "Attack success rate 29.66\n",
      "Test_loss: tensor(2.2330, device='cuda:0')\n",
      "\n",
      "Test clean Accuracy 90.28\n",
      "Test_loss: tensor(0.3365, device='cuda:0')\n",
      "\n",
      "Target test clean Accuracy 91.70\n",
      "Test_loss: tensor(0.4664, device='cuda:0')\n"
     ]
    },
    {
     "data": {
      "application/vnd.jupyter.widget-view+json": {
       "model_id": "14c84200bbfd4205b2838a39515c2a65",
       "version_major": 2,
       "version_minor": 0
      },
      "text/plain": [
       "  0%|          | 0/334 [00:00<?, ?it/s]"
      ]
     },
     "metadata": {},
     "output_type": "display_data"
    },
    {
     "name": "stdout",
     "output_type": "stream",
     "text": [
      "Train_loss: tensor(0.0919, device='cuda:0', grad_fn=<NllLossBackward0>)\n",
      "\n",
      "Attack success rate 63.91\n",
      "Test_loss: tensor(0.9645, device='cuda:0')\n",
      "\n",
      "Test clean Accuracy 89.58\n",
      "Test_loss: tensor(0.2782, device='cuda:0')\n",
      "\n",
      "Target test clean Accuracy 91.10\n",
      "Test_loss: tensor(0.2727, device='cuda:0')\n"
     ]
    },
    {
     "data": {
      "application/vnd.jupyter.widget-view+json": {
       "model_id": "5be8a79dd7e24f64a9497179ced35671",
       "version_major": 2,
       "version_minor": 0
      },
      "text/plain": [
       "  0%|          | 0/334 [00:00<?, ?it/s]"
      ]
     },
     "metadata": {},
     "output_type": "display_data"
    },
    {
     "name": "stdout",
     "output_type": "stream",
     "text": [
      "Train_loss: tensor(0.1690, device='cuda:0', grad_fn=<NllLossBackward0>)\n",
      "\n",
      "Attack success rate 10.18\n",
      "Test_loss: tensor(4.3297, device='cuda:0')\n",
      "\n",
      "Test clean Accuracy 91.73\n",
      "Test_loss: tensor(0.1889, device='cuda:0')\n",
      "\n",
      "Target test clean Accuracy 85.10\n",
      "Test_loss: tensor(0.2267, device='cuda:0')\n"
     ]
    },
    {
     "data": {
      "application/vnd.jupyter.widget-view+json": {
       "model_id": "c0b340fd13884e6196eb4636f6bb0fa2",
       "version_major": 2,
       "version_minor": 0
      },
      "text/plain": [
       "  0%|          | 0/334 [00:00<?, ?it/s]"
      ]
     },
     "metadata": {},
     "output_type": "display_data"
    },
    {
     "name": "stdout",
     "output_type": "stream",
     "text": [
      "Train_loss: tensor(0.1253, device='cuda:0', grad_fn=<NllLossBackward0>)\n",
      "\n",
      "Attack success rate 74.48\n",
      "Test_loss: tensor(0.7478, device='cuda:0')\n",
      "\n",
      "Test clean Accuracy 90.99\n",
      "Test_loss: tensor(0.1213, device='cuda:0')\n",
      "\n",
      "Target test clean Accuracy 93.10\n",
      "Test_loss: tensor(0.2662, device='cuda:0')\n"
     ]
    },
    {
     "data": {
      "application/vnd.jupyter.widget-view+json": {
       "model_id": "e9e5d4d25d45474c8fdf1f2ffdc83520",
       "version_major": 2,
       "version_minor": 0
      },
      "text/plain": [
       "  0%|          | 0/334 [00:00<?, ?it/s]"
      ]
     },
     "metadata": {},
     "output_type": "display_data"
    },
    {
     "name": "stdout",
     "output_type": "stream",
     "text": [
      "Train_loss: tensor(0.0705, device='cuda:0', grad_fn=<NllLossBackward0>)\n",
      "\n",
      "Attack success rate 33.26\n",
      "Test_loss: tensor(2.6717, device='cuda:0')\n",
      "\n",
      "Test clean Accuracy 90.80\n",
      "Test_loss: tensor(0.3240, device='cuda:0')\n",
      "\n",
      "Target test clean Accuracy 87.40\n",
      "Test_loss: tensor(0.3358, device='cuda:0')\n"
     ]
    },
    {
     "data": {
      "application/vnd.jupyter.widget-view+json": {
       "model_id": "e2fc320ac4764b01b076a4025fd3eade",
       "version_major": 2,
       "version_minor": 0
      },
      "text/plain": [
       "  0%|          | 0/334 [00:00<?, ?it/s]"
      ]
     },
     "metadata": {},
     "output_type": "display_data"
    },
    {
     "name": "stdout",
     "output_type": "stream",
     "text": [
      "Train_loss: tensor(0.1278, device='cuda:0', grad_fn=<NllLossBackward0>)\n",
      "\n",
      "Attack success rate 31.18\n",
      "Test_loss: tensor(1.8560, device='cuda:0')\n",
      "\n",
      "Test clean Accuracy 91.19\n",
      "Test_loss: tensor(0.1708, device='cuda:0')\n",
      "\n",
      "Target test clean Accuracy 92.20\n",
      "Test_loss: tensor(0.2086, device='cuda:0')\n"
     ]
    },
    {
     "data": {
      "application/vnd.jupyter.widget-view+json": {
       "model_id": "0c5459c7fafd4e3b85af7d6cddbe73dc",
       "version_major": 2,
       "version_minor": 0
      },
      "text/plain": [
       "  0%|          | 0/334 [00:00<?, ?it/s]"
      ]
     },
     "metadata": {},
     "output_type": "display_data"
    },
    {
     "name": "stdout",
     "output_type": "stream",
     "text": [
      "Train_loss: tensor(0.0350, device='cuda:0', grad_fn=<NllLossBackward0>)\n",
      "\n",
      "Attack success rate 92.80\n",
      "Test_loss: tensor(0.1831, device='cuda:0')\n",
      "\n",
      "Test clean Accuracy 86.77\n",
      "Test_loss: tensor(0.2030, device='cuda:0')\n",
      "\n",
      "Target test clean Accuracy 97.50\n",
      "Test_loss: tensor(0.0430, device='cuda:0')\n"
     ]
    },
    {
     "data": {
      "application/vnd.jupyter.widget-view+json": {
       "model_id": "3a8c764490cd4aef8a2f263ac7b8a1f4",
       "version_major": 2,
       "version_minor": 0
      },
      "text/plain": [
       "  0%|          | 0/334 [00:00<?, ?it/s]"
      ]
     },
     "metadata": {},
     "output_type": "display_data"
    },
    {
     "name": "stdout",
     "output_type": "stream",
     "text": [
      "Train_loss: tensor(0.2062, device='cuda:0', grad_fn=<NllLossBackward0>)\n",
      "\n",
      "Attack success rate 82.29\n",
      "Test_loss: tensor(0.6007, device='cuda:0')\n",
      "\n",
      "Test clean Accuracy 91.29\n",
      "Test_loss: tensor(0.2693, device='cuda:0')\n",
      "\n",
      "Target test clean Accuracy 88.70\n",
      "Test_loss: tensor(0.4437, device='cuda:0')\n"
     ]
    },
    {
     "data": {
      "application/vnd.jupyter.widget-view+json": {
       "model_id": "27959e776d4743e7863fafccc601c120",
       "version_major": 2,
       "version_minor": 0
      },
      "text/plain": [
       "  0%|          | 0/334 [00:00<?, ?it/s]"
      ]
     },
     "metadata": {},
     "output_type": "display_data"
    },
    {
     "name": "stdout",
     "output_type": "stream",
     "text": [
      "Train_loss: tensor(0.1552, device='cuda:0', grad_fn=<NllLossBackward0>)\n",
      "\n",
      "Attack success rate 77.50\n",
      "Test_loss: tensor(0.7590, device='cuda:0')\n",
      "\n",
      "Test clean Accuracy 91.97\n",
      "Test_loss: tensor(0.2663, device='cuda:0')\n",
      "\n",
      "Target test clean Accuracy 91.60\n",
      "Test_loss: tensor(0.2011, device='cuda:0')\n"
     ]
    },
    {
     "data": {
      "application/vnd.jupyter.widget-view+json": {
       "model_id": "89f2e289d67948dcba000d54dd4b4716",
       "version_major": 2,
       "version_minor": 0
      },
      "text/plain": [
       "  0%|          | 0/334 [00:00<?, ?it/s]"
      ]
     },
     "metadata": {},
     "output_type": "display_data"
    },
    {
     "name": "stdout",
     "output_type": "stream",
     "text": [
      "Train_loss: tensor(0.0879, device='cuda:0', grad_fn=<NllLossBackward0>)\n",
      "\n",
      "Attack success rate 67.06\n",
      "Test_loss: tensor(0.9280, device='cuda:0')\n",
      "\n",
      "Test clean Accuracy 91.42\n",
      "Test_loss: tensor(0.0713, device='cuda:0')\n",
      "\n",
      "Target test clean Accuracy 85.30\n",
      "Test_loss: tensor(0.3736, device='cuda:0')\n"
     ]
    },
    {
     "data": {
      "application/vnd.jupyter.widget-view+json": {
       "model_id": "6d0251915edb4f2fa098e58283412666",
       "version_major": 2,
       "version_minor": 0
      },
      "text/plain": [
       "  0%|          | 0/334 [00:00<?, ?it/s]"
      ]
     },
     "metadata": {},
     "output_type": "display_data"
    },
    {
     "name": "stdout",
     "output_type": "stream",
     "text": [
      "Train_loss: tensor(0.1004, device='cuda:0', grad_fn=<NllLossBackward0>)\n",
      "\n",
      "Attack success rate 74.26\n",
      "Test_loss: tensor(0.7910, device='cuda:0')\n",
      "\n",
      "Test clean Accuracy 91.22\n",
      "Test_loss: tensor(0.1142, device='cuda:0')\n",
      "\n",
      "Target test clean Accuracy 93.90\n",
      "Test_loss: tensor(0.2456, device='cuda:0')\n"
     ]
    },
    {
     "data": {
      "application/vnd.jupyter.widget-view+json": {
       "model_id": "947a13e8daff417b8856730c760f1015",
       "version_major": 2,
       "version_minor": 0
      },
      "text/plain": [
       "  0%|          | 0/334 [00:00<?, ?it/s]"
      ]
     },
     "metadata": {},
     "output_type": "display_data"
    },
    {
     "name": "stdout",
     "output_type": "stream",
     "text": [
      "Train_loss: tensor(0.1313, device='cuda:0', grad_fn=<NllLossBackward0>)\n",
      "\n",
      "Attack success rate 78.19\n",
      "Test_loss: tensor(0.6897, device='cuda:0')\n",
      "\n",
      "Test clean Accuracy 92.24\n",
      "Test_loss: tensor(0.2697, device='cuda:0')\n",
      "\n",
      "Target test clean Accuracy 86.80\n",
      "Test_loss: tensor(0.4633, device='cuda:0')\n"
     ]
    },
    {
     "data": {
      "application/vnd.jupyter.widget-view+json": {
       "model_id": "8973c1d950f14e06bca6ab462d63eee3",
       "version_major": 2,
       "version_minor": 0
      },
      "text/plain": [
       "  0%|          | 0/334 [00:00<?, ?it/s]"
      ]
     },
     "metadata": {},
     "output_type": "display_data"
    },
    {
     "name": "stdout",
     "output_type": "stream",
     "text": [
      "Train_loss: tensor(0.2006, device='cuda:0', grad_fn=<NllLossBackward0>)\n",
      "\n",
      "Attack success rate 73.18\n",
      "Test_loss: tensor(0.9190, device='cuda:0')\n",
      "\n",
      "Test clean Accuracy 91.96\n",
      "Test_loss: tensor(0.2316, device='cuda:0')\n",
      "\n",
      "Target test clean Accuracy 92.10\n",
      "Test_loss: tensor(0.3088, device='cuda:0')\n"
     ]
    },
    {
     "data": {
      "application/vnd.jupyter.widget-view+json": {
       "model_id": "7b5ed9d9bc16481c9d7a379658bb02c6",
       "version_major": 2,
       "version_minor": 0
      },
      "text/plain": [
       "  0%|          | 0/334 [00:00<?, ?it/s]"
      ]
     },
     "metadata": {},
     "output_type": "display_data"
    },
    {
     "name": "stdout",
     "output_type": "stream",
     "text": [
      "Train_loss: tensor(0.0727, device='cuda:0', grad_fn=<NllLossBackward0>)\n",
      "\n",
      "Attack success rate 83.87\n",
      "Test_loss: tensor(0.3567, device='cuda:0')\n",
      "\n",
      "Test clean Accuracy 92.14\n",
      "Test_loss: tensor(0.1216, device='cuda:0')\n",
      "\n",
      "Target test clean Accuracy 92.00\n",
      "Test_loss: tensor(0.3685, device='cuda:0')\n"
     ]
    },
    {
     "data": {
      "application/vnd.jupyter.widget-view+json": {
       "model_id": "4c8f37353ba241b58f43f8d482f8cf4f",
       "version_major": 2,
       "version_minor": 0
      },
      "text/plain": [
       "  0%|          | 0/334 [00:00<?, ?it/s]"
      ]
     },
     "metadata": {},
     "output_type": "display_data"
    },
    {
     "name": "stdout",
     "output_type": "stream",
     "text": [
      "Train_loss: tensor(0.0106, device='cuda:0', grad_fn=<NllLossBackward0>)\n",
      "\n",
      "Attack success rate 65.51\n",
      "Test_loss: tensor(1.0129, device='cuda:0')\n",
      "\n",
      "Test clean Accuracy 91.71\n",
      "Test_loss: tensor(0.1566, device='cuda:0')\n",
      "\n",
      "Target test clean Accuracy 91.00\n",
      "Test_loss: tensor(0.3339, device='cuda:0')\n"
     ]
    },
    {
     "data": {
      "application/vnd.jupyter.widget-view+json": {
       "model_id": "eaf815957f554b6e887db58bbf8aa558",
       "version_major": 2,
       "version_minor": 0
      },
      "text/plain": [
       "  0%|          | 0/334 [00:00<?, ?it/s]"
      ]
     },
     "metadata": {},
     "output_type": "display_data"
    },
    {
     "name": "stdout",
     "output_type": "stream",
     "text": [
      "Train_loss: tensor(0.0524, device='cuda:0', grad_fn=<NllLossBackward0>)\n",
      "\n",
      "Attack success rate 58.96\n",
      "Test_loss: tensor(1.4333, device='cuda:0')\n",
      "\n",
      "Test clean Accuracy 90.61\n",
      "Test_loss: tensor(0.3119, device='cuda:0')\n",
      "\n",
      "Target test clean Accuracy 90.40\n",
      "Test_loss: tensor(0.2411, device='cuda:0')\n"
     ]
    },
    {
     "data": {
      "application/vnd.jupyter.widget-view+json": {
       "model_id": "722e4d38088c4a0cb91d98faa6c9e65d",
       "version_major": 2,
       "version_minor": 0
      },
      "text/plain": [
       "  0%|          | 0/334 [00:00<?, ?it/s]"
      ]
     },
     "metadata": {},
     "output_type": "display_data"
    },
    {
     "name": "stdout",
     "output_type": "stream",
     "text": [
      "Train_loss: tensor(0.0511, device='cuda:0', grad_fn=<NllLossBackward0>)\n",
      "\n",
      "Attack success rate 62.67\n",
      "Test_loss: tensor(0.9876, device='cuda:0')\n",
      "\n",
      "Test clean Accuracy 91.85\n",
      "Test_loss: tensor(0.2106, device='cuda:0')\n",
      "\n",
      "Target test clean Accuracy 87.50\n",
      "Test_loss: tensor(0.5768, device='cuda:0')\n"
     ]
    },
    {
     "data": {
      "application/vnd.jupyter.widget-view+json": {
       "model_id": "18a3cc5fa1cc433dabe6ba24b7d2d714",
       "version_major": 2,
       "version_minor": 0
      },
      "text/plain": [
       "  0%|          | 0/334 [00:00<?, ?it/s]"
      ]
     },
     "metadata": {},
     "output_type": "display_data"
    },
    {
     "name": "stdout",
     "output_type": "stream",
     "text": [
      "Train_loss: tensor(0.1169, device='cuda:0', grad_fn=<NllLossBackward0>)\n",
      "\n",
      "Attack success rate 51.83\n",
      "Test_loss: tensor(1.4193, device='cuda:0')\n",
      "\n",
      "Test clean Accuracy 90.59\n",
      "Test_loss: tensor(0.1471, device='cuda:0')\n",
      "\n",
      "Target test clean Accuracy 88.10\n",
      "Test_loss: tensor(0.4989, device='cuda:0')\n"
     ]
    },
    {
     "data": {
      "application/vnd.jupyter.widget-view+json": {
       "model_id": "0a29b877e0be4fec802a47c853a3a18e",
       "version_major": 2,
       "version_minor": 0
      },
      "text/plain": [
       "  0%|          | 0/334 [00:00<?, ?it/s]"
      ]
     },
     "metadata": {},
     "output_type": "display_data"
    },
    {
     "name": "stdout",
     "output_type": "stream",
     "text": [
      "Train_loss: tensor(0.0281, device='cuda:0', grad_fn=<NllLossBackward0>)\n",
      "\n",
      "Attack success rate 37.63\n",
      "Test_loss: tensor(1.7855, device='cuda:0')\n",
      "\n",
      "Test clean Accuracy 92.65\n",
      "Test_loss: tensor(0.1211, device='cuda:0')\n",
      "\n",
      "Target test clean Accuracy 88.40\n",
      "Test_loss: tensor(0.2832, device='cuda:0')\n"
     ]
    },
    {
     "data": {
      "application/vnd.jupyter.widget-view+json": {
       "model_id": "e77b199362444de891be64f261ac3615",
       "version_major": 2,
       "version_minor": 0
      },
      "text/plain": [
       "  0%|          | 0/334 [00:00<?, ?it/s]"
      ]
     },
     "metadata": {},
     "output_type": "display_data"
    },
    {
     "name": "stdout",
     "output_type": "stream",
     "text": [
      "Train_loss: tensor(0.0158, device='cuda:0', grad_fn=<NllLossBackward0>)\n",
      "\n",
      "Attack success rate 32.97\n",
      "Test_loss: tensor(2.7983, device='cuda:0')\n",
      "\n",
      "Test clean Accuracy 91.95\n",
      "Test_loss: tensor(0.2170, device='cuda:0')\n",
      "\n",
      "Target test clean Accuracy 90.40\n",
      "Test_loss: tensor(0.5340, device='cuda:0')\n"
     ]
    },
    {
     "data": {
      "application/vnd.jupyter.widget-view+json": {
       "model_id": "fb08ed12d9e845f39f76019ba2ce699c",
       "version_major": 2,
       "version_minor": 0
      },
      "text/plain": [
       "  0%|          | 0/334 [00:00<?, ?it/s]"
      ]
     },
     "metadata": {},
     "output_type": "display_data"
    },
    {
     "name": "stdout",
     "output_type": "stream",
     "text": [
      "Train_loss: tensor(0.0128, device='cuda:0', grad_fn=<NllLossBackward0>)\n",
      "\n",
      "Attack success rate 47.57\n",
      "Test_loss: tensor(1.4929, device='cuda:0')\n",
      "\n",
      "Test clean Accuracy 92.38\n",
      "Test_loss: tensor(0.1600, device='cuda:0')\n",
      "\n",
      "Target test clean Accuracy 88.20\n",
      "Test_loss: tensor(0.6090, device='cuda:0')\n"
     ]
    },
    {
     "data": {
      "application/vnd.jupyter.widget-view+json": {
       "model_id": "582b9bc9c0f04b2e9800596971a02cd6",
       "version_major": 2,
       "version_minor": 0
      },
      "text/plain": [
       "  0%|          | 0/334 [00:00<?, ?it/s]"
      ]
     },
     "metadata": {},
     "output_type": "display_data"
    },
    {
     "name": "stdout",
     "output_type": "stream",
     "text": [
      "Train_loss: tensor(0.0103, device='cuda:0', grad_fn=<NllLossBackward0>)\n",
      "\n",
      "Attack success rate 69.49\n",
      "Test_loss: tensor(0.9229, device='cuda:0')\n",
      "\n",
      "Test clean Accuracy 92.83\n",
      "Test_loss: tensor(0.2211, device='cuda:0')\n",
      "\n",
      "Target test clean Accuracy 88.10\n",
      "Test_loss: tensor(0.7433, device='cuda:0')\n"
     ]
    },
    {
     "data": {
      "application/vnd.jupyter.widget-view+json": {
       "model_id": "1bc25fc47a994148b83e87fc58f4866b",
       "version_major": 2,
       "version_minor": 0
      },
      "text/plain": [
       "  0%|          | 0/334 [00:00<?, ?it/s]"
      ]
     },
     "metadata": {},
     "output_type": "display_data"
    },
    {
     "name": "stdout",
     "output_type": "stream",
     "text": [
      "Train_loss: tensor(0.0739, device='cuda:0', grad_fn=<NllLossBackward0>)\n",
      "\n",
      "Attack success rate 63.37\n",
      "Test_loss: tensor(1.2313, device='cuda:0')\n",
      "\n",
      "Test clean Accuracy 92.79\n",
      "Test_loss: tensor(0.1786, device='cuda:0')\n",
      "\n",
      "Target test clean Accuracy 91.10\n",
      "Test_loss: tensor(0.4226, device='cuda:0')\n"
     ]
    },
    {
     "data": {
      "application/vnd.jupyter.widget-view+json": {
       "model_id": "e1a3142510a840f1b50cea238b5f79ac",
       "version_major": 2,
       "version_minor": 0
      },
      "text/plain": [
       "  0%|          | 0/334 [00:00<?, ?it/s]"
      ]
     },
     "metadata": {},
     "output_type": "display_data"
    },
    {
     "name": "stdout",
     "output_type": "stream",
     "text": [
      "Train_loss: tensor(0.0138, device='cuda:0', grad_fn=<NllLossBackward0>)\n",
      "\n",
      "Attack success rate 59.83\n",
      "Test_loss: tensor(1.2253, device='cuda:0')\n",
      "\n",
      "Test clean Accuracy 92.85\n",
      "Test_loss: tensor(0.1043, device='cuda:0')\n",
      "\n",
      "Target test clean Accuracy 93.70\n",
      "Test_loss: tensor(0.0471, device='cuda:0')\n"
     ]
    },
    {
     "data": {
      "application/vnd.jupyter.widget-view+json": {
       "model_id": "4c7cd9bc87bc4a809be87dc496b653c1",
       "version_major": 2,
       "version_minor": 0
      },
      "text/plain": [
       "  0%|          | 0/334 [00:00<?, ?it/s]"
      ]
     },
     "metadata": {},
     "output_type": "display_data"
    },
    {
     "name": "stdout",
     "output_type": "stream",
     "text": [
      "Train_loss: tensor(0.1202, device='cuda:0', grad_fn=<NllLossBackward0>)\n",
      "\n",
      "Attack success rate 69.99\n",
      "Test_loss: tensor(1.0336, device='cuda:0')\n",
      "\n",
      "Test clean Accuracy 92.88\n",
      "Test_loss: tensor(0.1638, device='cuda:0')\n",
      "\n",
      "Target test clean Accuracy 89.50\n",
      "Test_loss: tensor(0.3145, device='cuda:0')\n"
     ]
    },
    {
     "data": {
      "application/vnd.jupyter.widget-view+json": {
       "model_id": "9db79e8c8d6c452eaecadb216ebef1c2",
       "version_major": 2,
       "version_minor": 0
      },
      "text/plain": [
       "  0%|          | 0/334 [00:00<?, ?it/s]"
      ]
     },
     "metadata": {},
     "output_type": "display_data"
    },
    {
     "name": "stdout",
     "output_type": "stream",
     "text": [
      "Train_loss: tensor(0.0247, device='cuda:0', grad_fn=<NllLossBackward0>)\n",
      "\n",
      "Attack success rate 82.82\n",
      "Test_loss: tensor(0.6181, device='cuda:0')\n",
      "\n",
      "Test clean Accuracy 92.66\n",
      "Test_loss: tensor(0.2315, device='cuda:0')\n",
      "\n",
      "Target test clean Accuracy 92.40\n",
      "Test_loss: tensor(0.3686, device='cuda:0')\n"
     ]
    },
    {
     "data": {
      "application/vnd.jupyter.widget-view+json": {
       "model_id": "bea6c407d2c447339e5dec0d6da21ca7",
       "version_major": 2,
       "version_minor": 0
      },
      "text/plain": [
       "  0%|          | 0/334 [00:00<?, ?it/s]"
      ]
     },
     "metadata": {},
     "output_type": "display_data"
    },
    {
     "name": "stdout",
     "output_type": "stream",
     "text": [
      "Train_loss: tensor(0.0546, device='cuda:0', grad_fn=<NllLossBackward0>)\n",
      "\n",
      "Attack success rate 46.22\n",
      "Test_loss: tensor(2.1341, device='cuda:0')\n",
      "\n",
      "Test clean Accuracy 93.07\n",
      "Test_loss: tensor(0.1637, device='cuda:0')\n",
      "\n",
      "Target test clean Accuracy 91.80\n",
      "Test_loss: tensor(0.4045, device='cuda:0')\n"
     ]
    },
    {
     "data": {
      "application/vnd.jupyter.widget-view+json": {
       "model_id": "aaeea7edf59d4441a49e52b9786245af",
       "version_major": 2,
       "version_minor": 0
      },
      "text/plain": [
       "  0%|          | 0/334 [00:00<?, ?it/s]"
      ]
     },
     "metadata": {},
     "output_type": "display_data"
    },
    {
     "name": "stdout",
     "output_type": "stream",
     "text": [
      "Train_loss: tensor(0.0093, device='cuda:0', grad_fn=<NllLossBackward0>)\n",
      "\n",
      "Attack success rate 83.83\n",
      "Test_loss: tensor(0.4224, device='cuda:0')\n",
      "\n",
      "Test clean Accuracy 93.95\n",
      "Test_loss: tensor(0.0638, device='cuda:0')\n",
      "\n",
      "Target test clean Accuracy 94.10\n",
      "Test_loss: tensor(0.2605, device='cuda:0')\n"
     ]
    },
    {
     "data": {
      "application/vnd.jupyter.widget-view+json": {
       "model_id": "71d476cc9b1c40a5a1660d6775daf1ae",
       "version_major": 2,
       "version_minor": 0
      },
      "text/plain": [
       "  0%|          | 0/334 [00:00<?, ?it/s]"
      ]
     },
     "metadata": {},
     "output_type": "display_data"
    },
    {
     "name": "stdout",
     "output_type": "stream",
     "text": [
      "Train_loss: tensor(0.0668, device='cuda:0', grad_fn=<NllLossBackward0>)\n",
      "\n",
      "Attack success rate 34.63\n",
      "Test_loss: tensor(3.0820, device='cuda:0')\n",
      "\n",
      "Test clean Accuracy 93.37\n",
      "Test_loss: tensor(0.1300, device='cuda:0')\n",
      "\n",
      "Target test clean Accuracy 88.70\n",
      "Test_loss: tensor(0.4550, device='cuda:0')\n"
     ]
    },
    {
     "data": {
      "application/vnd.jupyter.widget-view+json": {
       "model_id": "476b8d4b3e1b433fad408b87d9c08f2f",
       "version_major": 2,
       "version_minor": 0
      },
      "text/plain": [
       "  0%|          | 0/334 [00:00<?, ?it/s]"
      ]
     },
     "metadata": {},
     "output_type": "display_data"
    },
    {
     "name": "stdout",
     "output_type": "stream",
     "text": [
      "Train_loss: tensor(0.0126, device='cuda:0', grad_fn=<NllLossBackward0>)\n",
      "\n",
      "Attack success rate 45.77\n",
      "Test_loss: tensor(2.4929, device='cuda:0')\n",
      "\n",
      "Test clean Accuracy 93.64\n",
      "Test_loss: tensor(0.0799, device='cuda:0')\n",
      "\n",
      "Target test clean Accuracy 88.10\n",
      "Test_loss: tensor(0.5403, device='cuda:0')\n"
     ]
    },
    {
     "data": {
      "application/vnd.jupyter.widget-view+json": {
       "model_id": "6dfa2af2745d4902ad9c1fc29f25481d",
       "version_major": 2,
       "version_minor": 0
      },
      "text/plain": [
       "  0%|          | 0/334 [00:00<?, ?it/s]"
      ]
     },
     "metadata": {},
     "output_type": "display_data"
    },
    {
     "name": "stdout",
     "output_type": "stream",
     "text": [
      "Train_loss: tensor(0.0035, device='cuda:0', grad_fn=<NllLossBackward0>)\n",
      "\n",
      "Attack success rate 39.07\n",
      "Test_loss: tensor(2.2889, device='cuda:0')\n",
      "\n",
      "Test clean Accuracy 93.52\n",
      "Test_loss: tensor(0.0998, device='cuda:0')\n",
      "\n",
      "Target test clean Accuracy 91.10\n",
      "Test_loss: tensor(0.2223, device='cuda:0')\n"
     ]
    },
    {
     "data": {
      "application/vnd.jupyter.widget-view+json": {
       "model_id": "32ae9fe872a745e78a5aeb3c2c66993f",
       "version_major": 2,
       "version_minor": 0
      },
      "text/plain": [
       "  0%|          | 0/334 [00:00<?, ?it/s]"
      ]
     },
     "metadata": {},
     "output_type": "display_data"
    },
    {
     "name": "stdout",
     "output_type": "stream",
     "text": [
      "Train_loss: tensor(0.0486, device='cuda:0', grad_fn=<NllLossBackward0>)\n",
      "\n",
      "Attack success rate 66.70\n",
      "Test_loss: tensor(1.2368, device='cuda:0')\n",
      "\n",
      "Test clean Accuracy 93.57\n",
      "Test_loss: tensor(0.1602, device='cuda:0')\n",
      "\n",
      "Target test clean Accuracy 90.90\n",
      "Test_loss: tensor(0.4092, device='cuda:0')\n"
     ]
    },
    {
     "data": {
      "application/vnd.jupyter.widget-view+json": {
       "model_id": "199fa34d4ee4490eaf865d59f0cfcf2c",
       "version_major": 2,
       "version_minor": 0
      },
      "text/plain": [
       "  0%|          | 0/334 [00:00<?, ?it/s]"
      ]
     },
     "metadata": {},
     "output_type": "display_data"
    },
    {
     "name": "stdout",
     "output_type": "stream",
     "text": [
      "Train_loss: tensor(0.0145, device='cuda:0', grad_fn=<NllLossBackward0>)\n",
      "\n",
      "Attack success rate 49.84\n",
      "Test_loss: tensor(2.2747, device='cuda:0')\n",
      "\n",
      "Test clean Accuracy 94.05\n",
      "Test_loss: tensor(0.1505, device='cuda:0')\n",
      "\n",
      "Target test clean Accuracy 91.00\n",
      "Test_loss: tensor(0.3493, device='cuda:0')\n"
     ]
    },
    {
     "data": {
      "application/vnd.jupyter.widget-view+json": {
       "model_id": "cf22e755c5b440c09822bfbe93b9c0d7",
       "version_major": 2,
       "version_minor": 0
      },
      "text/plain": [
       "  0%|          | 0/334 [00:00<?, ?it/s]"
      ]
     },
     "metadata": {},
     "output_type": "display_data"
    },
    {
     "name": "stdout",
     "output_type": "stream",
     "text": [
      "Train_loss: tensor(0.0154, device='cuda:0', grad_fn=<NllLossBackward0>)\n",
      "\n",
      "Attack success rate 74.90\n",
      "Test_loss: tensor(1.0029, device='cuda:0')\n",
      "\n",
      "Test clean Accuracy 93.94\n",
      "Test_loss: tensor(0.1602, device='cuda:0')\n",
      "\n",
      "Target test clean Accuracy 93.20\n",
      "Test_loss: tensor(0.2222, device='cuda:0')\n"
     ]
    },
    {
     "data": {
      "application/vnd.jupyter.widget-view+json": {
       "model_id": "8cdf747b74934f3c93e803cfe0d6ac58",
       "version_major": 2,
       "version_minor": 0
      },
      "text/plain": [
       "  0%|          | 0/334 [00:00<?, ?it/s]"
      ]
     },
     "metadata": {},
     "output_type": "display_data"
    },
    {
     "name": "stdout",
     "output_type": "stream",
     "text": [
      "Train_loss: tensor(0.0033, device='cuda:0', grad_fn=<NllLossBackward0>)\n",
      "\n",
      "Attack success rate 53.34\n",
      "Test_loss: tensor(1.5613, device='cuda:0')\n",
      "\n",
      "Test clean Accuracy 94.24\n",
      "Test_loss: tensor(0.1573, device='cuda:0')\n",
      "\n",
      "Target test clean Accuracy 93.00\n",
      "Test_loss: tensor(0.2404, device='cuda:0')\n"
     ]
    },
    {
     "data": {
      "application/vnd.jupyter.widget-view+json": {
       "model_id": "16a99e7d3545439c90b59ce577d678a1",
       "version_major": 2,
       "version_minor": 0
      },
      "text/plain": [
       "  0%|          | 0/334 [00:00<?, ?it/s]"
      ]
     },
     "metadata": {},
     "output_type": "display_data"
    },
    {
     "name": "stdout",
     "output_type": "stream",
     "text": [
      "Train_loss: tensor(0.0056, device='cuda:0', grad_fn=<NllLossBackward0>)\n",
      "\n",
      "Attack success rate 83.33\n",
      "Test_loss: tensor(0.5924, device='cuda:0')\n",
      "\n",
      "Test clean Accuracy 94.26\n",
      "Test_loss: tensor(0.1970, device='cuda:0')\n",
      "\n",
      "Target test clean Accuracy 92.00\n",
      "Test_loss: tensor(0.3235, device='cuda:0')\n"
     ]
    },
    {
     "data": {
      "application/vnd.jupyter.widget-view+json": {
       "model_id": "3368db17a42a4c78bcbf24a784736fbf",
       "version_major": 2,
       "version_minor": 0
      },
      "text/plain": [
       "  0%|          | 0/334 [00:00<?, ?it/s]"
      ]
     },
     "metadata": {},
     "output_type": "display_data"
    },
    {
     "name": "stdout",
     "output_type": "stream",
     "text": [
      "Train_loss: tensor(0.0181, device='cuda:0', grad_fn=<NllLossBackward0>)\n",
      "\n",
      "Attack success rate 79.19\n",
      "Test_loss: tensor(0.7105, device='cuda:0')\n",
      "\n",
      "Test clean Accuracy 93.94\n",
      "Test_loss: tensor(0.1311, device='cuda:0')\n",
      "\n",
      "Target test clean Accuracy 92.40\n",
      "Test_loss: tensor(0.1533, device='cuda:0')\n"
     ]
    },
    {
     "data": {
      "application/vnd.jupyter.widget-view+json": {
       "model_id": "e29579e41d044d7b9160fa06be9d05f3",
       "version_major": 2,
       "version_minor": 0
      },
      "text/plain": [
       "  0%|          | 0/334 [00:00<?, ?it/s]"
      ]
     },
     "metadata": {},
     "output_type": "display_data"
    },
    {
     "name": "stdout",
     "output_type": "stream",
     "text": [
      "Train_loss: tensor(0.0098, device='cuda:0', grad_fn=<NllLossBackward0>)\n",
      "\n",
      "Attack success rate 50.53\n",
      "Test_loss: tensor(2.0851, device='cuda:0')\n",
      "\n",
      "Test clean Accuracy 94.27\n",
      "Test_loss: tensor(0.2082, device='cuda:0')\n",
      "\n",
      "Target test clean Accuracy 90.50\n",
      "Test_loss: tensor(0.6541, device='cuda:0')\n"
     ]
    },
    {
     "data": {
      "application/vnd.jupyter.widget-view+json": {
       "model_id": "e0a060fc430549f1a5c7ff58fcf2f9e7",
       "version_major": 2,
       "version_minor": 0
      },
      "text/plain": [
       "  0%|          | 0/334 [00:00<?, ?it/s]"
      ]
     },
     "metadata": {},
     "output_type": "display_data"
    },
    {
     "name": "stdout",
     "output_type": "stream",
     "text": [
      "Train_loss: tensor(0.0063, device='cuda:0', grad_fn=<NllLossBackward0>)\n",
      "\n",
      "Attack success rate 38.19\n",
      "Test_loss: tensor(2.3069, device='cuda:0')\n",
      "\n",
      "Test clean Accuracy 94.42\n",
      "Test_loss: tensor(0.1134, device='cuda:0')\n",
      "\n",
      "Target test clean Accuracy 92.80\n",
      "Test_loss: tensor(0.4212, device='cuda:0')\n"
     ]
    },
    {
     "data": {
      "application/vnd.jupyter.widget-view+json": {
       "model_id": "9fe2bc8d83944b8da6c3ff6d5facd237",
       "version_major": 2,
       "version_minor": 0
      },
      "text/plain": [
       "  0%|          | 0/334 [00:00<?, ?it/s]"
      ]
     },
     "metadata": {},
     "output_type": "display_data"
    },
    {
     "name": "stdout",
     "output_type": "stream",
     "text": [
      "Train_loss: tensor(0.0016, device='cuda:0', grad_fn=<NllLossBackward0>)\n",
      "\n",
      "Attack success rate 43.63\n",
      "Test_loss: tensor(2.1201, device='cuda:0')\n",
      "\n",
      "Test clean Accuracy 94.73\n",
      "Test_loss: tensor(0.0952, device='cuda:0')\n",
      "\n",
      "Target test clean Accuracy 93.20\n",
      "Test_loss: tensor(0.3866, device='cuda:0')\n"
     ]
    },
    {
     "data": {
      "application/vnd.jupyter.widget-view+json": {
       "model_id": "f53a8368860c4ea480fb5f2cd75c10b1",
       "version_major": 2,
       "version_minor": 0
      },
      "text/plain": [
       "  0%|          | 0/334 [00:00<?, ?it/s]"
      ]
     },
     "metadata": {},
     "output_type": "display_data"
    },
    {
     "name": "stdout",
     "output_type": "stream",
     "text": [
      "Train_loss: tensor(0.0673, device='cuda:0', grad_fn=<NllLossBackward0>)\n",
      "\n",
      "Attack success rate 57.73\n",
      "Test_loss: tensor(1.2020, device='cuda:0')\n",
      "\n",
      "Test clean Accuracy 94.29\n",
      "Test_loss: tensor(0.1087, device='cuda:0')\n",
      "\n",
      "Target test clean Accuracy 92.00\n",
      "Test_loss: tensor(0.4571, device='cuda:0')\n"
     ]
    },
    {
     "data": {
      "application/vnd.jupyter.widget-view+json": {
       "model_id": "c02b9485154146f780497a2fcea16a2a",
       "version_major": 2,
       "version_minor": 0
      },
      "text/plain": [
       "  0%|          | 0/334 [00:00<?, ?it/s]"
      ]
     },
     "metadata": {},
     "output_type": "display_data"
    },
    {
     "name": "stdout",
     "output_type": "stream",
     "text": [
      "Train_loss: tensor(0.0082, device='cuda:0', grad_fn=<NllLossBackward0>)\n",
      "\n",
      "Attack success rate 55.52\n",
      "Test_loss: tensor(1.5648, device='cuda:0')\n",
      "\n",
      "Test clean Accuracy 94.59\n",
      "Test_loss: tensor(0.0931, device='cuda:0')\n",
      "\n",
      "Target test clean Accuracy 93.20\n",
      "Test_loss: tensor(0.1749, device='cuda:0')\n"
     ]
    },
    {
     "data": {
      "application/vnd.jupyter.widget-view+json": {
       "model_id": "f7110808f8344cfa9f138fc85407b661",
       "version_major": 2,
       "version_minor": 0
      },
      "text/plain": [
       "  0%|          | 0/334 [00:00<?, ?it/s]"
      ]
     },
     "metadata": {},
     "output_type": "display_data"
    },
    {
     "name": "stdout",
     "output_type": "stream",
     "text": [
      "Train_loss: tensor(0.0020, device='cuda:0', grad_fn=<NllLossBackward0>)\n",
      "\n",
      "Attack success rate 76.24\n",
      "Test_loss: tensor(0.9344, device='cuda:0')\n",
      "\n",
      "Test clean Accuracy 94.76\n",
      "Test_loss: tensor(0.0932, device='cuda:0')\n",
      "\n",
      "Target test clean Accuracy 94.00\n",
      "Test_loss: tensor(0.4046, device='cuda:0')\n"
     ]
    },
    {
     "data": {
      "application/vnd.jupyter.widget-view+json": {
       "model_id": "06f1d356566f4034bcd7b51b52236aea",
       "version_major": 2,
       "version_minor": 0
      },
      "text/plain": [
       "  0%|          | 0/334 [00:00<?, ?it/s]"
      ]
     },
     "metadata": {},
     "output_type": "display_data"
    },
    {
     "name": "stdout",
     "output_type": "stream",
     "text": [
      "Train_loss: tensor(0.0048, device='cuda:0', grad_fn=<NllLossBackward0>)\n",
      "\n",
      "Attack success rate 75.44\n",
      "Test_loss: tensor(1.0743, device='cuda:0')\n",
      "\n",
      "Test clean Accuracy 94.72\n",
      "Test_loss: tensor(0.0848, device='cuda:0')\n",
      "\n",
      "Target test clean Accuracy 93.50\n",
      "Test_loss: tensor(0.2533, device='cuda:0')\n"
     ]
    },
    {
     "data": {
      "application/vnd.jupyter.widget-view+json": {
       "model_id": "0ce5c543321e4275b296be72e4abc76c",
       "version_major": 2,
       "version_minor": 0
      },
      "text/plain": [
       "  0%|          | 0/334 [00:00<?, ?it/s]"
      ]
     },
     "metadata": {},
     "output_type": "display_data"
    },
    {
     "name": "stdout",
     "output_type": "stream",
     "text": [
      "Train_loss: tensor(0.0041, device='cuda:0', grad_fn=<NllLossBackward0>)\n",
      "\n",
      "Attack success rate 75.49\n",
      "Test_loss: tensor(0.8420, device='cuda:0')\n",
      "\n",
      "Test clean Accuracy 94.99\n",
      "Test_loss: tensor(0.0789, device='cuda:0')\n",
      "\n",
      "Target test clean Accuracy 94.60\n",
      "Test_loss: tensor(0.1016, device='cuda:0')\n"
     ]
    },
    {
     "data": {
      "application/vnd.jupyter.widget-view+json": {
       "model_id": "a4bcb60b1e09457091a9a77c1cd53ed1",
       "version_major": 2,
       "version_minor": 0
      },
      "text/plain": [
       "  0%|          | 0/334 [00:00<?, ?it/s]"
      ]
     },
     "metadata": {},
     "output_type": "display_data"
    },
    {
     "name": "stdout",
     "output_type": "stream",
     "text": [
      "Train_loss: tensor(0.0110, device='cuda:0', grad_fn=<NllLossBackward0>)\n",
      "\n",
      "Attack success rate 76.23\n",
      "Test_loss: tensor(0.6223, device='cuda:0')\n",
      "\n",
      "Test clean Accuracy 94.68\n",
      "Test_loss: tensor(0.0785, device='cuda:0')\n",
      "\n",
      "Target test clean Accuracy 94.20\n",
      "Test_loss: tensor(0.1731, device='cuda:0')\n"
     ]
    },
    {
     "data": {
      "application/vnd.jupyter.widget-view+json": {
       "model_id": "8fd4e64ddbe24eb38d206ebaefbbf86a",
       "version_major": 2,
       "version_minor": 0
      },
      "text/plain": [
       "  0%|          | 0/334 [00:00<?, ?it/s]"
      ]
     },
     "metadata": {},
     "output_type": "display_data"
    },
    {
     "name": "stdout",
     "output_type": "stream",
     "text": [
      "Train_loss: tensor(0.0015, device='cuda:0', grad_fn=<NllLossBackward0>)\n",
      "\n",
      "Attack success rate 65.90\n",
      "Test_loss: tensor(1.2678, device='cuda:0')\n",
      "\n",
      "Test clean Accuracy 94.86\n",
      "Test_loss: tensor(0.0847, device='cuda:0')\n",
      "\n",
      "Target test clean Accuracy 94.30\n",
      "Test_loss: tensor(0.3302, device='cuda:0')\n"
     ]
    },
    {
     "data": {
      "application/vnd.jupyter.widget-view+json": {
       "model_id": "4c1d66da414e451e9d8f9103b4be5518",
       "version_major": 2,
       "version_minor": 0
      },
      "text/plain": [
       "  0%|          | 0/334 [00:00<?, ?it/s]"
      ]
     },
     "metadata": {},
     "output_type": "display_data"
    },
    {
     "name": "stdout",
     "output_type": "stream",
     "text": [
      "Train_loss: tensor(0.0029, device='cuda:0', grad_fn=<NllLossBackward0>)\n",
      "\n",
      "Attack success rate 63.80\n",
      "Test_loss: tensor(1.2980, device='cuda:0')\n",
      "\n",
      "Test clean Accuracy 95.16\n",
      "Test_loss: tensor(0.0880, device='cuda:0')\n",
      "\n",
      "Target test clean Accuracy 93.80\n",
      "Test_loss: tensor(0.2392, device='cuda:0')\n"
     ]
    },
    {
     "data": {
      "application/vnd.jupyter.widget-view+json": {
       "model_id": "128906cd1a9d41e2966f657d60411a91",
       "version_major": 2,
       "version_minor": 0
      },
      "text/plain": [
       "  0%|          | 0/334 [00:00<?, ?it/s]"
      ]
     },
     "metadata": {},
     "output_type": "display_data"
    },
    {
     "name": "stdout",
     "output_type": "stream",
     "text": [
      "Train_loss: tensor(0.0034, device='cuda:0', grad_fn=<NllLossBackward0>)\n",
      "\n",
      "Attack success rate 70.87\n",
      "Test_loss: tensor(0.9500, device='cuda:0')\n",
      "\n",
      "Test clean Accuracy 95.18\n",
      "Test_loss: tensor(0.1078, device='cuda:0')\n",
      "\n",
      "Target test clean Accuracy 94.00\n",
      "Test_loss: tensor(0.1464, device='cuda:0')\n"
     ]
    },
    {
     "data": {
      "application/vnd.jupyter.widget-view+json": {
       "model_id": "ca064df11a234d2e8a37ae07825fbfe6",
       "version_major": 2,
       "version_minor": 0
      },
      "text/plain": [
       "  0%|          | 0/334 [00:00<?, ?it/s]"
      ]
     },
     "metadata": {},
     "output_type": "display_data"
    },
    {
     "name": "stdout",
     "output_type": "stream",
     "text": [
      "Train_loss: tensor(0.0017, device='cuda:0', grad_fn=<NllLossBackward0>)\n",
      "\n",
      "Attack success rate 60.56\n",
      "Test_loss: tensor(1.4985, device='cuda:0')\n",
      "\n",
      "Test clean Accuracy 95.05\n",
      "Test_loss: tensor(0.1041, device='cuda:0')\n",
      "\n",
      "Target test clean Accuracy 93.80\n",
      "Test_loss: tensor(0.2214, device='cuda:0')\n"
     ]
    },
    {
     "data": {
      "application/vnd.jupyter.widget-view+json": {
       "model_id": "117fe4cd76af4d32a1fc48e0c7fdc731",
       "version_major": 2,
       "version_minor": 0
      },
      "text/plain": [
       "  0%|          | 0/334 [00:00<?, ?it/s]"
      ]
     },
     "metadata": {},
     "output_type": "display_data"
    },
    {
     "name": "stdout",
     "output_type": "stream",
     "text": [
      "Train_loss: tensor(0.0017, device='cuda:0', grad_fn=<NllLossBackward0>)\n",
      "\n",
      "Attack success rate 68.69\n",
      "Test_loss: tensor(1.3801, device='cuda:0')\n",
      "\n",
      "Test clean Accuracy 95.19\n",
      "Test_loss: tensor(0.0899, device='cuda:0')\n",
      "\n",
      "Target test clean Accuracy 94.00\n",
      "Test_loss: tensor(0.2591, device='cuda:0')\n"
     ]
    },
    {
     "data": {
      "application/vnd.jupyter.widget-view+json": {
       "model_id": "06c44448f0004c83b86e321f6ed0dca0",
       "version_major": 2,
       "version_minor": 0
      },
      "text/plain": [
       "  0%|          | 0/334 [00:00<?, ?it/s]"
      ]
     },
     "metadata": {},
     "output_type": "display_data"
    },
    {
     "name": "stdout",
     "output_type": "stream",
     "text": [
      "Train_loss: tensor(0.0094, device='cuda:0', grad_fn=<NllLossBackward0>)\n",
      "\n",
      "Attack success rate 57.96\n",
      "Test_loss: tensor(1.5045, device='cuda:0')\n",
      "\n",
      "Test clean Accuracy 95.25\n",
      "Test_loss: tensor(0.1039, device='cuda:0')\n",
      "\n",
      "Target test clean Accuracy 93.40\n",
      "Test_loss: tensor(0.2334, device='cuda:0')\n"
     ]
    },
    {
     "data": {
      "application/vnd.jupyter.widget-view+json": {
       "model_id": "b589759b03954a2cab68af68b96292f2",
       "version_major": 2,
       "version_minor": 0
      },
      "text/plain": [
       "  0%|          | 0/334 [00:00<?, ?it/s]"
      ]
     },
     "metadata": {},
     "output_type": "display_data"
    },
    {
     "name": "stdout",
     "output_type": "stream",
     "text": [
      "Train_loss: tensor(0.0009, device='cuda:0', grad_fn=<NllLossBackward0>)\n",
      "\n",
      "Attack success rate 66.72\n",
      "Test_loss: tensor(0.9665, device='cuda:0')\n",
      "\n",
      "Test clean Accuracy 95.22\n",
      "Test_loss: tensor(0.1087, device='cuda:0')\n",
      "\n",
      "Target test clean Accuracy 93.50\n",
      "Test_loss: tensor(0.4011, device='cuda:0')\n"
     ]
    },
    {
     "data": {
      "application/vnd.jupyter.widget-view+json": {
       "model_id": "4cd90e6179ab41ed895ef3f2d1fe0d05",
       "version_major": 2,
       "version_minor": 0
      },
      "text/plain": [
       "  0%|          | 0/334 [00:00<?, ?it/s]"
      ]
     },
     "metadata": {},
     "output_type": "display_data"
    },
    {
     "name": "stdout",
     "output_type": "stream",
     "text": [
      "Train_loss: tensor(0.0056, device='cuda:0', grad_fn=<NllLossBackward0>)\n",
      "\n",
      "Attack success rate 69.70\n",
      "Test_loss: tensor(1.0225, device='cuda:0')\n",
      "\n",
      "Test clean Accuracy 95.28\n",
      "Test_loss: tensor(0.0988, device='cuda:0')\n",
      "\n",
      "Target test clean Accuracy 93.70\n",
      "Test_loss: tensor(0.2394, device='cuda:0')\n"
     ]
    },
    {
     "data": {
      "application/vnd.jupyter.widget-view+json": {
       "model_id": "8a94c979fc274d4ebcb4205e6c572971",
       "version_major": 2,
       "version_minor": 0
      },
      "text/plain": [
       "  0%|          | 0/334 [00:00<?, ?it/s]"
      ]
     },
     "metadata": {},
     "output_type": "display_data"
    },
    {
     "name": "stdout",
     "output_type": "stream",
     "text": [
      "Train_loss: tensor(0.0046, device='cuda:0', grad_fn=<NllLossBackward0>)\n",
      "\n",
      "Attack success rate 69.26\n",
      "Test_loss: tensor(1.2614, device='cuda:0')\n",
      "\n",
      "Test clean Accuracy 95.34\n",
      "Test_loss: tensor(0.0983, device='cuda:0')\n",
      "\n",
      "Target test clean Accuracy 93.80\n",
      "Test_loss: tensor(0.0964, device='cuda:0')\n"
     ]
    },
    {
     "data": {
      "application/vnd.jupyter.widget-view+json": {
       "model_id": "5926fb17b0d745a1b25a8456ff1785a0",
       "version_major": 2,
       "version_minor": 0
      },
      "text/plain": [
       "  0%|          | 0/334 [00:00<?, ?it/s]"
      ]
     },
     "metadata": {},
     "output_type": "display_data"
    },
    {
     "name": "stdout",
     "output_type": "stream",
     "text": [
      "Train_loss: tensor(0.0037, device='cuda:0', grad_fn=<NllLossBackward0>)\n",
      "\n",
      "Attack success rate 71.60\n",
      "Test_loss: tensor(0.7719, device='cuda:0')\n",
      "\n",
      "Test clean Accuracy 95.27\n",
      "Test_loss: tensor(0.1111, device='cuda:0')\n",
      "\n",
      "Target test clean Accuracy 94.00\n",
      "Test_loss: tensor(0.1607, device='cuda:0')\n"
     ]
    },
    {
     "data": {
      "application/vnd.jupyter.widget-view+json": {
       "model_id": "e41b2da2be824812927700be0b59b08f",
       "version_major": 2,
       "version_minor": 0
      },
      "text/plain": [
       "  0%|          | 0/334 [00:00<?, ?it/s]"
      ]
     },
     "metadata": {},
     "output_type": "display_data"
    },
    {
     "name": "stdout",
     "output_type": "stream",
     "text": [
      "Train_loss: tensor(0.0023, device='cuda:0', grad_fn=<NllLossBackward0>)\n",
      "\n",
      "Attack success rate 65.71\n",
      "Test_loss: tensor(1.2381, device='cuda:0')\n",
      "\n",
      "Test clean Accuracy 95.36\n",
      "Test_loss: tensor(0.1000, device='cuda:0')\n",
      "\n",
      "Target test clean Accuracy 93.60\n",
      "Test_loss: tensor(0.2198, device='cuda:0')\n"
     ]
    },
    {
     "data": {
      "application/vnd.jupyter.widget-view+json": {
       "model_id": "1b70a8dd4b064520a6d4bace85917687",
       "version_major": 2,
       "version_minor": 0
      },
      "text/plain": [
       "  0%|          | 0/334 [00:00<?, ?it/s]"
      ]
     },
     "metadata": {},
     "output_type": "display_data"
    },
    {
     "name": "stdout",
     "output_type": "stream",
     "text": [
      "Train_loss: tensor(0.0022, device='cuda:0', grad_fn=<NllLossBackward0>)\n",
      "\n",
      "Attack success rate 68.14\n",
      "Test_loss: tensor(1.0750, device='cuda:0')\n",
      "\n",
      "Test clean Accuracy 95.26\n",
      "Test_loss: tensor(0.0918, device='cuda:0')\n",
      "\n",
      "Target test clean Accuracy 94.20\n",
      "Test_loss: tensor(0.1581, device='cuda:0')\n"
     ]
    },
    {
     "data": {
      "application/vnd.jupyter.widget-view+json": {
       "model_id": "8571d48be8b04924b04c5e47bb9308b6",
       "version_major": 2,
       "version_minor": 0
      },
      "text/plain": [
       "  0%|          | 0/334 [00:00<?, ?it/s]"
      ]
     },
     "metadata": {},
     "output_type": "display_data"
    },
    {
     "name": "stdout",
     "output_type": "stream",
     "text": [
      "Train_loss: tensor(0.0019, device='cuda:0', grad_fn=<NllLossBackward0>)\n",
      "\n",
      "Attack success rate 68.43\n",
      "Test_loss: tensor(1.3286, device='cuda:0')\n",
      "\n",
      "Test clean Accuracy 95.23\n",
      "Test_loss: tensor(0.0867, device='cuda:0')\n",
      "\n",
      "Target test clean Accuracy 93.90\n",
      "Test_loss: tensor(0.4155, device='cuda:0')\n"
     ]
    },
    {
     "data": {
      "application/vnd.jupyter.widget-view+json": {
       "model_id": "081e5e51382d48a5b5322358e2635b8b",
       "version_major": 2,
       "version_minor": 0
      },
      "text/plain": [
       "  0%|          | 0/334 [00:00<?, ?it/s]"
      ]
     },
     "metadata": {},
     "output_type": "display_data"
    },
    {
     "name": "stdout",
     "output_type": "stream",
     "text": [
      "Train_loss: tensor(0.0022, device='cuda:0', grad_fn=<NllLossBackward0>)\n",
      "\n",
      "Attack success rate 68.88\n",
      "Test_loss: tensor(1.2142, device='cuda:0')\n",
      "\n",
      "Test clean Accuracy 95.33\n",
      "Test_loss: tensor(0.0908, device='cuda:0')\n",
      "\n",
      "Target test clean Accuracy 93.70\n",
      "Test_loss: tensor(0.2120, device='cuda:0')\n"
     ]
    },
    {
     "data": {
      "application/vnd.jupyter.widget-view+json": {
       "model_id": "ff714a5a9d8e4c2a87a0e39a7247a239",
       "version_major": 2,
       "version_minor": 0
      },
      "text/plain": [
       "  0%|          | 0/334 [00:00<?, ?it/s]"
      ]
     },
     "metadata": {},
     "output_type": "display_data"
    },
    {
     "name": "stdout",
     "output_type": "stream",
     "text": [
      "Train_loss: tensor(0.0012, device='cuda:0', grad_fn=<NllLossBackward0>)\n",
      "\n",
      "Attack success rate 71.38\n",
      "Test_loss: tensor(0.8648, device='cuda:0')\n",
      "\n",
      "Test clean Accuracy 95.40\n",
      "Test_loss: tensor(0.0795, device='cuda:0')\n",
      "\n",
      "Target test clean Accuracy 94.00\n",
      "Test_loss: tensor(0.1687, device='cuda:0')\n"
     ]
    },
    {
     "data": {
      "application/vnd.jupyter.widget-view+json": {
       "model_id": "6af75d0ec9ef46b38a54c4ba0bbce776",
       "version_major": 2,
       "version_minor": 0
      },
      "text/plain": [
       "  0%|          | 0/334 [00:00<?, ?it/s]"
      ]
     },
     "metadata": {},
     "output_type": "display_data"
    },
    {
     "name": "stdout",
     "output_type": "stream",
     "text": [
      "Train_loss: tensor(0.0019, device='cuda:0', grad_fn=<NllLossBackward0>)\n",
      "\n",
      "Attack success rate 65.97\n",
      "Test_loss: tensor(1.1166, device='cuda:0')\n",
      "\n",
      "Test clean Accuracy 95.40\n",
      "Test_loss: tensor(0.0936, device='cuda:0')\n",
      "\n",
      "Target test clean Accuracy 93.30\n",
      "Test_loss: tensor(0.1890, device='cuda:0')\n"
     ]
    },
    {
     "data": {
      "application/vnd.jupyter.widget-view+json": {
       "model_id": "361b93bff9754f57a8820e02d0e87b37",
       "version_major": 2,
       "version_minor": 0
      },
      "text/plain": [
       "  0%|          | 0/334 [00:00<?, ?it/s]"
      ]
     },
     "metadata": {},
     "output_type": "display_data"
    },
    {
     "name": "stdout",
     "output_type": "stream",
     "text": [
      "Train_loss: tensor(0.0021, device='cuda:0', grad_fn=<NllLossBackward0>)\n",
      "\n",
      "Attack success rate 70.36\n",
      "Test_loss: tensor(1.1352, device='cuda:0')\n",
      "\n",
      "Test clean Accuracy 95.22\n",
      "Test_loss: tensor(0.0927, device='cuda:0')\n",
      "\n",
      "Target test clean Accuracy 93.70\n",
      "Test_loss: tensor(0.3496, device='cuda:0')\n"
     ]
    },
    {
     "data": {
      "application/vnd.jupyter.widget-view+json": {
       "model_id": "dc65c3a2696b49ffa6165880a939fd83",
       "version_major": 2,
       "version_minor": 0
      },
      "text/plain": [
       "  0%|          | 0/334 [00:00<?, ?it/s]"
      ]
     },
     "metadata": {},
     "output_type": "display_data"
    },
    {
     "name": "stdout",
     "output_type": "stream",
     "text": [
      "Train_loss: tensor(0.0019, device='cuda:0', grad_fn=<NllLossBackward0>)\n",
      "\n",
      "Attack success rate 73.47\n",
      "Test_loss: tensor(0.9048, device='cuda:0')\n",
      "\n",
      "Test clean Accuracy 95.32\n",
      "Test_loss: tensor(0.0844, device='cuda:0')\n",
      "\n",
      "Target test clean Accuracy 94.20\n",
      "Test_loss: tensor(0.2422, device='cuda:0')\n"
     ]
    },
    {
     "data": {
      "application/vnd.jupyter.widget-view+json": {
       "model_id": "c3462a8770db49ce9de8c4e4932cbaa9",
       "version_major": 2,
       "version_minor": 0
      },
      "text/plain": [
       "  0%|          | 0/334 [00:00<?, ?it/s]"
      ]
     },
     "metadata": {},
     "output_type": "display_data"
    },
    {
     "name": "stdout",
     "output_type": "stream",
     "text": [
      "Train_loss: tensor(0.0027, device='cuda:0', grad_fn=<NllLossBackward0>)\n",
      "\n",
      "Attack success rate 68.39\n",
      "Test_loss: tensor(1.3022, device='cuda:0')\n",
      "\n",
      "Test clean Accuracy 95.33\n",
      "Test_loss: tensor(0.0927, device='cuda:0')\n",
      "\n",
      "Target test clean Accuracy 93.70\n",
      "Test_loss: tensor(0.1936, device='cuda:0')\n"
     ]
    },
    {
     "data": {
      "application/vnd.jupyter.widget-view+json": {
       "model_id": "0b91ca71326140fe97602cb366ef3c01",
       "version_major": 2,
       "version_minor": 0
      },
      "text/plain": [
       "  0%|          | 0/334 [00:00<?, ?it/s]"
      ]
     },
     "metadata": {},
     "output_type": "display_data"
    },
    {
     "name": "stdout",
     "output_type": "stream",
     "text": [
      "Train_loss: tensor(0.0040, device='cuda:0', grad_fn=<NllLossBackward0>)\n",
      "\n",
      "Attack success rate 69.26\n",
      "Test_loss: tensor(1.1583, device='cuda:0')\n",
      "\n",
      "Test clean Accuracy 95.36\n",
      "Test_loss: tensor(0.0890, device='cuda:0')\n",
      "\n",
      "Target test clean Accuracy 94.00\n",
      "Test_loss: tensor(0.4194, device='cuda:0')\n"
     ]
    },
    {
     "data": {
      "application/vnd.jupyter.widget-view+json": {
       "model_id": "1a836b40971d4d7b91c7dd26a1e4aa15",
       "version_major": 2,
       "version_minor": 0
      },
      "text/plain": [
       "  0%|          | 0/334 [00:00<?, ?it/s]"
      ]
     },
     "metadata": {},
     "output_type": "display_data"
    },
    {
     "name": "stdout",
     "output_type": "stream",
     "text": [
      "Train_loss: tensor(0.0039, device='cuda:0', grad_fn=<NllLossBackward0>)\n",
      "\n",
      "Attack success rate 71.46\n",
      "Test_loss: tensor(0.9945, device='cuda:0')\n",
      "\n",
      "Test clean Accuracy 95.35\n",
      "Test_loss: tensor(0.0960, device='cuda:0')\n",
      "\n",
      "Target test clean Accuracy 94.00\n",
      "Test_loss: tensor(0.3896, device='cuda:0')\n"
     ]
    },
    {
     "data": {
      "application/vnd.jupyter.widget-view+json": {
       "model_id": "09d8a257f30e4f5a9225d8adfb153d74",
       "version_major": 2,
       "version_minor": 0
      },
      "text/plain": [
       "  0%|          | 0/334 [00:00<?, ?it/s]"
      ]
     },
     "metadata": {},
     "output_type": "display_data"
    },
    {
     "name": "stdout",
     "output_type": "stream",
     "text": [
      "Train_loss: tensor(0.0029, device='cuda:0', grad_fn=<NllLossBackward0>)\n",
      "\n",
      "Attack success rate 70.50\n",
      "Test_loss: tensor(1.0913, device='cuda:0')\n",
      "\n",
      "Test clean Accuracy 95.31\n",
      "Test_loss: tensor(0.0883, device='cuda:0')\n",
      "\n",
      "Target test clean Accuracy 94.10\n",
      "Test_loss: tensor(0.2878, device='cuda:0')\n"
     ]
    },
    {
     "data": {
      "application/vnd.jupyter.widget-view+json": {
       "model_id": "2d696e08c63a4fd185b5684db86e7bb3",
       "version_major": 2,
       "version_minor": 0
      },
      "text/plain": [
       "  0%|          | 0/334 [00:00<?, ?it/s]"
      ]
     },
     "metadata": {},
     "output_type": "display_data"
    },
    {
     "name": "stdout",
     "output_type": "stream",
     "text": [
      "Train_loss: tensor(0.0024, device='cuda:0', grad_fn=<NllLossBackward0>)\n",
      "\n",
      "Attack success rate 67.30\n",
      "Test_loss: tensor(0.9845, device='cuda:0')\n",
      "\n",
      "Test clean Accuracy 95.30\n",
      "Test_loss: tensor(0.0932, device='cuda:0')\n",
      "\n",
      "Target test clean Accuracy 94.00\n",
      "Test_loss: tensor(0.2594, device='cuda:0')\n"
     ]
    },
    {
     "data": {
      "application/vnd.jupyter.widget-view+json": {
       "model_id": "58ba3d5bcfcf4d3d8c3a2aa679927c45",
       "version_major": 2,
       "version_minor": 0
      },
      "text/plain": [
       "  0%|          | 0/334 [00:00<?, ?it/s]"
      ]
     },
     "metadata": {},
     "output_type": "display_data"
    },
    {
     "name": "stdout",
     "output_type": "stream",
     "text": [
      "Train_loss: tensor(0.0024, device='cuda:0', grad_fn=<NllLossBackward0>)\n",
      "\n",
      "Attack success rate 71.52\n",
      "Test_loss: tensor(1.0616, device='cuda:0')\n",
      "\n",
      "Test clean Accuracy 95.40\n",
      "Test_loss: tensor(0.0874, device='cuda:0')\n",
      "\n",
      "Target test clean Accuracy 94.10\n",
      "Test_loss: tensor(0.1870, device='cuda:0')\n"
     ]
    },
    {
     "data": {
      "application/vnd.jupyter.widget-view+json": {
       "model_id": "8dac46a9692447bc9e664d8bbee48446",
       "version_major": 2,
       "version_minor": 0
      },
      "text/plain": [
       "  0%|          | 0/334 [00:00<?, ?it/s]"
      ]
     },
     "metadata": {},
     "output_type": "display_data"
    },
    {
     "name": "stdout",
     "output_type": "stream",
     "text": [
      "Train_loss: tensor(0.0027, device='cuda:0', grad_fn=<NllLossBackward0>)\n",
      "\n",
      "Attack success rate 70.67\n",
      "Test_loss: tensor(0.9340, device='cuda:0')\n",
      "\n",
      "Test clean Accuracy 95.29\n",
      "Test_loss: tensor(0.0926, device='cuda:0')\n",
      "\n",
      "Target test clean Accuracy 93.80\n",
      "Test_loss: tensor(0.4096, device='cuda:0')\n"
     ]
    },
    {
     "data": {
      "application/vnd.jupyter.widget-view+json": {
       "model_id": "5763461dc9f843debe6fa1e5948c36f7",
       "version_major": 2,
       "version_minor": 0
      },
      "text/plain": [
       "  0%|          | 0/334 [00:00<?, ?it/s]"
      ]
     },
     "metadata": {},
     "output_type": "display_data"
    },
    {
     "name": "stdout",
     "output_type": "stream",
     "text": [
      "Train_loss: tensor(0.0030, device='cuda:0', grad_fn=<NllLossBackward0>)\n",
      "\n",
      "Attack success rate 68.40\n",
      "Test_loss: tensor(0.8693, device='cuda:0')\n",
      "\n",
      "Test clean Accuracy 95.30\n",
      "Test_loss: tensor(0.0962, device='cuda:0')\n",
      "\n",
      "Target test clean Accuracy 93.80\n",
      "Test_loss: tensor(0.2422, device='cuda:0')\n"
     ]
    },
    {
     "data": {
      "application/vnd.jupyter.widget-view+json": {
       "model_id": "2c72516ae8224529bc852d3b3545d742",
       "version_major": 2,
       "version_minor": 0
      },
      "text/plain": [
       "  0%|          | 0/334 [00:00<?, ?it/s]"
      ]
     },
     "metadata": {},
     "output_type": "display_data"
    },
    {
     "name": "stdout",
     "output_type": "stream",
     "text": [
      "Train_loss: tensor(0.0037, device='cuda:0', grad_fn=<NllLossBackward0>)\n",
      "\n",
      "Attack success rate 68.17\n",
      "Test_loss: tensor(1.1890, device='cuda:0')\n",
      "\n",
      "Test clean Accuracy 95.25\n",
      "Test_loss: tensor(0.0968, device='cuda:0')\n",
      "\n",
      "Target test clean Accuracy 93.90\n",
      "Test_loss: tensor(0.2264, device='cuda:0')\n"
     ]
    },
    {
     "data": {
      "application/vnd.jupyter.widget-view+json": {
       "model_id": "edf212b4c83941cabb55a120ca5e40fe",
       "version_major": 2,
       "version_minor": 0
      },
      "text/plain": [
       "  0%|          | 0/334 [00:00<?, ?it/s]"
      ]
     },
     "metadata": {},
     "output_type": "display_data"
    },
    {
     "name": "stdout",
     "output_type": "stream",
     "text": [
      "Train_loss: tensor(0.0020, device='cuda:0', grad_fn=<NllLossBackward0>)\n",
      "\n",
      "Attack success rate 65.32\n",
      "Test_loss: tensor(1.3621, device='cuda:0')\n",
      "\n",
      "Test clean Accuracy 95.30\n",
      "Test_loss: tensor(0.1005, device='cuda:0')\n",
      "\n",
      "Target test clean Accuracy 93.70\n",
      "Test_loss: tensor(0.2942, device='cuda:0')\n"
     ]
    },
    {
     "data": {
      "application/vnd.jupyter.widget-view+json": {
       "model_id": "54ea0135bd1e4a448b22c594c5d376aa",
       "version_major": 2,
       "version_minor": 0
      },
      "text/plain": [
       "  0%|          | 0/334 [00:00<?, ?it/s]"
      ]
     },
     "metadata": {},
     "output_type": "display_data"
    },
    {
     "name": "stdout",
     "output_type": "stream",
     "text": [
      "Train_loss: tensor(0.0013, device='cuda:0', grad_fn=<NllLossBackward0>)\n",
      "\n",
      "Attack success rate 65.54\n",
      "Test_loss: tensor(1.1090, device='cuda:0')\n",
      "\n",
      "Test clean Accuracy 95.36\n",
      "Test_loss: tensor(0.0950, device='cuda:0')\n",
      "\n",
      "Target test clean Accuracy 94.10\n",
      "Test_loss: tensor(0.1549, device='cuda:0')\n"
     ]
    }
   ],
   "source": [
    "#cell 26\n",
    "for epoch in tqdm(range(training_epochs)):\n",
    "    # Train\n",
    "    model.train()\n",
    "    acc_meter = AverageMeter()\n",
    "    loss_meter = AverageMeter()\n",
    "    pbar = tqdm(clean_train_loader, total=len(clean_train_loader))\n",
    "    for images, labels in pbar:\n",
    "        images, labels = images.to(device), labels.to(device)\n",
    "        model.zero_grad()\n",
    "        optimizer.zero_grad()\n",
    "        logits = model(images)\n",
    "        loss = criterion(logits, labels)\n",
    "        loss.backward()\n",
    "        optimizer.step()\n",
    "        \n",
    "        _, predicted = torch.max(logits.data, 1)\n",
    "        acc = (predicted == labels).sum().item()/labels.size(0)\n",
    "        acc_meter.update(acc)\n",
    "        loss_meter.update(loss.item())\n",
    "        pbar.set_description(\"Acc %.2f Loss: %.2f\" % (acc_meter.avg*100, loss_meter.avg))\n",
    "    train_ACC.append(acc_meter.avg)\n",
    "    print('Train_loss:',loss)\n",
    "    scheduler.step()\n",
    "    \n",
    "    # Testing attack effect\n",
    "    model.eval()\n",
    "    correct, total = 0, 0\n",
    "    for i, (images, labels) in enumerate(asr_loaders):\n",
    "        images, labels = images.to(device), labels.to(device)\n",
    "        with torch.no_grad():\n",
    "            logits = model(images)\n",
    "            out_loss = criterion(logits,labels)\n",
    "            _, predicted = torch.max(logits.data, 1)\n",
    "            total += labels.size(0)\n",
    "            correct += (predicted == labels).sum().item()\n",
    "    acc = correct / total\n",
    "    test_ACC.append(acc)\n",
    "    print('\\nAttack success rate %.2f' % (acc*100))\n",
    "    print('Test_loss:',out_loss)\n",
    "    \n",
    "    correct_clean, total_clean = 0, 0\n",
    "    for i, (images, labels) in enumerate(clean_test_loader):\n",
    "        images, labels = images.to(device), labels.to(device)\n",
    "        with torch.no_grad():\n",
    "            logits = model(images)\n",
    "            out_loss = criterion(logits,labels)\n",
    "            _, predicted = torch.max(logits.data, 1)\n",
    "            total_clean += labels.size(0)\n",
    "            correct_clean += (predicted == labels).sum().item()\n",
    "    acc_clean = correct_clean / total_clean\n",
    "    clean_ACC.append(acc_clean)\n",
    "    print('\\nTest clean Accuracy %.2f' % (acc_clean*100))\n",
    "    print('Test_loss:',out_loss)\n",
    "    \n",
    "    correct_tar, total_tar = 0, 0\n",
    "    for i, (images, labels) in enumerate(target_test_loader):\n",
    "        images, labels = images.to(device), labels.to(device)\n",
    "        with torch.no_grad():\n",
    "            logits = model(images)\n",
    "            out_loss = criterion(logits,labels)\n",
    "            _, predicted = torch.max(logits.data, 1)\n",
    "            total_tar += labels.size(0)\n",
    "            correct_tar += (predicted == labels).sum().item()\n",
    "    acc_tar = correct_tar / total_tar\n",
    "    target_ACC.append(acc_tar)\n",
    "    print('\\nTarget test clean Accuracy %.2f' % (acc_tar*100))\n",
    "    print('Test_loss:',out_loss)"
   ]
  },
  {
   "cell_type": "code",
   "execution_count": 31,
   "id": "fa785df0",
   "metadata": {},
   "outputs": [
    {
     "data": {
      "image/png": "[encoded data removed]",
      "text/plain": [
       "<Figure size 1250x800 with 1 Axes>"
      ]
     },
     "metadata": {},
     "output_type": "display_data"
    },
    {
     "name": "stdout",
     "output_type": "stream",
     "text": [
      "0.9999001996007985\n",
      "attack 0.7137777777777777\n",
      "185\n",
      "all class clean 0.954\n",
      "target clean 0.94\n"
     ]
    }
   ],
   "source": [
    "#cell 27\n",
    "#ours -- higher_configureations\n",
    "from matplotlib import pyplot as plt\n",
    "half = np.arange(0,training_epochs)\n",
    "plt.figure(figsize=(12.5,8))\n",
    "plt.plot(half, np.asarray(train_ACC)[half], label='Training ACC', linestyle=\"-.\", marker=\"o\", linewidth=3.0, markersize = 8)\n",
    "plt.plot(half, np.asarray(test_ACC)[half], label='Attack success rate', linestyle=\"-.\", marker=\"o\", linewidth=3.0, markersize = 8)\n",
    "plt.plot(half, np.asarray(clean_ACC)[half], label='Clean test ACC', linestyle=\"-.\", marker=\"o\", linewidth=3.0, markersize = 8)\n",
    "plt.plot(half, np.asarray(target_ACC)[half], label='Target class clean test ACC', linestyle=\"-\", marker=\"o\", linewidth=3.0, markersize = 8)\n",
    "# plt.plot(half, np.asarray(test_unl_ACC)[half], label='protected test ACC', linestyle=\"-.\", marker=\"o\", linewidth=3.0, markersize = 8)\n",
    "plt.ylabel('ACC', fontsize=24)\n",
    "plt.xticks(fontsize=20)\n",
    "plt.xlabel('Epoches', fontsize=24)\n",
    "plt.yticks(np.arange(0,1.1, 0.1),fontsize=20)\n",
    "plt.legend(fontsize=20,bbox_to_anchor=(1.016, 1.2),ncol=2)\n",
    "plt.grid(color=\"gray\", linestyle=\"-\")\n",
    "plt.show()\n",
    "\n",
    "dis_idx = clean_ACC.index(max(clean_ACC))\n",
    "print(train_ACC[dis_idx])\n",
    "print('attack',test_ACC[dis_idx])\n",
    "print(clean_ACC.index(max(clean_ACC)))\n",
    "print('all class clean', clean_ACC[dis_idx])\n",
    "print('target clean',target_ACC[dis_idx])"
   ]
  },
  {
   "cell_type": "code",
   "execution_count": 32,
   "id": "88223a90",
   "metadata": {},
   "outputs": [
    {
     "name": "stdout",
     "output_type": "stream",
     "text": [
      "Saved training and evaluation metrics to metrics_adaptive_trigger.json\n"
     ]
    }
   ],
   "source": [
    "import json\n",
    "\n",
    "metrics = {\n",
    "    \"train_ACC\": train_ACC,\n",
    "    \"test_ACC\": test_ACC,\n",
    "    \"clean_ACC\": clean_ACC,\n",
    "    \"target_ACC\": target_ACC\n",
    "}\n",
    "\n",
    "with open(\"metrics_adaptive_trigger20.json\", \"w\") as f:\n",
    "    json.dump(metrics, f, indent=2)\n",
    "\n",
    "print(\"Saved training and evaluation metrics to metrics_adaptive_trigger.json\")"
   ]
  }
 ],
 "metadata": {
  "kernelspec": {
   "display_name": ".venv",
   "language": "python",
   "name": "python3"
  },
  "language_info": {
   "codemirror_mode": {
    "name": "ipython",
    "version": 3
   },
   "file_extension": ".py",
   "mimetype": "text/x-python",
   "name": "python",
   "nbconvert_exporter": "python",
   "pygments_lexer": "ipython3",
   "version": "3.12.3"
  }
 },
 "nbformat": 4,
 "nbformat_minor": 5
}
