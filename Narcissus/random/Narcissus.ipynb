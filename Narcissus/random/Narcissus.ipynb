{
 "cells": [
  {
   "cell_type": "code",
   "execution_count": 5,
   "id": "852e9274",
   "metadata": {},
   "outputs": [],
   "source": [
    "import torch\n",
    "import torch.nn as nn\n",
    "import torch.optim as optim\n",
    "import torch.nn.functional as F\n",
    "from torch.optim import Optimizer\n",
    "import torch.backends.cudnn as cudnn\n",
    "import tqdm\n",
    "\n",
    "import torchvision\n",
    "import torchvision.transforms as transforms\n",
    "from torch.utils.data import TensorDataset, DataLoader,Subset\n",
    "import torchvision.models as models\n",
    "import torch.nn.functional as F\n",
    "\n",
    "import sys\n",
    "import os\n",
    "sys.path.append(os.path.abspath(\"..\"))\n",
    "from models import *\n",
    "import copy\n",
    "import random\n",
    "import matplotlib.pyplot as plt\n",
    "import numpy as np\n",
    "import cv2 as cv\n",
    "from util import *\n",
    "\n",
    "random_seed = 0\n",
    "np.random.seed(random_seed)\n",
    "random.seed(random_seed)\n",
    "torch.manual_seed(random_seed)\n",
    "\n",
    "torch.cuda.set_device(0)\n",
    "device = 'cuda'\n",
    "dataset_path = '/narcissus/dataset/'"
   ]
  },
  {
   "cell_type": "code",
   "execution_count": 6,
   "id": "263d3e44",
   "metadata": {},
   "outputs": [
    {
     "name": "stdout",
     "output_type": "stream",
     "text": [
      "CIFAR-10 already downloaded.\n"
     ]
    }
   ],
   "source": [
    "import os\n",
    "import torchvision\n",
    "import torchvision.transforms as transforms\n",
    "\n",
    "dataset_path = os.path.expanduser(\"~/datasets/\")\n",
    "cifar10_path = os.path.join(dataset_path, \"cifar-10-batches-py\")\n",
    "\n",
    "if not os.path.exists(cifar10_path):\n",
    "    print(\"Downloading CIFAR-10...\")\n",
    "    torchvision.datasets.CIFAR10(root=dataset_path, train=True, download=True)\n",
    "    torchvision.datasets.CIFAR10(root=dataset_path, train=False, download=True)\n",
    "else:\n",
    "    print(\"CIFAR-10 already downloaded.\")\n"
   ]
  },
  {
   "cell_type": "code",
   "execution_count": 7,
   "id": "e535626e",
   "metadata": {},
   "outputs": [
    {
     "name": "stdout",
     "output_type": "stream",
     "text": [
      "Tiny ImageNet already downloaded.\n"
     ]
    }
   ],
   "source": [
    "import os\n",
    "import urllib.request\n",
    "import zipfile\n",
    "\n",
    "tiny_imagenet_dir = os.path.join(dataset_path, \"tiny-imagenet-200\")\n",
    "\n",
    "if not os.path.exists(tiny_imagenet_dir):\n",
    "    print(\"Downloading Tiny ImageNet...\")\n",
    "    url = \"http://cs231n.stanford.edu/tiny-imagenet-200.zip\"\n",
    "    zip_path = os.path.join(dataset_path, \"tiny-imagenet-200.zip\")\n",
    "    \n",
    "    urllib.request.urlretrieve(url, zip_path)\n",
    "\n",
    "    print(\"Extracting Tiny ImageNet...\")\n",
    "    with zipfile.ZipFile(zip_path, 'r') as zip_ref:\n",
    "        zip_ref.extractall(dataset_path)\n",
    "    \n",
    "    os.remove(zip_path)\n",
    "    print(\"Done.\")\n",
    "else:\n",
    "    print(\"Tiny ImageNet already downloaded.\")\n"
   ]
  },
  {
   "cell_type": "code",
   "execution_count": 8,
   "id": "923b33b2",
   "metadata": {},
   "outputs": [],
   "source": [
    "'''\n",
    "The path for target dataset and public out-of-distribution (POOD) dataset. The setting used \n",
    "here is CIFAR-10 as the target dataset and Tiny-ImageNet as the POOD dataset. Their directory\n",
    "structure is as follows:\n",
    "\n",
    "dataset_path--cifar-10-batches-py\n",
    "            |\n",
    "            |-tiny-imagenet-200\n",
    "'''\n",
    "# dataset_path = '/home/minzhou/data/'\n",
    "\n",
    "#The target class label\n",
    "lab = 2\n",
    "\n",
    "#Noise size, default is full image size\n",
    "noise_size = 32\n",
    "\n",
    "#Radius of the L-inf ball\n",
    "l_inf_r = 16/255\n",
    "\n",
    "#Model for generating surrogate model and trigger\n",
    "surrogate_model = ResNet18_201().cuda()\n",
    "generating_model = ResNet18_201().cuda()\n",
    "\n",
    "#Surrogate model training epochs\n",
    "surrogate_epochs = 200\n",
    "\n",
    "#Learning rate for poison-warm-up\n",
    "generating_lr_warmup = 0.1\n",
    "warmup_round = 5\n",
    "\n",
    "#Learning rate for trigger generating\n",
    "generating_lr_tri = 0.01      \n",
    "gen_round = 1000\n",
    "\n",
    "#Training batch size\n",
    "train_batch_size = 350\n",
    "\n",
    "#The model for adding the noise\n",
    "patch_mode = 'add'"
   ]
  },
  {
   "cell_type": "markdown",
   "id": "4adeef42",
   "metadata": {},
   "source": [
    "# Prepare dataset"
   ]
  },
  {
   "cell_type": "code",
   "execution_count": 9,
   "id": "d533122a",
   "metadata": {},
   "outputs": [],
   "source": [
    "#The argumention use for surrogate model training stage\n",
    "transform_surrogate_train = transforms.Compose([\n",
    "    transforms.Resize(32),\n",
    "    transforms.RandomCrop(32, padding=4),  \n",
    "    transforms.RandomHorizontalFlip(),\n",
    "    transforms.ToTensor(),\n",
    "    transforms.Normalize((0.5, 0.5, 0.5), (0.5, 0.5, 0.5)),\n",
    "])\n",
    "\n",
    "#The argumention use for all training set\n",
    "transform_train = transforms.Compose([\n",
    "    transforms.RandomCrop(32, padding=4),  \n",
    "    transforms.RandomHorizontalFlip(),\n",
    "    transforms.ToTensor(),\n",
    "    transforms.Normalize((0.5, 0.5, 0.5), (0.5, 0.5, 0.5)),\n",
    "])\n",
    "\n",
    "#The argumention use for all testing set\n",
    "transform_test = transforms.Compose([\n",
    "    transforms.ToTensor(),\n",
    "    transforms.Normalize((0.5, 0.5, 0.5), (0.5, 0.5, 0.5)),\n",
    "])"
   ]
  },
  {
   "cell_type": "code",
   "execution_count": 10,
   "id": "97a3e2df",
   "metadata": {},
   "outputs": [],
   "source": [
    "ori_train = torchvision.datasets.CIFAR10(root=dataset_path, train=True, download=False, transform=transform_train)\n",
    "ori_test = torchvision.datasets.CIFAR10(root=dataset_path, train=False, download=False, transform=transform_test)\n",
    "outter_trainset = torchvision.datasets.ImageFolder(root=dataset_path + 'tiny-imagenet-200/train/', transform=transform_surrogate_train)"
   ]
  },
  {
   "cell_type": "code",
   "execution_count": 11,
   "id": "48a8f73b",
   "metadata": {},
   "outputs": [],
   "source": [
    "#Outter train dataset\n",
    "train_label = [get_labels(ori_train)[x] for x in range(len(get_labels(ori_train)))]\n",
    "test_label = [get_labels(ori_test)[x] for x in range(len(get_labels(ori_test)))]"
   ]
  },
  {
   "cell_type": "code",
   "execution_count": 12,
   "id": "8760de53",
   "metadata": {},
   "outputs": [],
   "source": [
    "#Inner train dataset\n",
    "train_target_list = list(np.where(np.array(train_label)==lab)[0])\n",
    "train_target = Subset(ori_train,train_target_list)"
   ]
  },
  {
   "cell_type": "code",
   "execution_count": 13,
   "id": "9201691b",
   "metadata": {},
   "outputs": [],
   "source": [
    "concoct_train_dataset = concoct_dataset(train_target,outter_trainset)"
   ]
  },
  {
   "cell_type": "code",
   "execution_count": 14,
   "id": "46d5d50c",
   "metadata": {},
   "outputs": [],
   "source": [
    "surrogate_loader = torch.utils.data.DataLoader(concoct_train_dataset, batch_size=train_batch_size, shuffle=True, num_workers=16)\n",
    "\n",
    "poi_warm_up_loader = torch.utils.data.DataLoader(train_target, batch_size=train_batch_size, shuffle=True, num_workers=16)\n",
    "\n",
    "trigger_gen_loaders = torch.utils.data.DataLoader(train_target, batch_size=train_batch_size, shuffle=True, num_workers=16)"
   ]
  },
  {
   "cell_type": "markdown",
   "id": "eb29f99b",
   "metadata": {},
   "source": [
    "#  Training surrogate modle"
   ]
  },
  {
   "cell_type": "code",
   "execution_count": 15,
   "id": "5b9ce8c1",
   "metadata": {},
   "outputs": [],
   "source": [
    "# Batch_grad\n",
    "condition = True\n",
    "noise = torch.zeros((1, 3, noise_size, noise_size), device=device)\n",
    "\n",
    "\n",
    "surrogate_model = surrogate_model\n",
    "criterion = torch.nn.CrossEntropyLoss()\n",
    "# outer_opt = torch.optim.RAdam(params=base_model.parameters(), lr=generating_lr_outer)\n",
    "surrogate_opt = torch.optim.SGD(params=surrogate_model.parameters(), lr=0.1, momentum=0.9, weight_decay=5e-4)\n",
    "surrogate_scheduler = torch.optim.lr_scheduler.CosineAnnealingLR(surrogate_opt, T_max=surrogate_epochs)"
   ]
  },
  {
   "cell_type": "code",
   "execution_count": 18,
   "id": "fe7d6ffe",
   "metadata": {
    "scrolled": true
   },
   "outputs": [
    {
     "name": "stdout",
     "output_type": "stream",
     "text": [
      "Loading pre-trained surrogate model from surrogate_pretrain_200.pth\n"
     ]
    }
   ],
   "source": [
    "save_path = 'surrogate_pretrain_' + str(surrogate_epochs) +'.pth'\n",
    "\n",
    "if os.path.exists(save_path):\n",
    "    print(f\"Loading pre-trained surrogate model from {save_path}\")\n",
    "    surrogate_model.load_state_dict(torch.load(save_path))\n",
    "else:\n",
    "    print('Training the surrogate model')\n",
    "    for epoch in range(0, surrogate_epochs):\n",
    "        surrogate_model.train()\n",
    "        loss_list = []\n",
    "        for images, labels in surrogate_loader:\n",
    "            images, labels = images.cuda(), labels.cuda()\n",
    "            surrogate_opt.zero_grad()\n",
    "            outputs = surrogate_model(images)\n",
    "            loss = criterion(outputs, labels)\n",
    "            loss.backward()\n",
    "            loss_list.append(float(loss.data))\n",
    "            surrogate_opt.step()\n",
    "        surrogate_scheduler.step()\n",
    "        ave_loss = np.average(np.array(loss_list))\n",
    "        print('Epoch:%d, Loss: %.03f' % (epoch, ave_loss))\n",
    "    \n",
    "    torch.save(surrogate_model.state_dict(), save_path)\n"
   ]
  },
  {
   "cell_type": "markdown",
   "id": "cff016a4",
   "metadata": {},
   "source": [
    "# Poison warm up"
   ]
  },
  {
   "cell_type": "code",
   "execution_count": 19,
   "id": "a2d6be24",
   "metadata": {},
   "outputs": [],
   "source": [
    "#cell 13\n",
    "#Prepare models and optimizers for poi_warm_up training\n",
    "poi_warm_up_model = generating_model\n",
    "poi_warm_up_model.load_state_dict(surrogate_model.state_dict())\n",
    "\n",
    "poi_warm_up_opt = torch.optim.RAdam(params=poi_warm_up_model.parameters(), lr=generating_lr_warmup)"
   ]
  },
  {
   "cell_type": "code",
   "execution_count": 20,
   "id": "f5174da4",
   "metadata": {},
   "outputs": [
    {
     "name": "stdout",
     "output_type": "stream",
     "text": [
      "Epoch:0, Loss: 5.462804e-01\n",
      "Epoch:1, Loss: 2.772788e-05\n",
      "Epoch:2, Loss: 3.588172e-06\n",
      "Epoch:3, Loss: 1.779734e-06\n",
      "Epoch:4, Loss: 1.346358e-06\n"
     ]
    }
   ],
   "source": [
    "#cell 14\n",
    "#Poi_warm_up stage\n",
    "poi_warm_up_model.train()\n",
    "for param in poi_warm_up_model.parameters():\n",
    "    param.requires_grad = True\n",
    "\n",
    "#Training the surrogate model\n",
    "for epoch in range(0, warmup_round):\n",
    "    poi_warm_up_model.train()\n",
    "    loss_list = []\n",
    "    for images, labels in poi_warm_up_loader:\n",
    "        images, labels = images.cuda(), labels.cuda()\n",
    "        poi_warm_up_model.zero_grad()\n",
    "        poi_warm_up_opt.zero_grad()\n",
    "        outputs = poi_warm_up_model(images)\n",
    "        loss = criterion(outputs, labels)\n",
    "        loss.backward(retain_graph = True)\n",
    "        loss_list.append(float(loss.data))\n",
    "        poi_warm_up_opt.step()\n",
    "    ave_loss = np.average(np.array(loss_list))\n",
    "    print('Epoch:%d, Loss: %e' % (epoch, ave_loss))"
   ]
  },
  {
   "cell_type": "markdown",
   "id": "a27fab21",
   "metadata": {},
   "source": [
    "# Trigger generating"
   ]
  },
  {
   "cell_type": "code",
   "execution_count": 21,
   "id": "b156e248",
   "metadata": {},
   "outputs": [
    {
     "data": {
      "application/vnd.jupyter.widget-view+json": {
       "model_id": "f6cc1dcdc5ec44119e3e77b829ce6193",
       "version_major": 2,
       "version_minor": 0
      },
      "text/plain": [
       "  0%|          | 0/1000 [00:00<?, ?it/s]"
      ]
     },
     "metadata": {},
     "output_type": "display_data"
    },
    {
     "name": "stdout",
     "output_type": "stream",
     "text": [
      "Gradient: 5.8234884e-05 Loss: 1.1197820147875368e-06\n",
      "Gradient: 4.1105362e-05 Loss: 1.1140940102905007e-06\n",
      "Gradient: 7.1594906e-05 Loss: 1.043318237255638e-06\n",
      "Gradient: 2.9281975e-05 Loss: 1.0608475037088282e-06\n",
      "Gradient: 8.477069e-05 Loss: 1.001276865508771e-06\n",
      "Gradient: 2.2485729e-05 Loss: 1.5473560059338828e-06\n",
      "Gradient: 6.503277e-05 Loss: 1.2481534516458245e-06\n",
      "Gradient: 8.7230845e-05 Loss: 1.2084284435331938e-06\n",
      "Gradient: 4.2124528e-05 Loss: 1.170247387941951e-06\n",
      "Gradient: 1.5943027e-05 Loss: 1.4426225628009584e-06\n",
      "Gradient: 5.6518875e-05 Loss: 1.193305827958587e-06\n",
      "Gradient: 1.0017042e-05 Loss: 8.90151397925365e-07\n",
      "Gradient: 5.559326e-05 Loss: 1.308540464606267e-06\n",
      "Gradient: 4.434251e-05 Loss: 1.0785014372534837e-06\n",
      "Gradient: 2.45779e-05 Loss: 1.1634920497272106e-06\n",
      "Gradient: 5.4030003e-05 Loss: 1.2436570708966125e-06\n",
      "Gradient: 6.595189e-05 Loss: 9.965541247917523e-07\n",
      "Gradient: 1.6358415e-05 Loss: 9.997328694074288e-07\n",
      "Gradient: 4.2991815e-05 Loss: 1.0827137183847906e-06\n",
      "Gradient: 7.5724325e-05 Loss: 1.0285816567071985e-06\n",
      "Gradient: 3.616062e-05 Loss: 1.0920575761019791e-06\n",
      "Gradient: 3.5706493e-05 Loss: 1.0022874941266006e-06\n",
      "Gradient: 5.1210445e-05 Loss: 8.715207494939629e-07\n",
      "Gradient: 7.7437435e-05 Loss: 1.2247202979172773e-06\n",
      "Gradient: 1.9566442e-05 Loss: 9.165933595530381e-07\n",
      "Gradient: 6.432561e-05 Loss: 9.538206389455202e-07\n",
      "Gradient: 3.6943566e-05 Loss: 8.713165224586798e-07\n",
      "Gradient: 3.0757074e-05 Loss: 1.0292969970275104e-06\n",
      "Gradient: 1.7667462e-05 Loss: 7.721458795610185e-07\n",
      "Gradient: 9.335599e-05 Loss: 9.075447906070622e-07\n",
      "Gradient: 4.363315e-05 Loss: 9.428528850700483e-07\n",
      "Gradient: 2.9890587e-05 Loss: 8.045252608705292e-07\n",
      "Gradient: 3.5875222e-05 Loss: 7.934330445399003e-07\n",
      "Gradient: 1.3689584e-05 Loss: 8.220774702749623e-07\n",
      "Gradient: 2.9832074e-05 Loss: 6.466810494506111e-07\n",
      "Gradient: 3.830615e-05 Loss: 7.864622034503555e-07\n",
      "Gradient: 6.7254994e-05 Loss: 8.469179344198589e-07\n",
      "Gradient: 5.7077204e-06 Loss: 6.639037910834607e-07\n",
      "Gradient: 1.6417292e-05 Loss: 6.500641778946677e-07\n",
      "Gradient: 2.1682212e-05 Loss: 7.434443953494944e-07\n",
      "Gradient: 1.6082644e-05 Loss: 5.858840817533444e-07\n",
      "Gradient: 2.2374741e-05 Loss: 6.425823954714361e-07\n",
      "Gradient: 1.5576119e-05 Loss: 6.558655750647328e-07\n",
      "Gradient: 2.0441035e-05 Loss: 5.139046512188845e-07\n",
      "Gradient: 9.494714e-06 Loss: 6.203752576539045e-07\n",
      "Gradient: 2.4779782e-05 Loss: 6.125757674150615e-07\n",
      "Gradient: 1.9941383e-05 Loss: 6.400618152232103e-07\n",
      "Gradient: 1.2834011e-05 Loss: 4.896541582866121e-07\n",
      "Gradient: 1.6183454e-05 Loss: 5.789588324015919e-07\n",
      "Gradient: 8.958332e-06 Loss: 4.23430662976898e-07\n",
      "Gradient: 2.6224834e-05 Loss: 4.988388440096969e-07\n",
      "Gradient: 2.042231e-05 Loss: 5.5543478178303e-07\n",
      "Gradient: 1.3559436e-05 Loss: 5.410956134710431e-07\n",
      "Gradient: 1.4280467e-05 Loss: 4.932758353485649e-07\n",
      "Gradient: 7.4771724e-06 Loss: 5.97589125087931e-07\n",
      "Gradient: 8.443591e-06 Loss: 5.759385317105626e-07\n",
      "Gradient: 9.469022e-06 Loss: 4.776423404943367e-07\n",
      "Gradient: 1.34277025e-05 Loss: 5.181734422876616e-07\n",
      "Gradient: 7.6385195e-06 Loss: 5.06002731034035e-07\n",
      "Gradient: 5.903503e-06 Loss: 5.951368900506775e-07\n",
      "Gradient: 6.27836e-06 Loss: 5.47850717680376e-07\n",
      "Gradient: 3.2610587e-05 Loss: 6.50166227463463e-07\n",
      "Gradient: 7.79399e-06 Loss: 4.77403991775797e-07\n",
      "Gradient: 7.746368e-06 Loss: 5.960792700913468e-07\n",
      "Gradient: 8.71981e-06 Loss: 5.120312304522182e-07\n",
      "Gradient: 1.0034853e-05 Loss: 5.55559527507891e-07\n",
      "Gradient: 1.8841172e-05 Loss: 5.182414971235024e-07\n",
      "Gradient: 1.074252e-05 Loss: 4.249972960224113e-07\n",
      "Gradient: 3.7507327e-06 Loss: 5.098400331841428e-07\n",
      "Gradient: 1.5178825e-05 Loss: 5.205689035392425e-07\n",
      "Gradient: 2.5415488e-06 Loss: 6.576252763087117e-07\n",
      "Gradient: 7.2899766e-06 Loss: 4.7667728229801773e-07\n",
      "Gradient: 7.0121514e-06 Loss: 4.726923009457096e-07\n",
      "Gradient: 1.1622102e-05 Loss: 6.102255137345007e-07\n",
      "Gradient: 1.396273e-05 Loss: 4.723744467582947e-07\n",
      "Gradient: 1.1165687e-05 Loss: 4.3834877961520153e-07\n",
      "Gradient: 1.161908e-05 Loss: 4.515185158500875e-07\n",
      "Gradient: 2.5790087e-06 Loss: 4.627695441665007e-07\n",
      "Gradient: 9.417851e-06 Loss: 5.098854302332256e-07\n",
      "Gradient: 9.441712e-06 Loss: 4.1490422878117293e-07\n",
      "Gradient: 3.4604336e-06 Loss: 4.5189307797954823e-07\n",
      "Gradient: 5.4425423e-06 Loss: 4.53573439547957e-07\n",
      "Gradient: 2.4670674e-06 Loss: 5.021653133023089e-07\n",
      "Gradient: 8.727102e-06 Loss: 6.246893140845107e-07\n",
      "Gradient: 2.814174e-06 Loss: 4.649493528556074e-07\n",
      "Gradient: 4.953137e-06 Loss: 4.6105527644613177e-07\n",
      "Gradient: 7.758023e-06 Loss: 4.2381652652541866e-07\n",
      "Gradient: 5.8023415e-06 Loss: 6.112471434486603e-07\n",
      "Gradient: 4.5155884e-06 Loss: 4.1119178509537356e-07\n",
      "Gradient: 6.0568846e-06 Loss: 5.321833147794071e-07\n",
      "Gradient: 1.0266098e-05 Loss: 5.403461746785373e-07\n",
      "Gradient: 4.4644876e-06 Loss: 4.225904007171266e-07\n",
      "Gradient: 1.029807e-05 Loss: 4.367704500888673e-07\n",
      "Gradient: 9.401648e-06 Loss: 4.82331059477777e-07\n",
      "Gradient: 2.4637307e-06 Loss: 3.7309031502748743e-07\n",
      "Gradient: 3.7907912e-06 Loss: 4.6142992573550143e-07\n",
      "Gradient: 6.3930697e-06 Loss: 4.3704321891861276e-07\n",
      "Gradient: 3.9880815e-06 Loss: 4.4416176005294497e-07\n",
      "Gradient: 2.6456269e-06 Loss: 3.11044847952265e-07\n",
      "Gradient: 9.2263235e-06 Loss: 3.9029050734977015e-07\n",
      "Gradient: 1.504422e-06 Loss: 4.1576704271998704e-07\n",
      "Gradient: 3.497375e-06 Loss: 4.57637982738864e-07\n",
      "Gradient: 3.5251996e-06 Loss: 4.6446131989341667e-07\n",
      "Gradient: 2.966902e-06 Loss: 4.5911389653004636e-07\n",
      "Gradient: 2.2353104e-06 Loss: 3.799476928634249e-07\n",
      "Gradient: 6.635619e-06 Loss: 4.034034892204848e-07\n",
      "Gradient: 3.2405237e-06 Loss: 4.482828387608606e-07\n",
      "Gradient: 2.332532e-06 Loss: 3.5447088369740717e-07\n",
      "Gradient: 7.0505193e-06 Loss: 3.8364878491847775e-07\n",
      "Gradient: 1.01153855e-05 Loss: 4.5061029159872607e-07\n",
      "Gradient: 8.23324e-06 Loss: 6.072963306754294e-07\n",
      "Gradient: 4.5642832e-06 Loss: 4.639617041372427e-07\n",
      "Gradient: 1.7068621e-06 Loss: 3.9025632361244787e-07\n",
      "Gradient: 5.521795e-06 Loss: 5.170495569473132e-07\n",
      "Gradient: 4.9888845e-06 Loss: 4.086258959053642e-07\n",
      "Gradient: 6.9804873e-06 Loss: 4.371227163346703e-07\n",
      "Gradient: 3.7107739e-06 Loss: 4.573200584445658e-07\n",
      "Gradient: 1.7389189e-06 Loss: 4.589435216454755e-07\n",
      "Gradient: 2.1833164e-06 Loss: 4.4988365128043976e-07\n",
      "Gradient: 8.8834526e-07 Loss: 5.461816352673547e-07\n",
      "Gradient: 3.7683812e-06 Loss: 4.436619879773692e-07\n",
      "Gradient: 5.724055e-06 Loss: 4.6308735287918047e-07\n",
      "Gradient: 2.3636367e-06 Loss: 3.9147123421419867e-07\n",
      "Gradient: 7.2751172e-06 Loss: 4.960912842003987e-07\n",
      "Gradient: 3.85312e-06 Loss: 3.5713908251485313e-07\n",
      "Gradient: 6.269305e-06 Loss: 4.2989060015467356e-07\n",
      "Gradient: 3.51246e-06 Loss: 4.7492884505118125e-07\n",
      "Gradient: 6.928318e-07 Loss: 3.711262531661911e-07\n",
      "Gradient: 2.6674277e-06 Loss: 3.4957776620103684e-07\n",
      "Gradient: 1.8655354e-06 Loss: 4.013257627851393e-07\n",
      "Gradient: 1.285139e-06 Loss: 4.816159512680921e-07\n",
      "Gradient: 1.4293503e-06 Loss: 3.4468446870050683e-07\n",
      "Gradient: 1.935428e-06 Loss: 4.1046512440819544e-07\n",
      "Gradient: 3.1247905e-06 Loss: 3.350682969009237e-07\n",
      "Gradient: 4.4891726e-06 Loss: 4.481124667184607e-07\n",
      "Gradient: 2.2144843e-06 Loss: 3.667325216838435e-07\n",
      "Gradient: 2.4181425e-06 Loss: 4.1489290178257455e-07\n",
      "Gradient: 4.4357193e-06 Loss: 4.4390047738337064e-07\n",
      "Gradient: 3.0875594e-06 Loss: 5.106917086550311e-07\n",
      "Gradient: 2.9434364e-06 Loss: 3.997476824224577e-07\n",
      "Gradient: 1.5787067e-06 Loss: 4.759733930844353e-07\n",
      "Gradient: 1.9570198e-06 Loss: 3.4384433433842787e-07\n",
      "Gradient: 3.8092458e-06 Loss: 4.1425701719314626e-07\n",
      "Gradient: 1.7395568e-06 Loss: 3.869980019999275e-07\n",
      "Gradient: 1.6741263e-06 Loss: 4.1447278865310484e-07\n",
      "Gradient: 2.8225763e-06 Loss: 4.008034627152786e-07\n",
      "Gradient: 3.1129645e-07 Loss: 3.175389321559881e-07\n",
      "Gradient: 1.2455425e-06 Loss: 4.4494501120576996e-07\n",
      "Gradient: 1.503321e-06 Loss: 3.656312571820308e-07\n",
      "Gradient: 5.89767e-06 Loss: 4.6811696942465155e-07\n",
      "Gradient: 1.40731e-06 Loss: 4.1099891300670304e-07\n",
      "Gradient: 2.0725583e-06 Loss: 3.6638056902423465e-07\n",
      "Gradient: 1.6996537e-06 Loss: 3.3999548634255914e-07\n",
      "Gradient: 4.164341e-06 Loss: 4.581600649089523e-07\n",
      "Gradient: 1.657653e-06 Loss: 3.8754302427908746e-07\n",
      "Gradient: 2.1047929e-06 Loss: 4.3695226660626454e-07\n",
      "Gradient: 2.3718262e-06 Loss: 4.954100016144972e-07\n",
      "Gradient: 8.0593304e-07 Loss: 4.794248155803871e-07\n",
      "Gradient: 1.4172258e-06 Loss: 3.5598093196161547e-07\n",
      "Gradient: 1.4510039e-06 Loss: 4.696837493156636e-07\n",
      "Gradient: 2.4864598e-06 Loss: 4.6961562058337826e-07\n",
      "Gradient: 1.5611961e-06 Loss: 4.6935450275971865e-07\n",
      "Gradient: 1.3740325e-06 Loss: 5.026533510014512e-07\n",
      "Gradient: 2.4274377e-06 Loss: 4.6810554484485084e-07\n",
      "Gradient: 1.2370967e-06 Loss: 4.208192308396974e-07\n",
      "Gradient: 2.4270926e-06 Loss: 3.4284523167116274e-07\n",
      "Gradient: 1.0190091e-06 Loss: 3.6725470143513423e-07\n",
      "Gradient: 3.6714098e-06 Loss: 4.155173892665213e-07\n",
      "Gradient: 2.8853644e-06 Loss: 3.5810403791932307e-07\n",
      "Gradient: 1.9839754e-06 Loss: 4.1405276552571497e-07\n",
      "Gradient: 1.9901556e-06 Loss: 4.6349624085451067e-07\n",
      "Gradient: 2.7868236e-06 Loss: 4.2537195478568415e-07\n",
      "Gradient: 1.5093506e-06 Loss: 4.520974253334013e-07\n",
      "Gradient: 1.2284199e-06 Loss: 3.6997956271989095e-07\n",
      "Gradient: 1.4830982e-06 Loss: 4.413119436700678e-07\n",
      "Gradient: 1.9367499e-06 Loss: 4.697745623616356e-07\n",
      "Gradient: 1.7515132e-06 Loss: 3.413807618812825e-07\n",
      "Gradient: 1.585251e-06 Loss: 4.166754176064084e-07\n",
      "Gradient: 2.2631054e-06 Loss: 3.7827882787648074e-07\n",
      "Gradient: 1.2677194e-06 Loss: 4.102267960585474e-07\n",
      "Gradient: 2.4178012e-06 Loss: 4.4874841857260134e-07\n",
      "Gradient: 6.5883924e-06 Loss: 5.966013124710419e-07\n",
      "Gradient: 1.0544818e-06 Loss: 4.1462061896406035e-07\n",
      "Gradient: 8.1458506e-07 Loss: 4.3361437936558406e-07\n",
      "Gradient: 3.39812e-07 Loss: 3.978517649253869e-07\n",
      "Gradient: 5.2955113e-07 Loss: 3.828654565533422e-07\n",
      "Gradient: 1.5132138e-06 Loss: 4.1493836325419885e-07\n",
      "Gradient: 4.5417573e-07 Loss: 4.3680465277399587e-07\n",
      "Gradient: 1.9744525e-06 Loss: 5.216929395146508e-07\n",
      "Gradient: 9.1503597e-07 Loss: 5.239182750453135e-07\n",
      "Gradient: 1.0982174e-06 Loss: 4.222839796360252e-07\n",
      "Gradient: 1.2744281e-06 Loss: 3.4477527748322246e-07\n",
      "Gradient: 3.970183e-06 Loss: 5.511316459205772e-07\n",
      "Gradient: 9.543626e-07 Loss: 4.739752625937399e-07\n",
      "Gradient: 1.3403483e-06 Loss: 4.014847590383397e-07\n",
      "Gradient: 1.2789578e-06 Loss: 3.9013155420282907e-07\n",
      "Gradient: 1.2069938e-06 Loss: 4.268932239407756e-07\n",
      "Gradient: 1.2281745e-06 Loss: 4.096364781010683e-07\n",
      "Gradient: 1.278386e-06 Loss: 4.3603268503981475e-07\n",
      "Gradient: 5.833466e-07 Loss: 4.1955912877256196e-07\n",
      "Gradient: 1.4206979e-06 Loss: 3.8704341610203603e-07\n",
      "Gradient: 1.1005243e-06 Loss: 4.2915265983841286e-07\n",
      "Gradient: 1.6951635e-06 Loss: 5.13768342595237e-07\n",
      "Gradient: 1.2312875e-06 Loss: 4.6366655984305304e-07\n",
      "Gradient: 1.1432929e-06 Loss: 5.385297167019113e-07\n",
      "Gradient: 1.4464954e-06 Loss: 4.85646157244446e-07\n",
      "Gradient: 2.377847e-06 Loss: 4.792545354348476e-07\n",
      "Gradient: 5.0586614e-06 Loss: 6.239854968725922e-07\n",
      "Gradient: 1.7402668e-06 Loss: 4.921859821630885e-07\n",
      "Gradient: 1.0753806e-06 Loss: 4.952965459400123e-07\n",
      "Gradient: 6.1704174e-07 Loss: 3.7508848625596634e-07\n",
      "Gradient: 7.378269e-07 Loss: 3.390987259876965e-07\n",
      "Gradient: 1.1703456e-06 Loss: 4.468523314926642e-07\n",
      "Gradient: 1.6257459e-06 Loss: 4.1896875681383485e-07\n",
      "Gradient: 7.117579e-07 Loss: 3.678224786085593e-07\n",
      "Gradient: 8.424522e-07 Loss: 4.943996988989359e-07\n",
      "Gradient: 1.4031657e-06 Loss: 3.954561653548202e-07\n",
      "Gradient: 1.4857587e-06 Loss: 4.859075469691258e-07\n",
      "Gradient: 4.985908e-07 Loss: 5.009505324930312e-07\n",
      "Gradient: 1.9563172e-06 Loss: 5.23009788366835e-07\n",
      "Gradient: 1.0282788e-06 Loss: 4.3187740838372217e-07\n",
      "Gradient: 2.8095849e-06 Loss: 4.772563120999015e-07\n",
      "Gradient: 3.2387723e-07 Loss: 3.900974940999428e-07\n",
      "Gradient: 7.8717346e-07 Loss: 5.277895468225325e-07\n",
      "Gradient: 6.4464837e-07 Loss: 4.5565108829729677e-07\n",
      "Gradient: 1.48514e-06 Loss: 4.1256544610253815e-07\n",
      "Gradient: 8.267535e-07 Loss: 3.459560607173747e-07\n",
      "Gradient: 1.1807344e-06 Loss: 4.4494501973228275e-07\n",
      "Gradient: 1.3172621e-06 Loss: 4.259510376414255e-07\n",
      "Gradient: 1.4301365e-06 Loss: 4.4754493349804155e-07\n",
      "Gradient: 7.923846e-07 Loss: 3.699454765637711e-07\n",
      "Gradient: 8.521023e-07 Loss: 4.091821959188261e-07\n",
      "Gradient: 8.9978806e-07 Loss: 4.5594628375056343e-07\n",
      "Gradient: 8.481638e-07 Loss: 4.7075085092274093e-07\n",
      "Gradient: 7.686407e-07 Loss: 5.206596464783312e-07\n",
      "Gradient: 9.136101e-07 Loss: 3.9382126336325505e-07\n",
      "Gradient: 6.926566e-07 Loss: 4.195932632455879e-07\n",
      "Gradient: 1.1892787e-06 Loss: 3.602271211396631e-07\n",
      "Gradient: 9.4971335e-07 Loss: 3.483402186551151e-07\n",
      "Gradient: 1.1188479e-06 Loss: 4.508033621656674e-07\n",
      "Gradient: 4.196325e-07 Loss: 3.7654181236727403e-07\n",
      "Gradient: 5.696778e-07 Loss: 3.4088118449441633e-07\n",
      "Gradient: 7.625631e-07 Loss: 4.4598943418350243e-07\n",
      "Gradient: 9.875075e-07 Loss: 4.0705933249303904e-07\n",
      "Gradient: 5.676969e-07 Loss: 3.761784057587647e-07\n",
      "Gradient: 7.779556e-07 Loss: 4.0595793488288715e-07\n",
      "Gradient: 1.0770718e-06 Loss: 4.816499313164968e-07\n",
      "Gradient: 6.329031e-07 Loss: 3.91800445716702e-07\n",
      "Gradient: 7.491934e-07 Loss: 5.716129805932724e-07\n",
      "Gradient: 3.7765506e-07 Loss: 3.609310539332e-07\n",
      "Gradient: 1.3241237e-06 Loss: 4.821040458106533e-07\n",
      "Gradient: 4.4570908e-07 Loss: 3.7666660261947983e-07\n",
      "Gradient: 7.935764e-07 Loss: 3.329566699979599e-07\n",
      "Gradient: 7.427422e-07 Loss: 3.4285659561798335e-07\n",
      "Gradient: 6.545181e-07 Loss: 4.075814179789935e-07\n",
      "Gradient: 5.8259906e-07 Loss: 4.308329929851122e-07\n",
      "Gradient: 1.0077026e-06 Loss: 4.7240856228351427e-07\n",
      "Gradient: 5.530162e-07 Loss: 4.21375647382168e-07\n",
      "Gradient: 8.9366637e-07 Loss: 3.767460526660216e-07\n",
      "Gradient: 4.3711466e-07 Loss: 3.578883422505896e-07\n",
      "Gradient: 8.482794e-07 Loss: 4.1278135351300683e-07\n",
      "Gradient: 5.946223e-07 Loss: 4.488051303042084e-07\n",
      "Gradient: 1.2911814e-06 Loss: 4.334442138542727e-07\n",
      "Gradient: 4.1927225e-07 Loss: 3.976246707300864e-07\n",
      "Gradient: 6.393369e-07 Loss: 4.7364601698518525e-07\n",
      "Gradient: 4.9147206e-07 Loss: 4.0444805904371606e-07\n",
      "Gradient: 2.8499545e-07 Loss: 4.048111890142536e-07\n",
      "Gradient: 4.362348e-07 Loss: 4.408124084420706e-07\n",
      "Gradient: 1.7104558e-06 Loss: 4.758939430378935e-07\n",
      "Gradient: 2.889516e-07 Loss: 4.073884933101605e-07\n",
      "Gradient: 9.604341e-07 Loss: 4.4074431665800754e-07\n",
      "Gradient: 4.867155e-07 Loss: 4.015415891937361e-07\n",
      "Gradient: 2.34547e-07 Loss: 3.910285831428458e-07\n",
      "Gradient: 4.513828e-07 Loss: 4.1653921130091475e-07\n",
      "Gradient: 2.2137777e-07 Loss: 4.252700207985072e-07\n",
      "Gradient: 5.102979e-07 Loss: 4.145524191775015e-07\n",
      "Gradient: 2.8222144e-07 Loss: 3.677429901927098e-07\n",
      "Gradient: 4.0545228e-07 Loss: 4.246340466806942e-07\n",
      "Gradient: 8.893033e-07 Loss: 3.8615790837563205e-07\n",
      "Gradient: 8.1176114e-07 Loss: 3.909944780389196e-07\n",
      "Gradient: 4.9861364e-07 Loss: 3.5971611396234947e-07\n",
      "Gradient: 1.8631455e-07 Loss: 4.636324684762864e-07\n",
      "Gradient: 6.373632e-07 Loss: 3.932424183024826e-07\n",
      "Gradient: 8.7060516e-07 Loss: 4.889842112258217e-07\n",
      "Gradient: 2.1136708e-07 Loss: 3.8115114477932364e-07\n",
      "Gradient: 2.2275414e-07 Loss: 4.354196969795036e-07\n",
      "Gradient: 3.9633122e-07 Loss: 3.757810664713664e-07\n",
      "Gradient: 5.5155806e-07 Loss: 4.774834915603302e-07\n",
      "Gradient: 7.959181e-07 Loss: 3.6655076295725546e-07\n",
      "Gradient: 3.1603307e-07 Loss: 5.238272838899623e-07\n",
      "Gradient: 8.8829006e-07 Loss: 4.2282889959703124e-07\n",
      "Gradient: 4.860233e-07 Loss: 3.927769597567021e-07\n",
      "Gradient: 5.200259e-07 Loss: 4.3803067531674366e-07\n",
      "Gradient: 1.1710251e-07 Loss: 3.2698473167632377e-07\n",
      "Gradient: 1.9447924e-07 Loss: 4.514845452755859e-07\n",
      "Gradient: 3.2016766e-07 Loss: 3.7859668016911504e-07\n",
      "Gradient: 5.443237e-07 Loss: 3.7553132159473535e-07\n",
      "Gradient: 5.0615876e-07 Loss: 3.658356367471545e-07\n",
      "Gradient: 3.744953e-07 Loss: 4.0760412218787677e-07\n",
      "Gradient: 5.8055355e-07 Loss: 4.04039264860027e-07\n",
      "Gradient: 3.8444387e-07 Loss: 3.9584235006865735e-07\n",
      "Gradient: 1.7945166e-07 Loss: 4.287552954451712e-07\n",
      "Gradient: 4.5393062e-07 Loss: 3.7475925201609547e-07\n",
      "Gradient: 3.689463e-07 Loss: 4.451152818774062e-07\n",
      "Gradient: 7.238034e-07 Loss: 4.86906457316157e-07\n",
      "Gradient: 5.469991e-07 Loss: 4.1047635193081076e-07\n",
      "Gradient: 5.037531e-07 Loss: 5.674805862554422e-07\n",
      "Gradient: 6.1210824e-07 Loss: 4.78459745541689e-07\n",
      "Gradient: 4.7140992e-07 Loss: 4.093866683282007e-07\n",
      "Gradient: 2.3659773e-07 Loss: 4.2462260694264844e-07\n",
      "Gradient: 3.0843358e-07 Loss: 4.169138425898685e-07\n",
      "Gradient: 6.8213546e-07 Loss: 4.706259763527972e-07\n",
      "Gradient: 4.2215623e-07 Loss: 4.1053343788159203e-07\n",
      "Gradient: 3.3633705e-07 Loss: 3.6977515094349656e-07\n",
      "Gradient: 4.1626276e-07 Loss: 4.4933878911024295e-07\n",
      "Gradient: 8.1352624e-08 Loss: 4.7651818183188276e-07\n",
      "Gradient: 4.0124905e-07 Loss: 4.741227437913646e-07\n",
      "Gradient: 3.881819e-07 Loss: 4.144843037086806e-07\n",
      "Gradient: 2.9033475e-07 Loss: 4.863729643034276e-07\n",
      "Gradient: 4.4467043e-07 Loss: 4.268138961075844e-07\n",
      "Gradient: 1.4147614e-07 Loss: 3.896207232401139e-07\n",
      "Gradient: 5.5494587e-07 Loss: 4.0098521859969574e-07\n",
      "Gradient: 1.5904598e-07 Loss: 3.8272909392844666e-07\n",
      "Gradient: 2.5086976e-07 Loss: 5.308776280799066e-07\n",
      "Gradient: 3.1077556e-07 Loss: 3.90449333072714e-07\n",
      "Gradient: 3.7060727e-07 Loss: 4.4595542002904647e-07\n",
      "Gradient: 3.738033e-07 Loss: 3.715690003976609e-07\n",
      "Gradient: 7.882942e-07 Loss: 3.5188247882918706e-07\n",
      "Gradient: 2.710002e-07 Loss: 3.986692187633404e-07\n",
      "Gradient: 4.5500872e-07 Loss: 4.4257211868625744e-07\n",
      "Gradient: 1.715517e-07 Loss: 3.48374286810819e-07\n",
      "Gradient: 2.6151508e-07 Loss: 3.942981010141011e-07\n",
      "Gradient: 5.118181e-07 Loss: 4.6653889853587314e-07\n",
      "Gradient: 3.4294055e-07 Loss: 3.595799446050781e-07\n",
      "Gradient: 1.2237811e-07 Loss: 4.057082539551023e-07\n",
      "Gradient: 1.9505768e-07 Loss: 3.556858843012378e-07\n",
      "Gradient: 7.6430183e-07 Loss: 5.078987536914307e-07\n",
      "Gradient: 1.723832e-07 Loss: 3.7756347618748504e-07\n",
      "Gradient: 3.3021618e-07 Loss: 4.63893528982832e-07\n",
      "Gradient: 4.6839193e-07 Loss: 4.117251601580089e-07\n",
      "Gradient: 2.8833605e-07 Loss: 3.454111691780781e-07\n",
      "Gradient: 2.9730597e-07 Loss: 4.6989942840506654e-07\n",
      "Gradient: 4.446192e-07 Loss: 4.414935754463537e-07\n",
      "Gradient: 4.1146745e-07 Loss: 4.221817808532554e-07\n",
      "Gradient: 2.985924e-07 Loss: 5.015295660844762e-07\n",
      "Gradient: 1.3874322e-07 Loss: 3.692302461407356e-07\n",
      "Gradient: 4.6403883e-07 Loss: 3.8168473868912165e-07\n",
      "Gradient: 1.12141734e-07 Loss: 3.626567396016374e-07\n",
      "Gradient: 1.2707032e-07 Loss: 3.380088126429352e-07\n",
      "Gradient: 4.058944e-07 Loss: 3.496344656165699e-07\n",
      "Gradient: 7.1815185e-07 Loss: 4.468636916499236e-07\n",
      "Gradient: 1.8472953e-07 Loss: 3.4865810315902006e-07\n",
      "Gradient: 5.592441e-07 Loss: 4.86974654260545e-07\n",
      "Gradient: 1.6776806e-07 Loss: 3.7536103339637826e-07\n",
      "Gradient: 2.1857367e-07 Loss: 3.4171006291217054e-07\n",
      "Gradient: 2.4579347e-07 Loss: 3.8622601342315953e-07\n",
      "Gradient: 1.4371395e-07 Loss: 4.5249486220200196e-07\n",
      "Gradient: 2.6684788e-07 Loss: 3.579450710352224e-07\n",
      "Gradient: 1.3152427e-07 Loss: 4.5657075512887485e-07\n",
      "Gradient: 1.1233409e-07 Loss: 3.7654175457646486e-07\n",
      "Gradient: 1.6493979e-07 Loss: 3.878722651506905e-07\n",
      "Gradient: 2.381352e-07 Loss: 4.0633255669793775e-07\n",
      "Gradient: 7.3973365e-07 Loss: 5.510637559306512e-07\n",
      "Gradient: 1.3842944e-07 Loss: 4.0554933159834644e-07\n",
      "Gradient: 5.6684974e-07 Loss: 4.068662093459352e-07\n",
      "Gradient: 1.8733446e-07 Loss: 3.7159182729358995e-07\n",
      "Gradient: 2.5325755e-07 Loss: 4.278356811937556e-07\n",
      "Gradient: 1.4316859e-07 Loss: 4.3847370344944163e-07\n",
      "Gradient: 1.9487416e-07 Loss: 4.329785970943097e-07\n",
      "Gradient: 3.017718e-07 Loss: 4.3789465659453223e-07\n",
      "Gradient: 2.7835614e-07 Loss: 4.721927297168804e-07\n",
      "Gradient: 3.399885e-07 Loss: 3.6093104351190655e-07\n",
      "Gradient: 3.5621952e-07 Loss: 3.9927090635198206e-07\n",
      "Gradient: 2.9847135e-07 Loss: 4.5448159463982544e-07\n",
      "Gradient: 4.6135943e-07 Loss: 4.600560856715674e-07\n",
      "Gradient: 2.2087774e-07 Loss: 3.158018624086859e-07\n",
      "Gradient: 3.234582e-07 Loss: 4.643817078431312e-07\n",
      "Gradient: 1.1952346e-07 Loss: 3.801293710618362e-07\n",
      "Gradient: 1.5493606e-07 Loss: 4.115777680150738e-07\n",
      "Gradient: 4.943249e-07 Loss: 4.293003314614907e-07\n",
      "Gradient: 2.958396e-07 Loss: 3.587625315049081e-07\n",
      "Gradient: 1.7306985e-07 Loss: 3.4370821045589157e-07\n",
      "Gradient: 1.7658591e-07 Loss: 3.9474102967081613e-07\n",
      "Gradient: 1.8256385e-07 Loss: 3.4807910556840703e-07\n",
      "Gradient: 2.246001e-07 Loss: 4.1943428830866953e-07\n",
      "Gradient: 3.1124802e-07 Loss: 3.705699053095183e-07\n",
      "Gradient: 1.6037848e-07 Loss: 5.65527902078126e-07\n",
      "Gradient: 1.2187033e-07 Loss: 3.788464345196492e-07\n",
      "Gradient: 2.0336907e-07 Loss: 5.133708972001235e-07\n",
      "Gradient: 1.1228512e-07 Loss: 3.754971335941567e-07\n",
      "Gradient: 3.2349814e-07 Loss: 3.8867836830528785e-07\n",
      "Gradient: 3.7166913e-07 Loss: 3.3542027419268074e-07\n",
      "Gradient: 1.2885255e-07 Loss: 3.9039259718265385e-07\n",
      "Gradient: 1.3142554e-07 Loss: 3.733287115892381e-07\n",
      "Gradient: 1.2435684e-07 Loss: 5.076715732836117e-07\n",
      "Gradient: 2.0808459e-07 Loss: 3.873046457177528e-07\n",
      "Gradient: 1.572592e-07 Loss: 4.407669630760817e-07\n",
      "Gradient: 2.0003682e-07 Loss: 3.6080610925637303e-07\n",
      "Gradient: 2.0263465e-07 Loss: 3.86941361322594e-07\n",
      "Gradient: 1.4992223e-07 Loss: 4.007582418807942e-07\n",
      "Gradient: 1.9132143e-07 Loss: 4.892794748911911e-07\n",
      "Gradient: 1.11984825e-07 Loss: 4.6276945226964016e-07\n",
      "Gradient: 2.0713551e-07 Loss: 3.7327203301629196e-07\n",
      "Gradient: 2.097357e-07 Loss: 5.157324049302284e-07\n",
      "Gradient: 1.9103526e-07 Loss: 3.89041617647005e-07\n",
      "Gradient: 1.9144748e-07 Loss: 4.143366851394603e-07\n",
      "Gradient: 5.627897e-08 Loss: 4.10431223466882e-07\n",
      "Gradient: 7.04528e-08 Loss: 3.470460171683953e-07\n",
      "Gradient: 2.432957e-07 Loss: 4.131559592224221e-07\n",
      "Gradient: 1.5383935e-07 Loss: 3.642121110184841e-07\n",
      "Gradient: 1.1012418e-07 Loss: 4.1358730224298294e-07\n",
      "Gradient: 3.4711516e-07 Loss: 4.403128940566603e-07\n",
      "Gradient: 1.3685023e-07 Loss: 3.673683238503145e-07\n",
      "Gradient: 1.3922217e-07 Loss: 3.5058821291992595e-07\n",
      "Gradient: 9.8506746e-08 Loss: 4.4482019442663535e-07\n",
      "Gradient: 9.067251e-08 Loss: 4.373497015800846e-07\n",
      "Gradient: 6.519103e-08 Loss: 5.070243645377559e-07\n",
      "Gradient: 1.7669389e-07 Loss: 4.906190497422358e-07\n",
      "Gradient: 1.1747153e-07 Loss: 4.3002669277332945e-07\n",
      "Gradient: 5.407068e-08 Loss: 3.6200963127915504e-07\n",
      "Gradient: 1.7956438e-07 Loss: 5.058892668330372e-07\n",
      "Gradient: 1.444903e-07 Loss: 3.9622817382678477e-07\n",
      "Gradient: 3.5545458e-08 Loss: 4.727037942113081e-07\n",
      "Gradient: 2.1009527e-07 Loss: 4.489186020843287e-07\n",
      "Gradient: 2.1599841e-07 Loss: 3.886555523043474e-07\n",
      "Gradient: 1.6331006e-07 Loss: 4.367139429935681e-07\n",
      "Gradient: 6.45665e-08 Loss: 3.88224138229513e-07\n",
      "Gradient: 1.9540909e-07 Loss: 5.391766563889178e-07\n",
      "Gradient: 2.0271696e-07 Loss: 3.773478302567431e-07\n",
      "Gradient: 6.8237654e-08 Loss: 4.3291055078498176e-07\n",
      "Gradient: 1.2078155e-07 Loss: 4.2806279812642366e-07\n",
      "Gradient: 2.8456822e-07 Loss: 4.203879380308232e-07\n",
      "Gradient: 7.62126e-08 Loss: 4.2069438090190183e-07\n",
      "Gradient: 8.422164e-08 Loss: 3.9905515526091524e-07\n",
      "Gradient: 1.1068296e-07 Loss: 4.0222267993309895e-07\n",
      "Gradient: 1.0141521e-07 Loss: 4.310031120742982e-07\n",
      "Gradient: 2.127968e-07 Loss: 4.5197272176740927e-07\n",
      "Gradient: 1.2055233e-07 Loss: 3.8297897617667333e-07\n",
      "Gradient: 1.4721249e-07 Loss: 4.0478858712352427e-07\n",
      "Gradient: 2.0413744e-07 Loss: 3.89121071483108e-07\n",
      "Gradient: 1.463136e-08 Loss: 4.030061028004184e-07\n",
      "Gradient: 1.3825846e-07 Loss: 4.480785169865461e-07\n",
      "Gradient: 1.4541077e-07 Loss: 4.413460563531165e-07\n",
      "Gradient: 9.864149e-08 Loss: 4.43537154145209e-07\n",
      "Gradient: 4.123677e-07 Loss: 4.433668739996695e-07\n",
      "Gradient: 1.4088998e-07 Loss: 5.054576841227269e-07\n",
      "Gradient: 8.912947e-08 Loss: 3.471481297386466e-07\n",
      "Gradient: 7.138871e-08 Loss: 4.582964123756028e-07\n",
      "Gradient: 8.324878e-08 Loss: 4.775514061824045e-07\n",
      "Gradient: 2.7441537e-08 Loss: 3.554132386322332e-07\n",
      "Gradient: 1.6082133e-07 Loss: 4.1974069707369685e-07\n",
      "Gradient: 8.622534e-08 Loss: 4.4437725155906567e-07\n",
      "Gradient: 1.6356864e-07 Loss: 4.0679810998274963e-07\n",
      "Gradient: 8.336038e-08 Loss: 3.988167378565777e-07\n",
      "Gradient: 6.797998e-08 Loss: 4.3271743095374403e-07\n",
      "Gradient: 4.735654e-08 Loss: 3.9923682801183226e-07\n",
      "Gradient: 1.2101715e-07 Loss: 3.488057529921207e-07\n",
      "Gradient: 3.0563717e-07 Loss: 4.601924255590954e-07\n",
      "Gradient: 1.7627488e-07 Loss: 3.942527778614628e-07\n",
      "Gradient: 4.6410932e-08 Loss: 4.220796048078531e-07\n",
      "Gradient: 7.1128504e-08 Loss: 3.41834942692761e-07\n",
      "Gradient: 9.325249e-08 Loss: 4.0331271501751567e-07\n",
      "Gradient: 1.2118642e-07 Loss: 3.856128387269564e-07\n",
      "Gradient: 9.322653e-08 Loss: 3.4759087175946963e-07\n",
      "Gradient: 1.790398e-07 Loss: 4.109192957457708e-07\n",
      "Gradient: 6.6515724e-08 Loss: 3.677884005052571e-07\n",
      "Gradient: 1.702366e-07 Loss: 5.129508063343262e-07\n",
      "Gradient: 1.0020643e-07 Loss: 4.249973528658302e-07\n",
      "Gradient: 3.9784176e-08 Loss: 4.0465222544601905e-07\n",
      "Gradient: 9.82765e-08 Loss: 4.495885387238256e-07\n",
      "Gradient: 5.6028764e-08 Loss: 5.248606091375525e-07\n",
      "Gradient: 3.5835168e-07 Loss: 4.3562390790915134e-07\n",
      "Gradient: 5.7415633e-08 Loss: 3.638488124124706e-07\n",
      "Gradient: 1.13446404e-07 Loss: 4.259510906952831e-07\n",
      "Gradient: 1.247317e-07 Loss: 4.469318459617474e-07\n",
      "Gradient: 6.6687114e-08 Loss: 4.724084059641124e-07\n",
      "Gradient: 2.578516e-07 Loss: 5.429234931852988e-07\n",
      "Gradient: 3.217779e-08 Loss: 3.9953208007167027e-07\n",
      "Gradient: 1.7755798e-07 Loss: 4.636437770007736e-07\n",
      "Gradient: 7.253959e-08 Loss: 3.7930054001359775e-07\n",
      "Gradient: 2.2180718e-07 Loss: 4.499516876421694e-07\n",
      "Gradient: 5.0316878e-08 Loss: 4.293570521933058e-07\n",
      "Gradient: 9.947192e-08 Loss: 5.08080465048503e-07\n",
      "Gradient: 2.6874017e-07 Loss: 4.822857600098966e-07\n",
      "Gradient: 1.342888e-07 Loss: 4.522224704336016e-07\n",
      "Gradient: 5.491275e-08 Loss: 4.0090579318530216e-07\n",
      "Gradient: 4.4294566e-08 Loss: 3.8419386214627595e-07\n",
      "Gradient: 2.6935277e-07 Loss: 4.721928424563278e-07\n",
      "Gradient: 1.9211745e-07 Loss: 4.373950995765578e-07\n",
      "Gradient: 1.6350472e-07 Loss: 4.5189314240208963e-07\n",
      "Gradient: 7.39969e-08 Loss: 4.989522892628884e-07\n",
      "Gradient: 7.456465e-08 Loss: 4.121681461318379e-07\n",
      "Gradient: 1.3971434e-07 Loss: 4.051064488900617e-07\n",
      "Gradient: 1.02296966e-07 Loss: 4.334327437997369e-07\n",
      "Gradient: 1.6872098e-08 Loss: 3.48022363994005e-07\n",
      "Gradient: 2.280224e-08 Loss: 3.945593576304418e-07\n",
      "Gradient: 1.1528065e-07 Loss: 4.2649601539324067e-07\n",
      "Gradient: 7.5895855e-08 Loss: 3.8112835056836045e-07\n",
      "Gradient: 8.691538e-08 Loss: 4.269727374624684e-07\n",
      "Gradient: 1.0832564e-07 Loss: 5.32694223428128e-07\n",
      "Gradient: 8.62633e-08 Loss: 4.56786474008671e-07\n",
      "Gradient: 9.606937e-08 Loss: 4.1475670968793566e-07\n",
      "Gradient: 7.76629e-08 Loss: 4.1898016813017116e-07\n",
      "Gradient: 1.07498316e-07 Loss: 4.115778570697633e-07\n",
      "Gradient: 8.9055504e-08 Loss: 3.8819019986628216e-07\n",
      "Gradient: 1.1520619e-07 Loss: 4.1507468229913986e-07\n",
      "Gradient: 1.0946586e-07 Loss: 4.004970473185191e-07\n",
      "Gradient: 1.4325016e-07 Loss: 3.7360123125533086e-07\n",
      "Gradient: 1.04976564e-07 Loss: 4.719429729978704e-07\n",
      "Gradient: 9.484736e-08 Loss: 4.958642004263918e-07\n",
      "Gradient: 1.5093217e-07 Loss: 3.9597838773867504e-07\n",
      "Gradient: 2.0457333e-07 Loss: 4.587392699780442e-07\n",
      "Gradient: 1.4854025e-07 Loss: 4.7125050457452743e-07\n",
      "Gradient: 5.0505133e-08 Loss: 4.2470216025473445e-07\n",
      "Gradient: 1.5603727e-07 Loss: 4.863387990402164e-07\n",
      "Gradient: 7.768868e-08 Loss: 3.494756233142956e-07\n",
      "Gradient: 1.9071974e-08 Loss: 3.8356943055835775e-07\n",
      "Gradient: 9.2264685e-08 Loss: 4.443546572474588e-07\n",
      "Gradient: 1.5152763e-07 Loss: 4.90289779501533e-07\n",
      "Gradient: 1.18309565e-07 Loss: 3.6120351391370303e-07\n",
      "Gradient: 6.9164635e-08 Loss: 4.242934096509998e-07\n",
      "Gradient: 4.297027e-08 Loss: 4.2017225657294453e-07\n",
      "Gradient: 1.7182262e-07 Loss: 3.9407107503090327e-07\n",
      "Gradient: 8.507223e-08 Loss: 4.6861645254618147e-07\n",
      "Gradient: 1.0217997e-07 Loss: 3.441735998421791e-07\n",
      "Gradient: 7.016884e-08 Loss: 4.520293837610249e-07\n",
      "Gradient: 9.105013e-08 Loss: 3.831947831637687e-07\n",
      "Gradient: 8.2355e-08 Loss: 4.1020415911437645e-07\n",
      "Gradient: 2.541344e-08 Loss: 3.8243402945189093e-07\n",
      "Gradient: 1.00975015e-07 Loss: 3.8267255699035254e-07\n",
      "Gradient: 2.7449756e-08 Loss: 4.441615440479533e-07\n",
      "Gradient: 5.8158538e-08 Loss: 3.122596060241752e-07\n",
      "Gradient: 5.7743815e-08 Loss: 3.373276247960651e-07\n",
      "Gradient: 1.4858794e-07 Loss: 4.162326206369471e-07\n",
      "Gradient: 1.0930878e-07 Loss: 4.817068211574831e-07\n",
      "Gradient: 1.8390532e-08 Loss: 4.3671393257227464e-07\n",
      "Gradient: 2.1504873e-07 Loss: 3.595231608718071e-07\n",
      "Gradient: 1.0721938e-07 Loss: 5.092042897558713e-07\n",
      "Gradient: 7.2349906e-08 Loss: 4.866000693937167e-07\n",
      "Gradient: 9.027955e-08 Loss: 4.2539477552357614e-07\n",
      "Gradient: 1.0513946e-08 Loss: 4.0282450323540314e-07\n",
      "Gradient: 3.342796e-08 Loss: 4.0041754232333917e-07\n",
      "Gradient: 6.433558e-08 Loss: 4.441729089421642e-07\n",
      "Gradient: 1.4141494e-07 Loss: 5.41288676458862e-07\n",
      "Gradient: 4.7470493e-08 Loss: 3.2319280289054103e-07\n",
      "Gradient: 6.64191e-08 Loss: 4.1475669263491e-07\n",
      "Gradient: 1.0784592e-07 Loss: 4.83375691828769e-07\n",
      "Gradient: 2.4316371e-08 Loss: 4.248837323454306e-07\n",
      "Gradient: 1.7544465e-08 Loss: 3.762920054365774e-07\n",
      "Gradient: 1.2822703e-07 Loss: 4.985096580867321e-07\n",
      "Gradient: 1.0843279e-07 Loss: 4.0816050367690574e-07\n",
      "Gradient: 4.3650367e-08 Loss: 4.5885248975234084e-07\n",
      "Gradient: 6.781648e-08 Loss: 4.024384471298011e-07\n",
      "Gradient: 8.1745384e-08 Loss: 3.9905524336821446e-07\n",
      "Gradient: 3.10756e-08 Loss: 4.121568859242567e-07\n",
      "Gradient: 2.601555e-08 Loss: 4.993497176049762e-07\n",
      "Gradient: 6.950804e-08 Loss: 4.926173308679911e-07\n",
      "Gradient: 6.816546e-08 Loss: 3.774273305149715e-07\n",
      "Gradient: 6.945018e-08 Loss: 4.4422974288712187e-07\n",
      "Gradient: 7.00876e-08 Loss: 4.1608488080176663e-07\n",
      "Gradient: 4.957991e-08 Loss: 4.4116441889248865e-07\n",
      "Gradient: 5.3404943e-08 Loss: 4.4850987042840035e-07\n",
      "Gradient: 3.172868e-08 Loss: 4.6415463164824665e-07\n",
      "Gradient: 8.837692e-08 Loss: 4.454785795360294e-07\n",
      "Gradient: 4.1096996e-08 Loss: 4.680261241674089e-07\n",
      "Gradient: 8.713435e-08 Loss: 4.181514772956992e-07\n",
      "Gradient: 6.9039416e-08 Loss: 3.975679931045306e-07\n",
      "Gradient: 4.612521e-08 Loss: 4.3803092921734785e-07\n",
      "Gradient: 3.1007698e-08 Loss: 4.432647813246149e-07\n",
      "Gradient: 4.0209706e-08 Loss: 3.5206414755369527e-07\n",
      "Gradient: 1.2441058e-08 Loss: 3.5330165009857714e-07\n",
      "Gradient: 3.615034e-08 Loss: 3.929017599565062e-07\n",
      "Gradient: 4.5646956e-08 Loss: 4.306284940488088e-07\n",
      "Gradient: 8.9307626e-08 Loss: 4.808892839491818e-07\n",
      "Gradient: 3.4657912e-08 Loss: 4.986230521808466e-07\n",
      "Gradient: 7.796172e-08 Loss: 3.342962372698821e-07\n",
      "Gradient: 5.7269425e-08 Loss: 4.3330785975589e-07\n",
      "Gradient: 4.8970534e-08 Loss: 3.9690939388492554e-07\n",
      "Gradient: 3.431608e-08 Loss: 3.6185059381447597e-07\n",
      "Gradient: 2.2482016e-08 Loss: 4.5007672611063754e-07\n",
      "Gradient: 8.078751e-09 Loss: 4.1635762120980265e-07\n",
      "Gradient: 4.9818134e-08 Loss: 3.8804255855969437e-07\n",
      "Gradient: 5.4761887e-08 Loss: 4.390527540939123e-07\n",
      "Gradient: 9.1257505e-08 Loss: 4.554467854707885e-07\n",
      "Gradient: 3.02568e-08 Loss: 3.635875136372609e-07\n",
      "Gradient: 4.7108642e-08 Loss: 3.7387383523916165e-07\n",
      "Gradient: 6.219255e-08 Loss: 4.362937886526197e-07\n",
      "Gradient: 2.4374133e-08 Loss: 3.1504122072571287e-07\n",
      "Gradient: 4.2679915e-08 Loss: 4.0114418122054e-07\n",
      "Gradient: 1.0602633e-08 Loss: 3.699681452455176e-07\n",
      "Gradient: 7.901929e-08 Loss: 5.155733864133557e-07\n",
      "Gradient: 8.487588e-08 Loss: 4.3325112054996375e-07\n",
      "Gradient: 4.5797673e-08 Loss: 3.2502071197389643e-07\n",
      "Gradient: 3.1243047e-08 Loss: 4.6492667422626254e-07\n",
      "Gradient: 5.8033674e-08 Loss: 3.6791330065473934e-07\n",
      "Gradient: 1.3625545e-08 Loss: 4.486575448936492e-07\n",
      "Gradient: 4.1562963e-08 Loss: 3.9177778603516346e-07\n",
      "Gradient: 2.8488754e-08 Loss: 4.683781128278497e-07\n",
      "Gradient: 2.015135e-07 Loss: 4.895292638214717e-07\n",
      "Gradient: 3.5765968e-08 Loss: 4.903921478671691e-07\n",
      "Gradient: 7.516537e-08 Loss: 5.023921829661049e-07\n",
      "Gradient: 6.735985e-08 Loss: 4.233624802433648e-07\n",
      "Gradient: 2.4461102e-08 Loss: 4.0067869235826945e-07\n",
      "Gradient: 7.0304345e-08 Loss: 3.9627361729799305e-07\n",
      "Gradient: 4.7280476e-08 Loss: 4.201607273065141e-07\n",
      "Gradient: 4.1248782e-08 Loss: 3.9809017854016323e-07\n",
      "Gradient: 4.1511985e-08 Loss: 4.999512754011448e-07\n",
      "Gradient: 9.4132844e-08 Loss: 3.8380775701322516e-07\n",
      "Gradient: 7.200702e-08 Loss: 3.922887278425454e-07\n",
      "Gradient: 2.5198254e-08 Loss: 3.6950270896340955e-07\n",
      "Gradient: 7.2135705e-08 Loss: 4.080923342068369e-07\n",
      "Gradient: 1.1303758e-08 Loss: 3.6004550333738433e-07\n",
      "Gradient: 4.946313e-08 Loss: 5.773010836189011e-07\n",
      "Gradient: 3.6963286e-08 Loss: 4.857144280852784e-07\n",
      "Gradient: 3.568198e-08 Loss: 4.936163918500825e-07\n",
      "Gradient: 1.5783783e-08 Loss: 4.85328583484564e-07\n",
      "Gradient: 7.774447e-08 Loss: 4.7680222223789317e-07\n",
      "Gradient: 3.3987376e-08 Loss: 4.645973689321181e-07\n",
      "Gradient: 5.9535196e-08 Loss: 6.108272022705326e-07\n",
      "Gradient: 5.9369064e-08 Loss: 3.946160878361601e-07\n",
      "Gradient: 3.479876e-08 Loss: 3.8481823025904307e-07\n",
      "Gradient: 9.424156e-08 Loss: 5.714768633424683e-07\n",
      "Gradient: 4.4193953e-08 Loss: 3.6497274038538306e-07\n",
      "Gradient: 6.5747045e-08 Loss: 4.009510358097638e-07\n",
      "Gradient: 3.6051798e-08 Loss: 4.588867843343299e-07\n",
      "Gradient: 6.873951e-08 Loss: 4.586938170329328e-07\n",
      "Gradient: 5.0427538e-08 Loss: 4.433668398936182e-07\n",
      "Gradient: 2.8784065e-08 Loss: 3.66936797983423e-07\n",
      "Gradient: 2.1805217e-08 Loss: 3.1684648433838446e-07\n",
      "Gradient: 6.036468e-08 Loss: 4.725107070650362e-07\n",
      "Gradient: 5.370169e-09 Loss: 2.9099509113450495e-07\n",
      "Gradient: 8.014105e-08 Loss: 4.692522045009658e-07\n",
      "Gradient: 2.0128462e-08 Loss: 4.487254708844072e-07\n",
      "Gradient: 2.7228262e-08 Loss: 4.231127026817679e-07\n",
      "Gradient: 2.7482969e-08 Loss: 4.938432586717074e-07\n",
      "Gradient: 4.788891e-08 Loss: 4.3740641520647234e-07\n",
      "Gradient: 4.302136e-08 Loss: 5.023241432885091e-07\n",
      "Gradient: 2.5656337e-08 Loss: 3.5291568328451225e-07\n",
      "Gradient: 3.106254e-08 Loss: 3.4966850819273533e-07\n",
      "Gradient: 1.5117362e-08 Loss: 4.6404126123889e-07\n",
      "Gradient: 2.0863611e-08 Loss: 3.456155335849568e-07\n",
      "Gradient: 4.9967074e-08 Loss: 3.8348995587966785e-07\n",
      "Gradient: 5.4668515e-08 Loss: 3.52427483107931e-07\n",
      "Gradient: 7.36874e-08 Loss: 4.569112988406232e-07\n",
      "Gradient: 3.9057113e-08 Loss: 4.635302834306761e-07\n",
      "Gradient: 2.4251307e-08 Loss: 3.5172350578704934e-07\n",
      "Gradient: 4.115534e-08 Loss: 4.261893195689481e-07\n",
      "Gradient: 2.3075739e-08 Loss: 4.462392884837148e-07\n",
      "Gradient: 5.279962e-08 Loss: 4.3235426119281326e-07\n",
      "Gradient: 2.3992747e-08 Loss: 3.491916714892795e-07\n",
      "Gradient: 2.1138856e-08 Loss: 4.7112559400375174e-07\n",
      "Gradient: 4.470374e-08 Loss: 4.990432017848434e-07\n",
      "Gradient: 1.3745652e-08 Loss: 3.818323752587579e-07\n",
      "Gradient: 1.3187087e-08 Loss: 4.592726867258534e-07\n",
      "Gradient: 2.7187626e-08 Loss: 4.2129625228426447e-07\n",
      "Gradient: 3.2849307e-08 Loss: 4.155855900004705e-07\n",
      "Gradient: 4.520638e-08 Loss: 4.132808840040525e-07\n",
      "Gradient: 1.549569e-08 Loss: 3.846479377974295e-07\n",
      "Gradient: 6.343621e-08 Loss: 4.3066256978363525e-07\n",
      "Gradient: 3.5694654e-08 Loss: 3.41789361376262e-07\n",
      "Gradient: 4.3116742e-08 Loss: 4.883029437981652e-07\n",
      "Gradient: 1.9726384e-08 Loss: 3.4931660385003247e-07\n",
      "Gradient: 2.8475192e-08 Loss: 3.829676378093912e-07\n",
      "Gradient: 3.8637197e-08 Loss: 3.1666472940135765e-07\n",
      "Gradient: 5.604312e-08 Loss: 4.825469479404395e-07\n",
      "Gradient: 6.202323e-08 Loss: 4.871222074598336e-07\n",
      "Gradient: 6.188326e-08 Loss: 4.2571264107967485e-07\n",
      "Gradient: 1.8199074e-08 Loss: 4.4462720533526104e-07\n",
      "Gradient: 1.3153282e-08 Loss: 3.5957996828983597e-07\n",
      "Gradient: 4.8055327e-08 Loss: 4.3545369502832426e-07\n",
      "Gradient: 3.7243083e-08 Loss: 5.033005436416716e-07\n",
      "Gradient: 2.3957632e-08 Loss: 5.015295784005503e-07\n",
      "Gradient: 2.1555001e-08 Loss: 3.6162359151603596e-07\n",
      "Gradient: 4.8648854e-08 Loss: 3.9194813628758614e-07\n",
      "Gradient: 1.6189238e-08 Loss: 4.362371276063944e-07\n",
      "Gradient: 5.4886424e-08 Loss: 3.853404573798495e-07\n",
      "Gradient: 1.6986032e-08 Loss: 4.0635529880243363e-07\n",
      "Gradient: 4.3395485e-08 Loss: 3.7083099660624917e-07\n",
      "Gradient: 3.4059596e-08 Loss: 3.396550984765175e-07\n",
      "Gradient: 1.3190706e-08 Loss: 3.8225235054293687e-07\n",
      "Gradient: 3.813342e-08 Loss: 3.733627778501614e-07\n",
      "Gradient: 6.2267587e-09 Loss: 4.229424355628453e-07\n",
      "Gradient: 1.508187e-08 Loss: 3.70899175076526e-07\n",
      "Gradient: 2.5160714e-08 Loss: 4.2601899679084455e-07\n",
      "Gradient: 5.5138457e-08 Loss: 4.523925326793687e-07\n",
      "Gradient: 8.3528555e-08 Loss: 4.18684947097366e-07\n",
      "Gradient: 1.8426986e-08 Loss: 4.171181776276474e-07\n",
      "Gradient: 1.6551454e-08 Loss: 4.518478088281578e-07\n",
      "Gradient: 9.5686715e-08 Loss: 4.181853455520468e-07\n",
      "Gradient: 2.3225153e-08 Loss: 4.922993809941545e-07\n",
      "Gradient: 4.671839e-08 Loss: 4.835005815569578e-07\n",
      "Gradient: 2.356624e-08 Loss: 4.979077687039535e-07\n",
      "Gradient: 2.8431643e-08 Loss: 4.487709418299346e-07\n",
      "Gradient: 1.6699289e-08 Loss: 3.92334154260728e-07\n",
      "Gradient: 7.481743e-09 Loss: 4.266776983286036e-07\n",
      "Gradient: 6.8174714e-08 Loss: 4.6143006594926797e-07\n",
      "Gradient: 2.7042072e-08 Loss: 3.9060833216808534e-07\n",
      "Gradient: 2.1525913e-08 Loss: 3.8244548458502926e-07\n",
      "Gradient: 4.1811372e-08 Loss: 4.6807151174258855e-07\n",
      "Gradient: 3.1135073e-08 Loss: 4.108285310167048e-07\n",
      "Gradient: 8.909512e-09 Loss: 3.4774979364253036e-07\n",
      "Gradient: 3.50116e-08 Loss: 4.3008360914124445e-07\n",
      "Gradient: 5.2125564e-08 Loss: 4.6150929999081807e-07\n",
      "Gradient: 3.178901e-08 Loss: 4.042095582690308e-07\n",
      "Gradient: 2.0607953e-08 Loss: 4.1530174144099874e-07\n",
      "Gradient: 4.1750997e-08 Loss: 3.992595101938908e-07\n",
      "Gradient: 1.1058324e-08 Loss: 3.789485996700629e-07\n",
      "Gradient: 1.9435976e-08 Loss: 3.807992859113559e-07\n",
      "Gradient: 5.9513727e-08 Loss: 5.090454010314716e-07\n",
      "Gradient: 8.411012e-09 Loss: 3.8618054342502244e-07\n",
      "Gradient: 4.895714e-08 Loss: 3.9877133891271416e-07\n",
      "Gradient: 1.6560982e-08 Loss: 4.2078526405475716e-07\n",
      "Gradient: 1.7794026e-08 Loss: 3.452521373977409e-07\n",
      "Gradient: 4.5609656e-08 Loss: 3.503271140440726e-07\n",
      "Gradient: 1.081718e-08 Loss: 4.6761732903632945e-07\n",
      "Gradient: 1.838984e-08 Loss: 4.7356643004074307e-07\n",
      "Gradient: 1.646967e-08 Loss: 3.953767721516973e-07\n",
      "Gradient: 1.860042e-08 Loss: 3.926747467630776e-07\n",
      "Gradient: 5.2839013e-08 Loss: 4.071158807998169e-07\n",
      "Gradient: 1.9531512e-08 Loss: 4.496112405642331e-07\n",
      "Gradient: 1.722703e-08 Loss: 3.3598797841705166e-07\n",
      "Gradient: 2.415016e-08 Loss: 3.8045866877685817e-07\n",
      "Gradient: 1.0058875e-08 Loss: 3.5235932216437504e-07\n",
      "Gradient: 1.7372209e-08 Loss: 3.739644133323357e-07\n",
      "Gradient: 3.2486312e-08 Loss: 3.989076039564073e-07\n",
      "Gradient: 6.9417645e-08 Loss: 4.2255646614345703e-07\n",
      "Gradient: 5.2946934e-08 Loss: 4.831145446360096e-07\n",
      "Gradient: 8.906174e-09 Loss: 4.844201872818606e-07\n",
      "Gradient: 3.2860534e-08 Loss: 5.382460453044283e-07\n",
      "Gradient: 3.5154144e-08 Loss: 4.934915106484065e-07\n",
      "Gradient: 7.187447e-08 Loss: 4.795609991485132e-07\n",
      "Gradient: 3.302417e-08 Loss: 3.3135581437212146e-07\n",
      "Gradient: 2.5405647e-08 Loss: 3.3863319686133765e-07\n",
      "Gradient: 2.202056e-08 Loss: 3.8712296846673173e-07\n",
      "Gradient: 4.3480878e-08 Loss: 3.962282174067392e-07\n",
      "Gradient: 1.7934555e-08 Loss: 3.2312477173945806e-07\n",
      "Gradient: 2.693597e-08 Loss: 3.7531560792558594e-07\n",
      "Gradient: 3.0843424e-08 Loss: 3.7985689687047853e-07\n",
      "Gradient: 2.4769344e-08 Loss: 4.3073078472843915e-07\n",
      "Gradient: 8.893108e-09 Loss: 3.74486799614715e-07\n",
      "Gradient: 1.4501673e-08 Loss: 3.9554704756028514e-07\n",
      "Gradient: 2.7754147e-08 Loss: 3.354997299235644e-07\n",
      "Gradient: 1.7312736e-08 Loss: 3.5359685076249053e-07\n",
      "Gradient: 4.433131e-08 Loss: 4.318660539108047e-07\n",
      "Gradient: 4.8621942e-08 Loss: 4.073316697864963e-07\n",
      "Gradient: 4.3434106e-08 Loss: 3.5506139492251044e-07\n",
      "Gradient: 3.9511196e-08 Loss: 3.593074969406492e-07\n",
      "Gradient: 2.4549049e-08 Loss: 4.446952800662984e-07\n",
      "Gradient: 3.5776925e-08 Loss: 4.239869080417217e-07\n",
      "Gradient: 1.7291306e-08 Loss: 4.838753360066524e-07\n",
      "Gradient: 1.6918342e-08 Loss: 3.6732294385425726e-07\n",
      "Gradient: 1.6555859e-08 Loss: 2.870894974194016e-07\n",
      "Gradient: 6.322228e-08 Loss: 3.720118580001023e-07\n",
      "Gradient: 5.431779e-08 Loss: 4.7054650546366855e-07\n",
      "Gradient: 2.5292968e-08 Loss: 3.9809021927794675e-07\n",
      "Gradient: 9.551121e-09 Loss: 3.874181942364885e-07\n",
      "Gradient: 4.415049e-08 Loss: 5.355893601214726e-07\n",
      "Gradient: 3.6823362e-08 Loss: 3.698660047272521e-07\n",
      "Gradient: 3.1156997e-08 Loss: 3.3899663947067894e-07\n",
      "Gradient: 2.8314348e-08 Loss: 4.5894343353817627e-07\n",
      "Gradient: 1.26395125e-08 Loss: 4.597155291700498e-07\n",
      "Gradient: 4.3945974e-08 Loss: 4.6474504434475723e-07\n",
      "Gradient: 1.4594748e-08 Loss: 4.089438599900556e-07\n",
      "Gradient: 1.3960419e-08 Loss: 4.0567414221944394e-07\n",
      "Gradient: 4.6408893e-08 Loss: 5.905503580076281e-07\n",
      "Gradient: 2.243442e-08 Loss: 4.570702865673108e-07\n",
      "Gradient: 2.7895387e-08 Loss: 4.082286892526099e-07\n",
      "Gradient: 3.1779514e-08 Loss: 4.5518557385548774e-07\n",
      "Gradient: 5.117094e-08 Loss: 5.03981859386234e-07\n",
      "Gradient: 1.4007487e-08 Loss: 3.5213220807387793e-07\n",
      "Gradient: 2.0870338e-08 Loss: 3.982264739003464e-07\n",
      "Gradient: 2.974142e-08 Loss: 3.7810852262509795e-07\n",
      "Gradient: 2.975126e-08 Loss: 4.165847371950804e-07\n",
      "Gradient: 4.9721237e-08 Loss: 3.8284274050207994e-07\n",
      "Gradient: 1.9587887e-08 Loss: 3.7922110133573977e-07\n",
      "Gradient: 1.486565e-08 Loss: 3.648365710281117e-07\n",
      "Gradient: 2.389634e-08 Loss: 3.773137516797457e-07\n",
      "Gradient: 2.8325418e-08 Loss: 4.5543539594442943e-07\n",
      "Gradient: 9.891649e-09 Loss: 4.052993934540912e-07\n",
      "Gradient: 5.669326e-08 Loss: 3.6599451694504147e-07\n",
      "Gradient: 2.3446631e-08 Loss: 4.633712743877065e-07\n",
      "Gradient: 1.9563597e-08 Loss: 4.7541700496367414e-07\n",
      "Gradient: 4.024333e-08 Loss: 3.9809029222700095e-07\n",
      "Gradient: 3.0943e-08 Loss: 4.733052662686532e-07\n",
      "Gradient: 2.3560013e-08 Loss: 3.961033788376274e-07\n",
      "Gradient: 3.8534104e-08 Loss: 4.067526873541283e-07\n",
      "Gradient: 6.5706374e-09 Loss: 3.664033111287305e-07\n",
      "Gradient: 5.355856e-08 Loss: 4.1791288272937286e-07\n",
      "Gradient: 3.0351664e-08 Loss: 3.637580476834046e-07\n",
      "Gradient: 2.8653623e-08 Loss: 3.7343086584466315e-07\n",
      "Gradient: 2.2340526e-08 Loss: 4.919926738011782e-07\n",
      "Gradient: 3.1447833e-08 Loss: 4.649380448048153e-07\n",
      "Gradient: 8.216814e-09 Loss: 4.2789231523935693e-07\n",
      "Gradient: 5.243016e-08 Loss: 3.5273397903286725e-07\n",
      "Gradient: 1.6787352e-08 Loss: 4.284942510442609e-07\n",
      "Gradient: 4.1724054e-08 Loss: 4.1903697744298067e-07\n",
      "Gradient: 6.742063e-08 Loss: 4.530852047916293e-07\n",
      "Gradient: 4.6763063e-08 Loss: 4.84851546881752e-07\n",
      "Gradient: 1.6688393e-08 Loss: 4.0988612871236303e-07\n",
      "Gradient: 1.2324217e-08 Loss: 3.79641179885463e-07\n",
      "Gradient: 1.6487927e-08 Loss: 2.877139517446873e-07\n",
      "Gradient: 2.4829372e-08 Loss: 3.250774900228256e-07\n",
      "Gradient: 2.5792154e-08 Loss: 3.8970016854970403e-07\n",
      "Gradient: 1.5457648e-08 Loss: 4.976581967260548e-07\n",
      "Gradient: 1.868869e-08 Loss: 5.697626619394214e-07\n",
      "Gradient: 2.6169676e-08 Loss: 4.084896526516483e-07\n",
      "Gradient: 1.0471102e-08 Loss: 4.2593968885284994e-07\n",
      "Gradient: 3.6355132e-08 Loss: 4.5872795529552e-07\n",
      "Gradient: 8.986956e-08 Loss: 4.2337387355928514e-07\n",
      "Gradient: 1.2161429e-08 Loss: 3.688215372221748e-07\n",
      "Gradient: 1.7196147e-08 Loss: 3.953880603072927e-07\n",
      "Gradient: 2.8529975e-08 Loss: 4.270067705647307e-07\n",
      "Gradient: 6.306531e-09 Loss: 4.1694783163848116e-07\n",
      "Gradient: 2.3526653e-08 Loss: 4.5618467652275286e-07\n",
      "Gradient: 1.5565915e-08 Loss: 3.458880494614884e-07\n",
      "Gradient: 1.4258598e-08 Loss: 3.7348754820717054e-07\n",
      "Gradient: 8.2894765e-08 Loss: 5.897670087999055e-07\n",
      "Gradient: 8.855319e-08 Loss: 3.976360649933971e-07\n",
      "Gradient: 3.30323e-08 Loss: 3.9849899451382954e-07\n",
      "Gradient: 3.3756347e-08 Loss: 4.6272412438005027e-07\n",
      "Gradient: 2.5924637e-08 Loss: 4.229878086903227e-07\n",
      "Gradient: 2.7120333e-08 Loss: 3.725226491724243e-07\n",
      "Gradient: 2.082366e-08 Loss: 3.752814336621668e-07\n",
      "Gradient: 4.3817195e-08 Loss: 4.768930656003552e-07\n",
      "Gradient: 3.7773212e-08 Loss: 3.7127390063081596e-07\n",
      "Gradient: 3.6140165e-08 Loss: 4.2286292038321943e-07\n",
      "Gradient: 6.2371626e-08 Loss: 4.656534580741815e-07\n",
      "Gradient: 2.4622516e-08 Loss: 4.3881432626828124e-07\n",
      "Gradient: 3.0222672e-08 Loss: 4.159147996081932e-07\n",
      "Gradient: 2.0413179e-08 Loss: 4.349201721727998e-07\n",
      "Gradient: 1.8565425e-08 Loss: 4.334555162207228e-07\n",
      "Gradient: 1.4431321e-08 Loss: 4.7640498811081975e-07\n",
      "Gradient: 9.653413e-09 Loss: 3.375773237242659e-07\n",
      "Gradient: 1.8656948e-08 Loss: 5.038797515529344e-07\n",
      "Gradient: 1.4660341e-08 Loss: 4.4970210619036756e-07\n",
      "Gradient: 1.4803422e-08 Loss: 3.6332652086912276e-07\n",
      "Gradient: 1.7955077e-08 Loss: 4.0508381005111005e-07\n",
      "Gradient: 6.747771e-08 Loss: 5.536182593838627e-07\n",
      "Gradient: 4.652305e-08 Loss: 4.380421614769148e-07\n",
      "Gradient: 2.3450417e-08 Loss: 5.089660040387874e-07\n",
      "Gradient: 4.5001777e-08 Loss: 5.178101408394772e-07\n",
      "Gradient: 3.1452284e-08 Loss: 4.2536073105263007e-07\n",
      "Gradient: 1.7857046e-08 Loss: 3.4605829929053774e-07\n",
      "Gradient: 4.3077517e-08 Loss: 3.9139175290377655e-07\n",
      "Gradient: 2.872228e-08 Loss: 4.06605086785324e-07\n",
      "Gradient: 8.190382e-09 Loss: 3.833535762017467e-07\n",
      "Gradient: 2.1990072e-08 Loss: 3.597616512251989e-07\n",
      "Gradient: 3.7616587e-08 Loss: 5.15403183953822e-07\n",
      "Gradient: 1.0898217e-08 Loss: 3.999635320421172e-07\n",
      "Gradient: 2.8367127e-08 Loss: 5.029715348806955e-07\n",
      "Gradient: 1.4426887e-08 Loss: 3.437421260817549e-07\n",
      "Gradient: 1.0351845e-08 Loss: 4.3988149040311934e-07\n",
      "Gradient: 2.8523152e-08 Loss: 4.1753824575607723e-07\n",
      "Gradient: 1.1287391e-08 Loss: 4.263029571423734e-07\n",
      "Gradient: 1.1519251e-08 Loss: 4.0000893667032266e-07\n",
      "Gradient: 1.0414842e-08 Loss: 4.613050156384209e-07\n",
      "Gradient: 2.1383094e-08 Loss: 4.639616188721144e-07\n",
      "Gradient: 6.711473e-08 Loss: 4.093637500091063e-07\n",
      "Gradient: 2.1946413e-08 Loss: 4.575243745345385e-07\n",
      "Gradient: 8.111837e-09 Loss: 4.19899780013111e-07\n",
      "Gradient: 3.4002102e-08 Loss: 3.828655062913337e-07\n",
      "Gradient: 1.286668e-08 Loss: 3.916073486228318e-07\n",
      "Gradient: 1.8285064e-08 Loss: 3.795616758376733e-07\n",
      "Gradient: 9.786578e-09 Loss: 3.31775809551497e-07\n",
      "Gradient: 7.969405e-09 Loss: 3.789600233024733e-07\n",
      "Gradient: 1.16468915e-08 Loss: 5.458298109791334e-07\n",
      "Gradient: 1.41119925e-08 Loss: 4.150404663505469e-07\n",
      "Gradient: 3.046405e-08 Loss: 4.154606434288629e-07\n",
      "Gradient: 2.797832e-08 Loss: 4.1267901262168987e-07\n",
      "Gradient: 1.3233059e-08 Loss: 3.9539955309919605e-07\n",
      "Gradient: 1.1556399e-08 Loss: 5.205916494332996e-07\n",
      "Gradient: 3.6979337e-08 Loss: 3.903585659751722e-07\n",
      "Gradient: 7.751187e-09 Loss: 3.6324711440253545e-07\n",
      "Gradient: 9.015583e-09 Loss: 3.965461980707611e-07\n",
      "Gradient: 1.15030945e-08 Loss: 4.458077692485555e-07\n",
      "Gradient: 1.813366e-08 Loss: 4.2458859563036335e-07\n",
      "Gradient: 1.1687545e-08 Loss: 3.8213888349976816e-07\n",
      "Gradient: 2.2336366e-08 Loss: 4.364982117976979e-07\n",
      "Gradient: 2.026006e-08 Loss: 4.405284983022284e-07\n",
      "Gradient: 2.999137e-08 Loss: 3.7819928877524944e-07\n",
      "Gradient: 2.5367733e-08 Loss: 4.349087343295347e-07\n",
      "Gradient: 1.4633407e-08 Loss: 4.919020057059242e-07\n",
      "Gradient: 1.3246549e-08 Loss: 4.2052418128453915e-07\n",
      "Gradient: 1.8605036e-08 Loss: 4.224994701947556e-07\n",
      "Gradient: 4.805539e-08 Loss: 4.834210974043647e-07\n",
      "Gradient: 8.442835e-09 Loss: 4.394498281120226e-07\n",
      "Gradient: 1.3600841e-08 Loss: 4.797654194514205e-07\n",
      "Gradient: 1.7003655e-08 Loss: 3.3622630155605295e-07\n",
      "Gradient: 1.6457864e-08 Loss: 4.543112936516991e-07\n",
      "Gradient: 4.4093774e-08 Loss: 3.212740968668489e-07\n",
      "Gradient: 4.7397135e-09 Loss: 3.106929241880607e-07\n",
      "Gradient: 1.5820241e-08 Loss: 3.830924327985485e-07\n",
      "Gradient: 1.1210152e-08 Loss: 4.595451964443479e-07\n",
      "Gradient: 1.1274994e-08 Loss: 4.557987476043005e-07\n",
      "Gradient: 1.9380153e-08 Loss: 4.6694754303189255e-07\n",
      "Gradient: 1.8009388e-08 Loss: 3.96364400027475e-07\n",
      "Gradient: 3.1976917e-08 Loss: 3.9664842006459365e-07\n",
      "Gradient: 4.0144106e-09 Loss: 5.012457772105942e-07\n",
      "Gradient: 3.1074876e-08 Loss: 4.260532695828564e-07\n",
      "Gradient: 2.5383464e-08 Loss: 5.635183147963592e-07\n",
      "Gradient: 1.8077303e-08 Loss: 3.893595049930809e-07\n",
      "Gradient: 2.2667274e-08 Loss: 3.9130086880353096e-07\n",
      "Gradient: 2.3594463e-08 Loss: 3.3729348558608763e-07\n",
      "Gradient: 1.385783e-08 Loss: 4.439799672203056e-07\n",
      "Gradient: 3.058633e-08 Loss: 4.472497257287008e-07\n",
      "Gradient: 2.3260705e-08 Loss: 4.543568650205998e-07\n",
      "Gradient: 1.5393445e-08 Loss: 3.8848532426527525e-07\n",
      "Gradient: 1.1689132e-08 Loss: 2.9821569521952064e-07\n",
      "Gradient: 3.5831732e-08 Loss: 4.408806224394842e-07\n",
      "Gradient: 4.4559187e-09 Loss: 3.708082995027932e-07\n",
      "Gradient: 3.6566497e-08 Loss: 4.4200451346417445e-07\n",
      "Gradient: 2.2690454e-08 Loss: 3.7623519328159697e-07\n",
      "Gradient: 1.0286575e-08 Loss: 4.143708054016315e-07\n",
      "Gradient: 1.0757935e-08 Loss: 4.244978406120481e-07\n",
      "Gradient: 6.115286e-08 Loss: 4.764275757906944e-07\n",
      "Gradient: 1.3416965e-08 Loss: 3.656540201291136e-07\n",
      "Gradient: 1.6088716e-08 Loss: 3.744982222997351e-07\n",
      "Gradient: 7.432198e-09 Loss: 4.243048077038717e-07\n",
      "Gradient: 2.6132453e-08 Loss: 4.189233000791622e-07\n",
      "Gradient: 1.8972715e-08 Loss: 4.454900529064313e-07\n",
      "Gradient: 7.78688e-09 Loss: 4.227041301874124e-07\n",
      "Gradient: 1.8589954e-08 Loss: 3.021780296800595e-07\n",
      "Gradient: 2.0388937e-09 Loss: 5.037208604600589e-07\n",
      "Gradient: 1.2919256e-08 Loss: 4.801286867935536e-07\n",
      "Gradient: 2.7064821e-08 Loss: 3.9072183236991503e-07\n",
      "Gradient: 2.3843455e-08 Loss: 4.2723394813037883e-07\n",
      "Gradient: 5.3905353e-08 Loss: 3.6362177506058896e-07\n",
      "Gradient: 1.2651762e-08 Loss: 3.569346773701909e-07\n",
      "Gradient: 1.7392319e-08 Loss: 5.342153087894985e-07\n",
      "Gradient: 2.8179347e-08 Loss: 5.702167669596747e-07\n",
      "Gradient: 1.992448e-08 Loss: 4.1169129474383224e-07\n",
      "Gradient: 1.521216e-08 Loss: 5.19865101485569e-07\n",
      "Gradient: 1.802977e-08 Loss: 4.41947634991872e-07\n",
      "Gradient: 2.9834514e-08 Loss: 3.557426272967253e-07\n",
      "Gradient: 1.4401213e-08 Loss: 3.722841787142291e-07\n",
      "Gradient: 1.42646766e-08 Loss: 4.280513157558138e-07\n",
      "Gradient: 1.2040062e-08 Loss: 3.592619985208027e-07\n",
      "Gradient: 7.234032e-09 Loss: 3.681516962690997e-07\n",
      "Gradient: 2.3687182e-08 Loss: 4.5289213232990735e-07\n",
      "Gradient: 1.935013e-08 Loss: 3.793459105357518e-07\n",
      "Gradient: 1.3249196e-08 Loss: 3.9114199618476656e-07\n",
      "Gradient: 2.2322897e-08 Loss: 3.77461319089889e-07\n",
      "Gradient: 1.2927797e-08 Loss: 4.173793371364809e-07\n",
      "Gradient: 1.3544591e-08 Loss: 4.022681357203813e-07\n",
      "Gradient: 1.5273969e-08 Loss: 3.959557877427263e-07\n",
      "Gradient: 5.1790455e-08 Loss: 4.5870520087495e-07\n",
      "Gradient: 3.636313e-08 Loss: 3.775862149761148e-07\n",
      "Gradient: 7.147473e-09 Loss: 4.0710450880017866e-07\n",
      "Gradient: 1.0539109e-08 Loss: 4.773584218279817e-07\n",
      "Gradient: 7.0963964e-09 Loss: 4.906076507419736e-07\n",
      "Gradient: 1.7376346e-08 Loss: 3.882923058048012e-07\n",
      "Gradient: 2.0355012e-08 Loss: 4.805713075484163e-07\n",
      "Gradient: 3.046066e-08 Loss: 4.0595786951295544e-07\n",
      "Gradient: 2.7686609e-08 Loss: 5.356345440077348e-07\n",
      "Gradient: 3.3066545e-08 Loss: 3.639964811933775e-07\n",
      "Gradient: 1.0595543e-08 Loss: 4.157217290412518e-07\n",
      "Gradient: 1.0960064e-08 Loss: 4.4086923954485733e-07\n",
      "Gradient: 3.640061e-08 Loss: 4.815023847489404e-07\n",
      "Gradient: 1.9526063e-08 Loss: 3.3359248921745653e-07\n",
      "Gradient: 1.02598525e-08 Loss: 3.7514528041053077e-07\n",
      "Gradient: 1.1765481e-08 Loss: 4.6321240650589363e-07\n",
      "Gradient: 5.074942e-09 Loss: 5.308322490312397e-07\n",
      "Gradient: 4.4012234e-09 Loss: 3.692642868221204e-07\n",
      "Gradient: 1.9523053e-08 Loss: 5.211819891807561e-07\n",
      "Gradient: 2.303949e-08 Loss: 3.737601474540497e-07\n",
      "Gradient: 9.130291e-09 Loss: 3.5393753042474906e-07\n",
      "Gradient: 2.5347966e-08 Loss: 3.9796534186583205e-07\n",
      "Gradient: 8.48259e-09 Loss: 4.025748173338191e-07\n",
      "Gradient: 2.5253618e-08 Loss: 3.8203667334831456e-07\n",
      "Gradient: 2.1423139e-08 Loss: 3.9873714949105e-07\n",
      "Gradient: 2.9189254e-08 Loss: 3.33558401166556e-07\n",
      "Gradient: 1.239694e-08 Loss: 4.375538926145358e-07\n",
      "Gradient: 2.7771094e-08 Loss: 4.204332971842935e-07\n",
      "Gradient: 9.368293e-09 Loss: 3.72159306039066e-07\n",
      "Gradient: 1.5890546e-08 Loss: 3.765531346289208e-07\n",
      "Gradient: 3.4227817e-08 Loss: 3.6200965685869354e-07\n",
      "Gradient: 6.9049633e-09 Loss: 3.9189122370923237e-07\n",
      "Gradient: 1.9044199e-08 Loss: 3.411877230519167e-07\n",
      "Gradient: 1.590116e-08 Loss: 3.6471164908865226e-07\n",
      "Gradient: 2.1868722e-08 Loss: 4.085577908578368e-07\n",
      "Gradient: 1.1306549e-08 Loss: 3.3960965595269954e-07\n",
      "Gradient: 2.4303807e-08 Loss: 4.4464979585730666e-07\n",
      "Gradient: 1.510885e-08 Loss: 3.7328329748712956e-07\n",
      "Gradient: 1.2988597e-08 Loss: 4.25814873968496e-07\n",
      "Gradient: 1.2861251e-08 Loss: 3.59886472741285e-07\n",
      "Gradient: 5.0265367e-08 Loss: 4.0406206380794174e-07\n",
      "Gradient: 1.4950954e-08 Loss: 4.838752403202307e-07\n",
      "Gradient: 1.0066911e-08 Loss: 3.8691855408501397e-07\n",
      "Gradient: 2.7820034e-08 Loss: 4.321952512024533e-07\n",
      "Gradient: 2.5620144e-09 Loss: 4.46670594792901e-07\n",
      "Gradient: 4.102883e-09 Loss: 4.0013378281855695e-07\n",
      "Gradient: 1.19344685e-08 Loss: 4.3179799907496393e-07\n",
      "Gradient: 8.634274e-09 Loss: 3.699227676179362e-07\n",
      "Gradient: 2.7457856e-08 Loss: 4.2154600710849384e-07\n",
      "Gradient: 4.4149722e-08 Loss: 4.3790603096264625e-07\n",
      "Gradient: 7.956885e-09 Loss: 3.772455589986142e-07\n",
      "Gradient: 6.609152e-09 Loss: 3.8042460393702033e-07\n",
      "Gradient: 3.6570594e-08 Loss: 3.3620351302943163e-07\n",
      "Gradient: 1.6787688e-08 Loss: 3.3218461226169893e-07\n"
     ]
    },
    {
     "name": "stderr",
     "output_type": "stream",
     "text": [
      "Clipping input data to the valid range for imshow with RGB data ([0..1] for floats or [0..255] for integers). Got range [-0.1254902..0.1254902].\n"
     ]
    },
    {
     "name": "stdout",
     "output_type": "stream",
     "text": [
      "Gradient: 1.6424616e-08 Loss: 6.06751150182087e-07\n"
     ]
    },
    {
     "data": {
      "image/png": "[encoded data removed]",
      "text/plain": [
       "<Figure size 640x480 with 1 Axes>"
      ]
     },
     "metadata": {},
     "output_type": "display_data"
    },
    {
     "name": "stdout",
     "output_type": "stream",
     "text": [
      "Noise max val: tensor(0.1255, device='cuda:0', grad_fn=<MaxBackward1>)\n"
     ]
    }
   ],
   "source": [
    "#cell 15\n",
    "from tqdm.notebook import tqdm\n",
    "\n",
    "#Trigger generating stage\n",
    "for param in poi_warm_up_model.parameters():\n",
    "    param.requires_grad = False\n",
    "\n",
    "batch_pert = torch.autograd.Variable(noise.cuda(), requires_grad=True)\n",
    "batch_opt = torch.optim.RAdam(params=[batch_pert],lr=generating_lr_tri)\n",
    "for minmin in tqdm(range(gen_round)):\n",
    "    loss_list = []\n",
    "    for images, labels in trigger_gen_loaders:\n",
    "        images, labels = images.cuda(), labels.cuda()\n",
    "        new_images = torch.clone(images)\n",
    "        clamp_batch_pert = torch.clamp(batch_pert,-l_inf_r*2,l_inf_r*2)\n",
    "        new_images = torch.clamp(apply_noise_patch(clamp_batch_pert,new_images.clone(),mode=patch_mode),-1,1)\n",
    "        per_logits = poi_warm_up_model.forward(new_images)\n",
    "        loss = criterion(per_logits, labels)\n",
    "        loss_regu = torch.mean(loss)\n",
    "        batch_opt.zero_grad()\n",
    "        loss_list.append(float(loss_regu.data))\n",
    "        loss_regu.backward(retain_graph = True)\n",
    "        batch_opt.step()\n",
    "    ave_loss = np.average(np.array(loss_list))\n",
    "    ave_grad = np.sum(abs(batch_pert.grad).detach().cpu().numpy())\n",
    "    print('Gradient:',ave_grad,'Loss:', ave_loss)\n",
    "    if ave_grad == 0:\n",
    "        break\n",
    "\n",
    "noise = torch.clamp(batch_pert,-l_inf_r*2,l_inf_r*2)\n",
    "best_noise = noise.clone().detach().cpu()\n",
    "plt.imshow(np.transpose(noise[0].detach().cpu(),(1,2,0)))\n",
    "plt.show()\n",
    "print('Noise max val:',noise.max())"
   ]
  },
  {
   "cell_type": "code",
   "execution_count": 22,
   "id": "4065f896",
   "metadata": {},
   "outputs": [],
   "source": [
    "#cell 16\n",
    "#Save the trigger\n",
    "import time\n",
    "save_name = 'best_noise'+'_'+ time.strftime(\"%m-%d-%H_%M_%S\",time.localtime(time.time())) \n",
    "np.save(save_name, best_noise)"
   ]
  },
  {
   "cell_type": "markdown",
   "id": "b12b8499",
   "metadata": {},
   "source": [
    "# Testing  attack effect"
   ]
  },
  {
   "cell_type": "code",
   "execution_count": 37,
   "id": "9902b993",
   "metadata": {},
   "outputs": [],
   "source": [
    "#cell 17\n",
    "#Using this block if you only want to test the attack result.\n",
    "# import imageio\n",
    "# import cv2 as cv\n",
    "# best_noise = torch.zeros((1, 3, noise_size, noise_size), device=device)\n",
    "# noise_npy = np.load(save_name)\n",
    "# best_noise = torch.from_numpy(noise_npy).cuda()"
   ]
  },
  {
   "cell_type": "code",
   "execution_count": 38,
   "id": "1ab66953",
   "metadata": {},
   "outputs": [],
   "source": [
    "#cell 18\n",
    "#Poisoning amount use for the target class\n",
    "poison_amount = 25\n",
    "\n",
    "#Model uses for testing\n",
    "noise_testing_model = ResNet18().cuda()    \n",
    "\n",
    "#Training parameters\n",
    "training_epochs = 200\n",
    "training_lr = 0.1\n",
    "test_batch_size = 150\n",
    "\n",
    "#The multiple of noise amplification during testing\n",
    "multi_test = 3\n",
    "\n",
    "#random seed for testing stage\n",
    "random_seed = 65"
   ]
  },
  {
   "cell_type": "code",
   "execution_count": 39,
   "id": "71e2fd55",
   "metadata": {},
   "outputs": [],
   "source": [
    "# cell 19\n",
    "import torchvision.models as models\n",
    "np.random.seed(random_seed)\n",
    "random.seed(random_seed)\n",
    "torch.manual_seed(random_seed)\n",
    "model = noise_testing_model\n",
    "\n",
    "optimizer = torch.optim.SGD(params=model.parameters(), lr=training_lr, momentum=0.9, weight_decay=5e-4)\n",
    "criterion = nn.CrossEntropyLoss()\n",
    "scheduler = torch.optim.lr_scheduler.CosineAnnealingLR(optimizer, T_max=training_epochs)"
   ]
  },
  {
   "cell_type": "code",
   "execution_count": 40,
   "id": "a4075516",
   "metadata": {},
   "outputs": [],
   "source": [
    "# cell 20\n",
    "transform_tensor = transforms.Compose([\n",
    "    transforms.ToTensor(),\n",
    "    transforms.Normalize((0.5, 0.5, 0.5), (0.5, 0.5, 0.5)),\n",
    "])\n",
    "poi_ori_train = torchvision.datasets.CIFAR10(root=dataset_path, train=True, download=False, transform=transform_tensor)\n",
    "poi_ori_test = torchvision.datasets.CIFAR10(root=dataset_path, train=False, download=False, transform=transform_tensor)\n",
    "transform_after_train = transforms.Compose([\n",
    "    transforms.RandomCrop(32, padding=4),  \n",
    "    transforms.RandomHorizontalFlip(),\n",
    "])"
   ]
  },
  {
   "cell_type": "code",
   "execution_count": null,
   "id": "205f61b5",
   "metadata": {},
   "outputs": [
    {
     "name": "stdout",
     "output_type": "stream",
     "text": [
      "Traing dataset size is: 50000  Poison numbers is: 25\n"
     ]
    }
   ],
   "source": [
    "#cell 21\n",
    "#Poison traing\n",
    "random_poison_idx = random.sample(train_target_list, poison_amount)\n",
    "# poison_train_target = poison_image(poi_ori_train,random_poison_idx,best_noise.cpu(),transform_after_train)\n",
    "poison_train_target = PoisonedDatasetRandomized(\n",
    "    dataset=poi_ori_train,\n",
    "    indices=random_poison_idx,\n",
    "    base_noise=best_noise.cpu(),\n",
    "    transform=transform_after_train,\n",
    "    epsilon=0.05 \n",
    ")\n",
    "print('Traing dataset size is:',len(poison_train_target),\" Poison numbers is:\",len(random_poison_idx))\n",
    "clean_train_loader = DataLoader(poison_train_target, batch_size=test_batch_size, shuffle=True, num_workers=2)"
   ]
  },
  {
   "cell_type": "code",
   "execution_count": 42,
   "id": "0b27b061",
   "metadata": {},
   "outputs": [
    {
     "name": "stdout",
     "output_type": "stream",
     "text": [
      "Poison test dataset size is: 9000\n"
     ]
    }
   ],
   "source": [
    "#cell 22\n",
    "#Attack success rate testing\n",
    "test_non_target = list(np.where(np.array(test_label)!=lab)[0])\n",
    "test_non_target_change_image_label = poison_image_label(poi_ori_test,test_non_target,best_noise.cpu()*multi_test,lab,None)\n",
    "asr_loaders = torch.utils.data.DataLoader(test_non_target_change_image_label, batch_size=test_batch_size, shuffle=True, num_workers=2)\n",
    "print('Poison test dataset size is:',len(test_non_target_change_image_label))"
   ]
  },
  {
   "cell_type": "code",
   "execution_count": 43,
   "id": "3f60a531",
   "metadata": {},
   "outputs": [],
   "source": [
    "#cell 23\n",
    "#Clean acc test dataset\n",
    "clean_test_loader = torch.utils.data.DataLoader(ori_test, batch_size=test_batch_size, shuffle=False, num_workers=2)"
   ]
  },
  {
   "cell_type": "code",
   "execution_count": 44,
   "id": "e49ab88e",
   "metadata": {},
   "outputs": [],
   "source": [
    "#cell 24\n",
    "#Target clean test dataset\n",
    "test_target = list(np.where(np.array(test_label)==lab)[0])\n",
    "target_test_set = Subset(ori_test,test_target)\n",
    "target_test_loader = torch.utils.data.DataLoader(target_test_set, batch_size=test_batch_size, shuffle=True, num_workers=2)"
   ]
  },
  {
   "cell_type": "code",
   "execution_count": 45,
   "id": "6760be1a",
   "metadata": {},
   "outputs": [],
   "source": [
    "#cell 25\n",
    "from util import AverageMeter\n",
    "train_ACC = []\n",
    "test_ACC = []\n",
    "clean_ACC = []\n",
    "target_ACC = []"
   ]
  },
  {
   "cell_type": "code",
   "execution_count": 46,
   "id": "722d3cd3",
   "metadata": {
    "scrolled": true
   },
   "outputs": [
    {
     "data": {
      "application/vnd.jupyter.widget-view+json": {
       "model_id": "4728efc5b2b94cf3be7f717f668ab2da",
       "version_major": 2,
       "version_minor": 0
      },
      "text/plain": [
       "  0%|          | 0/200 [00:00<?, ?it/s]"
      ]
     },
     "metadata": {},
     "output_type": "display_data"
    },
    {
     "data": {
      "application/vnd.jupyter.widget-view+json": {
       "model_id": "6e3e75c2975f4e31b446dc6ebc1f0eff",
       "version_major": 2,
       "version_minor": 0
      },
      "text/plain": [
       "  0%|          | 0/334 [00:00<?, ?it/s]"
      ]
     },
     "metadata": {},
     "output_type": "display_data"
    },
    {
     "name": "stdout",
     "output_type": "stream",
     "text": [
      "Train_loss: tensor(1.8383, device='cuda:0', grad_fn=<NllLossBackward0>)\n",
      "\n",
      "Attack success rate 0.72\n",
      "Test_loss: tensor(3.2881, device='cuda:0')\n",
      "\n",
      "Test clean Accuracy 37.11\n",
      "Test_loss: tensor(1.5935, device='cuda:0')\n",
      "\n",
      "Target test clean Accuracy 2.50\n",
      "Test_loss: tensor(2.0707, device='cuda:0')\n"
     ]
    },
    {
     "data": {
      "application/vnd.jupyter.widget-view+json": {
       "model_id": "03e4343904f54a95bbb24c5802a256d2",
       "version_major": 2,
       "version_minor": 0
      },
      "text/plain": [
       "  0%|          | 0/334 [00:00<?, ?it/s]"
      ]
     },
     "metadata": {},
     "output_type": "display_data"
    },
    {
     "name": "stdout",
     "output_type": "stream",
     "text": [
      "Train_loss: tensor(1.3655, device='cuda:0', grad_fn=<NllLossBackward0>)\n",
      "\n",
      "Attack success rate 2.47\n",
      "Test_loss: tensor(4.6879, device='cuda:0')\n",
      "\n",
      "Test clean Accuracy 50.85\n",
      "Test_loss: tensor(1.4973, device='cuda:0')\n",
      "\n",
      "Target test clean Accuracy 23.00\n",
      "Test_loss: tensor(2.6486, device='cuda:0')\n"
     ]
    },
    {
     "data": {
      "application/vnd.jupyter.widget-view+json": {
       "model_id": "551ea92a9b4a4ffc9cdfe4d4170f0a21",
       "version_major": 2,
       "version_minor": 0
      },
      "text/plain": [
       "  0%|          | 0/334 [00:00<?, ?it/s]"
      ]
     },
     "metadata": {},
     "output_type": "display_data"
    },
    {
     "name": "stdout",
     "output_type": "stream",
     "text": [
      "Train_loss: tensor(1.1900, device='cuda:0', grad_fn=<NllLossBackward0>)\n",
      "\n",
      "Attack success rate 10.34\n",
      "Test_loss: tensor(3.7568, device='cuda:0')\n",
      "\n",
      "Test clean Accuracy 60.54\n",
      "Test_loss: tensor(1.3572, device='cuda:0')\n",
      "\n",
      "Target test clean Accuracy 62.00\n",
      "Test_loss: tensor(1.0022, device='cuda:0')\n"
     ]
    },
    {
     "data": {
      "application/vnd.jupyter.widget-view+json": {
       "model_id": "49a3fbb31d0a4ec8ac09883aefb08b99",
       "version_major": 2,
       "version_minor": 0
      },
      "text/plain": [
       "  0%|          | 0/334 [00:00<?, ?it/s]"
      ]
     },
     "metadata": {},
     "output_type": "display_data"
    },
    {
     "name": "stdout",
     "output_type": "stream",
     "text": [
      "Train_loss: tensor(1.0561, device='cuda:0', grad_fn=<NllLossBackward0>)\n",
      "\n",
      "Attack success rate 2.64\n",
      "Test_loss: tensor(6.2852, device='cuda:0')\n",
      "\n",
      "Test clean Accuracy 65.02\n",
      "Test_loss: tensor(1.0997, device='cuda:0')\n",
      "\n",
      "Target test clean Accuracy 40.30\n",
      "Test_loss: tensor(1.6395, device='cuda:0')\n"
     ]
    },
    {
     "data": {
      "application/vnd.jupyter.widget-view+json": {
       "model_id": "76a9bf17b41f4a908cc4b1a78d1e9505",
       "version_major": 2,
       "version_minor": 0
      },
      "text/plain": [
       "  0%|          | 0/334 [00:00<?, ?it/s]"
      ]
     },
     "metadata": {},
     "output_type": "display_data"
    },
    {
     "name": "stdout",
     "output_type": "stream",
     "text": [
      "Train_loss: tensor(0.7613, device='cuda:0', grad_fn=<NllLossBackward0>)\n",
      "\n",
      "Attack success rate 13.73\n",
      "Test_loss: tensor(3.9963, device='cuda:0')\n",
      "\n",
      "Test clean Accuracy 59.06\n",
      "Test_loss: tensor(1.2152, device='cuda:0')\n",
      "\n",
      "Target test clean Accuracy 67.90\n",
      "Test_loss: tensor(0.8460, device='cuda:0')\n"
     ]
    },
    {
     "data": {
      "application/vnd.jupyter.widget-view+json": {
       "model_id": "0632ef2f78ff476a8f395057c98c0c49",
       "version_major": 2,
       "version_minor": 0
      },
      "text/plain": [
       "  0%|          | 0/334 [00:00<?, ?it/s]"
      ]
     },
     "metadata": {},
     "output_type": "display_data"
    },
    {
     "name": "stdout",
     "output_type": "stream",
     "text": [
      "Train_loss: tensor(0.4883, device='cuda:0', grad_fn=<NllLossBackward0>)\n",
      "\n",
      "Attack success rate 3.50\n",
      "Test_loss: tensor(5.5921, device='cuda:0')\n",
      "\n",
      "Test clean Accuracy 74.14\n",
      "Test_loss: tensor(0.8320, device='cuda:0')\n",
      "\n",
      "Target test clean Accuracy 53.80\n",
      "Test_loss: tensor(1.6918, device='cuda:0')\n"
     ]
    },
    {
     "data": {
      "application/vnd.jupyter.widget-view+json": {
       "model_id": "08029ca4d1004ec1a0667995c22b9515",
       "version_major": 2,
       "version_minor": 0
      },
      "text/plain": [
       "  0%|          | 0/334 [00:00<?, ?it/s]"
      ]
     },
     "metadata": {},
     "output_type": "display_data"
    },
    {
     "name": "stdout",
     "output_type": "stream",
     "text": [
      "Train_loss: tensor(0.5060, device='cuda:0', grad_fn=<NllLossBackward0>)\n",
      "\n",
      "Attack success rate 2.46\n",
      "Test_loss: tensor(6.4637, device='cuda:0')\n",
      "\n",
      "Test clean Accuracy 73.03\n",
      "Test_loss: tensor(0.9281, device='cuda:0')\n",
      "\n",
      "Target test clean Accuracy 66.30\n",
      "Test_loss: tensor(0.9472, device='cuda:0')\n"
     ]
    },
    {
     "data": {
      "application/vnd.jupyter.widget-view+json": {
       "model_id": "04d68b61dc1f4488a3cbc4b98223ac4b",
       "version_major": 2,
       "version_minor": 0
      },
      "text/plain": [
       "  0%|          | 0/334 [00:00<?, ?it/s]"
      ]
     },
     "metadata": {},
     "output_type": "display_data"
    },
    {
     "name": "stdout",
     "output_type": "stream",
     "text": [
      "Train_loss: tensor(0.7225, device='cuda:0', grad_fn=<NllLossBackward0>)\n",
      "\n",
      "Attack success rate 3.91\n",
      "Test_loss: tensor(6.0354, device='cuda:0')\n",
      "\n",
      "Test clean Accuracy 76.41\n",
      "Test_loss: tensor(0.7446, device='cuda:0')\n",
      "\n",
      "Target test clean Accuracy 71.90\n",
      "Test_loss: tensor(0.9677, device='cuda:0')\n"
     ]
    },
    {
     "data": {
      "application/vnd.jupyter.widget-view+json": {
       "model_id": "932b82958fe14b7eb3adb0f7e0d6243f",
       "version_major": 2,
       "version_minor": 0
      },
      "text/plain": [
       "  0%|          | 0/334 [00:00<?, ?it/s]"
      ]
     },
     "metadata": {},
     "output_type": "display_data"
    },
    {
     "name": "stdout",
     "output_type": "stream",
     "text": [
      "Train_loss: tensor(0.5669, device='cuda:0', grad_fn=<NllLossBackward0>)\n",
      "\n",
      "Attack success rate 1.30\n",
      "Test_loss: tensor(6.1646, device='cuda:0')\n",
      "\n",
      "Test clean Accuracy 72.06\n",
      "Test_loss: tensor(0.6913, device='cuda:0')\n",
      "\n",
      "Target test clean Accuracy 54.30\n",
      "Test_loss: tensor(1.2663, device='cuda:0')\n"
     ]
    },
    {
     "data": {
      "application/vnd.jupyter.widget-view+json": {
       "model_id": "437adcfaa49a4c7f92ac31be1ed7c538",
       "version_major": 2,
       "version_minor": 0
      },
      "text/plain": [
       "  0%|          | 0/334 [00:00<?, ?it/s]"
      ]
     },
     "metadata": {},
     "output_type": "display_data"
    },
    {
     "name": "stdout",
     "output_type": "stream",
     "text": [
      "Train_loss: tensor(0.5611, device='cuda:0', grad_fn=<NllLossBackward0>)\n",
      "\n",
      "Attack success rate 2.07\n",
      "Test_loss: tensor(8.1749, device='cuda:0')\n",
      "\n",
      "Test clean Accuracy 79.97\n",
      "Test_loss: tensor(0.6155, device='cuda:0')\n",
      "\n",
      "Target test clean Accuracy 68.90\n",
      "Test_loss: tensor(0.8870, device='cuda:0')\n"
     ]
    },
    {
     "data": {
      "application/vnd.jupyter.widget-view+json": {
       "model_id": "73354f1ad2724c48a9a57d176666fd38",
       "version_major": 2,
       "version_minor": 0
      },
      "text/plain": [
       "  0%|          | 0/334 [00:00<?, ?it/s]"
      ]
     },
     "metadata": {},
     "output_type": "display_data"
    },
    {
     "name": "stdout",
     "output_type": "stream",
     "text": [
      "Train_loss: tensor(0.4261, device='cuda:0', grad_fn=<NllLossBackward0>)\n",
      "\n",
      "Attack success rate 0.40\n",
      "Test_loss: tensor(8.7210, device='cuda:0')\n",
      "\n",
      "Test clean Accuracy 77.72\n",
      "Test_loss: tensor(0.7464, device='cuda:0')\n",
      "\n",
      "Target test clean Accuracy 45.90\n",
      "Test_loss: tensor(1.7246, device='cuda:0')\n"
     ]
    },
    {
     "data": {
      "application/vnd.jupyter.widget-view+json": {
       "model_id": "79052e3870854bafb0b4007a62179162",
       "version_major": 2,
       "version_minor": 0
      },
      "text/plain": [
       "  0%|          | 0/334 [00:00<?, ?it/s]"
      ]
     },
     "metadata": {},
     "output_type": "display_data"
    },
    {
     "name": "stdout",
     "output_type": "stream",
     "text": [
      "Train_loss: tensor(0.7076, device='cuda:0', grad_fn=<NllLossBackward0>)\n",
      "\n",
      "Attack success rate 3.31\n",
      "Test_loss: tensor(8.0889, device='cuda:0')\n",
      "\n",
      "Test clean Accuracy 79.86\n",
      "Test_loss: tensor(0.7142, device='cuda:0')\n",
      "\n",
      "Target test clean Accuracy 74.80\n",
      "Test_loss: tensor(0.6937, device='cuda:0')\n"
     ]
    },
    {
     "data": {
      "application/vnd.jupyter.widget-view+json": {
       "model_id": "e41d7378e21d45a1b1cc8891bd0a6944",
       "version_major": 2,
       "version_minor": 0
      },
      "text/plain": [
       "  0%|          | 0/334 [00:00<?, ?it/s]"
      ]
     },
     "metadata": {},
     "output_type": "display_data"
    },
    {
     "name": "stdout",
     "output_type": "stream",
     "text": [
      "Train_loss: tensor(0.4507, device='cuda:0', grad_fn=<NllLossBackward0>)\n",
      "\n",
      "Attack success rate 1.14\n",
      "Test_loss: tensor(8.4378, device='cuda:0')\n",
      "\n",
      "Test clean Accuracy 79.33\n",
      "Test_loss: tensor(0.5891, device='cuda:0')\n",
      "\n",
      "Target test clean Accuracy 61.90\n",
      "Test_loss: tensor(1.5866, device='cuda:0')\n"
     ]
    },
    {
     "data": {
      "application/vnd.jupyter.widget-view+json": {
       "model_id": "3bdd983eeae94594a567be2fcf9a8198",
       "version_major": 2,
       "version_minor": 0
      },
      "text/plain": [
       "  0%|          | 0/334 [00:00<?, ?it/s]"
      ]
     },
     "metadata": {},
     "output_type": "display_data"
    },
    {
     "name": "stdout",
     "output_type": "stream",
     "text": [
      "Train_loss: tensor(0.4223, device='cuda:0', grad_fn=<NllLossBackward0>)\n",
      "\n",
      "Attack success rate 1.21\n",
      "Test_loss: tensor(8.2034, device='cuda:0')\n",
      "\n",
      "Test clean Accuracy 84.26\n",
      "Test_loss: tensor(0.4752, device='cuda:0')\n",
      "\n",
      "Target test clean Accuracy 71.20\n",
      "Test_loss: tensor(0.7616, device='cuda:0')\n"
     ]
    },
    {
     "data": {
      "application/vnd.jupyter.widget-view+json": {
       "model_id": "39e26500179b4790bdd23e6f876933d1",
       "version_major": 2,
       "version_minor": 0
      },
      "text/plain": [
       "  0%|          | 0/334 [00:00<?, ?it/s]"
      ]
     },
     "metadata": {},
     "output_type": "display_data"
    },
    {
     "name": "stdout",
     "output_type": "stream",
     "text": [
      "Train_loss: tensor(0.4584, device='cuda:0', grad_fn=<NllLossBackward0>)\n",
      "\n",
      "Attack success rate 2.84\n",
      "Test_loss: tensor(7.1705, device='cuda:0')\n",
      "\n",
      "Test clean Accuracy 82.16\n",
      "Test_loss: tensor(0.5677, device='cuda:0')\n",
      "\n",
      "Target test clean Accuracy 74.50\n",
      "Test_loss: tensor(0.7607, device='cuda:0')\n"
     ]
    },
    {
     "data": {
      "application/vnd.jupyter.widget-view+json": {
       "model_id": "44c3f5e83c8c42ae9c5c599ac3fdaeef",
       "version_major": 2,
       "version_minor": 0
      },
      "text/plain": [
       "  0%|          | 0/334 [00:00<?, ?it/s]"
      ]
     },
     "metadata": {},
     "output_type": "display_data"
    },
    {
     "name": "stdout",
     "output_type": "stream",
     "text": [
      "Train_loss: tensor(0.4976, device='cuda:0', grad_fn=<NllLossBackward0>)\n",
      "\n",
      "Attack success rate 5.14\n",
      "Test_loss: tensor(6.9237, device='cuda:0')\n",
      "\n",
      "Test clean Accuracy 81.53\n",
      "Test_loss: tensor(0.5336, device='cuda:0')\n",
      "\n",
      "Target test clean Accuracy 87.10\n",
      "Test_loss: tensor(0.3266, device='cuda:0')\n"
     ]
    },
    {
     "data": {
      "application/vnd.jupyter.widget-view+json": {
       "model_id": "8ed3612938c343c9be07940c6ea348c7",
       "version_major": 2,
       "version_minor": 0
      },
      "text/plain": [
       "  0%|          | 0/334 [00:00<?, ?it/s]"
      ]
     },
     "metadata": {},
     "output_type": "display_data"
    },
    {
     "name": "stdout",
     "output_type": "stream",
     "text": [
      "Train_loss: tensor(0.4211, device='cuda:0', grad_fn=<NllLossBackward0>)\n",
      "\n",
      "Attack success rate 3.09\n",
      "Test_loss: tensor(7.4607, device='cuda:0')\n",
      "\n",
      "Test clean Accuracy 83.88\n",
      "Test_loss: tensor(0.4350, device='cuda:0')\n",
      "\n",
      "Target test clean Accuracy 84.00\n",
      "Test_loss: tensor(0.4428, device='cuda:0')\n"
     ]
    },
    {
     "data": {
      "application/vnd.jupyter.widget-view+json": {
       "model_id": "6df036a4da064df6abe66c0256e2f1d2",
       "version_major": 2,
       "version_minor": 0
      },
      "text/plain": [
       "  0%|          | 0/334 [00:00<?, ?it/s]"
      ]
     },
     "metadata": {},
     "output_type": "display_data"
    },
    {
     "name": "stdout",
     "output_type": "stream",
     "text": [
      "Train_loss: tensor(0.5634, device='cuda:0', grad_fn=<NllLossBackward0>)\n",
      "\n",
      "Attack success rate 2.83\n",
      "Test_loss: tensor(8.5654, device='cuda:0')\n",
      "\n",
      "Test clean Accuracy 83.23\n",
      "Test_loss: tensor(0.5605, device='cuda:0')\n",
      "\n",
      "Target test clean Accuracy 77.60\n",
      "Test_loss: tensor(0.6890, device='cuda:0')\n"
     ]
    },
    {
     "data": {
      "application/vnd.jupyter.widget-view+json": {
       "model_id": "0151459c5532490aaf59bcd7b5d193f2",
       "version_major": 2,
       "version_minor": 0
      },
      "text/plain": [
       "  0%|          | 0/334 [00:00<?, ?it/s]"
      ]
     },
     "metadata": {},
     "output_type": "display_data"
    },
    {
     "name": "stdout",
     "output_type": "stream",
     "text": [
      "Train_loss: tensor(0.4621, device='cuda:0', grad_fn=<NllLossBackward0>)\n",
      "\n",
      "Attack success rate 3.02\n",
      "Test_loss: tensor(7.4785, device='cuda:0')\n",
      "\n",
      "Test clean Accuracy 82.38\n",
      "Test_loss: tensor(0.4488, device='cuda:0')\n",
      "\n",
      "Target test clean Accuracy 81.50\n",
      "Test_loss: tensor(0.3484, device='cuda:0')\n"
     ]
    },
    {
     "data": {
      "application/vnd.jupyter.widget-view+json": {
       "model_id": "a1645dd88b8d4d8daf2ce145373ff6c2",
       "version_major": 2,
       "version_minor": 0
      },
      "text/plain": [
       "  0%|          | 0/334 [00:00<?, ?it/s]"
      ]
     },
     "metadata": {},
     "output_type": "display_data"
    },
    {
     "name": "stdout",
     "output_type": "stream",
     "text": [
      "Train_loss: tensor(0.5985, device='cuda:0', grad_fn=<NllLossBackward0>)\n",
      "\n",
      "Attack success rate 1.58\n",
      "Test_loss: tensor(9.2671, device='cuda:0')\n",
      "\n",
      "Test clean Accuracy 80.45\n",
      "Test_loss: tensor(0.5993, device='cuda:0')\n",
      "\n",
      "Target test clean Accuracy 74.10\n",
      "Test_loss: tensor(0.7643, device='cuda:0')\n"
     ]
    },
    {
     "data": {
      "application/vnd.jupyter.widget-view+json": {
       "model_id": "a42c52e3386a4fb58a647d323a2ac82b",
       "version_major": 2,
       "version_minor": 0
      },
      "text/plain": [
       "  0%|          | 0/334 [00:00<?, ?it/s]"
      ]
     },
     "metadata": {},
     "output_type": "display_data"
    },
    {
     "name": "stdout",
     "output_type": "stream",
     "text": [
      "Train_loss: tensor(0.3917, device='cuda:0', grad_fn=<NllLossBackward0>)\n",
      "\n",
      "Attack success rate 0.38\n",
      "Test_loss: tensor(9.4630, device='cuda:0')\n",
      "\n",
      "Test clean Accuracy 77.12\n",
      "Test_loss: tensor(0.7928, device='cuda:0')\n",
      "\n",
      "Target test clean Accuracy 48.30\n",
      "Test_loss: tensor(1.6166, device='cuda:0')\n"
     ]
    },
    {
     "data": {
      "application/vnd.jupyter.widget-view+json": {
       "model_id": "07ef600498294782bf20a32847a7b998",
       "version_major": 2,
       "version_minor": 0
      },
      "text/plain": [
       "  0%|          | 0/334 [00:00<?, ?it/s]"
      ]
     },
     "metadata": {},
     "output_type": "display_data"
    },
    {
     "name": "stdout",
     "output_type": "stream",
     "text": [
      "Train_loss: tensor(0.3854, device='cuda:0', grad_fn=<NllLossBackward0>)\n",
      "\n",
      "Attack success rate 2.36\n",
      "Test_loss: tensor(8.8902, device='cuda:0')\n",
      "\n",
      "Test clean Accuracy 83.83\n",
      "Test_loss: tensor(0.5309, device='cuda:0')\n",
      "\n",
      "Target test clean Accuracy 78.90\n",
      "Test_loss: tensor(0.7188, device='cuda:0')\n"
     ]
    },
    {
     "data": {
      "application/vnd.jupyter.widget-view+json": {
       "model_id": "bdc2250fa87b484382d5af94c41a8172",
       "version_major": 2,
       "version_minor": 0
      },
      "text/plain": [
       "  0%|          | 0/334 [00:00<?, ?it/s]"
      ]
     },
     "metadata": {},
     "output_type": "display_data"
    },
    {
     "name": "stdout",
     "output_type": "stream",
     "text": [
      "Train_loss: tensor(0.4551, device='cuda:0', grad_fn=<NllLossBackward0>)\n",
      "\n",
      "Attack success rate 0.33\n",
      "Test_loss: tensor(9.7459, device='cuda:0')\n",
      "\n",
      "Test clean Accuracy 82.79\n",
      "Test_loss: tensor(0.5078, device='cuda:0')\n",
      "\n",
      "Target test clean Accuracy 54.90\n",
      "Test_loss: tensor(1.3506, device='cuda:0')\n"
     ]
    },
    {
     "data": {
      "application/vnd.jupyter.widget-view+json": {
       "model_id": "7d0a66dbc99944d9991be315ff3dac92",
       "version_major": 2,
       "version_minor": 0
      },
      "text/plain": [
       "  0%|          | 0/334 [00:00<?, ?it/s]"
      ]
     },
     "metadata": {},
     "output_type": "display_data"
    },
    {
     "name": "stdout",
     "output_type": "stream",
     "text": [
      "Train_loss: tensor(0.4540, device='cuda:0', grad_fn=<NllLossBackward0>)\n",
      "\n",
      "Attack success rate 1.43\n",
      "Test_loss: tensor(7.8801, device='cuda:0')\n",
      "\n",
      "Test clean Accuracy 82.11\n",
      "Test_loss: tensor(0.4069, device='cuda:0')\n",
      "\n",
      "Target test clean Accuracy 72.00\n",
      "Test_loss: tensor(0.7500, device='cuda:0')\n"
     ]
    },
    {
     "data": {
      "application/vnd.jupyter.widget-view+json": {
       "model_id": "1d1e051137d44464a44e0732d0de6037",
       "version_major": 2,
       "version_minor": 0
      },
      "text/plain": [
       "  0%|          | 0/334 [00:00<?, ?it/s]"
      ]
     },
     "metadata": {},
     "output_type": "display_data"
    },
    {
     "name": "stdout",
     "output_type": "stream",
     "text": [
      "Train_loss: tensor(0.2977, device='cuda:0', grad_fn=<NllLossBackward0>)\n",
      "\n",
      "Attack success rate 4.74\n",
      "Test_loss: tensor(6.8033, device='cuda:0')\n",
      "\n",
      "Test clean Accuracy 79.91\n",
      "Test_loss: tensor(0.5693, device='cuda:0')\n",
      "\n",
      "Target test clean Accuracy 90.20\n",
      "Test_loss: tensor(0.2400, device='cuda:0')\n"
     ]
    },
    {
     "data": {
      "application/vnd.jupyter.widget-view+json": {
       "model_id": "c6dc305e572c4ed3905291f158e5d0f0",
       "version_major": 2,
       "version_minor": 0
      },
      "text/plain": [
       "  0%|          | 0/334 [00:00<?, ?it/s]"
      ]
     },
     "metadata": {},
     "output_type": "display_data"
    },
    {
     "name": "stdout",
     "output_type": "stream",
     "text": [
      "Train_loss: tensor(0.2793, device='cuda:0', grad_fn=<NllLossBackward0>)\n",
      "\n",
      "Attack success rate 4.73\n",
      "Test_loss: tensor(7.4283, device='cuda:0')\n",
      "\n",
      "Test clean Accuracy 82.65\n",
      "Test_loss: tensor(0.4955, device='cuda:0')\n",
      "\n",
      "Target test clean Accuracy 87.90\n",
      "Test_loss: tensor(0.2708, device='cuda:0')\n"
     ]
    },
    {
     "data": {
      "application/vnd.jupyter.widget-view+json": {
       "model_id": "55514597316d42879db4d8dcfdd8793a",
       "version_major": 2,
       "version_minor": 0
      },
      "text/plain": [
       "  0%|          | 0/334 [00:00<?, ?it/s]"
      ]
     },
     "metadata": {},
     "output_type": "display_data"
    },
    {
     "name": "stdout",
     "output_type": "stream",
     "text": [
      "Train_loss: tensor(0.1593, device='cuda:0', grad_fn=<NllLossBackward0>)\n",
      "\n",
      "Attack success rate 0.97\n",
      "Test_loss: tensor(9.1762, device='cuda:0')\n",
      "\n",
      "Test clean Accuracy 84.80\n",
      "Test_loss: tensor(0.3545, device='cuda:0')\n",
      "\n",
      "Target test clean Accuracy 74.20\n",
      "Test_loss: tensor(0.8948, device='cuda:0')\n"
     ]
    },
    {
     "data": {
      "application/vnd.jupyter.widget-view+json": {
       "model_id": "a27a1d44f71348a2b7118526cce189b3",
       "version_major": 2,
       "version_minor": 0
      },
      "text/plain": [
       "  0%|          | 0/334 [00:00<?, ?it/s]"
      ]
     },
     "metadata": {},
     "output_type": "display_data"
    },
    {
     "name": "stdout",
     "output_type": "stream",
     "text": [
      "Train_loss: tensor(0.3804, device='cuda:0', grad_fn=<NllLossBackward0>)\n",
      "\n",
      "Attack success rate 1.72\n",
      "Test_loss: tensor(8.3079, device='cuda:0')\n",
      "\n",
      "Test clean Accuracy 82.10\n",
      "Test_loss: tensor(0.4697, device='cuda:0')\n",
      "\n",
      "Target test clean Accuracy 78.80\n",
      "Test_loss: tensor(0.5187, device='cuda:0')\n"
     ]
    },
    {
     "data": {
      "application/vnd.jupyter.widget-view+json": {
       "model_id": "f12ad264cf314f90a8d77d3f1968bc96",
       "version_major": 2,
       "version_minor": 0
      },
      "text/plain": [
       "  0%|          | 0/334 [00:00<?, ?it/s]"
      ]
     },
     "metadata": {},
     "output_type": "display_data"
    },
    {
     "name": "stdout",
     "output_type": "stream",
     "text": [
      "Train_loss: tensor(0.3693, device='cuda:0', grad_fn=<NllLossBackward0>)\n",
      "\n",
      "Attack success rate 2.27\n",
      "Test_loss: tensor(8.8807, device='cuda:0')\n",
      "\n",
      "Test clean Accuracy 84.35\n",
      "Test_loss: tensor(0.4568, device='cuda:0')\n",
      "\n",
      "Target test clean Accuracy 82.60\n",
      "Test_loss: tensor(0.4877, device='cuda:0')\n"
     ]
    },
    {
     "data": {
      "application/vnd.jupyter.widget-view+json": {
       "model_id": "6063a03a2e5945f4b263ac2f5c917cf2",
       "version_major": 2,
       "version_minor": 0
      },
      "text/plain": [
       "  0%|          | 0/334 [00:00<?, ?it/s]"
      ]
     },
     "metadata": {},
     "output_type": "display_data"
    },
    {
     "name": "stdout",
     "output_type": "stream",
     "text": [
      "Train_loss: tensor(0.3363, device='cuda:0', grad_fn=<NllLossBackward0>)\n",
      "\n",
      "Attack success rate 4.03\n",
      "Test_loss: tensor(8.2099, device='cuda:0')\n",
      "\n",
      "Test clean Accuracy 84.81\n",
      "Test_loss: tensor(0.4672, device='cuda:0')\n",
      "\n",
      "Target test clean Accuracy 86.10\n",
      "Test_loss: tensor(0.5843, device='cuda:0')\n"
     ]
    },
    {
     "data": {
      "application/vnd.jupyter.widget-view+json": {
       "model_id": "8c9afdea20a0468285ebc51011d107a0",
       "version_major": 2,
       "version_minor": 0
      },
      "text/plain": [
       "  0%|          | 0/334 [00:00<?, ?it/s]"
      ]
     },
     "metadata": {},
     "output_type": "display_data"
    },
    {
     "name": "stdout",
     "output_type": "stream",
     "text": [
      "Train_loss: tensor(0.2667, device='cuda:0', grad_fn=<NllLossBackward0>)\n",
      "\n",
      "Attack success rate 3.89\n",
      "Test_loss: tensor(8.2032, device='cuda:0')\n",
      "\n",
      "Test clean Accuracy 84.76\n",
      "Test_loss: tensor(0.4920, device='cuda:0')\n",
      "\n",
      "Target test clean Accuracy 88.70\n",
      "Test_loss: tensor(0.3719, device='cuda:0')\n"
     ]
    },
    {
     "data": {
      "application/vnd.jupyter.widget-view+json": {
       "model_id": "b75080fc25714aa19cce2ac9ee4c3ff1",
       "version_major": 2,
       "version_minor": 0
      },
      "text/plain": [
       "  0%|          | 0/334 [00:00<?, ?it/s]"
      ]
     },
     "metadata": {},
     "output_type": "display_data"
    },
    {
     "name": "stdout",
     "output_type": "stream",
     "text": [
      "Train_loss: tensor(0.2281, device='cuda:0', grad_fn=<NllLossBackward0>)\n",
      "\n",
      "Attack success rate 2.82\n",
      "Test_loss: tensor(7.9529, device='cuda:0')\n",
      "\n",
      "Test clean Accuracy 82.90\n",
      "Test_loss: tensor(0.4625, device='cuda:0')\n",
      "\n",
      "Target test clean Accuracy 84.20\n",
      "Test_loss: tensor(0.4831, device='cuda:0')\n"
     ]
    },
    {
     "data": {
      "application/vnd.jupyter.widget-view+json": {
       "model_id": "9229139299b244d292e4adb19c978c74",
       "version_major": 2,
       "version_minor": 0
      },
      "text/plain": [
       "  0%|          | 0/334 [00:00<?, ?it/s]"
      ]
     },
     "metadata": {},
     "output_type": "display_data"
    },
    {
     "name": "stdout",
     "output_type": "stream",
     "text": [
      "Train_loss: tensor(0.5140, device='cuda:0', grad_fn=<NllLossBackward0>)\n",
      "\n",
      "Attack success rate 5.03\n",
      "Test_loss: tensor(7.1789, device='cuda:0')\n",
      "\n",
      "Test clean Accuracy 75.88\n",
      "Test_loss: tensor(0.6128, device='cuda:0')\n",
      "\n",
      "Target test clean Accuracy 82.50\n",
      "Test_loss: tensor(0.5619, device='cuda:0')\n"
     ]
    },
    {
     "data": {
      "application/vnd.jupyter.widget-view+json": {
       "model_id": "a280884285c540df927ee0d3c22107a7",
       "version_major": 2,
       "version_minor": 0
      },
      "text/plain": [
       "  0%|          | 0/334 [00:00<?, ?it/s]"
      ]
     },
     "metadata": {},
     "output_type": "display_data"
    },
    {
     "name": "stdout",
     "output_type": "stream",
     "text": [
      "Train_loss: tensor(0.4367, device='cuda:0', grad_fn=<NllLossBackward0>)\n",
      "\n",
      "Attack success rate 2.13\n",
      "Test_loss: tensor(8.3120, device='cuda:0')\n",
      "\n",
      "Test clean Accuracy 84.65\n",
      "Test_loss: tensor(0.4780, device='cuda:0')\n",
      "\n",
      "Target test clean Accuracy 83.90\n",
      "Test_loss: tensor(0.6397, device='cuda:0')\n"
     ]
    },
    {
     "data": {
      "application/vnd.jupyter.widget-view+json": {
       "model_id": "371934dc15f147de8b4eab23f4bab7af",
       "version_major": 2,
       "version_minor": 0
      },
      "text/plain": [
       "  0%|          | 0/334 [00:00<?, ?it/s]"
      ]
     },
     "metadata": {},
     "output_type": "display_data"
    },
    {
     "name": "stdout",
     "output_type": "stream",
     "text": [
      "Train_loss: tensor(0.2747, device='cuda:0', grad_fn=<NllLossBackward0>)\n",
      "\n",
      "Attack success rate 0.51\n",
      "Test_loss: tensor(8.9920, device='cuda:0')\n",
      "\n",
      "Test clean Accuracy 75.94\n",
      "Test_loss: tensor(0.7243, device='cuda:0')\n",
      "\n",
      "Target test clean Accuracy 62.50\n",
      "Test_loss: tensor(0.9737, device='cuda:0')\n"
     ]
    },
    {
     "data": {
      "application/vnd.jupyter.widget-view+json": {
       "model_id": "6d9ff8fe0c1d4378bef14abfa8c782f0",
       "version_major": 2,
       "version_minor": 0
      },
      "text/plain": [
       "  0%|          | 0/334 [00:00<?, ?it/s]"
      ]
     },
     "metadata": {},
     "output_type": "display_data"
    },
    {
     "name": "stdout",
     "output_type": "stream",
     "text": [
      "Train_loss: tensor(0.3200, device='cuda:0', grad_fn=<NllLossBackward0>)\n",
      "\n",
      "Attack success rate 0.78\n",
      "Test_loss: tensor(9.4747, device='cuda:0')\n",
      "\n",
      "Test clean Accuracy 84.27\n",
      "Test_loss: tensor(0.4703, device='cuda:0')\n",
      "\n",
      "Target test clean Accuracy 71.50\n",
      "Test_loss: tensor(0.9693, device='cuda:0')\n"
     ]
    },
    {
     "data": {
      "application/vnd.jupyter.widget-view+json": {
       "model_id": "8a3a44192f0649ce9d9447e0fd410961",
       "version_major": 2,
       "version_minor": 0
      },
      "text/plain": [
       "  0%|          | 0/334 [00:00<?, ?it/s]"
      ]
     },
     "metadata": {},
     "output_type": "display_data"
    },
    {
     "name": "stdout",
     "output_type": "stream",
     "text": [
      "Train_loss: tensor(0.5703, device='cuda:0', grad_fn=<NllLossBackward0>)\n",
      "\n",
      "Attack success rate 3.20\n",
      "Test_loss: tensor(7.2014, device='cuda:0')\n",
      "\n",
      "Test clean Accuracy 83.91\n",
      "Test_loss: tensor(0.5308, device='cuda:0')\n",
      "\n",
      "Target test clean Accuracy 82.10\n",
      "Test_loss: tensor(0.6531, device='cuda:0')\n"
     ]
    },
    {
     "data": {
      "application/vnd.jupyter.widget-view+json": {
       "model_id": "724569b6ff254d3eafe27bade6931532",
       "version_major": 2,
       "version_minor": 0
      },
      "text/plain": [
       "  0%|          | 0/334 [00:00<?, ?it/s]"
      ]
     },
     "metadata": {},
     "output_type": "display_data"
    },
    {
     "name": "stdout",
     "output_type": "stream",
     "text": [
      "Train_loss: tensor(0.3733, device='cuda:0', grad_fn=<NllLossBackward0>)\n",
      "\n",
      "Attack success rate 0.89\n",
      "Test_loss: tensor(9.0497, device='cuda:0')\n",
      "\n",
      "Test clean Accuracy 85.58\n",
      "Test_loss: tensor(0.3843, device='cuda:0')\n",
      "\n",
      "Target test clean Accuracy 74.90\n",
      "Test_loss: tensor(0.6120, device='cuda:0')\n"
     ]
    },
    {
     "data": {
      "application/vnd.jupyter.widget-view+json": {
       "model_id": "98196572ec2b4c6089bafa31deb15b92",
       "version_major": 2,
       "version_minor": 0
      },
      "text/plain": [
       "  0%|          | 0/334 [00:00<?, ?it/s]"
      ]
     },
     "metadata": {},
     "output_type": "display_data"
    },
    {
     "name": "stdout",
     "output_type": "stream",
     "text": [
      "Train_loss: tensor(0.2159, device='cuda:0', grad_fn=<NllLossBackward0>)\n",
      "\n",
      "Attack success rate 2.20\n",
      "Test_loss: tensor(7.9682, device='cuda:0')\n",
      "\n",
      "Test clean Accuracy 85.19\n",
      "Test_loss: tensor(0.2995, device='cuda:0')\n",
      "\n",
      "Target test clean Accuracy 84.00\n",
      "Test_loss: tensor(0.6239, device='cuda:0')\n"
     ]
    },
    {
     "data": {
      "application/vnd.jupyter.widget-view+json": {
       "model_id": "dc9df1f4a97543d78d6765f49c841bd0",
       "version_major": 2,
       "version_minor": 0
      },
      "text/plain": [
       "  0%|          | 0/334 [00:00<?, ?it/s]"
      ]
     },
     "metadata": {},
     "output_type": "display_data"
    },
    {
     "name": "stdout",
     "output_type": "stream",
     "text": [
      "Train_loss: tensor(0.3399, device='cuda:0', grad_fn=<NllLossBackward0>)\n",
      "\n",
      "Attack success rate 2.89\n",
      "Test_loss: tensor(8.0518, device='cuda:0')\n",
      "\n",
      "Test clean Accuracy 80.78\n",
      "Test_loss: tensor(0.3553, device='cuda:0')\n",
      "\n",
      "Target test clean Accuracy 78.00\n",
      "Test_loss: tensor(0.5765, device='cuda:0')\n"
     ]
    },
    {
     "data": {
      "application/vnd.jupyter.widget-view+json": {
       "model_id": "45c8e9749a6242a9ae330942f90b3020",
       "version_major": 2,
       "version_minor": 0
      },
      "text/plain": [
       "  0%|          | 0/334 [00:00<?, ?it/s]"
      ]
     },
     "metadata": {},
     "output_type": "display_data"
    },
    {
     "name": "stdout",
     "output_type": "stream",
     "text": [
      "Train_loss: tensor(0.4870, device='cuda:0', grad_fn=<NllLossBackward0>)\n",
      "\n",
      "Attack success rate 4.63\n",
      "Test_loss: tensor(7.4491, device='cuda:0')\n",
      "\n",
      "Test clean Accuracy 83.42\n",
      "Test_loss: tensor(0.5063, device='cuda:0')\n",
      "\n",
      "Target test clean Accuracy 89.40\n",
      "Test_loss: tensor(0.2777, device='cuda:0')\n"
     ]
    },
    {
     "data": {
      "application/vnd.jupyter.widget-view+json": {
       "model_id": "f1193606c6a24193962d9a200c6436cc",
       "version_major": 2,
       "version_minor": 0
      },
      "text/plain": [
       "  0%|          | 0/334 [00:00<?, ?it/s]"
      ]
     },
     "metadata": {},
     "output_type": "display_data"
    },
    {
     "name": "stdout",
     "output_type": "stream",
     "text": [
      "Train_loss: tensor(0.2742, device='cuda:0', grad_fn=<NllLossBackward0>)\n",
      "\n",
      "Attack success rate 1.08\n",
      "Test_loss: tensor(8.5503, device='cuda:0')\n",
      "\n",
      "Test clean Accuracy 84.55\n",
      "Test_loss: tensor(0.4229, device='cuda:0')\n",
      "\n",
      "Target test clean Accuracy 77.70\n",
      "Test_loss: tensor(0.5579, device='cuda:0')\n"
     ]
    },
    {
     "data": {
      "application/vnd.jupyter.widget-view+json": {
       "model_id": "dc5d4264d6d5417aacf0b80855e295fa",
       "version_major": 2,
       "version_minor": 0
      },
      "text/plain": [
       "  0%|          | 0/334 [00:00<?, ?it/s]"
      ]
     },
     "metadata": {},
     "output_type": "display_data"
    },
    {
     "name": "stdout",
     "output_type": "stream",
     "text": [
      "Train_loss: tensor(0.2486, device='cuda:0', grad_fn=<NllLossBackward0>)\n",
      "\n",
      "Attack success rate 1.40\n",
      "Test_loss: tensor(9.2285, device='cuda:0')\n",
      "\n",
      "Test clean Accuracy 86.15\n",
      "Test_loss: tensor(0.3959, device='cuda:0')\n",
      "\n",
      "Target test clean Accuracy 78.70\n",
      "Test_loss: tensor(0.5598, device='cuda:0')\n"
     ]
    },
    {
     "data": {
      "application/vnd.jupyter.widget-view+json": {
       "model_id": "f3807466cd5246e088636a84a92639f6",
       "version_major": 2,
       "version_minor": 0
      },
      "text/plain": [
       "  0%|          | 0/334 [00:00<?, ?it/s]"
      ]
     },
     "metadata": {},
     "output_type": "display_data"
    },
    {
     "name": "stdout",
     "output_type": "stream",
     "text": [
      "Train_loss: tensor(0.5088, device='cuda:0', grad_fn=<NllLossBackward0>)\n",
      "\n",
      "Attack success rate 1.17\n",
      "Test_loss: tensor(8.6675, device='cuda:0')\n",
      "\n",
      "Test clean Accuracy 88.00\n",
      "Test_loss: tensor(0.3102, device='cuda:0')\n",
      "\n",
      "Target test clean Accuracy 79.70\n",
      "Test_loss: tensor(0.3653, device='cuda:0')\n"
     ]
    },
    {
     "data": {
      "application/vnd.jupyter.widget-view+json": {
       "model_id": "30bdcc30920d42da813c8fc68c551a46",
       "version_major": 2,
       "version_minor": 0
      },
      "text/plain": [
       "  0%|          | 0/334 [00:00<?, ?it/s]"
      ]
     },
     "metadata": {},
     "output_type": "display_data"
    },
    {
     "name": "stdout",
     "output_type": "stream",
     "text": [
      "Train_loss: tensor(0.2859, device='cuda:0', grad_fn=<NllLossBackward0>)\n",
      "\n",
      "Attack success rate 2.31\n",
      "Test_loss: tensor(8.1795, device='cuda:0')\n",
      "\n",
      "Test clean Accuracy 85.20\n",
      "Test_loss: tensor(0.4169, device='cuda:0')\n",
      "\n",
      "Target test clean Accuracy 88.00\n",
      "Test_loss: tensor(0.4130, device='cuda:0')\n"
     ]
    },
    {
     "data": {
      "application/vnd.jupyter.widget-view+json": {
       "model_id": "9f449288bf9e44f88077f93120baf59a",
       "version_major": 2,
       "version_minor": 0
      },
      "text/plain": [
       "  0%|          | 0/334 [00:00<?, ?it/s]"
      ]
     },
     "metadata": {},
     "output_type": "display_data"
    },
    {
     "name": "stdout",
     "output_type": "stream",
     "text": [
      "Train_loss: tensor(0.3800, device='cuda:0', grad_fn=<NllLossBackward0>)\n",
      "\n",
      "Attack success rate 1.30\n",
      "Test_loss: tensor(10.2332, device='cuda:0')\n",
      "\n",
      "Test clean Accuracy 86.42\n",
      "Test_loss: tensor(0.3722, device='cuda:0')\n",
      "\n",
      "Target test clean Accuracy 78.70\n",
      "Test_loss: tensor(0.7560, device='cuda:0')\n"
     ]
    },
    {
     "data": {
      "application/vnd.jupyter.widget-view+json": {
       "model_id": "8fc380903ebc42708e5157b9882db3ed",
       "version_major": 2,
       "version_minor": 0
      },
      "text/plain": [
       "  0%|          | 0/334 [00:00<?, ?it/s]"
      ]
     },
     "metadata": {},
     "output_type": "display_data"
    },
    {
     "name": "stdout",
     "output_type": "stream",
     "text": [
      "Train_loss: tensor(0.1498, device='cuda:0', grad_fn=<NllLossBackward0>)\n",
      "\n",
      "Attack success rate 0.86\n",
      "Test_loss: tensor(8.9514, device='cuda:0')\n",
      "\n",
      "Test clean Accuracy 85.14\n",
      "Test_loss: tensor(0.5384, device='cuda:0')\n",
      "\n",
      "Target test clean Accuracy 77.90\n",
      "Test_loss: tensor(0.5044, device='cuda:0')\n"
     ]
    },
    {
     "data": {
      "application/vnd.jupyter.widget-view+json": {
       "model_id": "8a68cb7dd52943e9af9b180f0c49a54e",
       "version_major": 2,
       "version_minor": 0
      },
      "text/plain": [
       "  0%|          | 0/334 [00:00<?, ?it/s]"
      ]
     },
     "metadata": {},
     "output_type": "display_data"
    },
    {
     "name": "stdout",
     "output_type": "stream",
     "text": [
      "Train_loss: tensor(0.3489, device='cuda:0', grad_fn=<NllLossBackward0>)\n",
      "\n",
      "Attack success rate 1.63\n",
      "Test_loss: tensor(8.2616, device='cuda:0')\n",
      "\n",
      "Test clean Accuracy 87.26\n",
      "Test_loss: tensor(0.3085, device='cuda:0')\n",
      "\n",
      "Target test clean Accuracy 82.70\n",
      "Test_loss: tensor(0.5341, device='cuda:0')\n"
     ]
    },
    {
     "data": {
      "application/vnd.jupyter.widget-view+json": {
       "model_id": "4857f0ce3cd54da3b7baac4624353afd",
       "version_major": 2,
       "version_minor": 0
      },
      "text/plain": [
       "  0%|          | 0/334 [00:00<?, ?it/s]"
      ]
     },
     "metadata": {},
     "output_type": "display_data"
    },
    {
     "name": "stdout",
     "output_type": "stream",
     "text": [
      "Train_loss: tensor(0.1617, device='cuda:0', grad_fn=<NllLossBackward0>)\n",
      "\n",
      "Attack success rate 1.74\n",
      "Test_loss: tensor(9.0436, device='cuda:0')\n",
      "\n",
      "Test clean Accuracy 86.37\n",
      "Test_loss: tensor(0.4405, device='cuda:0')\n",
      "\n",
      "Target test clean Accuracy 82.40\n",
      "Test_loss: tensor(0.5936, device='cuda:0')\n"
     ]
    },
    {
     "data": {
      "application/vnd.jupyter.widget-view+json": {
       "model_id": "31d32ff641bc41afbafcffc2202baca5",
       "version_major": 2,
       "version_minor": 0
      },
      "text/plain": [
       "  0%|          | 0/334 [00:00<?, ?it/s]"
      ]
     },
     "metadata": {},
     "output_type": "display_data"
    },
    {
     "name": "stdout",
     "output_type": "stream",
     "text": [
      "Train_loss: tensor(0.3425, device='cuda:0', grad_fn=<NllLossBackward0>)\n",
      "\n",
      "Attack success rate 1.57\n",
      "Test_loss: tensor(8.3476, device='cuda:0')\n",
      "\n",
      "Test clean Accuracy 84.18\n",
      "Test_loss: tensor(0.3820, device='cuda:0')\n",
      "\n",
      "Target test clean Accuracy 81.40\n",
      "Test_loss: tensor(0.6748, device='cuda:0')\n"
     ]
    },
    {
     "data": {
      "application/vnd.jupyter.widget-view+json": {
       "model_id": "cf397631d9bd45e8b38c48bcd3ee197d",
       "version_major": 2,
       "version_minor": 0
      },
      "text/plain": [
       "  0%|          | 0/334 [00:00<?, ?it/s]"
      ]
     },
     "metadata": {},
     "output_type": "display_data"
    },
    {
     "name": "stdout",
     "output_type": "stream",
     "text": [
      "Train_loss: tensor(0.3981, device='cuda:0', grad_fn=<NllLossBackward0>)\n",
      "\n",
      "Attack success rate 1.72\n",
      "Test_loss: tensor(7.8571, device='cuda:0')\n",
      "\n",
      "Test clean Accuracy 86.16\n",
      "Test_loss: tensor(0.4188, device='cuda:0')\n",
      "\n",
      "Target test clean Accuracy 81.40\n",
      "Test_loss: tensor(0.3931, device='cuda:0')\n"
     ]
    },
    {
     "data": {
      "application/vnd.jupyter.widget-view+json": {
       "model_id": "03e237aa557e4e0c98b187c0c2bd7a5d",
       "version_major": 2,
       "version_minor": 0
      },
      "text/plain": [
       "  0%|          | 0/334 [00:00<?, ?it/s]"
      ]
     },
     "metadata": {},
     "output_type": "display_data"
    },
    {
     "name": "stdout",
     "output_type": "stream",
     "text": [
      "Train_loss: tensor(0.3680, device='cuda:0', grad_fn=<NllLossBackward0>)\n",
      "\n",
      "Attack success rate 1.04\n",
      "Test_loss: tensor(9.1069, device='cuda:0')\n",
      "\n",
      "Test clean Accuracy 84.43\n",
      "Test_loss: tensor(0.5318, device='cuda:0')\n",
      "\n",
      "Target test clean Accuracy 80.90\n",
      "Test_loss: tensor(0.8211, device='cuda:0')\n"
     ]
    },
    {
     "data": {
      "application/vnd.jupyter.widget-view+json": {
       "model_id": "54f8668b65994f789e3123ad39f31fe6",
       "version_major": 2,
       "version_minor": 0
      },
      "text/plain": [
       "  0%|          | 0/334 [00:00<?, ?it/s]"
      ]
     },
     "metadata": {},
     "output_type": "display_data"
    },
    {
     "name": "stdout",
     "output_type": "stream",
     "text": [
      "Train_loss: tensor(0.2982, device='cuda:0', grad_fn=<NllLossBackward0>)\n",
      "\n",
      "Attack success rate 1.06\n",
      "Test_loss: tensor(8.6615, device='cuda:0')\n",
      "\n",
      "Test clean Accuracy 87.04\n",
      "Test_loss: tensor(0.3884, device='cuda:0')\n",
      "\n",
      "Target test clean Accuracy 79.30\n",
      "Test_loss: tensor(0.8232, device='cuda:0')\n"
     ]
    },
    {
     "data": {
      "application/vnd.jupyter.widget-view+json": {
       "model_id": "d13d910956364ab882c401407800a52a",
       "version_major": 2,
       "version_minor": 0
      },
      "text/plain": [
       "  0%|          | 0/334 [00:00<?, ?it/s]"
      ]
     },
     "metadata": {},
     "output_type": "display_data"
    },
    {
     "name": "stdout",
     "output_type": "stream",
     "text": [
      "Train_loss: tensor(0.2953, device='cuda:0', grad_fn=<NllLossBackward0>)\n",
      "\n",
      "Attack success rate 2.89\n",
      "Test_loss: tensor(7.6630, device='cuda:0')\n",
      "\n",
      "Test clean Accuracy 84.90\n",
      "Test_loss: tensor(0.3906, device='cuda:0')\n",
      "\n",
      "Target test clean Accuracy 86.30\n",
      "Test_loss: tensor(0.3884, device='cuda:0')\n"
     ]
    },
    {
     "data": {
      "application/vnd.jupyter.widget-view+json": {
       "model_id": "42d72ec6d9364aa790f016a32d0ce313",
       "version_major": 2,
       "version_minor": 0
      },
      "text/plain": [
       "  0%|          | 0/334 [00:00<?, ?it/s]"
      ]
     },
     "metadata": {},
     "output_type": "display_data"
    },
    {
     "name": "stdout",
     "output_type": "stream",
     "text": [
      "Train_loss: tensor(0.4782, device='cuda:0', grad_fn=<NllLossBackward0>)\n",
      "\n",
      "Attack success rate 2.30\n",
      "Test_loss: tensor(7.6937, device='cuda:0')\n",
      "\n",
      "Test clean Accuracy 83.99\n",
      "Test_loss: tensor(0.3883, device='cuda:0')\n",
      "\n",
      "Target test clean Accuracy 84.80\n",
      "Test_loss: tensor(0.4784, device='cuda:0')\n"
     ]
    },
    {
     "data": {
      "application/vnd.jupyter.widget-view+json": {
       "model_id": "04d915b7b0174b368521b2f6dcdf614c",
       "version_major": 2,
       "version_minor": 0
      },
      "text/plain": [
       "  0%|          | 0/334 [00:00<?, ?it/s]"
      ]
     },
     "metadata": {},
     "output_type": "display_data"
    },
    {
     "name": "stdout",
     "output_type": "stream",
     "text": [
      "Train_loss: tensor(0.1850, device='cuda:0', grad_fn=<NllLossBackward0>)\n",
      "\n",
      "Attack success rate 3.66\n",
      "Test_loss: tensor(6.7925, device='cuda:0')\n",
      "\n",
      "Test clean Accuracy 83.95\n",
      "Test_loss: tensor(0.4439, device='cuda:0')\n",
      "\n",
      "Target test clean Accuracy 83.90\n",
      "Test_loss: tensor(0.4916, device='cuda:0')\n"
     ]
    },
    {
     "data": {
      "application/vnd.jupyter.widget-view+json": {
       "model_id": "f40b3c6c21bf4f86ae8a7e6c909fc8f7",
       "version_major": 2,
       "version_minor": 0
      },
      "text/plain": [
       "  0%|          | 0/334 [00:00<?, ?it/s]"
      ]
     },
     "metadata": {},
     "output_type": "display_data"
    },
    {
     "name": "stdout",
     "output_type": "stream",
     "text": [
      "Train_loss: tensor(0.8065, device='cuda:0', grad_fn=<NllLossBackward0>)\n",
      "\n",
      "Attack success rate 2.28\n",
      "Test_loss: tensor(8.0059, device='cuda:0')\n",
      "\n",
      "Test clean Accuracy 86.69\n",
      "Test_loss: tensor(0.3300, device='cuda:0')\n",
      "\n",
      "Target test clean Accuracy 85.90\n",
      "Test_loss: tensor(0.5483, device='cuda:0')\n"
     ]
    },
    {
     "data": {
      "application/vnd.jupyter.widget-view+json": {
       "model_id": "2006b1305f26400aaa4144bdd97ae057",
       "version_major": 2,
       "version_minor": 0
      },
      "text/plain": [
       "  0%|          | 0/334 [00:00<?, ?it/s]"
      ]
     },
     "metadata": {},
     "output_type": "display_data"
    },
    {
     "name": "stdout",
     "output_type": "stream",
     "text": [
      "Train_loss: tensor(0.3675, device='cuda:0', grad_fn=<NllLossBackward0>)\n",
      "\n",
      "Attack success rate 2.42\n",
      "Test_loss: tensor(8.8308, device='cuda:0')\n",
      "\n",
      "Test clean Accuracy 87.46\n",
      "Test_loss: tensor(0.3117, device='cuda:0')\n",
      "\n",
      "Target test clean Accuracy 90.20\n",
      "Test_loss: tensor(0.2685, device='cuda:0')\n"
     ]
    },
    {
     "data": {
      "application/vnd.jupyter.widget-view+json": {
       "model_id": "6b5d38d95e0f451d96abf66fc4a29cfa",
       "version_major": 2,
       "version_minor": 0
      },
      "text/plain": [
       "  0%|          | 0/334 [00:00<?, ?it/s]"
      ]
     },
     "metadata": {},
     "output_type": "display_data"
    },
    {
     "name": "stdout",
     "output_type": "stream",
     "text": [
      "Train_loss: tensor(0.1401, device='cuda:0', grad_fn=<NllLossBackward0>)\n",
      "\n",
      "Attack success rate 2.00\n",
      "Test_loss: tensor(8.2789, device='cuda:0')\n",
      "\n",
      "Test clean Accuracy 88.66\n",
      "Test_loss: tensor(0.2611, device='cuda:0')\n",
      "\n",
      "Target test clean Accuracy 89.40\n",
      "Test_loss: tensor(0.4085, device='cuda:0')\n"
     ]
    },
    {
     "data": {
      "application/vnd.jupyter.widget-view+json": {
       "model_id": "fcc7b1d6f76544fbb94370d865104c6c",
       "version_major": 2,
       "version_minor": 0
      },
      "text/plain": [
       "  0%|          | 0/334 [00:00<?, ?it/s]"
      ]
     },
     "metadata": {},
     "output_type": "display_data"
    },
    {
     "name": "stdout",
     "output_type": "stream",
     "text": [
      "Train_loss: tensor(0.1238, device='cuda:0', grad_fn=<NllLossBackward0>)\n",
      "\n",
      "Attack success rate 3.90\n",
      "Test_loss: tensor(7.5793, device='cuda:0')\n",
      "\n",
      "Test clean Accuracy 87.08\n",
      "Test_loss: tensor(0.3746, device='cuda:0')\n",
      "\n",
      "Target test clean Accuracy 91.40\n",
      "Test_loss: tensor(0.3148, device='cuda:0')\n"
     ]
    },
    {
     "data": {
      "application/vnd.jupyter.widget-view+json": {
       "model_id": "2e82fdc10d0f4ef4a889714c5d269ffd",
       "version_major": 2,
       "version_minor": 0
      },
      "text/plain": [
       "  0%|          | 0/334 [00:00<?, ?it/s]"
      ]
     },
     "metadata": {},
     "output_type": "display_data"
    },
    {
     "name": "stdout",
     "output_type": "stream",
     "text": [
      "Train_loss: tensor(0.1617, device='cuda:0', grad_fn=<NllLossBackward0>)\n",
      "\n",
      "Attack success rate 0.26\n",
      "Test_loss: tensor(10.0086, device='cuda:0')\n",
      "\n",
      "Test clean Accuracy 85.79\n",
      "Test_loss: tensor(0.4103, device='cuda:0')\n",
      "\n",
      "Target test clean Accuracy 61.70\n",
      "Test_loss: tensor(1.3630, device='cuda:0')\n"
     ]
    },
    {
     "data": {
      "application/vnd.jupyter.widget-view+json": {
       "model_id": "cdafaed14b744fc5bf920d7a0d6e7835",
       "version_major": 2,
       "version_minor": 0
      },
      "text/plain": [
       "  0%|          | 0/334 [00:00<?, ?it/s]"
      ]
     },
     "metadata": {},
     "output_type": "display_data"
    },
    {
     "name": "stdout",
     "output_type": "stream",
     "text": [
      "Train_loss: tensor(0.1881, device='cuda:0', grad_fn=<NllLossBackward0>)\n",
      "\n",
      "Attack success rate 2.47\n",
      "Test_loss: tensor(8.1793, device='cuda:0')\n",
      "\n",
      "Test clean Accuracy 87.52\n",
      "Test_loss: tensor(0.3459, device='cuda:0')\n",
      "\n",
      "Target test clean Accuracy 88.30\n",
      "Test_loss: tensor(0.4869, device='cuda:0')\n"
     ]
    },
    {
     "data": {
      "application/vnd.jupyter.widget-view+json": {
       "model_id": "8e914b69314140a79aa12c5671658cdc",
       "version_major": 2,
       "version_minor": 0
      },
      "text/plain": [
       "  0%|          | 0/334 [00:00<?, ?it/s]"
      ]
     },
     "metadata": {},
     "output_type": "display_data"
    },
    {
     "name": "stdout",
     "output_type": "stream",
     "text": [
      "Train_loss: tensor(0.3905, device='cuda:0', grad_fn=<NllLossBackward0>)\n",
      "\n",
      "Attack success rate 4.56\n",
      "Test_loss: tensor(6.9326, device='cuda:0')\n",
      "\n",
      "Test clean Accuracy 86.55\n",
      "Test_loss: tensor(0.3170, device='cuda:0')\n",
      "\n",
      "Target test clean Accuracy 92.00\n",
      "Test_loss: tensor(0.1798, device='cuda:0')\n"
     ]
    },
    {
     "data": {
      "application/vnd.jupyter.widget-view+json": {
       "model_id": "0b80f44f9c014f92a90cde9603000750",
       "version_major": 2,
       "version_minor": 0
      },
      "text/plain": [
       "  0%|          | 0/334 [00:00<?, ?it/s]"
      ]
     },
     "metadata": {},
     "output_type": "display_data"
    },
    {
     "name": "stdout",
     "output_type": "stream",
     "text": [
      "Train_loss: tensor(0.2856, device='cuda:0', grad_fn=<NllLossBackward0>)\n",
      "\n",
      "Attack success rate 1.10\n",
      "Test_loss: tensor(8.6248, device='cuda:0')\n",
      "\n",
      "Test clean Accuracy 86.88\n",
      "Test_loss: tensor(0.3574, device='cuda:0')\n",
      "\n",
      "Target test clean Accuracy 80.00\n",
      "Test_loss: tensor(0.4791, device='cuda:0')\n"
     ]
    },
    {
     "data": {
      "application/vnd.jupyter.widget-view+json": {
       "model_id": "be0251050b2d41f9899423a5a6d0bc13",
       "version_major": 2,
       "version_minor": 0
      },
      "text/plain": [
       "  0%|          | 0/334 [00:00<?, ?it/s]"
      ]
     },
     "metadata": {},
     "output_type": "display_data"
    },
    {
     "name": "stdout",
     "output_type": "stream",
     "text": [
      "Train_loss: tensor(0.2481, device='cuda:0', grad_fn=<NllLossBackward0>)\n",
      "\n",
      "Attack success rate 1.37\n",
      "Test_loss: tensor(8.8454, device='cuda:0')\n",
      "\n",
      "Test clean Accuracy 87.57\n",
      "Test_loss: tensor(0.3023, device='cuda:0')\n",
      "\n",
      "Target test clean Accuracy 81.70\n",
      "Test_loss: tensor(0.5405, device='cuda:0')\n"
     ]
    },
    {
     "data": {
      "application/vnd.jupyter.widget-view+json": {
       "model_id": "eec2fe2ad4bf4c38af1a4cf41b2db583",
       "version_major": 2,
       "version_minor": 0
      },
      "text/plain": [
       "  0%|          | 0/334 [00:00<?, ?it/s]"
      ]
     },
     "metadata": {},
     "output_type": "display_data"
    },
    {
     "name": "stdout",
     "output_type": "stream",
     "text": [
      "Train_loss: tensor(0.2466, device='cuda:0', grad_fn=<NllLossBackward0>)\n",
      "\n",
      "Attack success rate 3.79\n",
      "Test_loss: tensor(7.9956, device='cuda:0')\n",
      "\n",
      "Test clean Accuracy 78.89\n",
      "Test_loss: tensor(0.6357, device='cuda:0')\n",
      "\n",
      "Target test clean Accuracy 77.10\n",
      "Test_loss: tensor(0.7335, device='cuda:0')\n"
     ]
    },
    {
     "data": {
      "application/vnd.jupyter.widget-view+json": {
       "model_id": "775a3afc5bda4b63a731ffe451972338",
       "version_major": 2,
       "version_minor": 0
      },
      "text/plain": [
       "  0%|          | 0/334 [00:00<?, ?it/s]"
      ]
     },
     "metadata": {},
     "output_type": "display_data"
    },
    {
     "name": "stdout",
     "output_type": "stream",
     "text": [
      "Train_loss: tensor(0.2188, device='cuda:0', grad_fn=<NllLossBackward0>)\n",
      "\n",
      "Attack success rate 2.18\n",
      "Test_loss: tensor(8.5437, device='cuda:0')\n",
      "\n",
      "Test clean Accuracy 87.81\n",
      "Test_loss: tensor(0.3485, device='cuda:0')\n",
      "\n",
      "Target test clean Accuracy 88.30\n",
      "Test_loss: tensor(0.2972, device='cuda:0')\n"
     ]
    },
    {
     "data": {
      "application/vnd.jupyter.widget-view+json": {
       "model_id": "3ede1e262124481bb8daabf4787e6b7c",
       "version_major": 2,
       "version_minor": 0
      },
      "text/plain": [
       "  0%|          | 0/334 [00:00<?, ?it/s]"
      ]
     },
     "metadata": {},
     "output_type": "display_data"
    },
    {
     "name": "stdout",
     "output_type": "stream",
     "text": [
      "Train_loss: tensor(0.4038, device='cuda:0', grad_fn=<NllLossBackward0>)\n",
      "\n",
      "Attack success rate 1.21\n",
      "Test_loss: tensor(10.0562, device='cuda:0')\n",
      "\n",
      "Test clean Accuracy 88.56\n",
      "Test_loss: tensor(0.3182, device='cuda:0')\n",
      "\n",
      "Target test clean Accuracy 83.90\n",
      "Test_loss: tensor(0.3474, device='cuda:0')\n"
     ]
    },
    {
     "data": {
      "application/vnd.jupyter.widget-view+json": {
       "model_id": "f0a8e308e0bf4f4d9d27d8312bb066f5",
       "version_major": 2,
       "version_minor": 0
      },
      "text/plain": [
       "  0%|          | 0/334 [00:00<?, ?it/s]"
      ]
     },
     "metadata": {},
     "output_type": "display_data"
    },
    {
     "name": "stdout",
     "output_type": "stream",
     "text": [
      "Train_loss: tensor(0.1831, device='cuda:0', grad_fn=<NllLossBackward0>)\n",
      "\n",
      "Attack success rate 2.23\n",
      "Test_loss: tensor(8.7344, device='cuda:0')\n",
      "\n",
      "Test clean Accuracy 84.53\n",
      "Test_loss: tensor(0.4430, device='cuda:0')\n",
      "\n",
      "Target test clean Accuracy 84.70\n",
      "Test_loss: tensor(0.4278, device='cuda:0')\n"
     ]
    },
    {
     "data": {
      "application/vnd.jupyter.widget-view+json": {
       "model_id": "21e74731be784e93874b6ee7f7a5683f",
       "version_major": 2,
       "version_minor": 0
      },
      "text/plain": [
       "  0%|          | 0/334 [00:00<?, ?it/s]"
      ]
     },
     "metadata": {},
     "output_type": "display_data"
    },
    {
     "name": "stdout",
     "output_type": "stream",
     "text": [
      "Train_loss: tensor(0.3983, device='cuda:0', grad_fn=<NllLossBackward0>)\n",
      "\n",
      "Attack success rate 0.58\n",
      "Test_loss: tensor(9.7397, device='cuda:0')\n",
      "\n",
      "Test clean Accuracy 88.60\n",
      "Test_loss: tensor(0.2929, device='cuda:0')\n",
      "\n",
      "Target test clean Accuracy 80.50\n",
      "Test_loss: tensor(0.5444, device='cuda:0')\n"
     ]
    },
    {
     "data": {
      "application/vnd.jupyter.widget-view+json": {
       "model_id": "a271881ba6f347a992cca29ba340644d",
       "version_major": 2,
       "version_minor": 0
      },
      "text/plain": [
       "  0%|          | 0/334 [00:00<?, ?it/s]"
      ]
     },
     "metadata": {},
     "output_type": "display_data"
    },
    {
     "name": "stdout",
     "output_type": "stream",
     "text": [
      "Train_loss: tensor(0.1729, device='cuda:0', grad_fn=<NllLossBackward0>)\n",
      "\n",
      "Attack success rate 3.34\n",
      "Test_loss: tensor(8.0039, device='cuda:0')\n",
      "\n",
      "Test clean Accuracy 86.76\n",
      "Test_loss: tensor(0.3321, device='cuda:0')\n",
      "\n",
      "Target test clean Accuracy 85.60\n",
      "Test_loss: tensor(0.4918, device='cuda:0')\n"
     ]
    },
    {
     "data": {
      "application/vnd.jupyter.widget-view+json": {
       "model_id": "e9cdb0b0522947ac85dde4db00a2dc1c",
       "version_major": 2,
       "version_minor": 0
      },
      "text/plain": [
       "  0%|          | 0/334 [00:00<?, ?it/s]"
      ]
     },
     "metadata": {},
     "output_type": "display_data"
    },
    {
     "name": "stdout",
     "output_type": "stream",
     "text": [
      "Train_loss: tensor(0.1815, device='cuda:0', grad_fn=<NllLossBackward0>)\n",
      "\n",
      "Attack success rate 1.09\n",
      "Test_loss: tensor(9.2761, device='cuda:0')\n",
      "\n",
      "Test clean Accuracy 86.83\n",
      "Test_loss: tensor(0.3794, device='cuda:0')\n",
      "\n",
      "Target test clean Accuracy 81.50\n",
      "Test_loss: tensor(0.6023, device='cuda:0')\n"
     ]
    },
    {
     "data": {
      "application/vnd.jupyter.widget-view+json": {
       "model_id": "8326e6d6249c4d3a92c776f87605e1d1",
       "version_major": 2,
       "version_minor": 0
      },
      "text/plain": [
       "  0%|          | 0/334 [00:00<?, ?it/s]"
      ]
     },
     "metadata": {},
     "output_type": "display_data"
    },
    {
     "name": "stdout",
     "output_type": "stream",
     "text": [
      "Train_loss: tensor(0.1226, device='cuda:0', grad_fn=<NllLossBackward0>)\n",
      "\n",
      "Attack success rate 1.30\n",
      "Test_loss: tensor(9.0603, device='cuda:0')\n",
      "\n",
      "Test clean Accuracy 89.26\n",
      "Test_loss: tensor(0.2413, device='cuda:0')\n",
      "\n",
      "Target test clean Accuracy 81.60\n",
      "Test_loss: tensor(0.5016, device='cuda:0')\n"
     ]
    },
    {
     "data": {
      "application/vnd.jupyter.widget-view+json": {
       "model_id": "cc5e88ed0289460eabf63db00dbe36b7",
       "version_major": 2,
       "version_minor": 0
      },
      "text/plain": [
       "  0%|          | 0/334 [00:00<?, ?it/s]"
      ]
     },
     "metadata": {},
     "output_type": "display_data"
    },
    {
     "name": "stdout",
     "output_type": "stream",
     "text": [
      "Train_loss: tensor(0.2851, device='cuda:0', grad_fn=<NllLossBackward0>)\n",
      "\n",
      "Attack success rate 1.70\n",
      "Test_loss: tensor(8.6195, device='cuda:0')\n",
      "\n",
      "Test clean Accuracy 87.05\n",
      "Test_loss: tensor(0.3613, device='cuda:0')\n",
      "\n",
      "Target test clean Accuracy 86.30\n",
      "Test_loss: tensor(0.3980, device='cuda:0')\n"
     ]
    },
    {
     "data": {
      "application/vnd.jupyter.widget-view+json": {
       "model_id": "d08d428acd6f4284b54e062176cbccc1",
       "version_major": 2,
       "version_minor": 0
      },
      "text/plain": [
       "  0%|          | 0/334 [00:00<?, ?it/s]"
      ]
     },
     "metadata": {},
     "output_type": "display_data"
    },
    {
     "name": "stdout",
     "output_type": "stream",
     "text": [
      "Train_loss: tensor(0.2988, device='cuda:0', grad_fn=<NllLossBackward0>)\n",
      "\n",
      "Attack success rate 0.87\n",
      "Test_loss: tensor(8.8497, device='cuda:0')\n",
      "\n",
      "Test clean Accuracy 87.88\n",
      "Test_loss: tensor(0.3032, device='cuda:0')\n",
      "\n",
      "Target test clean Accuracy 80.70\n",
      "Test_loss: tensor(0.4125, device='cuda:0')\n"
     ]
    },
    {
     "data": {
      "application/vnd.jupyter.widget-view+json": {
       "model_id": "8ee829b6671b4052a9d65b0a3306884a",
       "version_major": 2,
       "version_minor": 0
      },
      "text/plain": [
       "  0%|          | 0/334 [00:00<?, ?it/s]"
      ]
     },
     "metadata": {},
     "output_type": "display_data"
    },
    {
     "name": "stdout",
     "output_type": "stream",
     "text": [
      "Train_loss: tensor(0.2463, device='cuda:0', grad_fn=<NllLossBackward0>)\n",
      "\n",
      "Attack success rate 1.22\n",
      "Test_loss: tensor(9.7885, device='cuda:0')\n",
      "\n",
      "Test clean Accuracy 88.10\n",
      "Test_loss: tensor(0.2985, device='cuda:0')\n",
      "\n",
      "Target test clean Accuracy 85.30\n",
      "Test_loss: tensor(0.3431, device='cuda:0')\n"
     ]
    },
    {
     "data": {
      "application/vnd.jupyter.widget-view+json": {
       "model_id": "b74f0dd1cb5d4cd39b0f7f94d90a0ac7",
       "version_major": 2,
       "version_minor": 0
      },
      "text/plain": [
       "  0%|          | 0/334 [00:00<?, ?it/s]"
      ]
     },
     "metadata": {},
     "output_type": "display_data"
    },
    {
     "name": "stdout",
     "output_type": "stream",
     "text": [
      "Train_loss: tensor(0.3429, device='cuda:0', grad_fn=<NllLossBackward0>)\n",
      "\n",
      "Attack success rate 0.96\n",
      "Test_loss: tensor(9.4206, device='cuda:0')\n",
      "\n",
      "Test clean Accuracy 87.69\n",
      "Test_loss: tensor(0.4090, device='cuda:0')\n",
      "\n",
      "Target test clean Accuracy 83.80\n",
      "Test_loss: tensor(0.3884, device='cuda:0')\n"
     ]
    },
    {
     "data": {
      "application/vnd.jupyter.widget-view+json": {
       "model_id": "50e74fd72ba04b21a8cc8c78680b76fb",
       "version_major": 2,
       "version_minor": 0
      },
      "text/plain": [
       "  0%|          | 0/334 [00:00<?, ?it/s]"
      ]
     },
     "metadata": {},
     "output_type": "display_data"
    },
    {
     "name": "stdout",
     "output_type": "stream",
     "text": [
      "Train_loss: tensor(0.3853, device='cuda:0', grad_fn=<NllLossBackward0>)\n",
      "\n",
      "Attack success rate 4.16\n",
      "Test_loss: tensor(8.3794, device='cuda:0')\n",
      "\n",
      "Test clean Accuracy 86.82\n",
      "Test_loss: tensor(0.2673, device='cuda:0')\n",
      "\n",
      "Target test clean Accuracy 91.40\n",
      "Test_loss: tensor(0.3083, device='cuda:0')\n"
     ]
    },
    {
     "data": {
      "application/vnd.jupyter.widget-view+json": {
       "model_id": "d287b74280514142aecfd0e11d18d2c0",
       "version_major": 2,
       "version_minor": 0
      },
      "text/plain": [
       "  0%|          | 0/334 [00:00<?, ?it/s]"
      ]
     },
     "metadata": {},
     "output_type": "display_data"
    },
    {
     "name": "stdout",
     "output_type": "stream",
     "text": [
      "Train_loss: tensor(0.3000, device='cuda:0', grad_fn=<NllLossBackward0>)\n",
      "\n",
      "Attack success rate 0.99\n",
      "Test_loss: tensor(9.2079, device='cuda:0')\n",
      "\n",
      "Test clean Accuracy 87.02\n",
      "Test_loss: tensor(0.4335, device='cuda:0')\n",
      "\n",
      "Target test clean Accuracy 78.20\n",
      "Test_loss: tensor(0.6901, device='cuda:0')\n"
     ]
    },
    {
     "data": {
      "application/vnd.jupyter.widget-view+json": {
       "model_id": "65de0f6fb2a8479ebdb9d31378ad4175",
       "version_major": 2,
       "version_minor": 0
      },
      "text/plain": [
       "  0%|          | 0/334 [00:00<?, ?it/s]"
      ]
     },
     "metadata": {},
     "output_type": "display_data"
    },
    {
     "name": "stdout",
     "output_type": "stream",
     "text": [
      "Train_loss: tensor(0.3982, device='cuda:0', grad_fn=<NllLossBackward0>)\n",
      "\n",
      "Attack success rate 4.07\n",
      "Test_loss: tensor(8.8090, device='cuda:0')\n",
      "\n",
      "Test clean Accuracy 87.04\n",
      "Test_loss: tensor(0.3016, device='cuda:0')\n",
      "\n",
      "Target test clean Accuracy 92.40\n",
      "Test_loss: tensor(0.2445, device='cuda:0')\n"
     ]
    },
    {
     "data": {
      "application/vnd.jupyter.widget-view+json": {
       "model_id": "e7892c2b6f5a44f4922208a3c7f532bc",
       "version_major": 2,
       "version_minor": 0
      },
      "text/plain": [
       "  0%|          | 0/334 [00:00<?, ?it/s]"
      ]
     },
     "metadata": {},
     "output_type": "display_data"
    },
    {
     "name": "stdout",
     "output_type": "stream",
     "text": [
      "Train_loss: tensor(0.1699, device='cuda:0', grad_fn=<NllLossBackward0>)\n",
      "\n",
      "Attack success rate 1.08\n",
      "Test_loss: tensor(9.2554, device='cuda:0')\n",
      "\n",
      "Test clean Accuracy 87.21\n",
      "Test_loss: tensor(0.3312, device='cuda:0')\n",
      "\n",
      "Target test clean Accuracy 81.80\n",
      "Test_loss: tensor(0.5608, device='cuda:0')\n"
     ]
    },
    {
     "data": {
      "application/vnd.jupyter.widget-view+json": {
       "model_id": "903b0ed5b56b48c6a709216b083d52b1",
       "version_major": 2,
       "version_minor": 0
      },
      "text/plain": [
       "  0%|          | 0/334 [00:00<?, ?it/s]"
      ]
     },
     "metadata": {},
     "output_type": "display_data"
    },
    {
     "name": "stdout",
     "output_type": "stream",
     "text": [
      "Train_loss: tensor(0.1605, device='cuda:0', grad_fn=<NllLossBackward0>)\n",
      "\n",
      "Attack success rate 1.67\n",
      "Test_loss: tensor(8.7279, device='cuda:0')\n",
      "\n",
      "Test clean Accuracy 87.34\n",
      "Test_loss: tensor(0.2879, device='cuda:0')\n",
      "\n",
      "Target test clean Accuracy 85.30\n",
      "Test_loss: tensor(0.3302, device='cuda:0')\n"
     ]
    },
    {
     "data": {
      "application/vnd.jupyter.widget-view+json": {
       "model_id": "69d67314a8f24cdcbd9081fbf904cee7",
       "version_major": 2,
       "version_minor": 0
      },
      "text/plain": [
       "  0%|          | 0/334 [00:00<?, ?it/s]"
      ]
     },
     "metadata": {},
     "output_type": "display_data"
    },
    {
     "name": "stdout",
     "output_type": "stream",
     "text": [
      "Train_loss: tensor(0.1328, device='cuda:0', grad_fn=<NllLossBackward0>)\n",
      "\n",
      "Attack success rate 0.83\n",
      "Test_loss: tensor(9.3564, device='cuda:0')\n",
      "\n",
      "Test clean Accuracy 87.38\n",
      "Test_loss: tensor(0.4124, device='cuda:0')\n",
      "\n",
      "Target test clean Accuracy 78.50\n",
      "Test_loss: tensor(0.8352, device='cuda:0')\n"
     ]
    },
    {
     "data": {
      "application/vnd.jupyter.widget-view+json": {
       "model_id": "9d6672ba3dab492899604068a46b2e5f",
       "version_major": 2,
       "version_minor": 0
      },
      "text/plain": [
       "  0%|          | 0/334 [00:00<?, ?it/s]"
      ]
     },
     "metadata": {},
     "output_type": "display_data"
    },
    {
     "name": "stdout",
     "output_type": "stream",
     "text": [
      "Train_loss: tensor(0.1910, device='cuda:0', grad_fn=<NllLossBackward0>)\n",
      "\n",
      "Attack success rate 0.97\n",
      "Test_loss: tensor(9.4249, device='cuda:0')\n",
      "\n",
      "Test clean Accuracy 87.18\n",
      "Test_loss: tensor(0.2867, device='cuda:0')\n",
      "\n",
      "Target test clean Accuracy 82.50\n",
      "Test_loss: tensor(0.4685, device='cuda:0')\n"
     ]
    },
    {
     "data": {
      "application/vnd.jupyter.widget-view+json": {
       "model_id": "3fe24f40363b486ca76e19c7bf588cc3",
       "version_major": 2,
       "version_minor": 0
      },
      "text/plain": [
       "  0%|          | 0/334 [00:00<?, ?it/s]"
      ]
     },
     "metadata": {},
     "output_type": "display_data"
    },
    {
     "name": "stdout",
     "output_type": "stream",
     "text": [
      "Train_loss: tensor(0.3236, device='cuda:0', grad_fn=<NllLossBackward0>)\n",
      "\n",
      "Attack success rate 1.24\n",
      "Test_loss: tensor(9.4454, device='cuda:0')\n",
      "\n",
      "Test clean Accuracy 86.67\n",
      "Test_loss: tensor(0.4026, device='cuda:0')\n",
      "\n",
      "Target test clean Accuracy 81.80\n",
      "Test_loss: tensor(0.6037, device='cuda:0')\n"
     ]
    },
    {
     "data": {
      "application/vnd.jupyter.widget-view+json": {
       "model_id": "964cda14d52c4385b86fdc65fef89b34",
       "version_major": 2,
       "version_minor": 0
      },
      "text/plain": [
       "  0%|          | 0/334 [00:00<?, ?it/s]"
      ]
     },
     "metadata": {},
     "output_type": "display_data"
    },
    {
     "name": "stdout",
     "output_type": "stream",
     "text": [
      "Train_loss: tensor(0.4593, device='cuda:0', grad_fn=<NllLossBackward0>)\n",
      "\n",
      "Attack success rate 1.09\n",
      "Test_loss: tensor(8.6532, device='cuda:0')\n",
      "\n",
      "Test clean Accuracy 88.82\n",
      "Test_loss: tensor(0.3254, device='cuda:0')\n",
      "\n",
      "Target test clean Accuracy 86.70\n",
      "Test_loss: tensor(0.5845, device='cuda:0')\n"
     ]
    },
    {
     "data": {
      "application/vnd.jupyter.widget-view+json": {
       "model_id": "91b5b60bd4b04665b99afd8fb0018eea",
       "version_major": 2,
       "version_minor": 0
      },
      "text/plain": [
       "  0%|          | 0/334 [00:00<?, ?it/s]"
      ]
     },
     "metadata": {},
     "output_type": "display_data"
    },
    {
     "name": "stdout",
     "output_type": "stream",
     "text": [
      "Train_loss: tensor(0.1859, device='cuda:0', grad_fn=<NllLossBackward0>)\n",
      "\n",
      "Attack success rate 4.06\n",
      "Test_loss: tensor(7.4535, device='cuda:0')\n",
      "\n",
      "Test clean Accuracy 86.19\n",
      "Test_loss: tensor(0.5204, device='cuda:0')\n",
      "\n",
      "Target test clean Accuracy 90.90\n",
      "Test_loss: tensor(0.3364, device='cuda:0')\n"
     ]
    },
    {
     "data": {
      "application/vnd.jupyter.widget-view+json": {
       "model_id": "0584fe7a79634389a3e3a1190abac4bb",
       "version_major": 2,
       "version_minor": 0
      },
      "text/plain": [
       "  0%|          | 0/334 [00:00<?, ?it/s]"
      ]
     },
     "metadata": {},
     "output_type": "display_data"
    },
    {
     "name": "stdout",
     "output_type": "stream",
     "text": [
      "Train_loss: tensor(0.1458, device='cuda:0', grad_fn=<NllLossBackward0>)\n",
      "\n",
      "Attack success rate 1.87\n",
      "Test_loss: tensor(8.8829, device='cuda:0')\n",
      "\n",
      "Test clean Accuracy 89.12\n",
      "Test_loss: tensor(0.2991, device='cuda:0')\n",
      "\n",
      "Target test clean Accuracy 89.80\n",
      "Test_loss: tensor(0.3337, device='cuda:0')\n"
     ]
    },
    {
     "data": {
      "application/vnd.jupyter.widget-view+json": {
       "model_id": "946251254ff14d50aee9fa049060fb02",
       "version_major": 2,
       "version_minor": 0
      },
      "text/plain": [
       "  0%|          | 0/334 [00:00<?, ?it/s]"
      ]
     },
     "metadata": {},
     "output_type": "display_data"
    },
    {
     "name": "stdout",
     "output_type": "stream",
     "text": [
      "Train_loss: tensor(0.1335, device='cuda:0', grad_fn=<NllLossBackward0>)\n",
      "\n",
      "Attack success rate 1.41\n",
      "Test_loss: tensor(9.3022, device='cuda:0')\n",
      "\n",
      "Test clean Accuracy 85.33\n",
      "Test_loss: tensor(0.4019, device='cuda:0')\n",
      "\n",
      "Target test clean Accuracy 81.30\n",
      "Test_loss: tensor(0.8564, device='cuda:0')\n"
     ]
    },
    {
     "data": {
      "application/vnd.jupyter.widget-view+json": {
       "model_id": "05cb66aa85874dfc8caa0ee8967a57ee",
       "version_major": 2,
       "version_minor": 0
      },
      "text/plain": [
       "  0%|          | 0/334 [00:00<?, ?it/s]"
      ]
     },
     "metadata": {},
     "output_type": "display_data"
    },
    {
     "name": "stdout",
     "output_type": "stream",
     "text": [
      "Train_loss: tensor(0.2536, device='cuda:0', grad_fn=<NllLossBackward0>)\n",
      "\n",
      "Attack success rate 1.10\n",
      "Test_loss: tensor(9.1092, device='cuda:0')\n",
      "\n",
      "Test clean Accuracy 82.51\n",
      "Test_loss: tensor(0.3348, device='cuda:0')\n",
      "\n",
      "Target test clean Accuracy 77.20\n",
      "Test_loss: tensor(0.6655, device='cuda:0')\n"
     ]
    },
    {
     "data": {
      "application/vnd.jupyter.widget-view+json": {
       "model_id": "0346618213394569b9aa8e4c2bce6da8",
       "version_major": 2,
       "version_minor": 0
      },
      "text/plain": [
       "  0%|          | 0/334 [00:00<?, ?it/s]"
      ]
     },
     "metadata": {},
     "output_type": "display_data"
    },
    {
     "name": "stdout",
     "output_type": "stream",
     "text": [
      "Train_loss: tensor(0.2905, device='cuda:0', grad_fn=<NllLossBackward0>)\n",
      "\n",
      "Attack success rate 1.97\n",
      "Test_loss: tensor(8.9362, device='cuda:0')\n",
      "\n",
      "Test clean Accuracy 88.27\n",
      "Test_loss: tensor(0.3624, device='cuda:0')\n",
      "\n",
      "Target test clean Accuracy 88.60\n",
      "Test_loss: tensor(0.3680, device='cuda:0')\n"
     ]
    },
    {
     "data": {
      "application/vnd.jupyter.widget-view+json": {
       "model_id": "3b0e74e37e9242caa6874319ce854779",
       "version_major": 2,
       "version_minor": 0
      },
      "text/plain": [
       "  0%|          | 0/334 [00:00<?, ?it/s]"
      ]
     },
     "metadata": {},
     "output_type": "display_data"
    },
    {
     "name": "stdout",
     "output_type": "stream",
     "text": [
      "Train_loss: tensor(0.1861, device='cuda:0', grad_fn=<NllLossBackward0>)\n",
      "\n",
      "Attack success rate 0.78\n",
      "Test_loss: tensor(9.2205, device='cuda:0')\n",
      "\n",
      "Test clean Accuracy 89.19\n",
      "Test_loss: tensor(0.1758, device='cuda:0')\n",
      "\n",
      "Target test clean Accuracy 83.10\n",
      "Test_loss: tensor(0.3932, device='cuda:0')\n"
     ]
    },
    {
     "data": {
      "application/vnd.jupyter.widget-view+json": {
       "model_id": "6b3dc7c43ada40c097cff44fcb1a8641",
       "version_major": 2,
       "version_minor": 0
      },
      "text/plain": [
       "  0%|          | 0/334 [00:00<?, ?it/s]"
      ]
     },
     "metadata": {},
     "output_type": "display_data"
    },
    {
     "name": "stdout",
     "output_type": "stream",
     "text": [
      "Train_loss: tensor(0.2590, device='cuda:0', grad_fn=<NllLossBackward0>)\n",
      "\n",
      "Attack success rate 2.11\n",
      "Test_loss: tensor(9.3555, device='cuda:0')\n",
      "\n",
      "Test clean Accuracy 86.82\n",
      "Test_loss: tensor(0.2850, device='cuda:0')\n",
      "\n",
      "Target test clean Accuracy 80.70\n",
      "Test_loss: tensor(0.5379, device='cuda:0')\n"
     ]
    },
    {
     "data": {
      "application/vnd.jupyter.widget-view+json": {
       "model_id": "53703be5ca814c0494b4438f50e73817",
       "version_major": 2,
       "version_minor": 0
      },
      "text/plain": [
       "  0%|          | 0/334 [00:00<?, ?it/s]"
      ]
     },
     "metadata": {},
     "output_type": "display_data"
    },
    {
     "name": "stdout",
     "output_type": "stream",
     "text": [
      "Train_loss: tensor(0.2888, device='cuda:0', grad_fn=<NllLossBackward0>)\n",
      "\n",
      "Attack success rate 1.94\n",
      "Test_loss: tensor(8.4385, device='cuda:0')\n",
      "\n",
      "Test clean Accuracy 89.39\n",
      "Test_loss: tensor(0.2271, device='cuda:0')\n",
      "\n",
      "Target test clean Accuracy 89.50\n",
      "Test_loss: tensor(0.4062, device='cuda:0')\n"
     ]
    },
    {
     "data": {
      "application/vnd.jupyter.widget-view+json": {
       "model_id": "21eebe4347b74e7cabd061ed5022b0bc",
       "version_major": 2,
       "version_minor": 0
      },
      "text/plain": [
       "  0%|          | 0/334 [00:00<?, ?it/s]"
      ]
     },
     "metadata": {},
     "output_type": "display_data"
    },
    {
     "name": "stdout",
     "output_type": "stream",
     "text": [
      "Train_loss: tensor(0.3266, device='cuda:0', grad_fn=<NllLossBackward0>)\n",
      "\n",
      "Attack success rate 1.03\n",
      "Test_loss: tensor(9.1700, device='cuda:0')\n",
      "\n",
      "Test clean Accuracy 88.54\n",
      "Test_loss: tensor(0.3176, device='cuda:0')\n",
      "\n",
      "Target test clean Accuracy 83.70\n",
      "Test_loss: tensor(0.5661, device='cuda:0')\n"
     ]
    },
    {
     "data": {
      "application/vnd.jupyter.widget-view+json": {
       "model_id": "e68438122f004470bf2e93db82c10f71",
       "version_major": 2,
       "version_minor": 0
      },
      "text/plain": [
       "  0%|          | 0/334 [00:00<?, ?it/s]"
      ]
     },
     "metadata": {},
     "output_type": "display_data"
    },
    {
     "name": "stdout",
     "output_type": "stream",
     "text": [
      "Train_loss: tensor(0.2788, device='cuda:0', grad_fn=<NllLossBackward0>)\n",
      "\n",
      "Attack success rate 1.84\n",
      "Test_loss: tensor(9.5514, device='cuda:0')\n",
      "\n",
      "Test clean Accuracy 89.30\n",
      "Test_loss: tensor(0.2958, device='cuda:0')\n",
      "\n",
      "Target test clean Accuracy 88.40\n",
      "Test_loss: tensor(0.2386, device='cuda:0')\n"
     ]
    },
    {
     "data": {
      "application/vnd.jupyter.widget-view+json": {
       "model_id": "153bc42975fb4ffca812920e485e724a",
       "version_major": 2,
       "version_minor": 0
      },
      "text/plain": [
       "  0%|          | 0/334 [00:00<?, ?it/s]"
      ]
     },
     "metadata": {},
     "output_type": "display_data"
    },
    {
     "name": "stdout",
     "output_type": "stream",
     "text": [
      "Train_loss: tensor(0.1159, device='cuda:0', grad_fn=<NllLossBackward0>)\n",
      "\n",
      "Attack success rate 0.91\n",
      "Test_loss: tensor(9.4063, device='cuda:0')\n",
      "\n",
      "Test clean Accuracy 88.30\n",
      "Test_loss: tensor(0.1812, device='cuda:0')\n",
      "\n",
      "Target test clean Accuracy 81.90\n",
      "Test_loss: tensor(0.3453, device='cuda:0')\n"
     ]
    },
    {
     "data": {
      "application/vnd.jupyter.widget-view+json": {
       "model_id": "31d0204179134847b1abf53324e60fbf",
       "version_major": 2,
       "version_minor": 0
      },
      "text/plain": [
       "  0%|          | 0/334 [00:00<?, ?it/s]"
      ]
     },
     "metadata": {},
     "output_type": "display_data"
    },
    {
     "name": "stdout",
     "output_type": "stream",
     "text": [
      "Train_loss: tensor(0.2564, device='cuda:0', grad_fn=<NllLossBackward0>)\n",
      "\n",
      "Attack success rate 1.11\n",
      "Test_loss: tensor(9.0178, device='cuda:0')\n",
      "\n",
      "Test clean Accuracy 89.51\n",
      "Test_loss: tensor(0.2634, device='cuda:0')\n",
      "\n",
      "Target test clean Accuracy 87.50\n",
      "Test_loss: tensor(0.3346, device='cuda:0')\n"
     ]
    },
    {
     "data": {
      "application/vnd.jupyter.widget-view+json": {
       "model_id": "76230d77c4854bdc97e54f66d1934086",
       "version_major": 2,
       "version_minor": 0
      },
      "text/plain": [
       "  0%|          | 0/334 [00:00<?, ?it/s]"
      ]
     },
     "metadata": {},
     "output_type": "display_data"
    },
    {
     "name": "stdout",
     "output_type": "stream",
     "text": [
      "Train_loss: tensor(0.1090, device='cuda:0', grad_fn=<NllLossBackward0>)\n",
      "\n",
      "Attack success rate 3.47\n",
      "Test_loss: tensor(8.1769, device='cuda:0')\n",
      "\n",
      "Test clean Accuracy 88.03\n",
      "Test_loss: tensor(0.2996, device='cuda:0')\n",
      "\n",
      "Target test clean Accuracy 89.90\n",
      "Test_loss: tensor(0.2626, device='cuda:0')\n"
     ]
    },
    {
     "data": {
      "application/vnd.jupyter.widget-view+json": {
       "model_id": "add4d9e62b904aeb92ffd7050422d962",
       "version_major": 2,
       "version_minor": 0
      },
      "text/plain": [
       "  0%|          | 0/334 [00:00<?, ?it/s]"
      ]
     },
     "metadata": {},
     "output_type": "display_data"
    },
    {
     "name": "stdout",
     "output_type": "stream",
     "text": [
      "Train_loss: tensor(0.1292, device='cuda:0', grad_fn=<NllLossBackward0>)\n",
      "\n",
      "Attack success rate 0.93\n",
      "Test_loss: tensor(10.3389, device='cuda:0')\n",
      "\n",
      "Test clean Accuracy 87.62\n",
      "Test_loss: tensor(0.3767, device='cuda:0')\n",
      "\n",
      "Target test clean Accuracy 82.70\n",
      "Test_loss: tensor(0.8349, device='cuda:0')\n"
     ]
    },
    {
     "data": {
      "application/vnd.jupyter.widget-view+json": {
       "model_id": "e6dcfe57da024484b59cfcc3b84c1af9",
       "version_major": 2,
       "version_minor": 0
      },
      "text/plain": [
       "  0%|          | 0/334 [00:00<?, ?it/s]"
      ]
     },
     "metadata": {},
     "output_type": "display_data"
    },
    {
     "name": "stdout",
     "output_type": "stream",
     "text": [
      "Train_loss: tensor(0.1059, device='cuda:0', grad_fn=<NllLossBackward0>)\n",
      "\n",
      "Attack success rate 0.98\n",
      "Test_loss: tensor(9.6374, device='cuda:0')\n",
      "\n",
      "Test clean Accuracy 89.52\n",
      "Test_loss: tensor(0.1975, device='cuda:0')\n",
      "\n",
      "Target test clean Accuracy 84.60\n",
      "Test_loss: tensor(0.4969, device='cuda:0')\n"
     ]
    },
    {
     "data": {
      "application/vnd.jupyter.widget-view+json": {
       "model_id": "a10cf156c2854ec8bff90bac5b993ddc",
       "version_major": 2,
       "version_minor": 0
      },
      "text/plain": [
       "  0%|          | 0/334 [00:00<?, ?it/s]"
      ]
     },
     "metadata": {},
     "output_type": "display_data"
    },
    {
     "name": "stdout",
     "output_type": "stream",
     "text": [
      "Train_loss: tensor(0.1483, device='cuda:0', grad_fn=<NllLossBackward0>)\n",
      "\n",
      "Attack success rate 1.01\n",
      "Test_loss: tensor(10.1151, device='cuda:0')\n",
      "\n",
      "Test clean Accuracy 85.47\n",
      "Test_loss: tensor(0.4755, device='cuda:0')\n",
      "\n",
      "Target test clean Accuracy 80.70\n",
      "Test_loss: tensor(0.8026, device='cuda:0')\n"
     ]
    },
    {
     "data": {
      "application/vnd.jupyter.widget-view+json": {
       "model_id": "48ed31e24bf441869ce954dde1e7a070",
       "version_major": 2,
       "version_minor": 0
      },
      "text/plain": [
       "  0%|          | 0/334 [00:00<?, ?it/s]"
      ]
     },
     "metadata": {},
     "output_type": "display_data"
    },
    {
     "name": "stdout",
     "output_type": "stream",
     "text": [
      "Train_loss: tensor(0.1411, device='cuda:0', grad_fn=<NllLossBackward0>)\n",
      "\n",
      "Attack success rate 1.01\n",
      "Test_loss: tensor(9.2419, device='cuda:0')\n",
      "\n",
      "Test clean Accuracy 89.19\n",
      "Test_loss: tensor(0.3051, device='cuda:0')\n",
      "\n",
      "Target test clean Accuracy 86.90\n",
      "Test_loss: tensor(0.4071, device='cuda:0')\n"
     ]
    },
    {
     "data": {
      "application/vnd.jupyter.widget-view+json": {
       "model_id": "89c62ae74b0f4c2fbd81b7e149b2e662",
       "version_major": 2,
       "version_minor": 0
      },
      "text/plain": [
       "  0%|          | 0/334 [00:00<?, ?it/s]"
      ]
     },
     "metadata": {},
     "output_type": "display_data"
    },
    {
     "name": "stdout",
     "output_type": "stream",
     "text": [
      "Train_loss: tensor(0.2472, device='cuda:0', grad_fn=<NllLossBackward0>)\n",
      "\n",
      "Attack success rate 3.29\n",
      "Test_loss: tensor(8.9502, device='cuda:0')\n",
      "\n",
      "Test clean Accuracy 88.57\n",
      "Test_loss: tensor(0.3615, device='cuda:0')\n",
      "\n",
      "Target test clean Accuracy 89.40\n",
      "Test_loss: tensor(0.3649, device='cuda:0')\n"
     ]
    },
    {
     "data": {
      "application/vnd.jupyter.widget-view+json": {
       "model_id": "3d4443d72dc24c72970b2d2104dc4aee",
       "version_major": 2,
       "version_minor": 0
      },
      "text/plain": [
       "  0%|          | 0/334 [00:00<?, ?it/s]"
      ]
     },
     "metadata": {},
     "output_type": "display_data"
    },
    {
     "name": "stdout",
     "output_type": "stream",
     "text": [
      "Train_loss: tensor(0.2409, device='cuda:0', grad_fn=<NllLossBackward0>)\n",
      "\n",
      "Attack success rate 0.79\n",
      "Test_loss: tensor(9.5557, device='cuda:0')\n",
      "\n",
      "Test clean Accuracy 90.61\n",
      "Test_loss: tensor(0.3080, device='cuda:0')\n",
      "\n",
      "Target test clean Accuracy 82.60\n",
      "Test_loss: tensor(0.5006, device='cuda:0')\n"
     ]
    },
    {
     "data": {
      "application/vnd.jupyter.widget-view+json": {
       "model_id": "6b32bfce724740c8b6deadd1a37761fe",
       "version_major": 2,
       "version_minor": 0
      },
      "text/plain": [
       "  0%|          | 0/334 [00:00<?, ?it/s]"
      ]
     },
     "metadata": {},
     "output_type": "display_data"
    },
    {
     "name": "stdout",
     "output_type": "stream",
     "text": [
      "Train_loss: tensor(0.1219, device='cuda:0', grad_fn=<NllLossBackward0>)\n",
      "\n",
      "Attack success rate 0.72\n",
      "Test_loss: tensor(10.1842, device='cuda:0')\n",
      "\n",
      "Test clean Accuracy 87.18\n",
      "Test_loss: tensor(0.4286, device='cuda:0')\n",
      "\n",
      "Target test clean Accuracy 79.50\n",
      "Test_loss: tensor(0.6951, device='cuda:0')\n"
     ]
    },
    {
     "data": {
      "application/vnd.jupyter.widget-view+json": {
       "model_id": "d86e875819474cbdaaf714114fc272ba",
       "version_major": 2,
       "version_minor": 0
      },
      "text/plain": [
       "  0%|          | 0/334 [00:00<?, ?it/s]"
      ]
     },
     "metadata": {},
     "output_type": "display_data"
    },
    {
     "name": "stdout",
     "output_type": "stream",
     "text": [
      "Train_loss: tensor(0.1300, device='cuda:0', grad_fn=<NllLossBackward0>)\n",
      "\n",
      "Attack success rate 2.19\n",
      "Test_loss: tensor(10.1583, device='cuda:0')\n",
      "\n",
      "Test clean Accuracy 88.85\n",
      "Test_loss: tensor(0.2323, device='cuda:0')\n",
      "\n",
      "Target test clean Accuracy 89.40\n",
      "Test_loss: tensor(0.2629, device='cuda:0')\n"
     ]
    },
    {
     "data": {
      "application/vnd.jupyter.widget-view+json": {
       "model_id": "cd7c15a2b92548f3b6382f81bd0dc318",
       "version_major": 2,
       "version_minor": 0
      },
      "text/plain": [
       "  0%|          | 0/334 [00:00<?, ?it/s]"
      ]
     },
     "metadata": {},
     "output_type": "display_data"
    },
    {
     "name": "stdout",
     "output_type": "stream",
     "text": [
      "Train_loss: tensor(0.0912, device='cuda:0', grad_fn=<NllLossBackward0>)\n",
      "\n",
      "Attack success rate 3.44\n",
      "Test_loss: tensor(8.2638, device='cuda:0')\n",
      "\n",
      "Test clean Accuracy 87.61\n",
      "Test_loss: tensor(0.3268, device='cuda:0')\n",
      "\n",
      "Target test clean Accuracy 92.30\n",
      "Test_loss: tensor(0.3998, device='cuda:0')\n"
     ]
    },
    {
     "data": {
      "application/vnd.jupyter.widget-view+json": {
       "model_id": "e295928e7fce422485b6ae78b139277f",
       "version_major": 2,
       "version_minor": 0
      },
      "text/plain": [
       "  0%|          | 0/334 [00:00<?, ?it/s]"
      ]
     },
     "metadata": {},
     "output_type": "display_data"
    },
    {
     "name": "stdout",
     "output_type": "stream",
     "text": [
      "Train_loss: tensor(0.2146, device='cuda:0', grad_fn=<NllLossBackward0>)\n",
      "\n",
      "Attack success rate 2.34\n",
      "Test_loss: tensor(8.3963, device='cuda:0')\n",
      "\n",
      "Test clean Accuracy 89.61\n",
      "Test_loss: tensor(0.2391, device='cuda:0')\n",
      "\n",
      "Target test clean Accuracy 90.20\n",
      "Test_loss: tensor(0.2357, device='cuda:0')\n"
     ]
    },
    {
     "data": {
      "application/vnd.jupyter.widget-view+json": {
       "model_id": "25cb7cab8f8c4c718292b53e686d69c0",
       "version_major": 2,
       "version_minor": 0
      },
      "text/plain": [
       "  0%|          | 0/334 [00:00<?, ?it/s]"
      ]
     },
     "metadata": {},
     "output_type": "display_data"
    },
    {
     "name": "stdout",
     "output_type": "stream",
     "text": [
      "Train_loss: tensor(0.1108, device='cuda:0', grad_fn=<NllLossBackward0>)\n",
      "\n",
      "Attack success rate 1.77\n",
      "Test_loss: tensor(8.9286, device='cuda:0')\n",
      "\n",
      "Test clean Accuracy 90.04\n",
      "Test_loss: tensor(0.2124, device='cuda:0')\n",
      "\n",
      "Target test clean Accuracy 89.70\n",
      "Test_loss: tensor(0.2084, device='cuda:0')\n"
     ]
    },
    {
     "data": {
      "application/vnd.jupyter.widget-view+json": {
       "model_id": "f4d34e8e80e74187b65b780c4c0003e2",
       "version_major": 2,
       "version_minor": 0
      },
      "text/plain": [
       "  0%|          | 0/334 [00:00<?, ?it/s]"
      ]
     },
     "metadata": {},
     "output_type": "display_data"
    },
    {
     "name": "stdout",
     "output_type": "stream",
     "text": [
      "Train_loss: tensor(0.1812, device='cuda:0', grad_fn=<NllLossBackward0>)\n",
      "\n",
      "Attack success rate 1.48\n",
      "Test_loss: tensor(9.3698, device='cuda:0')\n",
      "\n",
      "Test clean Accuracy 89.29\n",
      "Test_loss: tensor(0.2743, device='cuda:0')\n",
      "\n",
      "Target test clean Accuracy 87.30\n",
      "Test_loss: tensor(0.5195, device='cuda:0')\n"
     ]
    },
    {
     "data": {
      "application/vnd.jupyter.widget-view+json": {
       "model_id": "b936612d418342af99608ef7f384eb5d",
       "version_major": 2,
       "version_minor": 0
      },
      "text/plain": [
       "  0%|          | 0/334 [00:00<?, ?it/s]"
      ]
     },
     "metadata": {},
     "output_type": "display_data"
    },
    {
     "name": "stdout",
     "output_type": "stream",
     "text": [
      "Train_loss: tensor(0.0464, device='cuda:0', grad_fn=<NllLossBackward0>)\n",
      "\n",
      "Attack success rate 1.39\n",
      "Test_loss: tensor(9.9514, device='cuda:0')\n",
      "\n",
      "Test clean Accuracy 90.33\n",
      "Test_loss: tensor(0.2484, device='cuda:0')\n",
      "\n",
      "Target test clean Accuracy 88.90\n",
      "Test_loss: tensor(0.4012, device='cuda:0')\n"
     ]
    },
    {
     "data": {
      "application/vnd.jupyter.widget-view+json": {
       "model_id": "76f32ee940e54658b71c9969c68bc1c6",
       "version_major": 2,
       "version_minor": 0
      },
      "text/plain": [
       "  0%|          | 0/334 [00:00<?, ?it/s]"
      ]
     },
     "metadata": {},
     "output_type": "display_data"
    },
    {
     "name": "stdout",
     "output_type": "stream",
     "text": [
      "Train_loss: tensor(0.1372, device='cuda:0', grad_fn=<NllLossBackward0>)\n",
      "\n",
      "Attack success rate 1.97\n",
      "Test_loss: tensor(8.8075, device='cuda:0')\n",
      "\n",
      "Test clean Accuracy 90.51\n",
      "Test_loss: tensor(0.1632, device='cuda:0')\n",
      "\n",
      "Target test clean Accuracy 91.10\n",
      "Test_loss: tensor(0.2251, device='cuda:0')\n"
     ]
    },
    {
     "data": {
      "application/vnd.jupyter.widget-view+json": {
       "model_id": "7a96f5d470264cf8bd2c3e11a55bf081",
       "version_major": 2,
       "version_minor": 0
      },
      "text/plain": [
       "  0%|          | 0/334 [00:00<?, ?it/s]"
      ]
     },
     "metadata": {},
     "output_type": "display_data"
    },
    {
     "name": "stdout",
     "output_type": "stream",
     "text": [
      "Train_loss: tensor(0.1973, device='cuda:0', grad_fn=<NllLossBackward0>)\n",
      "\n",
      "Attack success rate 1.57\n",
      "Test_loss: tensor(9.0505, device='cuda:0')\n",
      "\n",
      "Test clean Accuracy 89.02\n",
      "Test_loss: tensor(0.3035, device='cuda:0')\n",
      "\n",
      "Target test clean Accuracy 86.90\n",
      "Test_loss: tensor(0.4978, device='cuda:0')\n"
     ]
    },
    {
     "data": {
      "application/vnd.jupyter.widget-view+json": {
       "model_id": "b71b4c0eeaf74249b64fc793eb900dd0",
       "version_major": 2,
       "version_minor": 0
      },
      "text/plain": [
       "  0%|          | 0/334 [00:00<?, ?it/s]"
      ]
     },
     "metadata": {},
     "output_type": "display_data"
    },
    {
     "name": "stdout",
     "output_type": "stream",
     "text": [
      "Train_loss: tensor(0.2590, device='cuda:0', grad_fn=<NllLossBackward0>)\n",
      "\n",
      "Attack success rate 1.80\n",
      "Test_loss: tensor(9.4610, device='cuda:0')\n",
      "\n",
      "Test clean Accuracy 90.52\n",
      "Test_loss: tensor(0.3216, device='cuda:0')\n",
      "\n",
      "Target test clean Accuracy 90.90\n",
      "Test_loss: tensor(0.3573, device='cuda:0')\n"
     ]
    },
    {
     "data": {
      "application/vnd.jupyter.widget-view+json": {
       "model_id": "b85bd856fd1e44c3ab5e78d1e4ed840d",
       "version_major": 2,
       "version_minor": 0
      },
      "text/plain": [
       "  0%|          | 0/334 [00:00<?, ?it/s]"
      ]
     },
     "metadata": {},
     "output_type": "display_data"
    },
    {
     "name": "stdout",
     "output_type": "stream",
     "text": [
      "Train_loss: tensor(0.1274, device='cuda:0', grad_fn=<NllLossBackward0>)\n",
      "\n",
      "Attack success rate 0.63\n",
      "Test_loss: tensor(9.9046, device='cuda:0')\n",
      "\n",
      "Test clean Accuracy 87.64\n",
      "Test_loss: tensor(0.3263, device='cuda:0')\n",
      "\n",
      "Target test clean Accuracy 77.80\n",
      "Test_loss: tensor(0.7242, device='cuda:0')\n"
     ]
    },
    {
     "data": {
      "application/vnd.jupyter.widget-view+json": {
       "model_id": "437286f6371d470b8e12fd59cb6849bd",
       "version_major": 2,
       "version_minor": 0
      },
      "text/plain": [
       "  0%|          | 0/334 [00:00<?, ?it/s]"
      ]
     },
     "metadata": {},
     "output_type": "display_data"
    },
    {
     "name": "stdout",
     "output_type": "stream",
     "text": [
      "Train_loss: tensor(0.0889, device='cuda:0', grad_fn=<NllLossBackward0>)\n",
      "\n",
      "Attack success rate 1.16\n",
      "Test_loss: tensor(9.3707, device='cuda:0')\n",
      "\n",
      "Test clean Accuracy 91.62\n",
      "Test_loss: tensor(0.1675, device='cuda:0')\n",
      "\n",
      "Target test clean Accuracy 90.30\n",
      "Test_loss: tensor(0.2799, device='cuda:0')\n"
     ]
    },
    {
     "data": {
      "application/vnd.jupyter.widget-view+json": {
       "model_id": "720be19d1c9a4747a78ef082fc10f319",
       "version_major": 2,
       "version_minor": 0
      },
      "text/plain": [
       "  0%|          | 0/334 [00:00<?, ?it/s]"
      ]
     },
     "metadata": {},
     "output_type": "display_data"
    },
    {
     "name": "stdout",
     "output_type": "stream",
     "text": [
      "Train_loss: tensor(0.1092, device='cuda:0', grad_fn=<NllLossBackward0>)\n",
      "\n",
      "Attack success rate 0.81\n",
      "Test_loss: tensor(10.1421, device='cuda:0')\n",
      "\n",
      "Test clean Accuracy 90.21\n",
      "Test_loss: tensor(0.3592, device='cuda:0')\n",
      "\n",
      "Target test clean Accuracy 87.00\n",
      "Test_loss: tensor(0.5433, device='cuda:0')\n"
     ]
    },
    {
     "data": {
      "application/vnd.jupyter.widget-view+json": {
       "model_id": "babdb11c9fc14c9d8b7fdf3a755a2a70",
       "version_major": 2,
       "version_minor": 0
      },
      "text/plain": [
       "  0%|          | 0/334 [00:00<?, ?it/s]"
      ]
     },
     "metadata": {},
     "output_type": "display_data"
    },
    {
     "name": "stdout",
     "output_type": "stream",
     "text": [
      "Train_loss: tensor(0.1203, device='cuda:0', grad_fn=<NllLossBackward0>)\n",
      "\n",
      "Attack success rate 0.46\n",
      "Test_loss: tensor(9.6754, device='cuda:0')\n",
      "\n",
      "Test clean Accuracy 89.56\n",
      "Test_loss: tensor(0.3211, device='cuda:0')\n",
      "\n",
      "Target test clean Accuracy 79.70\n",
      "Test_loss: tensor(0.6414, device='cuda:0')\n"
     ]
    },
    {
     "data": {
      "application/vnd.jupyter.widget-view+json": {
       "model_id": "8efe1ffdadcc4b85b674dce4c3d7506b",
       "version_major": 2,
       "version_minor": 0
      },
      "text/plain": [
       "  0%|          | 0/334 [00:00<?, ?it/s]"
      ]
     },
     "metadata": {},
     "output_type": "display_data"
    },
    {
     "name": "stdout",
     "output_type": "stream",
     "text": [
      "Train_loss: tensor(0.2098, device='cuda:0', grad_fn=<NllLossBackward0>)\n",
      "\n",
      "Attack success rate 2.48\n",
      "Test_loss: tensor(9.1746, device='cuda:0')\n",
      "\n",
      "Test clean Accuracy 90.52\n",
      "Test_loss: tensor(0.1872, device='cuda:0')\n",
      "\n",
      "Target test clean Accuracy 91.50\n",
      "Test_loss: tensor(0.3247, device='cuda:0')\n"
     ]
    },
    {
     "data": {
      "application/vnd.jupyter.widget-view+json": {
       "model_id": "4831637cae4348b0a93fba3ed82b6b51",
       "version_major": 2,
       "version_minor": 0
      },
      "text/plain": [
       "  0%|          | 0/334 [00:00<?, ?it/s]"
      ]
     },
     "metadata": {},
     "output_type": "display_data"
    },
    {
     "name": "stdout",
     "output_type": "stream",
     "text": [
      "Train_loss: tensor(0.0499, device='cuda:0', grad_fn=<NllLossBackward0>)\n",
      "\n",
      "Attack success rate 1.93\n",
      "Test_loss: tensor(9.5801, device='cuda:0')\n",
      "\n",
      "Test clean Accuracy 90.28\n",
      "Test_loss: tensor(0.2103, device='cuda:0')\n",
      "\n",
      "Target test clean Accuracy 90.20\n",
      "Test_loss: tensor(0.2905, device='cuda:0')\n"
     ]
    },
    {
     "data": {
      "application/vnd.jupyter.widget-view+json": {
       "model_id": "3e7254ec5b55495cb29e1f87565fb1cc",
       "version_major": 2,
       "version_minor": 0
      },
      "text/plain": [
       "  0%|          | 0/334 [00:00<?, ?it/s]"
      ]
     },
     "metadata": {},
     "output_type": "display_data"
    },
    {
     "name": "stdout",
     "output_type": "stream",
     "text": [
      "Train_loss: tensor(0.1323, device='cuda:0', grad_fn=<NllLossBackward0>)\n",
      "\n",
      "Attack success rate 0.26\n",
      "Test_loss: tensor(9.9099, device='cuda:0')\n",
      "\n",
      "Test clean Accuracy 91.27\n",
      "Test_loss: tensor(0.2238, device='cuda:0')\n",
      "\n",
      "Target test clean Accuracy 77.70\n",
      "Test_loss: tensor(0.7804, device='cuda:0')\n"
     ]
    },
    {
     "data": {
      "application/vnd.jupyter.widget-view+json": {
       "model_id": "f3198379562147b1a5835b2ef72997c2",
       "version_major": 2,
       "version_minor": 0
      },
      "text/plain": [
       "  0%|          | 0/334 [00:00<?, ?it/s]"
      ]
     },
     "metadata": {},
     "output_type": "display_data"
    },
    {
     "name": "stdout",
     "output_type": "stream",
     "text": [
      "Train_loss: tensor(0.0532, device='cuda:0', grad_fn=<NllLossBackward0>)\n",
      "\n",
      "Attack success rate 0.19\n",
      "Test_loss: tensor(10.3414, device='cuda:0')\n",
      "\n",
      "Test clean Accuracy 87.85\n",
      "Test_loss: tensor(0.3451, device='cuda:0')\n",
      "\n",
      "Target test clean Accuracy 72.80\n",
      "Test_loss: tensor(1.2629, device='cuda:0')\n"
     ]
    },
    {
     "data": {
      "application/vnd.jupyter.widget-view+json": {
       "model_id": "31318f67190d49fdb34dcebcf545caeb",
       "version_major": 2,
       "version_minor": 0
      },
      "text/plain": [
       "  0%|          | 0/334 [00:00<?, ?it/s]"
      ]
     },
     "metadata": {},
     "output_type": "display_data"
    },
    {
     "name": "stdout",
     "output_type": "stream",
     "text": [
      "Train_loss: tensor(0.1541, device='cuda:0', grad_fn=<NllLossBackward0>)\n",
      "\n",
      "Attack success rate 2.59\n",
      "Test_loss: tensor(9.6193, device='cuda:0')\n",
      "\n",
      "Test clean Accuracy 91.18\n",
      "Test_loss: tensor(0.1719, device='cuda:0')\n",
      "\n",
      "Target test clean Accuracy 93.90\n",
      "Test_loss: tensor(0.0957, device='cuda:0')\n"
     ]
    },
    {
     "data": {
      "application/vnd.jupyter.widget-view+json": {
       "model_id": "57059b2464df4683b80fb7ef7251ea2f",
       "version_major": 2,
       "version_minor": 0
      },
      "text/plain": [
       "  0%|          | 0/334 [00:00<?, ?it/s]"
      ]
     },
     "metadata": {},
     "output_type": "display_data"
    },
    {
     "name": "stdout",
     "output_type": "stream",
     "text": [
      "Train_loss: tensor(0.1903, device='cuda:0', grad_fn=<NllLossBackward0>)\n",
      "\n",
      "Attack success rate 1.52\n",
      "Test_loss: tensor(9.9402, device='cuda:0')\n",
      "\n",
      "Test clean Accuracy 90.66\n",
      "Test_loss: tensor(0.2415, device='cuda:0')\n",
      "\n",
      "Target test clean Accuracy 89.00\n",
      "Test_loss: tensor(0.5598, device='cuda:0')\n"
     ]
    },
    {
     "data": {
      "application/vnd.jupyter.widget-view+json": {
       "model_id": "52b1a0e31bab4826b98c87391e718791",
       "version_major": 2,
       "version_minor": 0
      },
      "text/plain": [
       "  0%|          | 0/334 [00:00<?, ?it/s]"
      ]
     },
     "metadata": {},
     "output_type": "display_data"
    },
    {
     "name": "stdout",
     "output_type": "stream",
     "text": [
      "Train_loss: tensor(0.1168, device='cuda:0', grad_fn=<NllLossBackward0>)\n",
      "\n",
      "Attack success rate 0.94\n",
      "Test_loss: tensor(10.3209, device='cuda:0')\n",
      "\n",
      "Test clean Accuracy 91.12\n",
      "Test_loss: tensor(0.3616, device='cuda:0')\n",
      "\n",
      "Target test clean Accuracy 87.00\n",
      "Test_loss: tensor(0.6009, device='cuda:0')\n"
     ]
    },
    {
     "data": {
      "application/vnd.jupyter.widget-view+json": {
       "model_id": "4f348fe168d6461db68dc72a048505a8",
       "version_major": 2,
       "version_minor": 0
      },
      "text/plain": [
       "  0%|          | 0/334 [00:00<?, ?it/s]"
      ]
     },
     "metadata": {},
     "output_type": "display_data"
    },
    {
     "name": "stdout",
     "output_type": "stream",
     "text": [
      "Train_loss: tensor(0.1476, device='cuda:0', grad_fn=<NllLossBackward0>)\n",
      "\n",
      "Attack success rate 0.93\n",
      "Test_loss: tensor(9.3413, device='cuda:0')\n",
      "\n",
      "Test clean Accuracy 90.99\n",
      "Test_loss: tensor(0.2830, device='cuda:0')\n",
      "\n",
      "Target test clean Accuracy 89.10\n",
      "Test_loss: tensor(0.3670, device='cuda:0')\n"
     ]
    },
    {
     "data": {
      "application/vnd.jupyter.widget-view+json": {
       "model_id": "0664d5d40ece44a2b8b4714acd5467c7",
       "version_major": 2,
       "version_minor": 0
      },
      "text/plain": [
       "  0%|          | 0/334 [00:00<?, ?it/s]"
      ]
     },
     "metadata": {},
     "output_type": "display_data"
    },
    {
     "name": "stdout",
     "output_type": "stream",
     "text": [
      "Train_loss: tensor(0.1118, device='cuda:0', grad_fn=<NllLossBackward0>)\n",
      "\n",
      "Attack success rate 0.90\n",
      "Test_loss: tensor(9.7572, device='cuda:0')\n",
      "\n",
      "Test clean Accuracy 91.34\n",
      "Test_loss: tensor(0.3173, device='cuda:0')\n",
      "\n",
      "Target test clean Accuracy 87.80\n",
      "Test_loss: tensor(0.3965, device='cuda:0')\n"
     ]
    },
    {
     "data": {
      "application/vnd.jupyter.widget-view+json": {
       "model_id": "f1dc700964b749d3bc316de97a6ae6ac",
       "version_major": 2,
       "version_minor": 0
      },
      "text/plain": [
       "  0%|          | 0/334 [00:00<?, ?it/s]"
      ]
     },
     "metadata": {},
     "output_type": "display_data"
    },
    {
     "name": "stdout",
     "output_type": "stream",
     "text": [
      "Train_loss: tensor(0.1217, device='cuda:0', grad_fn=<NllLossBackward0>)\n",
      "\n",
      "Attack success rate 1.51\n",
      "Test_loss: tensor(8.9512, device='cuda:0')\n",
      "\n",
      "Test clean Accuracy 90.82\n",
      "Test_loss: tensor(0.2730, device='cuda:0')\n",
      "\n",
      "Target test clean Accuracy 88.50\n",
      "Test_loss: tensor(0.2490, device='cuda:0')\n"
     ]
    },
    {
     "data": {
      "application/vnd.jupyter.widget-view+json": {
       "model_id": "93fb5783fa184c6a9a72f2be0fdb14c4",
       "version_major": 2,
       "version_minor": 0
      },
      "text/plain": [
       "  0%|          | 0/334 [00:00<?, ?it/s]"
      ]
     },
     "metadata": {},
     "output_type": "display_data"
    },
    {
     "name": "stdout",
     "output_type": "stream",
     "text": [
      "Train_loss: tensor(0.1116, device='cuda:0', grad_fn=<NllLossBackward0>)\n",
      "\n",
      "Attack success rate 1.48\n",
      "Test_loss: tensor(10.1902, device='cuda:0')\n",
      "\n",
      "Test clean Accuracy 90.91\n",
      "Test_loss: tensor(0.2214, device='cuda:0')\n",
      "\n",
      "Target test clean Accuracy 90.60\n",
      "Test_loss: tensor(0.2508, device='cuda:0')\n"
     ]
    },
    {
     "data": {
      "application/vnd.jupyter.widget-view+json": {
       "model_id": "8a93730b3c7c41bb823b56806c8571d0",
       "version_major": 2,
       "version_minor": 0
      },
      "text/plain": [
       "  0%|          | 0/334 [00:00<?, ?it/s]"
      ]
     },
     "metadata": {},
     "output_type": "display_data"
    },
    {
     "name": "stdout",
     "output_type": "stream",
     "text": [
      "Train_loss: tensor(0.1389, device='cuda:0', grad_fn=<NllLossBackward0>)\n",
      "\n",
      "Attack success rate 0.87\n",
      "Test_loss: tensor(9.8274, device='cuda:0')\n",
      "\n",
      "Test clean Accuracy 91.33\n",
      "Test_loss: tensor(0.3236, device='cuda:0')\n",
      "\n",
      "Target test clean Accuracy 87.90\n",
      "Test_loss: tensor(0.2709, device='cuda:0')\n"
     ]
    },
    {
     "data": {
      "application/vnd.jupyter.widget-view+json": {
       "model_id": "3e69e76f0c804eb0a984975f2e60436f",
       "version_major": 2,
       "version_minor": 0
      },
      "text/plain": [
       "  0%|          | 0/334 [00:00<?, ?it/s]"
      ]
     },
     "metadata": {},
     "output_type": "display_data"
    },
    {
     "name": "stdout",
     "output_type": "stream",
     "text": [
      "Train_loss: tensor(0.0805, device='cuda:0', grad_fn=<NllLossBackward0>)\n",
      "\n",
      "Attack success rate 2.44\n",
      "Test_loss: tensor(9.2799, device='cuda:0')\n",
      "\n",
      "Test clean Accuracy 90.76\n",
      "Test_loss: tensor(0.1182, device='cuda:0')\n",
      "\n",
      "Target test clean Accuracy 93.70\n",
      "Test_loss: tensor(0.3408, device='cuda:0')\n"
     ]
    },
    {
     "data": {
      "application/vnd.jupyter.widget-view+json": {
       "model_id": "e637ec2c77b44a06bd638eed6caea13c",
       "version_major": 2,
       "version_minor": 0
      },
      "text/plain": [
       "  0%|          | 0/334 [00:00<?, ?it/s]"
      ]
     },
     "metadata": {},
     "output_type": "display_data"
    },
    {
     "name": "stdout",
     "output_type": "stream",
     "text": [
      "Train_loss: tensor(0.1399, device='cuda:0', grad_fn=<NllLossBackward0>)\n",
      "\n",
      "Attack success rate 0.86\n",
      "Test_loss: tensor(10.5525, device='cuda:0')\n",
      "\n",
      "Test clean Accuracy 92.20\n",
      "Test_loss: tensor(0.2721, device='cuda:0')\n",
      "\n",
      "Target test clean Accuracy 88.90\n",
      "Test_loss: tensor(0.4833, device='cuda:0')\n"
     ]
    },
    {
     "data": {
      "application/vnd.jupyter.widget-view+json": {
       "model_id": "7143f71b5b7748eab0684577d3cf23cf",
       "version_major": 2,
       "version_minor": 0
      },
      "text/plain": [
       "  0%|          | 0/334 [00:00<?, ?it/s]"
      ]
     },
     "metadata": {},
     "output_type": "display_data"
    },
    {
     "name": "stdout",
     "output_type": "stream",
     "text": [
      "Train_loss: tensor(0.0944, device='cuda:0', grad_fn=<NllLossBackward0>)\n",
      "\n",
      "Attack success rate 0.98\n",
      "Test_loss: tensor(10.3027, device='cuda:0')\n",
      "\n",
      "Test clean Accuracy 92.09\n",
      "Test_loss: tensor(0.2877, device='cuda:0')\n",
      "\n",
      "Target test clean Accuracy 88.30\n",
      "Test_loss: tensor(0.3450, device='cuda:0')\n"
     ]
    },
    {
     "data": {
      "application/vnd.jupyter.widget-view+json": {
       "model_id": "f251cf50012e47b7ac95ea4f3e947522",
       "version_major": 2,
       "version_minor": 0
      },
      "text/plain": [
       "  0%|          | 0/334 [00:00<?, ?it/s]"
      ]
     },
     "metadata": {},
     "output_type": "display_data"
    },
    {
     "name": "stdout",
     "output_type": "stream",
     "text": [
      "Train_loss: tensor(0.1601, device='cuda:0', grad_fn=<NllLossBackward0>)\n",
      "\n",
      "Attack success rate 0.74\n",
      "Test_loss: tensor(9.3492, device='cuda:0')\n",
      "\n",
      "Test clean Accuracy 92.10\n",
      "Test_loss: tensor(0.2139, device='cuda:0')\n",
      "\n",
      "Target test clean Accuracy 87.70\n",
      "Test_loss: tensor(0.4251, device='cuda:0')\n"
     ]
    },
    {
     "data": {
      "application/vnd.jupyter.widget-view+json": {
       "model_id": "1b86cb9bee8442ed8761c2abdb088839",
       "version_major": 2,
       "version_minor": 0
      },
      "text/plain": [
       "  0%|          | 0/334 [00:00<?, ?it/s]"
      ]
     },
     "metadata": {},
     "output_type": "display_data"
    },
    {
     "name": "stdout",
     "output_type": "stream",
     "text": [
      "Train_loss: tensor(0.1038, device='cuda:0', grad_fn=<NllLossBackward0>)\n",
      "\n",
      "Attack success rate 1.87\n",
      "Test_loss: tensor(9.4917, device='cuda:0')\n",
      "\n",
      "Test clean Accuracy 91.78\n",
      "Test_loss: tensor(0.2363, device='cuda:0')\n",
      "\n",
      "Target test clean Accuracy 94.10\n",
      "Test_loss: tensor(0.1903, device='cuda:0')\n"
     ]
    },
    {
     "data": {
      "application/vnd.jupyter.widget-view+json": {
       "model_id": "fc135faf2c5e4fff9c7728c67939e423",
       "version_major": 2,
       "version_minor": 0
      },
      "text/plain": [
       "  0%|          | 0/334 [00:00<?, ?it/s]"
      ]
     },
     "metadata": {},
     "output_type": "display_data"
    },
    {
     "name": "stdout",
     "output_type": "stream",
     "text": [
      "Train_loss: tensor(0.0882, device='cuda:0', grad_fn=<NllLossBackward0>)\n",
      "\n",
      "Attack success rate 0.92\n",
      "Test_loss: tensor(9.5954, device='cuda:0')\n",
      "\n",
      "Test clean Accuracy 91.85\n",
      "Test_loss: tensor(0.3373, device='cuda:0')\n",
      "\n",
      "Target test clean Accuracy 86.90\n",
      "Test_loss: tensor(0.6648, device='cuda:0')\n"
     ]
    },
    {
     "data": {
      "application/vnd.jupyter.widget-view+json": {
       "model_id": "d57ea45a517f4f92a0ac0590feb69db6",
       "version_major": 2,
       "version_minor": 0
      },
      "text/plain": [
       "  0%|          | 0/334 [00:00<?, ?it/s]"
      ]
     },
     "metadata": {},
     "output_type": "display_data"
    },
    {
     "name": "stdout",
     "output_type": "stream",
     "text": [
      "Train_loss: tensor(0.2758, device='cuda:0', grad_fn=<NllLossBackward0>)\n",
      "\n",
      "Attack success rate 1.18\n",
      "Test_loss: tensor(9.4670, device='cuda:0')\n",
      "\n",
      "Test clean Accuracy 91.57\n",
      "Test_loss: tensor(0.3141, device='cuda:0')\n",
      "\n",
      "Target test clean Accuracy 89.50\n",
      "Test_loss: tensor(0.3534, device='cuda:0')\n"
     ]
    },
    {
     "data": {
      "application/vnd.jupyter.widget-view+json": {
       "model_id": "bea91a059896445c8d67435da21bab38",
       "version_major": 2,
       "version_minor": 0
      },
      "text/plain": [
       "  0%|          | 0/334 [00:00<?, ?it/s]"
      ]
     },
     "metadata": {},
     "output_type": "display_data"
    },
    {
     "name": "stdout",
     "output_type": "stream",
     "text": [
      "Train_loss: tensor(0.0600, device='cuda:0', grad_fn=<NllLossBackward0>)\n",
      "\n",
      "Attack success rate 1.61\n",
      "Test_loss: tensor(9.5100, device='cuda:0')\n",
      "\n",
      "Test clean Accuracy 91.24\n",
      "Test_loss: tensor(0.0930, device='cuda:0')\n",
      "\n",
      "Target test clean Accuracy 92.50\n",
      "Test_loss: tensor(0.3154, device='cuda:0')\n"
     ]
    },
    {
     "data": {
      "application/vnd.jupyter.widget-view+json": {
       "model_id": "984a5f94afcd4977acacd197d68132bb",
       "version_major": 2,
       "version_minor": 0
      },
      "text/plain": [
       "  0%|          | 0/334 [00:00<?, ?it/s]"
      ]
     },
     "metadata": {},
     "output_type": "display_data"
    },
    {
     "name": "stdout",
     "output_type": "stream",
     "text": [
      "Train_loss: tensor(0.0195, device='cuda:0', grad_fn=<NllLossBackward0>)\n",
      "\n",
      "Attack success rate 1.56\n",
      "Test_loss: tensor(9.2140, device='cuda:0')\n",
      "\n",
      "Test clean Accuracy 92.10\n",
      "Test_loss: tensor(0.1814, device='cuda:0')\n",
      "\n",
      "Target test clean Accuracy 94.90\n",
      "Test_loss: tensor(0.1741, device='cuda:0')\n"
     ]
    },
    {
     "data": {
      "application/vnd.jupyter.widget-view+json": {
       "model_id": "ee7adc14e3b04a7e9b1073b89d3aa53d",
       "version_major": 2,
       "version_minor": 0
      },
      "text/plain": [
       "  0%|          | 0/334 [00:00<?, ?it/s]"
      ]
     },
     "metadata": {},
     "output_type": "display_data"
    },
    {
     "name": "stdout",
     "output_type": "stream",
     "text": [
      "Train_loss: tensor(0.1071, device='cuda:0', grad_fn=<NllLossBackward0>)\n",
      "\n",
      "Attack success rate 1.83\n",
      "Test_loss: tensor(9.4780, device='cuda:0')\n",
      "\n",
      "Test clean Accuracy 92.24\n",
      "Test_loss: tensor(0.1583, device='cuda:0')\n",
      "\n",
      "Target test clean Accuracy 92.90\n",
      "Test_loss: tensor(0.3879, device='cuda:0')\n"
     ]
    },
    {
     "data": {
      "application/vnd.jupyter.widget-view+json": {
       "model_id": "b29003fbc7c041e984397ef601e8eaa4",
       "version_major": 2,
       "version_minor": 0
      },
      "text/plain": [
       "  0%|          | 0/334 [00:00<?, ?it/s]"
      ]
     },
     "metadata": {},
     "output_type": "display_data"
    },
    {
     "name": "stdout",
     "output_type": "stream",
     "text": [
      "Train_loss: tensor(0.0082, device='cuda:0', grad_fn=<NllLossBackward0>)\n",
      "\n",
      "Attack success rate 0.56\n",
      "Test_loss: tensor(10.4503, device='cuda:0')\n",
      "\n",
      "Test clean Accuracy 91.36\n",
      "Test_loss: tensor(0.2902, device='cuda:0')\n",
      "\n",
      "Target test clean Accuracy 83.40\n",
      "Test_loss: tensor(0.8131, device='cuda:0')\n"
     ]
    },
    {
     "data": {
      "application/vnd.jupyter.widget-view+json": {
       "model_id": "367ea6fa45ca41dbb1c08e2f15f3ef62",
       "version_major": 2,
       "version_minor": 0
      },
      "text/plain": [
       "  0%|          | 0/334 [00:00<?, ?it/s]"
      ]
     },
     "metadata": {},
     "output_type": "display_data"
    },
    {
     "name": "stdout",
     "output_type": "stream",
     "text": [
      "Train_loss: tensor(0.0319, device='cuda:0', grad_fn=<NllLossBackward0>)\n",
      "\n",
      "Attack success rate 1.03\n",
      "Test_loss: tensor(9.7692, device='cuda:0')\n",
      "\n",
      "Test clean Accuracy 90.56\n",
      "Test_loss: tensor(0.1981, device='cuda:0')\n",
      "\n",
      "Target test clean Accuracy 88.30\n",
      "Test_loss: tensor(0.6658, device='cuda:0')\n"
     ]
    },
    {
     "data": {
      "application/vnd.jupyter.widget-view+json": {
       "model_id": "6abd33b3ba6e459c8dc1b0b72f5ab9bf",
       "version_major": 2,
       "version_minor": 0
      },
      "text/plain": [
       "  0%|          | 0/334 [00:00<?, ?it/s]"
      ]
     },
     "metadata": {},
     "output_type": "display_data"
    },
    {
     "name": "stdout",
     "output_type": "stream",
     "text": [
      "Train_loss: tensor(0.1234, device='cuda:0', grad_fn=<NllLossBackward0>)\n",
      "\n",
      "Attack success rate 0.74\n",
      "Test_loss: tensor(10.3318, device='cuda:0')\n",
      "\n",
      "Test clean Accuracy 92.92\n",
      "Test_loss: tensor(0.2389, device='cuda:0')\n",
      "\n",
      "Target test clean Accuracy 89.20\n",
      "Test_loss: tensor(0.1946, device='cuda:0')\n"
     ]
    },
    {
     "data": {
      "application/vnd.jupyter.widget-view+json": {
       "model_id": "5d9e3c9a43884b57b6e725deb8730055",
       "version_major": 2,
       "version_minor": 0
      },
      "text/plain": [
       "  0%|          | 0/334 [00:00<?, ?it/s]"
      ]
     },
     "metadata": {},
     "output_type": "display_data"
    },
    {
     "name": "stdout",
     "output_type": "stream",
     "text": [
      "Train_loss: tensor(0.0151, device='cuda:0', grad_fn=<NllLossBackward0>)\n",
      "\n",
      "Attack success rate 0.72\n",
      "Test_loss: tensor(9.8895, device='cuda:0')\n",
      "\n",
      "Test clean Accuracy 92.68\n",
      "Test_loss: tensor(0.2028, device='cuda:0')\n",
      "\n",
      "Target test clean Accuracy 90.70\n",
      "Test_loss: tensor(0.3455, device='cuda:0')\n"
     ]
    },
    {
     "data": {
      "application/vnd.jupyter.widget-view+json": {
       "model_id": "4c38b613dc614240a0dc99f206cb3b1c",
       "version_major": 2,
       "version_minor": 0
      },
      "text/plain": [
       "  0%|          | 0/334 [00:00<?, ?it/s]"
      ]
     },
     "metadata": {},
     "output_type": "display_data"
    },
    {
     "name": "stdout",
     "output_type": "stream",
     "text": [
      "Train_loss: tensor(0.1344, device='cuda:0', grad_fn=<NllLossBackward0>)\n",
      "\n",
      "Attack success rate 1.20\n",
      "Test_loss: tensor(9.3703, device='cuda:0')\n",
      "\n",
      "Test clean Accuracy 93.02\n",
      "Test_loss: tensor(0.2061, device='cuda:0')\n",
      "\n",
      "Target test clean Accuracy 93.30\n",
      "Test_loss: tensor(0.4445, device='cuda:0')\n"
     ]
    },
    {
     "data": {
      "application/vnd.jupyter.widget-view+json": {
       "model_id": "f633f9c421e84a2fa67180545e7d5dff",
       "version_major": 2,
       "version_minor": 0
      },
      "text/plain": [
       "  0%|          | 0/334 [00:00<?, ?it/s]"
      ]
     },
     "metadata": {},
     "output_type": "display_data"
    },
    {
     "name": "stdout",
     "output_type": "stream",
     "text": [
      "Train_loss: tensor(0.0151, device='cuda:0', grad_fn=<NllLossBackward0>)\n",
      "\n",
      "Attack success rate 0.94\n",
      "Test_loss: tensor(9.9043, device='cuda:0')\n",
      "\n",
      "Test clean Accuracy 92.59\n",
      "Test_loss: tensor(0.1617, device='cuda:0')\n",
      "\n",
      "Target test clean Accuracy 90.80\n",
      "Test_loss: tensor(0.4684, device='cuda:0')\n"
     ]
    },
    {
     "data": {
      "application/vnd.jupyter.widget-view+json": {
       "model_id": "9dd11360724045ffa51d8c2804de6720",
       "version_major": 2,
       "version_minor": 0
      },
      "text/plain": [
       "  0%|          | 0/334 [00:00<?, ?it/s]"
      ]
     },
     "metadata": {},
     "output_type": "display_data"
    },
    {
     "name": "stdout",
     "output_type": "stream",
     "text": [
      "Train_loss: tensor(0.0480, device='cuda:0', grad_fn=<NllLossBackward0>)\n",
      "\n",
      "Attack success rate 0.66\n",
      "Test_loss: tensor(10.0215, device='cuda:0')\n",
      "\n",
      "Test clean Accuracy 92.62\n",
      "Test_loss: tensor(0.1859, device='cuda:0')\n",
      "\n",
      "Target test clean Accuracy 87.80\n",
      "Test_loss: tensor(0.4116, device='cuda:0')\n"
     ]
    },
    {
     "data": {
      "application/vnd.jupyter.widget-view+json": {
       "model_id": "7033c79a0f20408390d7928628216a0e",
       "version_major": 2,
       "version_minor": 0
      },
      "text/plain": [
       "  0%|          | 0/334 [00:00<?, ?it/s]"
      ]
     },
     "metadata": {},
     "output_type": "display_data"
    },
    {
     "name": "stdout",
     "output_type": "stream",
     "text": [
      "Train_loss: tensor(0.0211, device='cuda:0', grad_fn=<NllLossBackward0>)\n",
      "\n",
      "Attack success rate 1.11\n",
      "Test_loss: tensor(9.8955, device='cuda:0')\n",
      "\n",
      "Test clean Accuracy 92.95\n",
      "Test_loss: tensor(0.1719, device='cuda:0')\n",
      "\n",
      "Target test clean Accuracy 91.90\n",
      "Test_loss: tensor(0.2208, device='cuda:0')\n"
     ]
    },
    {
     "data": {
      "application/vnd.jupyter.widget-view+json": {
       "model_id": "6430a97ed41840bfb1b1df379d427405",
       "version_major": 2,
       "version_minor": 0
      },
      "text/plain": [
       "  0%|          | 0/334 [00:00<?, ?it/s]"
      ]
     },
     "metadata": {},
     "output_type": "display_data"
    },
    {
     "name": "stdout",
     "output_type": "stream",
     "text": [
      "Train_loss: tensor(0.0189, device='cuda:0', grad_fn=<NllLossBackward0>)\n",
      "\n",
      "Attack success rate 0.76\n",
      "Test_loss: tensor(10.0475, device='cuda:0')\n",
      "\n",
      "Test clean Accuracy 93.29\n",
      "Test_loss: tensor(0.1265, device='cuda:0')\n",
      "\n",
      "Target test clean Accuracy 88.20\n",
      "Test_loss: tensor(0.4556, device='cuda:0')\n"
     ]
    },
    {
     "data": {
      "application/vnd.jupyter.widget-view+json": {
       "model_id": "5780ad591e884c4a9328858a368079d3",
       "version_major": 2,
       "version_minor": 0
      },
      "text/plain": [
       "  0%|          | 0/334 [00:00<?, ?it/s]"
      ]
     },
     "metadata": {},
     "output_type": "display_data"
    },
    {
     "name": "stdout",
     "output_type": "stream",
     "text": [
      "Train_loss: tensor(0.0105, device='cuda:0', grad_fn=<NllLossBackward0>)\n",
      "\n",
      "Attack success rate 0.79\n",
      "Test_loss: tensor(9.1753, device='cuda:0')\n",
      "\n",
      "Test clean Accuracy 92.41\n",
      "Test_loss: tensor(0.2826, device='cuda:0')\n",
      "\n",
      "Target test clean Accuracy 90.30\n",
      "Test_loss: tensor(0.6128, device='cuda:0')\n"
     ]
    },
    {
     "data": {
      "application/vnd.jupyter.widget-view+json": {
       "model_id": "c29f9d25a894494c9f5c9788b49a6f97",
       "version_major": 2,
       "version_minor": 0
      },
      "text/plain": [
       "  0%|          | 0/334 [00:00<?, ?it/s]"
      ]
     },
     "metadata": {},
     "output_type": "display_data"
    },
    {
     "name": "stdout",
     "output_type": "stream",
     "text": [
      "Train_loss: tensor(0.0578, device='cuda:0', grad_fn=<NllLossBackward0>)\n",
      "\n",
      "Attack success rate 0.78\n",
      "Test_loss: tensor(9.9570, device='cuda:0')\n",
      "\n",
      "Test clean Accuracy 93.13\n",
      "Test_loss: tensor(0.2902, device='cuda:0')\n",
      "\n",
      "Target test clean Accuracy 90.60\n",
      "Test_loss: tensor(0.4609, device='cuda:0')\n"
     ]
    },
    {
     "data": {
      "application/vnd.jupyter.widget-view+json": {
       "model_id": "761c37206cb54dcb83fce133e71ed4c9",
       "version_major": 2,
       "version_minor": 0
      },
      "text/plain": [
       "  0%|          | 0/334 [00:00<?, ?it/s]"
      ]
     },
     "metadata": {},
     "output_type": "display_data"
    },
    {
     "name": "stdout",
     "output_type": "stream",
     "text": [
      "Train_loss: tensor(0.0284, device='cuda:0', grad_fn=<NllLossBackward0>)\n",
      "\n",
      "Attack success rate 1.62\n",
      "Test_loss: tensor(9.6699, device='cuda:0')\n",
      "\n",
      "Test clean Accuracy 92.97\n",
      "Test_loss: tensor(0.0441, device='cuda:0')\n",
      "\n",
      "Target test clean Accuracy 93.50\n",
      "Test_loss: tensor(0.2519, device='cuda:0')\n"
     ]
    },
    {
     "data": {
      "application/vnd.jupyter.widget-view+json": {
       "model_id": "445ec93fe859458987deb4cacaef024b",
       "version_major": 2,
       "version_minor": 0
      },
      "text/plain": [
       "  0%|          | 0/334 [00:00<?, ?it/s]"
      ]
     },
     "metadata": {},
     "output_type": "display_data"
    },
    {
     "name": "stdout",
     "output_type": "stream",
     "text": [
      "Train_loss: tensor(0.0187, device='cuda:0', grad_fn=<NllLossBackward0>)\n",
      "\n",
      "Attack success rate 0.84\n",
      "Test_loss: tensor(10.0802, device='cuda:0')\n",
      "\n",
      "Test clean Accuracy 93.54\n",
      "Test_loss: tensor(0.0414, device='cuda:0')\n",
      "\n",
      "Target test clean Accuracy 92.50\n",
      "Test_loss: tensor(0.1752, device='cuda:0')\n"
     ]
    },
    {
     "data": {
      "application/vnd.jupyter.widget-view+json": {
       "model_id": "799566451ff14aee8032f20f5a691e88",
       "version_major": 2,
       "version_minor": 0
      },
      "text/plain": [
       "  0%|          | 0/334 [00:00<?, ?it/s]"
      ]
     },
     "metadata": {},
     "output_type": "display_data"
    },
    {
     "name": "stdout",
     "output_type": "stream",
     "text": [
      "Train_loss: tensor(0.0127, device='cuda:0', grad_fn=<NllLossBackward0>)\n",
      "\n",
      "Attack success rate 0.70\n",
      "Test_loss: tensor(9.5031, device='cuda:0')\n",
      "\n",
      "Test clean Accuracy 92.74\n",
      "Test_loss: tensor(0.1656, device='cuda:0')\n",
      "\n",
      "Target test clean Accuracy 89.10\n",
      "Test_loss: tensor(0.5466, device='cuda:0')\n"
     ]
    },
    {
     "data": {
      "application/vnd.jupyter.widget-view+json": {
       "model_id": "c892ff21f7ff40af8401af6b0a633fd0",
       "version_major": 2,
       "version_minor": 0
      },
      "text/plain": [
       "  0%|          | 0/334 [00:00<?, ?it/s]"
      ]
     },
     "metadata": {},
     "output_type": "display_data"
    },
    {
     "name": "stdout",
     "output_type": "stream",
     "text": [
      "Train_loss: tensor(0.0280, device='cuda:0', grad_fn=<NllLossBackward0>)\n",
      "\n",
      "Attack success rate 0.72\n",
      "Test_loss: tensor(10.5004, device='cuda:0')\n",
      "\n",
      "Test clean Accuracy 93.82\n",
      "Test_loss: tensor(0.1252, device='cuda:0')\n",
      "\n",
      "Target test clean Accuracy 91.80\n",
      "Test_loss: tensor(0.2687, device='cuda:0')\n"
     ]
    },
    {
     "data": {
      "application/vnd.jupyter.widget-view+json": {
       "model_id": "deef4a83d1b5481c899754690a97217b",
       "version_major": 2,
       "version_minor": 0
      },
      "text/plain": [
       "  0%|          | 0/334 [00:00<?, ?it/s]"
      ]
     },
     "metadata": {},
     "output_type": "display_data"
    },
    {
     "name": "stdout",
     "output_type": "stream",
     "text": [
      "Train_loss: tensor(0.0061, device='cuda:0', grad_fn=<NllLossBackward0>)\n",
      "\n",
      "Attack success rate 1.12\n",
      "Test_loss: tensor(9.7130, device='cuda:0')\n",
      "\n",
      "Test clean Accuracy 93.74\n",
      "Test_loss: tensor(0.0385, device='cuda:0')\n",
      "\n",
      "Target test clean Accuracy 92.90\n",
      "Test_loss: tensor(0.2781, device='cuda:0')\n"
     ]
    },
    {
     "data": {
      "application/vnd.jupyter.widget-view+json": {
       "model_id": "8382b17ba77b4f4d96b0391c1a096bad",
       "version_major": 2,
       "version_minor": 0
      },
      "text/plain": [
       "  0%|          | 0/334 [00:00<?, ?it/s]"
      ]
     },
     "metadata": {},
     "output_type": "display_data"
    },
    {
     "name": "stdout",
     "output_type": "stream",
     "text": [
      "Train_loss: tensor(0.0127, device='cuda:0', grad_fn=<NllLossBackward0>)\n",
      "\n",
      "Attack success rate 0.59\n",
      "Test_loss: tensor(9.9790, device='cuda:0')\n",
      "\n",
      "Test clean Accuracy 93.06\n",
      "Test_loss: tensor(0.2327, device='cuda:0')\n",
      "\n",
      "Target test clean Accuracy 88.50\n",
      "Test_loss: tensor(0.4665, device='cuda:0')\n"
     ]
    },
    {
     "data": {
      "application/vnd.jupyter.widget-view+json": {
       "model_id": "15d3ec95953f43c3a2769cda106e88bb",
       "version_major": 2,
       "version_minor": 0
      },
      "text/plain": [
       "  0%|          | 0/334 [00:00<?, ?it/s]"
      ]
     },
     "metadata": {},
     "output_type": "display_data"
    },
    {
     "name": "stdout",
     "output_type": "stream",
     "text": [
      "Train_loss: tensor(0.0027, device='cuda:0', grad_fn=<NllLossBackward0>)\n",
      "\n",
      "Attack success rate 0.71\n",
      "Test_loss: tensor(9.9723, device='cuda:0')\n",
      "\n",
      "Test clean Accuracy 93.71\n",
      "Test_loss: tensor(0.1287, device='cuda:0')\n",
      "\n",
      "Target test clean Accuracy 91.70\n",
      "Test_loss: tensor(0.3231, device='cuda:0')\n"
     ]
    },
    {
     "data": {
      "application/vnd.jupyter.widget-view+json": {
       "model_id": "78ea86d7068f4bd3816d6d439c7e0812",
       "version_major": 2,
       "version_minor": 0
      },
      "text/plain": [
       "  0%|          | 0/334 [00:00<?, ?it/s]"
      ]
     },
     "metadata": {},
     "output_type": "display_data"
    },
    {
     "name": "stdout",
     "output_type": "stream",
     "text": [
      "Train_loss: tensor(0.0017, device='cuda:0', grad_fn=<NllLossBackward0>)\n",
      "\n",
      "Attack success rate 0.60\n",
      "Test_loss: tensor(9.8132, device='cuda:0')\n",
      "\n",
      "Test clean Accuracy 94.12\n",
      "Test_loss: tensor(0.1331, device='cuda:0')\n",
      "\n",
      "Target test clean Accuracy 90.60\n",
      "Test_loss: tensor(0.2545, device='cuda:0')\n"
     ]
    },
    {
     "data": {
      "application/vnd.jupyter.widget-view+json": {
       "model_id": "02ac37985e2e4240a181bb5729f8ab2a",
       "version_major": 2,
       "version_minor": 0
      },
      "text/plain": [
       "  0%|          | 0/334 [00:00<?, ?it/s]"
      ]
     },
     "metadata": {},
     "output_type": "display_data"
    },
    {
     "name": "stdout",
     "output_type": "stream",
     "text": [
      "Train_loss: tensor(0.1071, device='cuda:0', grad_fn=<NllLossBackward0>)\n",
      "\n",
      "Attack success rate 0.73\n",
      "Test_loss: tensor(9.4211, device='cuda:0')\n",
      "\n",
      "Test clean Accuracy 93.82\n",
      "Test_loss: tensor(0.1101, device='cuda:0')\n",
      "\n",
      "Target test clean Accuracy 91.80\n",
      "Test_loss: tensor(0.1236, device='cuda:0')\n"
     ]
    },
    {
     "data": {
      "application/vnd.jupyter.widget-view+json": {
       "model_id": "1ff8b41c12bd42bca3620a0a4e1a22a4",
       "version_major": 2,
       "version_minor": 0
      },
      "text/plain": [
       "  0%|          | 0/334 [00:00<?, ?it/s]"
      ]
     },
     "metadata": {},
     "output_type": "display_data"
    },
    {
     "name": "stdout",
     "output_type": "stream",
     "text": [
      "Train_loss: tensor(0.0119, device='cuda:0', grad_fn=<NllLossBackward0>)\n",
      "\n",
      "Attack success rate 0.58\n",
      "Test_loss: tensor(9.6298, device='cuda:0')\n",
      "\n",
      "Test clean Accuracy 93.44\n",
      "Test_loss: tensor(0.1651, device='cuda:0')\n",
      "\n",
      "Target test clean Accuracy 90.50\n",
      "Test_loss: tensor(0.1638, device='cuda:0')\n"
     ]
    },
    {
     "data": {
      "application/vnd.jupyter.widget-view+json": {
       "model_id": "9c9e2ff6f77249e2a8673e7052feac1d",
       "version_major": 2,
       "version_minor": 0
      },
      "text/plain": [
       "  0%|          | 0/334 [00:00<?, ?it/s]"
      ]
     },
     "metadata": {},
     "output_type": "display_data"
    },
    {
     "name": "stdout",
     "output_type": "stream",
     "text": [
      "Train_loss: tensor(0.0327, device='cuda:0', grad_fn=<NllLossBackward0>)\n",
      "\n",
      "Attack success rate 0.46\n",
      "Test_loss: tensor(9.7715, device='cuda:0')\n",
      "\n",
      "Test clean Accuracy 94.21\n",
      "Test_loss: tensor(0.1315, device='cuda:0')\n",
      "\n",
      "Target test clean Accuracy 90.40\n",
      "Test_loss: tensor(0.6672, device='cuda:0')\n"
     ]
    },
    {
     "data": {
      "application/vnd.jupyter.widget-view+json": {
       "model_id": "273d1a1aeb8449b988df69d3f1e982f4",
       "version_major": 2,
       "version_minor": 0
      },
      "text/plain": [
       "  0%|          | 0/334 [00:00<?, ?it/s]"
      ]
     },
     "metadata": {},
     "output_type": "display_data"
    },
    {
     "name": "stdout",
     "output_type": "stream",
     "text": [
      "Train_loss: tensor(0.0037, device='cuda:0', grad_fn=<NllLossBackward0>)\n",
      "\n",
      "Attack success rate 0.57\n",
      "Test_loss: tensor(9.0894, device='cuda:0')\n",
      "\n",
      "Test clean Accuracy 94.09\n",
      "Test_loss: tensor(0.1359, device='cuda:0')\n",
      "\n",
      "Target test clean Accuracy 90.80\n",
      "Test_loss: tensor(0.4459, device='cuda:0')\n"
     ]
    },
    {
     "data": {
      "application/vnd.jupyter.widget-view+json": {
       "model_id": "6bb5dd3e1a6a41f29c8aabbf72a02e72",
       "version_major": 2,
       "version_minor": 0
      },
      "text/plain": [
       "  0%|          | 0/334 [00:00<?, ?it/s]"
      ]
     },
     "metadata": {},
     "output_type": "display_data"
    },
    {
     "name": "stdout",
     "output_type": "stream",
     "text": [
      "Train_loss: tensor(0.0889, device='cuda:0', grad_fn=<NllLossBackward0>)\n",
      "\n",
      "Attack success rate 0.60\n",
      "Test_loss: tensor(9.6291, device='cuda:0')\n",
      "\n",
      "Test clean Accuracy 94.67\n",
      "Test_loss: tensor(0.1164, device='cuda:0')\n",
      "\n",
      "Target test clean Accuracy 92.60\n",
      "Test_loss: tensor(0.3216, device='cuda:0')\n"
     ]
    },
    {
     "data": {
      "application/vnd.jupyter.widget-view+json": {
       "model_id": "b0011c9d6c2b4a41937571465b606f43",
       "version_major": 2,
       "version_minor": 0
      },
      "text/plain": [
       "  0%|          | 0/334 [00:00<?, ?it/s]"
      ]
     },
     "metadata": {},
     "output_type": "display_data"
    },
    {
     "name": "stdout",
     "output_type": "stream",
     "text": [
      "Train_loss: tensor(0.0040, device='cuda:0', grad_fn=<NllLossBackward0>)\n",
      "\n",
      "Attack success rate 0.74\n",
      "Test_loss: tensor(9.2190, device='cuda:0')\n",
      "\n",
      "Test clean Accuracy 94.72\n",
      "Test_loss: tensor(0.1107, device='cuda:0')\n",
      "\n",
      "Target test clean Accuracy 93.60\n",
      "Test_loss: tensor(0.3828, device='cuda:0')\n"
     ]
    },
    {
     "data": {
      "application/vnd.jupyter.widget-view+json": {
       "model_id": "da7272600dab4580bfb85d835a23ead1",
       "version_major": 2,
       "version_minor": 0
      },
      "text/plain": [
       "  0%|          | 0/334 [00:00<?, ?it/s]"
      ]
     },
     "metadata": {},
     "output_type": "display_data"
    },
    {
     "name": "stdout",
     "output_type": "stream",
     "text": [
      "Train_loss: tensor(0.0046, device='cuda:0', grad_fn=<NllLossBackward0>)\n",
      "\n",
      "Attack success rate 0.62\n",
      "Test_loss: tensor(9.5304, device='cuda:0')\n",
      "\n",
      "Test clean Accuracy 94.81\n",
      "Test_loss: tensor(0.0899, device='cuda:0')\n",
      "\n",
      "Target test clean Accuracy 92.80\n",
      "Test_loss: tensor(0.2869, device='cuda:0')\n"
     ]
    },
    {
     "data": {
      "application/vnd.jupyter.widget-view+json": {
       "model_id": "5ce0327829fb4af7a023758857b6ccb7",
       "version_major": 2,
       "version_minor": 0
      },
      "text/plain": [
       "  0%|          | 0/334 [00:00<?, ?it/s]"
      ]
     },
     "metadata": {},
     "output_type": "display_data"
    },
    {
     "name": "stdout",
     "output_type": "stream",
     "text": [
      "Train_loss: tensor(0.0071, device='cuda:0', grad_fn=<NllLossBackward0>)\n",
      "\n",
      "Attack success rate 0.62\n",
      "Test_loss: tensor(9.5349, device='cuda:0')\n",
      "\n",
      "Test clean Accuracy 94.85\n",
      "Test_loss: tensor(0.0897, device='cuda:0')\n",
      "\n",
      "Target test clean Accuracy 92.70\n",
      "Test_loss: tensor(0.3423, device='cuda:0')\n"
     ]
    },
    {
     "data": {
      "application/vnd.jupyter.widget-view+json": {
       "model_id": "f1c46444ce0b4986a958eb539eb9fe22",
       "version_major": 2,
       "version_minor": 0
      },
      "text/plain": [
       "  0%|          | 0/334 [00:00<?, ?it/s]"
      ]
     },
     "metadata": {},
     "output_type": "display_data"
    },
    {
     "name": "stdout",
     "output_type": "stream",
     "text": [
      "Train_loss: tensor(0.0063, device='cuda:0', grad_fn=<NllLossBackward0>)\n",
      "\n",
      "Attack success rate 0.69\n",
      "Test_loss: tensor(9.3912, device='cuda:0')\n",
      "\n",
      "Test clean Accuracy 94.91\n",
      "Test_loss: tensor(0.1258, device='cuda:0')\n",
      "\n",
      "Target test clean Accuracy 92.80\n",
      "Test_loss: tensor(0.2920, device='cuda:0')\n"
     ]
    },
    {
     "data": {
      "application/vnd.jupyter.widget-view+json": {
       "model_id": "751ca45a8580471cafd38082492ee80c",
       "version_major": 2,
       "version_minor": 0
      },
      "text/plain": [
       "  0%|          | 0/334 [00:00<?, ?it/s]"
      ]
     },
     "metadata": {},
     "output_type": "display_data"
    },
    {
     "name": "stdout",
     "output_type": "stream",
     "text": [
      "Train_loss: tensor(0.0098, device='cuda:0', grad_fn=<NllLossBackward0>)\n",
      "\n",
      "Attack success rate 0.60\n",
      "Test_loss: tensor(9.4906, device='cuda:0')\n",
      "\n",
      "Test clean Accuracy 94.98\n",
      "Test_loss: tensor(0.1326, device='cuda:0')\n",
      "\n",
      "Target test clean Accuracy 93.00\n",
      "Test_loss: tensor(0.2201, device='cuda:0')\n"
     ]
    },
    {
     "data": {
      "application/vnd.jupyter.widget-view+json": {
       "model_id": "d7d3281c773148efa5a9d4fa2e8eee37",
       "version_major": 2,
       "version_minor": 0
      },
      "text/plain": [
       "  0%|          | 0/334 [00:00<?, ?it/s]"
      ]
     },
     "metadata": {},
     "output_type": "display_data"
    },
    {
     "name": "stdout",
     "output_type": "stream",
     "text": [
      "Train_loss: tensor(0.0011, device='cuda:0', grad_fn=<NllLossBackward0>)\n",
      "\n",
      "Attack success rate 0.62\n",
      "Test_loss: tensor(9.5229, device='cuda:0')\n",
      "\n",
      "Test clean Accuracy 95.14\n",
      "Test_loss: tensor(0.0956, device='cuda:0')\n",
      "\n",
      "Target test clean Accuracy 93.10\n",
      "Test_loss: tensor(0.1591, device='cuda:0')\n"
     ]
    },
    {
     "data": {
      "application/vnd.jupyter.widget-view+json": {
       "model_id": "f25c099b07374087b49d2bc4d4a96675",
       "version_major": 2,
       "version_minor": 0
      },
      "text/plain": [
       "  0%|          | 0/334 [00:00<?, ?it/s]"
      ]
     },
     "metadata": {},
     "output_type": "display_data"
    },
    {
     "name": "stdout",
     "output_type": "stream",
     "text": [
      "Train_loss: tensor(0.0016, device='cuda:0', grad_fn=<NllLossBackward0>)\n",
      "\n",
      "Attack success rate 0.77\n",
      "Test_loss: tensor(8.9452, device='cuda:0')\n",
      "\n",
      "Test clean Accuracy 95.29\n",
      "Test_loss: tensor(0.0961, device='cuda:0')\n",
      "\n",
      "Target test clean Accuracy 93.60\n",
      "Test_loss: tensor(0.2027, device='cuda:0')\n"
     ]
    },
    {
     "data": {
      "application/vnd.jupyter.widget-view+json": {
       "model_id": "942a04a2630d4ae894b537b5c4c5f235",
       "version_major": 2,
       "version_minor": 0
      },
      "text/plain": [
       "  0%|          | 0/334 [00:00<?, ?it/s]"
      ]
     },
     "metadata": {},
     "output_type": "display_data"
    },
    {
     "name": "stdout",
     "output_type": "stream",
     "text": [
      "Train_loss: tensor(0.0014, device='cuda:0', grad_fn=<NllLossBackward0>)\n",
      "\n",
      "Attack success rate 0.61\n",
      "Test_loss: tensor(9.3639, device='cuda:0')\n",
      "\n",
      "Test clean Accuracy 95.08\n",
      "Test_loss: tensor(0.1051, device='cuda:0')\n",
      "\n",
      "Target test clean Accuracy 93.40\n",
      "Test_loss: tensor(0.2474, device='cuda:0')\n"
     ]
    },
    {
     "data": {
      "application/vnd.jupyter.widget-view+json": {
       "model_id": "c8a3c2a746454fa087350fa9a09c1096",
       "version_major": 2,
       "version_minor": 0
      },
      "text/plain": [
       "  0%|          | 0/334 [00:00<?, ?it/s]"
      ]
     },
     "metadata": {},
     "output_type": "display_data"
    },
    {
     "name": "stdout",
     "output_type": "stream",
     "text": [
      "Train_loss: tensor(0.0012, device='cuda:0', grad_fn=<NllLossBackward0>)\n",
      "\n",
      "Attack success rate 0.54\n",
      "Test_loss: tensor(8.7691, device='cuda:0')\n",
      "\n",
      "Test clean Accuracy 95.30\n",
      "Test_loss: tensor(0.1145, device='cuda:0')\n",
      "\n",
      "Target test clean Accuracy 93.30\n",
      "Test_loss: tensor(0.0899, device='cuda:0')\n"
     ]
    },
    {
     "data": {
      "application/vnd.jupyter.widget-view+json": {
       "model_id": "5cfe812c68834f4cae85aae2c2df60f3",
       "version_major": 2,
       "version_minor": 0
      },
      "text/plain": [
       "  0%|          | 0/334 [00:00<?, ?it/s]"
      ]
     },
     "metadata": {},
     "output_type": "display_data"
    },
    {
     "name": "stdout",
     "output_type": "stream",
     "text": [
      "Train_loss: tensor(0.0017, device='cuda:0', grad_fn=<NllLossBackward0>)\n",
      "\n",
      "Attack success rate 0.67\n",
      "Test_loss: tensor(8.7982, device='cuda:0')\n",
      "\n",
      "Test clean Accuracy 95.22\n",
      "Test_loss: tensor(0.1152, device='cuda:0')\n",
      "\n",
      "Target test clean Accuracy 93.50\n",
      "Test_loss: tensor(0.2398, device='cuda:0')\n"
     ]
    },
    {
     "data": {
      "application/vnd.jupyter.widget-view+json": {
       "model_id": "67fc313696554523a92a83fbc1444416",
       "version_major": 2,
       "version_minor": 0
      },
      "text/plain": [
       "  0%|          | 0/334 [00:00<?, ?it/s]"
      ]
     },
     "metadata": {},
     "output_type": "display_data"
    },
    {
     "name": "stdout",
     "output_type": "stream",
     "text": [
      "Train_loss: tensor(0.0025, device='cuda:0', grad_fn=<NllLossBackward0>)\n",
      "\n",
      "Attack success rate 0.61\n",
      "Test_loss: tensor(8.7919, device='cuda:0')\n",
      "\n",
      "Test clean Accuracy 95.35\n",
      "Test_loss: tensor(0.0850, device='cuda:0')\n",
      "\n",
      "Target test clean Accuracy 93.90\n",
      "Test_loss: tensor(0.2202, device='cuda:0')\n"
     ]
    },
    {
     "data": {
      "application/vnd.jupyter.widget-view+json": {
       "model_id": "82eaab2657f14b0181ff125e3173ebaa",
       "version_major": 2,
       "version_minor": 0
      },
      "text/plain": [
       "  0%|          | 0/334 [00:00<?, ?it/s]"
      ]
     },
     "metadata": {},
     "output_type": "display_data"
    },
    {
     "name": "stdout",
     "output_type": "stream",
     "text": [
      "Train_loss: tensor(0.0080, device='cuda:0', grad_fn=<NllLossBackward0>)\n",
      "\n",
      "Attack success rate 0.56\n",
      "Test_loss: tensor(9.0925, device='cuda:0')\n",
      "\n",
      "Test clean Accuracy 95.18\n",
      "Test_loss: tensor(0.1002, device='cuda:0')\n",
      "\n",
      "Target test clean Accuracy 92.80\n",
      "Test_loss: tensor(0.3767, device='cuda:0')\n"
     ]
    },
    {
     "data": {
      "application/vnd.jupyter.widget-view+json": {
       "model_id": "d85d23e912274b139b820917d3a94552",
       "version_major": 2,
       "version_minor": 0
      },
      "text/plain": [
       "  0%|          | 0/334 [00:00<?, ?it/s]"
      ]
     },
     "metadata": {},
     "output_type": "display_data"
    },
    {
     "name": "stdout",
     "output_type": "stream",
     "text": [
      "Train_loss: tensor(0.0031, device='cuda:0', grad_fn=<NllLossBackward0>)\n",
      "\n",
      "Attack success rate 0.58\n",
      "Test_loss: tensor(8.6173, device='cuda:0')\n",
      "\n",
      "Test clean Accuracy 95.39\n",
      "Test_loss: tensor(0.0947, device='cuda:0')\n",
      "\n",
      "Target test clean Accuracy 93.90\n",
      "Test_loss: tensor(0.4096, device='cuda:0')\n"
     ]
    },
    {
     "data": {
      "application/vnd.jupyter.widget-view+json": {
       "model_id": "a82548a99dfe43cc9ffc4962caf96cc2",
       "version_major": 2,
       "version_minor": 0
      },
      "text/plain": [
       "  0%|          | 0/334 [00:00<?, ?it/s]"
      ]
     },
     "metadata": {},
     "output_type": "display_data"
    },
    {
     "name": "stdout",
     "output_type": "stream",
     "text": [
      "Train_loss: tensor(0.0022, device='cuda:0', grad_fn=<NllLossBackward0>)\n",
      "\n",
      "Attack success rate 0.67\n",
      "Test_loss: tensor(9.1600, device='cuda:0')\n",
      "\n",
      "Test clean Accuracy 95.21\n",
      "Test_loss: tensor(0.0966, device='cuda:0')\n",
      "\n",
      "Target test clean Accuracy 93.60\n",
      "Test_loss: tensor(0.3272, device='cuda:0')\n"
     ]
    },
    {
     "data": {
      "application/vnd.jupyter.widget-view+json": {
       "model_id": "be83a9d6510d4448a143f2fe0d6ab1a5",
       "version_major": 2,
       "version_minor": 0
      },
      "text/plain": [
       "  0%|          | 0/334 [00:00<?, ?it/s]"
      ]
     },
     "metadata": {},
     "output_type": "display_data"
    },
    {
     "name": "stdout",
     "output_type": "stream",
     "text": [
      "Train_loss: tensor(0.0017, device='cuda:0', grad_fn=<NllLossBackward0>)\n",
      "\n",
      "Attack success rate 0.64\n",
      "Test_loss: tensor(8.8037, device='cuda:0')\n",
      "\n",
      "Test clean Accuracy 95.35\n",
      "Test_loss: tensor(0.0867, device='cuda:0')\n",
      "\n",
      "Target test clean Accuracy 93.60\n",
      "Test_loss: tensor(0.0777, device='cuda:0')\n"
     ]
    },
    {
     "data": {
      "application/vnd.jupyter.widget-view+json": {
       "model_id": "6679469b4ba7469a89abee465f8f505a",
       "version_major": 2,
       "version_minor": 0
      },
      "text/plain": [
       "  0%|          | 0/334 [00:00<?, ?it/s]"
      ]
     },
     "metadata": {},
     "output_type": "display_data"
    },
    {
     "name": "stdout",
     "output_type": "stream",
     "text": [
      "Train_loss: tensor(0.0042, device='cuda:0', grad_fn=<NllLossBackward0>)\n",
      "\n",
      "Attack success rate 0.66\n",
      "Test_loss: tensor(8.9834, device='cuda:0')\n",
      "\n",
      "Test clean Accuracy 95.29\n",
      "Test_loss: tensor(0.0783, device='cuda:0')\n",
      "\n",
      "Target test clean Accuracy 93.80\n",
      "Test_loss: tensor(0.1620, device='cuda:0')\n"
     ]
    },
    {
     "data": {
      "application/vnd.jupyter.widget-view+json": {
       "model_id": "5b3fc39a80094185abbe3b0585209b46",
       "version_major": 2,
       "version_minor": 0
      },
      "text/plain": [
       "  0%|          | 0/334 [00:00<?, ?it/s]"
      ]
     },
     "metadata": {},
     "output_type": "display_data"
    },
    {
     "name": "stdout",
     "output_type": "stream",
     "text": [
      "Train_loss: tensor(0.0014, device='cuda:0', grad_fn=<NllLossBackward0>)\n",
      "\n",
      "Attack success rate 0.61\n",
      "Test_loss: tensor(8.8709, device='cuda:0')\n",
      "\n",
      "Test clean Accuracy 95.25\n",
      "Test_loss: tensor(0.1021, device='cuda:0')\n",
      "\n",
      "Target test clean Accuracy 93.70\n",
      "Test_loss: tensor(0.0775, device='cuda:0')\n"
     ]
    },
    {
     "data": {
      "application/vnd.jupyter.widget-view+json": {
       "model_id": "d657a6c575d84049876eaada62374625",
       "version_major": 2,
       "version_minor": 0
      },
      "text/plain": [
       "  0%|          | 0/334 [00:00<?, ?it/s]"
      ]
     },
     "metadata": {},
     "output_type": "display_data"
    },
    {
     "name": "stdout",
     "output_type": "stream",
     "text": [
      "Train_loss: tensor(0.0044, device='cuda:0', grad_fn=<NllLossBackward0>)\n",
      "\n",
      "Attack success rate 0.60\n",
      "Test_loss: tensor(8.9066, device='cuda:0')\n",
      "\n",
      "Test clean Accuracy 95.22\n",
      "Test_loss: tensor(0.1039, device='cuda:0')\n",
      "\n",
      "Target test clean Accuracy 92.90\n",
      "Test_loss: tensor(0.1136, device='cuda:0')\n"
     ]
    },
    {
     "data": {
      "application/vnd.jupyter.widget-view+json": {
       "model_id": "ea6ad80cd8734977bc33c43e5416251a",
       "version_major": 2,
       "version_minor": 0
      },
      "text/plain": [
       "  0%|          | 0/334 [00:00<?, ?it/s]"
      ]
     },
     "metadata": {},
     "output_type": "display_data"
    },
    {
     "name": "stdout",
     "output_type": "stream",
     "text": [
      "Train_loss: tensor(0.0018, device='cuda:0', grad_fn=<NllLossBackward0>)\n",
      "\n",
      "Attack success rate 0.60\n",
      "Test_loss: tensor(9.0786, device='cuda:0')\n",
      "\n",
      "Test clean Accuracy 95.34\n",
      "Test_loss: tensor(0.1007, device='cuda:0')\n",
      "\n",
      "Target test clean Accuracy 93.30\n",
      "Test_loss: tensor(0.3846, device='cuda:0')\n"
     ]
    },
    {
     "data": {
      "application/vnd.jupyter.widget-view+json": {
       "model_id": "c9711ee0b3b546cb852966b83a62cb28",
       "version_major": 2,
       "version_minor": 0
      },
      "text/plain": [
       "  0%|          | 0/334 [00:00<?, ?it/s]"
      ]
     },
     "metadata": {},
     "output_type": "display_data"
    },
    {
     "name": "stdout",
     "output_type": "stream",
     "text": [
      "Train_loss: tensor(0.0054, device='cuda:0', grad_fn=<NllLossBackward0>)\n",
      "\n",
      "Attack success rate 0.51\n",
      "Test_loss: tensor(9.2241, device='cuda:0')\n",
      "\n",
      "Test clean Accuracy 95.26\n",
      "Test_loss: tensor(0.1009, device='cuda:0')\n",
      "\n",
      "Target test clean Accuracy 92.50\n",
      "Test_loss: tensor(0.2219, device='cuda:0')\n"
     ]
    },
    {
     "data": {
      "application/vnd.jupyter.widget-view+json": {
       "model_id": "05345903ef4c4c78bb20c650ef3b666b",
       "version_major": 2,
       "version_minor": 0
      },
      "text/plain": [
       "  0%|          | 0/334 [00:00<?, ?it/s]"
      ]
     },
     "metadata": {},
     "output_type": "display_data"
    },
    {
     "name": "stdout",
     "output_type": "stream",
     "text": [
      "Train_loss: tensor(0.0135, device='cuda:0', grad_fn=<NllLossBackward0>)\n",
      "\n",
      "Attack success rate 0.59\n",
      "Test_loss: tensor(8.9887, device='cuda:0')\n",
      "\n",
      "Test clean Accuracy 95.48\n",
      "Test_loss: tensor(0.0796, device='cuda:0')\n",
      "\n",
      "Target test clean Accuracy 94.00\n",
      "Test_loss: tensor(0.2376, device='cuda:0')\n"
     ]
    },
    {
     "data": {
      "application/vnd.jupyter.widget-view+json": {
       "model_id": "f17617e73034468e9cf76af1aca47666",
       "version_major": 2,
       "version_minor": 0
      },
      "text/plain": [
       "  0%|          | 0/334 [00:00<?, ?it/s]"
      ]
     },
     "metadata": {},
     "output_type": "display_data"
    },
    {
     "name": "stdout",
     "output_type": "stream",
     "text": [
      "Train_loss: tensor(0.0060, device='cuda:0', grad_fn=<NllLossBackward0>)\n",
      "\n",
      "Attack success rate 0.52\n",
      "Test_loss: tensor(9.0512, device='cuda:0')\n",
      "\n",
      "Test clean Accuracy 95.44\n",
      "Test_loss: tensor(0.0870, device='cuda:0')\n",
      "\n",
      "Target test clean Accuracy 93.00\n",
      "Test_loss: tensor(0.1241, device='cuda:0')\n"
     ]
    },
    {
     "data": {
      "application/vnd.jupyter.widget-view+json": {
       "model_id": "b88de3818e8747728a59aa319236c18c",
       "version_major": 2,
       "version_minor": 0
      },
      "text/plain": [
       "  0%|          | 0/334 [00:00<?, ?it/s]"
      ]
     },
     "metadata": {},
     "output_type": "display_data"
    },
    {
     "name": "stdout",
     "output_type": "stream",
     "text": [
      "Train_loss: tensor(0.0027, device='cuda:0', grad_fn=<NllLossBackward0>)\n",
      "\n",
      "Attack success rate 0.59\n",
      "Test_loss: tensor(8.8711, device='cuda:0')\n",
      "\n",
      "Test clean Accuracy 95.30\n",
      "Test_loss: tensor(0.0867, device='cuda:0')\n",
      "\n",
      "Target test clean Accuracy 93.20\n",
      "Test_loss: tensor(0.2865, device='cuda:0')\n"
     ]
    },
    {
     "data": {
      "application/vnd.jupyter.widget-view+json": {
       "model_id": "f1d9207366eb41fba8034a53eb16ae39",
       "version_major": 2,
       "version_minor": 0
      },
      "text/plain": [
       "  0%|          | 0/334 [00:00<?, ?it/s]"
      ]
     },
     "metadata": {},
     "output_type": "display_data"
    },
    {
     "name": "stdout",
     "output_type": "stream",
     "text": [
      "Train_loss: tensor(0.0014, device='cuda:0', grad_fn=<NllLossBackward0>)\n",
      "\n",
      "Attack success rate 0.62\n",
      "Test_loss: tensor(8.8751, device='cuda:0')\n",
      "\n",
      "Test clean Accuracy 95.42\n",
      "Test_loss: tensor(0.0788, device='cuda:0')\n",
      "\n",
      "Target test clean Accuracy 93.90\n",
      "Test_loss: tensor(0.2288, device='cuda:0')\n"
     ]
    },
    {
     "data": {
      "application/vnd.jupyter.widget-view+json": {
       "model_id": "7b4d4afce14c4ddcbcdd6174d48bb636",
       "version_major": 2,
       "version_minor": 0
      },
      "text/plain": [
       "  0%|          | 0/334 [00:00<?, ?it/s]"
      ]
     },
     "metadata": {},
     "output_type": "display_data"
    },
    {
     "name": "stdout",
     "output_type": "stream",
     "text": [
      "Train_loss: tensor(0.0017, device='cuda:0', grad_fn=<NllLossBackward0>)\n",
      "\n",
      "Attack success rate 0.60\n",
      "Test_loss: tensor(8.8331, device='cuda:0')\n",
      "\n",
      "Test clean Accuracy 95.39\n",
      "Test_loss: tensor(0.0874, device='cuda:0')\n",
      "\n",
      "Target test clean Accuracy 93.80\n",
      "Test_loss: tensor(0.1317, device='cuda:0')\n"
     ]
    },
    {
     "data": {
      "application/vnd.jupyter.widget-view+json": {
       "model_id": "c9d07d80c05f41edb30962e7705d07a7",
       "version_major": 2,
       "version_minor": 0
      },
      "text/plain": [
       "  0%|          | 0/334 [00:00<?, ?it/s]"
      ]
     },
     "metadata": {},
     "output_type": "display_data"
    },
    {
     "name": "stdout",
     "output_type": "stream",
     "text": [
      "Train_loss: tensor(0.0028, device='cuda:0', grad_fn=<NllLossBackward0>)\n",
      "\n",
      "Attack success rate 0.60\n",
      "Test_loss: tensor(8.8257, device='cuda:0')\n",
      "\n",
      "Test clean Accuracy 95.49\n",
      "Test_loss: tensor(0.0791, device='cuda:0')\n",
      "\n",
      "Target test clean Accuracy 94.00\n",
      "Test_loss: tensor(0.2931, device='cuda:0')\n"
     ]
    },
    {
     "data": {
      "application/vnd.jupyter.widget-view+json": {
       "model_id": "552c4903bc3a40cab0a0f97c48d89aed",
       "version_major": 2,
       "version_minor": 0
      },
      "text/plain": [
       "  0%|          | 0/334 [00:00<?, ?it/s]"
      ]
     },
     "metadata": {},
     "output_type": "display_data"
    },
    {
     "name": "stdout",
     "output_type": "stream",
     "text": [
      "Train_loss: tensor(0.0049, device='cuda:0', grad_fn=<NllLossBackward0>)\n",
      "\n",
      "Attack success rate 0.58\n",
      "Test_loss: tensor(8.7943, device='cuda:0')\n",
      "\n",
      "Test clean Accuracy 95.34\n",
      "Test_loss: tensor(0.0829, device='cuda:0')\n",
      "\n",
      "Target test clean Accuracy 93.60\n",
      "Test_loss: tensor(0.4755, device='cuda:0')\n"
     ]
    },
    {
     "data": {
      "application/vnd.jupyter.widget-view+json": {
       "model_id": "d5ddbd040fc24f1ab335c274c289d375",
       "version_major": 2,
       "version_minor": 0
      },
      "text/plain": [
       "  0%|          | 0/334 [00:00<?, ?it/s]"
      ]
     },
     "metadata": {},
     "output_type": "display_data"
    },
    {
     "name": "stdout",
     "output_type": "stream",
     "text": [
      "Train_loss: tensor(0.0020, device='cuda:0', grad_fn=<NllLossBackward0>)\n",
      "\n",
      "Attack success rate 0.56\n",
      "Test_loss: tensor(9.0529, device='cuda:0')\n",
      "\n",
      "Test clean Accuracy 95.49\n",
      "Test_loss: tensor(0.0786, device='cuda:0')\n",
      "\n",
      "Target test clean Accuracy 93.80\n",
      "Test_loss: tensor(0.3210, device='cuda:0')\n"
     ]
    },
    {
     "data": {
      "application/vnd.jupyter.widget-view+json": {
       "model_id": "bda8d7e0022e4a39b8548fbf35fe0f41",
       "version_major": 2,
       "version_minor": 0
      },
      "text/plain": [
       "  0%|          | 0/334 [00:00<?, ?it/s]"
      ]
     },
     "metadata": {},
     "output_type": "display_data"
    },
    {
     "name": "stdout",
     "output_type": "stream",
     "text": [
      "Train_loss: tensor(0.0028, device='cuda:0', grad_fn=<NllLossBackward0>)\n",
      "\n",
      "Attack success rate 0.53\n",
      "Test_loss: tensor(8.9782, device='cuda:0')\n",
      "\n",
      "Test clean Accuracy 95.37\n",
      "Test_loss: tensor(0.0839, device='cuda:0')\n",
      "\n",
      "Target test clean Accuracy 93.40\n",
      "Test_loss: tensor(0.2129, device='cuda:0')\n"
     ]
    },
    {
     "data": {
      "application/vnd.jupyter.widget-view+json": {
       "model_id": "7422f1b92df842a6b35d2cfbef32cd93",
       "version_major": 2,
       "version_minor": 0
      },
      "text/plain": [
       "  0%|          | 0/334 [00:00<?, ?it/s]"
      ]
     },
     "metadata": {},
     "output_type": "display_data"
    },
    {
     "name": "stdout",
     "output_type": "stream",
     "text": [
      "Train_loss: tensor(0.0016, device='cuda:0', grad_fn=<NllLossBackward0>)\n",
      "\n",
      "Attack success rate 0.56\n",
      "Test_loss: tensor(9.1276, device='cuda:0')\n",
      "\n",
      "Test clean Accuracy 95.44\n",
      "Test_loss: tensor(0.0774, device='cuda:0')\n",
      "\n",
      "Target test clean Accuracy 93.80\n",
      "Test_loss: tensor(0.1348, device='cuda:0')\n"
     ]
    },
    {
     "data": {
      "application/vnd.jupyter.widget-view+json": {
       "model_id": "c09795becc354234b08ad4bf4b5046c8",
       "version_major": 2,
       "version_minor": 0
      },
      "text/plain": [
       "  0%|          | 0/334 [00:00<?, ?it/s]"
      ]
     },
     "metadata": {},
     "output_type": "display_data"
    },
    {
     "name": "stdout",
     "output_type": "stream",
     "text": [
      "Train_loss: tensor(0.0022, device='cuda:0', grad_fn=<NllLossBackward0>)\n",
      "\n",
      "Attack success rate 0.54\n",
      "Test_loss: tensor(9.2355, device='cuda:0')\n",
      "\n",
      "Test clean Accuracy 95.34\n",
      "Test_loss: tensor(0.0886, device='cuda:0')\n",
      "\n",
      "Target test clean Accuracy 93.50\n",
      "Test_loss: tensor(0.4568, device='cuda:0')\n"
     ]
    },
    {
     "data": {
      "application/vnd.jupyter.widget-view+json": {
       "model_id": "01e9030072bc4b8297376b9703a7ae77",
       "version_major": 2,
       "version_minor": 0
      },
      "text/plain": [
       "  0%|          | 0/334 [00:00<?, ?it/s]"
      ]
     },
     "metadata": {},
     "output_type": "display_data"
    },
    {
     "name": "stdout",
     "output_type": "stream",
     "text": [
      "Train_loss: tensor(0.0019, device='cuda:0', grad_fn=<NllLossBackward0>)\n",
      "\n",
      "Attack success rate 0.56\n",
      "Test_loss: tensor(9.0665, device='cuda:0')\n",
      "\n",
      "Test clean Accuracy 95.39\n",
      "Test_loss: tensor(0.0842, device='cuda:0')\n",
      "\n",
      "Target test clean Accuracy 93.60\n",
      "Test_loss: tensor(0.3015, device='cuda:0')\n"
     ]
    },
    {
     "data": {
      "application/vnd.jupyter.widget-view+json": {
       "model_id": "12f973ec4afb471485a77435275b02d8",
       "version_major": 2,
       "version_minor": 0
      },
      "text/plain": [
       "  0%|          | 0/334 [00:00<?, ?it/s]"
      ]
     },
     "metadata": {},
     "output_type": "display_data"
    },
    {
     "name": "stdout",
     "output_type": "stream",
     "text": [
      "Train_loss: tensor(0.0029, device='cuda:0', grad_fn=<NllLossBackward0>)\n",
      "\n",
      "Attack success rate 0.57\n",
      "Test_loss: tensor(9.2439, device='cuda:0')\n",
      "\n",
      "Test clean Accuracy 95.33\n",
      "Test_loss: tensor(0.0856, device='cuda:0')\n",
      "\n",
      "Target test clean Accuracy 93.50\n",
      "Test_loss: tensor(0.2353, device='cuda:0')\n"
     ]
    },
    {
     "data": {
      "application/vnd.jupyter.widget-view+json": {
       "model_id": "4dbe2ecf1dd64829a68b2f791f5f55a3",
       "version_major": 2,
       "version_minor": 0
      },
      "text/plain": [
       "  0%|          | 0/334 [00:00<?, ?it/s]"
      ]
     },
     "metadata": {},
     "output_type": "display_data"
    },
    {
     "name": "stdout",
     "output_type": "stream",
     "text": [
      "Train_loss: tensor(0.0013, device='cuda:0', grad_fn=<NllLossBackward0>)\n",
      "\n",
      "Attack success rate 0.54\n",
      "Test_loss: tensor(9.0848, device='cuda:0')\n",
      "\n",
      "Test clean Accuracy 95.37\n",
      "Test_loss: tensor(0.0879, device='cuda:0')\n",
      "\n",
      "Target test clean Accuracy 93.20\n",
      "Test_loss: tensor(0.2715, device='cuda:0')\n"
     ]
    },
    {
     "data": {
      "application/vnd.jupyter.widget-view+json": {
       "model_id": "684201b365b54d63811e9e223fdb45f6",
       "version_major": 2,
       "version_minor": 0
      },
      "text/plain": [
       "  0%|          | 0/334 [00:00<?, ?it/s]"
      ]
     },
     "metadata": {},
     "output_type": "display_data"
    },
    {
     "name": "stdout",
     "output_type": "stream",
     "text": [
      "Train_loss: tensor(0.0010, device='cuda:0', grad_fn=<NllLossBackward0>)\n",
      "\n",
      "Attack success rate 0.57\n",
      "Test_loss: tensor(8.7172, device='cuda:0')\n",
      "\n",
      "Test clean Accuracy 95.39\n",
      "Test_loss: tensor(0.0850, device='cuda:0')\n",
      "\n",
      "Target test clean Accuracy 93.50\n",
      "Test_loss: tensor(0.2021, device='cuda:0')\n"
     ]
    }
   ],
   "source": [
    "#cell 26\n",
    "for epoch in tqdm(range(training_epochs)):\n",
    "    # Train\n",
    "    model.train()\n",
    "    acc_meter = AverageMeter()\n",
    "    loss_meter = AverageMeter()\n",
    "    pbar = tqdm(clean_train_loader, total=len(clean_train_loader))\n",
    "    for images, labels in pbar:\n",
    "        images, labels = images.to(device), labels.to(device)\n",
    "        model.zero_grad()\n",
    "        optimizer.zero_grad()\n",
    "        logits = model(images)\n",
    "        loss = criterion(logits, labels)\n",
    "        loss.backward()\n",
    "        optimizer.step()\n",
    "        \n",
    "        _, predicted = torch.max(logits.data, 1)\n",
    "        acc = (predicted == labels).sum().item()/labels.size(0)\n",
    "        acc_meter.update(acc)\n",
    "        loss_meter.update(loss.item())\n",
    "        pbar.set_description(\"Acc %.2f Loss: %.2f\" % (acc_meter.avg*100, loss_meter.avg))\n",
    "    train_ACC.append(acc_meter.avg)\n",
    "    print('Train_loss:',loss)\n",
    "    scheduler.step()\n",
    "    \n",
    "    # Testing attack effect\n",
    "    model.eval()\n",
    "    correct, total = 0, 0\n",
    "    for i, (images, labels) in enumerate(asr_loaders):\n",
    "        images, labels = images.to(device), labels.to(device)\n",
    "        with torch.no_grad():\n",
    "            logits = model(images)\n",
    "            out_loss = criterion(logits,labels)\n",
    "            _, predicted = torch.max(logits.data, 1)\n",
    "            total += labels.size(0)\n",
    "            correct += (predicted == labels).sum().item()\n",
    "    acc = correct / total\n",
    "    test_ACC.append(acc)\n",
    "    print('\\nAttack success rate %.2f' % (acc*100))\n",
    "    print('Test_loss:',out_loss)\n",
    "    \n",
    "    correct_clean, total_clean = 0, 0\n",
    "    for i, (images, labels) in enumerate(clean_test_loader):\n",
    "        images, labels = images.to(device), labels.to(device)\n",
    "        with torch.no_grad():\n",
    "            logits = model(images)\n",
    "            out_loss = criterion(logits,labels)\n",
    "            _, predicted = torch.max(logits.data, 1)\n",
    "            total_clean += labels.size(0)\n",
    "            correct_clean += (predicted == labels).sum().item()\n",
    "    acc_clean = correct_clean / total_clean\n",
    "    clean_ACC.append(acc_clean)\n",
    "    print('\\nTest clean Accuracy %.2f' % (acc_clean*100))\n",
    "    print('Test_loss:',out_loss)\n",
    "    \n",
    "    correct_tar, total_tar = 0, 0\n",
    "    for i, (images, labels) in enumerate(target_test_loader):\n",
    "        images, labels = images.to(device), labels.to(device)\n",
    "        with torch.no_grad():\n",
    "            logits = model(images)\n",
    "            out_loss = criterion(logits,labels)\n",
    "            _, predicted = torch.max(logits.data, 1)\n",
    "            total_tar += labels.size(0)\n",
    "            correct_tar += (predicted == labels).sum().item()\n",
    "    acc_tar = correct_tar / total_tar\n",
    "    target_ACC.append(acc_tar)\n",
    "    print('\\nTarget test clean Accuracy %.2f' % (acc_tar*100))\n",
    "    print('Test_loss:',out_loss)"
   ]
  },
  {
   "cell_type": "code",
   "execution_count": 48,
   "id": "fa785df0",
   "metadata": {},
   "outputs": [
    {
     "data": {
      "image/png": "[encoded data removed]",
      "text/plain": [
       "<Figure size 1250x800 with 1 Axes>"
      ]
     },
     "metadata": {},
     "output_type": "display_data"
    },
    {
     "name": "stdout",
     "output_type": "stream",
     "text": [
      "0.9999001996007985\n",
      "attack 0.006\n",
      "190\n",
      "all class clean 0.9549\n",
      "target clean 0.94\n"
     ]
    }
   ],
   "source": [
    "#cell 27\n",
    "#ours -- higher_configureations\n",
    "from matplotlib import pyplot as plt\n",
    "half = np.arange(0,training_epochs)\n",
    "plt.figure(figsize=(12.5,8))\n",
    "plt.plot(half, np.asarray(train_ACC)[half], label='Training ACC', linestyle=\"-.\", marker=\"o\", linewidth=3.0, markersize = 8)\n",
    "plt.plot(half, np.asarray(test_ACC)[half], label='Attack success rate', linestyle=\"-.\", marker=\"o\", linewidth=3.0, markersize = 8)\n",
    "plt.plot(half, np.asarray(clean_ACC)[half], label='Clean test ACC', linestyle=\"-.\", marker=\"o\", linewidth=3.0, markersize = 8)\n",
    "plt.plot(half, np.asarray(target_ACC)[half], label='Target class clean test ACC', linestyle=\"-\", marker=\"o\", linewidth=3.0, markersize = 8)\n",
    "# plt.plot(half, np.asarray(test_unl_ACC)[half], label='protected test ACC', linestyle=\"-.\", marker=\"o\", linewidth=3.0, markersize = 8)\n",
    "plt.ylabel('ACC', fontsize=24)\n",
    "plt.xticks(fontsize=20)\n",
    "plt.xlabel('Epoches', fontsize=24)\n",
    "plt.yticks(np.arange(0,1.1, 0.1),fontsize=20)\n",
    "plt.legend(fontsize=20,bbox_to_anchor=(1.016, 1.2),ncol=2)\n",
    "plt.grid(color=\"gray\", linestyle=\"-\")\n",
    "plt.show()\n",
    "\n",
    "dis_idx = clean_ACC.index(max(clean_ACC))\n",
    "print(train_ACC[dis_idx])\n",
    "print('attack',test_ACC[dis_idx])\n",
    "print(clean_ACC.index(max(clean_ACC)))\n",
    "print('all class clean', clean_ACC[dis_idx])\n",
    "print('target clean',target_ACC[dis_idx])"
   ]
  }
 ],
 "metadata": {
  "kernelspec": {
   "display_name": ".venv",
   "language": "python",
   "name": "python3"
  },
  "language_info": {
   "codemirror_mode": {
    "name": "ipython",
    "version": 3
   },
   "file_extension": ".py",
   "mimetype": "text/x-python",
   "name": "python",
   "nbconvert_exporter": "python",
   "pygments_lexer": "ipython3",
   "version": "3.12.3"
  }
 },
 "nbformat": 4,
 "nbformat_minor": 5
}
